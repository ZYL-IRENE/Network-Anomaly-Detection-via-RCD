{
 "cells": [
  {
   "cell_type": "code",
   "execution_count": 1,
   "metadata": {
    "scrolled": true
   },
   "outputs": [
    {
     "name": "stdout",
     "output_type": "stream",
     "text": [
      "(0.0, 0, 21, 9, 0.0, 0.2857, 0, 0.0, 0.0, 0.0, 0.0)\n",
      "(0.0, 0, 21, 9, 0.0, 0.0255, 0, 0.0, 0.0, 0.0, 0.0)\n",
      "(0.0, 0, 21, 9, 0.0, 0.0701, 0, 0.0, 0.0, 0.0, 0.0)\n",
      "(0.0, 0, 21, 9, 0.0, 0.1065, 0, 0.0, 0.0, 0.0, 0.0)\n",
      "(0.0, 0, 21, 9, 0.0, 0.1017, 0, 0.0, 0.0, 0.0, 0.0)\n",
      "(0.0, 0, 21, 9, 0.0, 0.2142, 0, 0.0, 0.0, 0.0, 0.0)\n",
      "(0.0, 0, 21, 9, 0.0, 0.1892, 0, 0.0, 0.0, 0.0, 0.0)\n",
      "(0.0, 0, 21, 9, 0.0, 0.111, 0, 0.0, 0.0, 0.0, 0.0)\n",
      "(0.0, 0, 21, 9, 0.0, 0.0159, 0, 0.0, 0.0, 0.0, 0.0)\n",
      "(0.0, 0, 21, 9, 0.0, 0.1134, 0, 0.0, 0.0, 0.0, 0.0)\n",
      "(0.0, 0, 21, 9, 0.0, 0.0976, 0, 0.0, 0.0, 0.0, 0.0)\n",
      "(0.0, 0, 21, 9, 0.0, 0.0154, 0, 0.0, 0.0, 0.0, 0.0)\n",
      "(0.0, 0, 21, 9, 0.0001, 0.0189, 0, 0.0, 0.0, 0.0, 0.0)\n",
      "(0.0, 0, 21, 9, 0.0001, 0.0635, 0, 0.0, 0.0, 0.0, 0.0)\n",
      "(0.0, 0, 21, 9, 0.0001, 1.0, 0, 0.0, 0.0, 0.0, 0.0)\n",
      "(0.0, 0, 21, 9, 0.0001, 0.0404, 0, 0.0, 0.0, 0.0, 0.0)\n",
      "(0.0, 0, 21, 9, 0.0001, 0.0278, 0, 0.0, 0.0, 0.0, 0.0)\n",
      "(0.0, 0, 21, 9, 0.0001, 0.1839, 0, 0.0, 0.0, 0.0, 0.0)\n",
      "(0.0, 0, 21, 9, 0.0001, 0.0176, 0, 0.0, 0.0, 0.0, 0.0)\n",
      "(0.0, 0, 21, 9, 0.0001, 0.1108, 0, 0.0, 0.0, 0.0, 0.0)\n",
      "(0.0, 0, 21, 9, 0.0001, 0.0559, 0, 0.0, 0.0, 0.0, 0.0)\n",
      "(0.0, 0, 21, 9, 0.0001, 0.0154, 0, 0.0, 0.0, 0.0, 0.0)\n",
      "(0.0364, 0, 58, 9, 0.0003, 0.155, 0, 0.0, 0.0, 0.6, 0.0)\n",
      "(0.0603, 0, 58, 9, 0.0003, 0.145, 0, 0.0, 0.0, 0.6, 0.0)\n",
      "(0.0, 2, 12, 9, 0.0002, 0.0, 0, 0.0, 0.0, 0.0, 0.0)\n",
      "(0.0, 2, 12, 9, 0.0001, 0.0, 0, 0.0, 0.0, 0.0, 0.0)\n",
      "(0.0, 0, 47, 5, 0.0, 0.0, 0, 0.0, 0.0, 0.0, 0.0)\n",
      "(0.0008, 0, 17, 9, 0.0002, 0.0, 0, 0.0, 0.0, 0.0, 0.0)\n",
      "(1.0, 0, 17, 9, 0.9997, 0.0, 0, 0.0, 0.0, 0.6, 0.0)\n",
      "(0.9992, 0, 17, 9, 1.0, 0.0, 0, 0.0, 0.0, 1.0, 0.0)\n",
      "(0.9978, 0, 17, 9, 1.0, 0.0, 0, 0.0, 0.0, 0.2, 0.0)\n",
      "(0.9966, 0, 17, 9, 0.9992, 0.0, 0, 0.0, 0.0, 0.8, 0.0)\n",
      "(0.0, 0, 17, 9, 0.0, 0.0, 0, 0.0, 0.0, 0.0, 0.0)\n",
      "(0.0024, 0, 17, 9, 0.0014, 0.0, 0, 0.0, 0.0, 0.0, 0.0)\n",
      "(0.0, 0, 17, 9, 0.0001, 0.0, 0, 0.0, 0.0, 0.0, 0.0)\n",
      "(1, 0)\n",
      "(2, 0)\n",
      "(3, 0)\n",
      "(4, 0)\n",
      "(5, 0)\n",
      "(6, 0)\n",
      "(7, 0)\n",
      "(8, 0)\n",
      "(9, 0)\n",
      "(10, 0)\n",
      "(11, 0)\n",
      "(12, 0)\n",
      "(13, 0)\n",
      "(14, 0)\n",
      "(15, 0)\n",
      "(16, 0)\n",
      "(17, 0)\n",
      "(18, 0)\n",
      "(19, 0)\n",
      "(20, 0)\n",
      "(21, 0)\n",
      "(22, 0)\n",
      "(23, 1)\n",
      "(24, 1)\n",
      "(25, 5)\n",
      "(26, 5)\n",
      "(27, 4)\n",
      "(28, 20)\n",
      "(29, 20)\n",
      "(30, 20)\n",
      "(31, 20)\n",
      "(32, 20)\n",
      "(33, 20)\n",
      "(34, 20)\n",
      "(35, 20)\n"
     ]
    },
    {
     "data": {
      "image/png": "[encoded data removed]",
      "text/plain": [
       "<Figure size 432x288 with 1 Axes>"
      ]
     },
     "metadata": {
      "needs_background": "light"
     },
     "output_type": "display_data"
    },
    {
     "name": "stdout",
     "output_type": "stream",
     "text": [
      "Klist : [2, 4, 8, 16, 32]\n",
      "New instances is \n",
      " [(0.0, 0, 21, 9, 0.0, 0.2857, 0, 0.0, 0.0, 0.0, 0.0), (0.0, 0, 21, 9, 0.0, 0.0255, 0, 0.0, 0.0, 0.0, 0.0), (0.0, 0, 21, 9, 0.0, 0.0701, 0, 0.0, 0.0, 0.0, 0.0), (0.0, 0, 21, 9, 0.0, 0.1065, 0, 0.0, 0.0, 0.0, 0.0), (0.0, 0, 21, 9, 0.0, 0.1017, 0, 0.0, 0.0, 0.0, 0.0), (0.0, 0, 21, 9, 0.0, 0.2142, 0, 0.0, 0.0, 0.0, 0.0), (0.0, 0, 21, 9, 0.0, 0.1892, 0, 0.0, 0.0, 0.0, 0.0), (0.0, 0, 21, 9, 0.0, 0.111, 0, 0.0, 0.0, 0.0, 0.0), (0.0, 0, 21, 9, 0.0, 0.0159, 0, 0.0, 0.0, 0.0, 0.0), (0.0, 0, 21, 9, 0.0, 0.1134, 0, 0.0, 0.0, 0.0, 0.0), (0.0, 0, 21, 9, 0.0, 0.0976, 0, 0.0, 0.0, 0.0, 0.0), (0.0, 0, 21, 9, 0.0, 0.0154, 0, 0.0, 0.0, 0.0, 0.0), (0.0, 0, 21, 9, 0.0001, 0.0189, 0, 0.0, 0.0, 0.0, 0.0), (0.0, 0, 21, 9, 0.0001, 0.0635, 0, 0.0, 0.0, 0.0, 0.0), (0.0, 0, 21, 9, 0.0001, 1.0, 0, 0.0, 0.0, 0.0, 0.0), (0.0, 0, 21, 9, 0.0001, 0.0404, 0, 0.0, 0.0, 0.0, 0.0), (0.0, 0, 21, 9, 0.0001, 0.0278, 0, 0.0, 0.0, 0.0, 0.0), (0.0, 0, 21, 9, 0.0001, 0.1839, 0, 0.0, 0.0, 0.0, 0.0), (0.0, 0, 21, 9, 0.0001, 0.0176, 0, 0.0, 0.0, 0.0, 0.0), (0.0, 0, 21, 9, 0.0001, 0.1108, 0, 0.0, 0.0, 0.0, 0.0), (0.0, 0, 21, 9, 0.0001, 0.0559, 0, 0.0, 0.0, 0.0, 0.0), (0.0, 0, 21, 9, 0.0001, 0.0154, 0, 0.0, 0.0, 0.0, 0.0), (0.0364, 0, 58, 9, 0.0003, 0.155, 0, 0.0, 0.0, 0.6, 0.0), (0.0603, 0, 58, 9, 0.0003, 0.145, 0, 0.0, 0.0, 0.6, 0.0), (0.0, 2, 12, 9, 0.0002, 0.0, 0, 0.0, 0.0, 0.0, 0.0), (0.0, 2, 12, 9, 0.0001, 0.0, 0, 0.0, 0.0, 0.0, 0.0), (0.0, 0, 47, 5, 0.0, 0.0, 0, 0.0, 0.0, 0.0, 0.0), (0.0008, 0, 17, 9, 0.0002, 0.0, 0, 0.0, 0.0, 0.0, 0.0), (1.0, 0, 17, 9, 0.9997, 0.0, 0, 0.0, 0.0, 0.6, 0.0), (0.9992, 0, 17, 9, 1.0, 0.0, 0, 0.0, 0.0, 1.0, 0.0), (0.9978, 0, 17, 9, 1.0, 0.0, 0, 0.0, 0.0, 0.2, 0.0), (0.9966, 0, 17, 9, 0.9992, 0.0, 0, 0.0, 0.0, 0.8, 0.0), (0.0, 0, 17, 9, 0.0, 0.0, 0, 0.0, 0.0, 0.0, 0.0), (0.0024, 0, 17, 9, 0.0014, 0.0, 0, 0.0, 0.0, 0.0, 0.0), (0.0, 0, 17, 9, 0.0001, 0.0, 0, 0.0, 0.0, 0.0, 0.0)]\n",
      "kList is [2, 4, 8, 16, 32]\n",
      "Kinf:\n",
      " [32, 2, 2, 4, 2, 4, 2, 2, 8, 4, 2, 2, 2, 2, 32, 8, 2, 2, 2, 2, 2, 2, 2, 2, 2, 2, 32, 4, 4, 4, 4, 4, 4, 4, 4]\n",
      "pre_c1:\n",
      " [1.0172785877830728, 4.7728927094893905, 1.0176431605342258, 1.1735846792660303, 1.2858982804711212, 2.998557891594399, 2.0565087409345524, 5.432507928676841, 1.4157004320634758, 1.2260636844240185, 1.5708811426295854, 1.2314358678923436, 1.866038302663363, 1.0176431605342258, 1.0172785877830728, 1.2430988744428657, 5.269421457833202, 2.0565087409345524, 1.5515573596190777, 5.432507928676841, 0.8838441785622729, 1.2314358678923436, 204.87977963512054, 2510.197783941273, 1345620.5164798554, 1345620.5142633421, 1.0191275460351148, 95.944126875521, 10.432060964329548, 2.717136943709215, 10.285667789114779, 10.547501859822288, 95.9433273036127, 95.95248963107512, 95.9433273036127]\n",
      "LOF points 0 2 1.7185389387016516\n",
      "LOF points 1 4 1.698460357939777\n",
      "LOF points 2 4 1.1281227316624385\n",
      "LOF points 3 2 1.3486058321882173\n",
      "LOF points 5 8 1.640553278681204\n",
      "LOF points 6 4 2.608439217739145\n",
      "LOF points 9 16 1.0041884573317297\n",
      "LOF points 10 4 1.1147252652758033\n",
      "LOF points 14 2 4.727954011825767\n",
      "LOF points 15 2 1.2710397260082884\n",
      "LOF points 16 4 1.9380330986619945\n",
      "LOF points 17 4 2.5613529114756277\n",
      "LOF points 22 4 6.6836928506685265\n",
      "LOF points 23 4 54.85397275252263\n",
      "LOF points 24 4 6.1945040620387815\n",
      "LOF points 25 4 6.194504031427922\n",
      "LOF points 26 2 1126.976748467177\n",
      "LOF points 27 8 1.763710635414186\n",
      "LOF points 28 8 9.269360879120066\n",
      "LOF points 29 8 5.5704968000356185\n",
      "LOF points 30 2 1.066646125708501\n",
      "LOF points 31 8 9.526033865538285\n",
      "LOF points 32 8 1.763673487351708\n",
      "LOF points 33 2 1.6492371574284679\n",
      "LOF points 34 8 1.7636734878618792\n",
      "Ur is \n",
      " [(0.0, 0, 21, 9, 0.0, 0.2857, 0, 0.0, 0.0, 0.0, 0.0), (0.0, 0, 21, 9, 0.0, 0.0255, 0, 0.0, 0.0, 0.0, 0.0), (0.0, 0, 21, 9, 0.0, 0.0701, 0, 0.0, 0.0, 0.0, 0.0), (0.0, 0, 21, 9, 0.0, 0.1065, 0, 0.0, 0.0, 0.0, 0.0), (0.0, 0, 21, 9, 0.0, 0.2142, 0, 0.0, 0.0, 0.0, 0.0), (0.0, 0, 21, 9, 0.0, 0.1892, 0, 0.0, 0.0, 0.0, 0.0), (0.0, 0, 21, 9, 0.0, 0.1134, 0, 0.0, 0.0, 0.0, 0.0), (0.0, 0, 21, 9, 0.0, 0.0976, 0, 0.0, 0.0, 0.0, 0.0), (0.0, 0, 21, 9, 0.0001, 1.0, 0, 0.0, 0.0, 0.0, 0.0), (0.0, 0, 21, 9, 0.0001, 0.0404, 0, 0.0, 0.0, 0.0, 0.0), (0.0, 0, 21, 9, 0.0001, 0.0278, 0, 0.0, 0.0, 0.0, 0.0), (0.0, 0, 21, 9, 0.0001, 0.1839, 0, 0.0, 0.0, 0.0, 0.0), (0.0364, 0, 58, 9, 0.0003, 0.155, 0, 0.0, 0.0, 0.6, 0.0), (0.0603, 0, 58, 9, 0.0003, 0.145, 0, 0.0, 0.0, 0.6, 0.0), (0.0, 2, 12, 9, 0.0002, 0.0, 0, 0.0, 0.0, 0.0, 0.0), (0.0, 2, 12, 9, 0.0001, 0.0, 0, 0.0, 0.0, 0.0, 0.0), (0.0, 0, 47, 5, 0.0, 0.0, 0, 0.0, 0.0, 0.0, 0.0), (0.0008, 0, 17, 9, 0.0002, 0.0, 0, 0.0, 0.0, 0.0, 0.0), (1.0, 0, 17, 9, 0.9997, 0.0, 0, 0.0, 0.0, 0.6, 0.0), (0.9992, 0, 17, 9, 1.0, 0.0, 0, 0.0, 0.0, 1.0, 0.0), (0.9978, 0, 17, 9, 1.0, 0.0, 0, 0.0, 0.0, 0.2, 0.0), (0.9966, 0, 17, 9, 0.9992, 0.0, 0, 0.0, 0.0, 0.8, 0.0), (0.0, 0, 17, 9, 0.0, 0.0, 0, 0.0, 0.0, 0.0, 0.0), (0.0024, 0, 17, 9, 0.0014, 0.0, 0, 0.0, 0.0, 0.0, 0.0), (0.0, 0, 17, 9, 0.0001, 0.0, 0, 0.0, 0.0, 0.0, 0.0)]\n",
      "center is  (0.0, 2, 12, 9, 0.0002, 0.0, 0, 0.0, 0.0, 0.0, 0.0) 2\n"
     ]
    },
    {
     "data": {
      "image/png": "[encoded data removed]",
      "text/plain": [
       "<Figure size 432x288 with 1 Axes>"
      ]
     },
     "metadata": {
      "needs_background": "light"
     },
     "output_type": "display_data"
    },
    {
     "name": "stdout",
     "output_type": "stream",
     "text": [
      "New instances is \n",
      " [(0.9966, 0, 17, 9, 0.9992, 0.0, 0, 0.0, 0.0, 0.8, 0.0), (0.0, 0, 21, 9, 0.0, 0.1892, 0, 0.0, 0.0, 0.0, 0.0), (0.0, 0, 47, 5, 0.0, 0.0, 0, 0.0, 0.0, 0.0, 0.0), (0.0364, 0, 58, 9, 0.0003, 0.155, 0, 0.0, 0.0, 0.6, 0.0), (0.0, 0, 21, 9, 0.0001, 0.0635, 0, 0.0, 0.0, 0.0, 0.0), (0.0, 0, 21, 9, 0.0, 0.1017, 0, 0.0, 0.0, 0.0, 0.0), (0.0, 0, 21, 9, 0.0001, 0.1839, 0, 0.0, 0.0, 0.0, 0.0), (0.0, 0, 21, 9, 0.0001, 0.0154, 0, 0.0, 0.0, 0.0, 0.0), (0.0603, 0, 58, 9, 0.0003, 0.145, 0, 0.0, 0.0, 0.6, 0.0), (0.9978, 0, 17, 9, 1.0, 0.0, 0, 0.0, 0.0, 0.2, 0.0), (0.0, 0, 21, 9, 0.0001, 0.0278, 0, 0.0, 0.0, 0.0, 0.0), (0.0, 0, 21, 9, 0.0001, 0.1108, 0, 0.0, 0.0, 0.0, 0.0), (0.0, 0, 21, 9, 0.0001, 0.0559, 0, 0.0, 0.0, 0.0, 0.0), (0.0, 0, 21, 9, 0.0001, 0.0176, 0, 0.0, 0.0, 0.0, 0.0), (0.0, 0, 21, 9, 0.0, 0.1065, 0, 0.0, 0.0, 0.0, 0.0), (0.0024, 0, 17, 9, 0.0014, 0.0, 0, 0.0, 0.0, 0.0, 0.0), (0.9992, 0, 17, 9, 1.0, 0.0, 0, 0.0, 0.0, 1.0, 0.0), (0.0, 0, 21, 9, 0.0, 0.2142, 0, 0.0, 0.0, 0.0, 0.0), (0.0, 0, 21, 9, 0.0, 0.111, 0, 0.0, 0.0, 0.0, 0.0), (0.0, 0, 21, 9, 0.0001, 1.0, 0, 0.0, 0.0, 0.0, 0.0), (0.0, 0, 21, 9, 0.0, 0.0976, 0, 0.0, 0.0, 0.0, 0.0), (0.0, 0, 21, 9, 0.0001, 0.0404, 0, 0.0, 0.0, 0.0, 0.0), (0.0, 0, 21, 9, 0.0, 0.2857, 0, 0.0, 0.0, 0.0, 0.0), (0.0, 0, 21, 9, 0.0, 0.0255, 0, 0.0, 0.0, 0.0, 0.0), (0.0, 0, 21, 9, 0.0, 0.0154, 0, 0.0, 0.0, 0.0, 0.0), (0.0, 0, 21, 9, 0.0001, 0.0189, 0, 0.0, 0.0, 0.0, 0.0), (0.0, 0, 21, 9, 0.0, 0.1134, 0, 0.0, 0.0, 0.0, 0.0), (0.0, 0, 21, 9, 0.0, 0.0701, 0, 0.0, 0.0, 0.0, 0.0), (1.0, 0, 17, 9, 0.9997, 0.0, 0, 0.0, 0.0, 0.6, 0.0), (0.0, 0, 21, 9, 0.0, 0.0159, 0, 0.0, 0.0, 0.0, 0.0)]\n",
      "kList is [2, 4, 5, 8, 16, 32]\n",
      "Kinf:\n",
      " [4, 2, 32, 2, 2, 2, 2, 2, 2, 4, 2, 2, 2, 5, 4, 32, 4, 4, 2, 32, 2, 8, 4, 2, 2, 5, 4, 2, 4, 5]\n",
      "pre_c1:\n",
      " [9.713877553087457, 2.0565087409345524, 1.0, 236.61152308741208, 1.0176431605342258, 1.2858982804711212, 2.0565087409345524, 1.2314358678923436, 2923.8329158093034, 9.473933535668937, 5.269421457833202, 5.432507928676841, 0.8838441785622729, 2.341929677453732, 1.1735846792660303, 1.0, 9.848073592928577, 2.998557891594399, 5.432507928676841, 1.0, 1.5708811426295854, 1.2430988744428657, 3.162042724675026, 4.7728927094893905, 1.2314358678923436, 2.341929677453732, 1.2260636844240185, 1.0176431605342258, 9.608087836095804, 2.341929677453732]\n",
      "LOF points 0 5 4.004511284642163\n",
      "LOF points 1 4 2.608439217739145\n",
      "LOF points 2 2 1161.723965672096\n",
      "LOF points 3 4 7.176624037951019\n",
      "LOF points 4 5 1.3508085841402284\n",
      "LOF points 5 32 1.0000054670381264\n",
      "LOF points 6 4 2.5613529114756277\n",
      "LOF points 7 32 1.0000054670381264\n",
      "LOF points 8 4 59.18147788012029\n",
      "LOF points 9 2 1.066646125708501\n",
      "LOF points 10 4 1.9380330986619945\n",
      "LOF points 11 32 1.0000054670381264\n",
      "LOF points 12 5 1.3617177136178444\n",
      "LOF points 13 32 1.0000054670381264\n",
      "LOF points 14 2 1.3486058321882173\n",
      "LOF points 15 2 98.337860157564\n",
      "LOF points 16 5 4.0598331221845\n",
      "LOF points 17 5 2.547272335288703\n",
      "LOF points 18 32 1.0000054670381264\n",
      "LOF points 19 2 4.727954011825767\n",
      "LOF points 20 4 1.1147252652758033\n",
      "LOF points 21 2 1.2710397260082884\n",
      "LOF points 22 2 1.7185389387016516\n",
      "LOF points 23 4 1.698460357939777\n",
      "LOF points 24 32 1.0000054670381264\n",
      "LOF points 25 32 1.0000054670381264\n",
      "LOF points 26 32 1.0000054670381264\n",
      "LOF points 27 4 1.1281227316624385\n",
      "LOF points 28 5 3.9608998521141165\n",
      "LOF points 29 32 1.0000054670381264\n",
      "Ur is \n",
      " [(0.9966, 0, 17, 9, 0.9992, 0.0, 0, 0.0, 0.0, 0.8, 0.0), (0.0, 0, 21, 9, 0.0, 0.1892, 0, 0.0, 0.0, 0.0, 0.0), (0.0, 0, 47, 5, 0.0, 0.0, 0, 0.0, 0.0, 0.0, 0.0), (0.0364, 0, 58, 9, 0.0003, 0.155, 0, 0.0, 0.0, 0.6, 0.0), (0.0, 0, 21, 9, 0.0001, 0.0635, 0, 0.0, 0.0, 0.0, 0.0), (0.0, 0, 21, 9, 0.0, 0.1017, 0, 0.0, 0.0, 0.0, 0.0), (0.0, 0, 21, 9, 0.0001, 0.1839, 0, 0.0, 0.0, 0.0, 0.0), (0.0, 0, 21, 9, 0.0001, 0.0154, 0, 0.0, 0.0, 0.0, 0.0), (0.0603, 0, 58, 9, 0.0003, 0.145, 0, 0.0, 0.0, 0.6, 0.0), (0.9978, 0, 17, 9, 1.0, 0.0, 0, 0.0, 0.0, 0.2, 0.0), (0.0, 0, 21, 9, 0.0001, 0.0278, 0, 0.0, 0.0, 0.0, 0.0), (0.0, 0, 21, 9, 0.0001, 0.1108, 0, 0.0, 0.0, 0.0, 0.0), (0.0, 0, 21, 9, 0.0001, 0.0559, 0, 0.0, 0.0, 0.0, 0.0), (0.0, 0, 21, 9, 0.0001, 0.0176, 0, 0.0, 0.0, 0.0, 0.0), (0.0, 0, 21, 9, 0.0, 0.1065, 0, 0.0, 0.0, 0.0, 0.0), (0.0024, 0, 17, 9, 0.0014, 0.0, 0, 0.0, 0.0, 0.0, 0.0), (0.9992, 0, 17, 9, 1.0, 0.0, 0, 0.0, 0.0, 1.0, 0.0), (0.0, 0, 21, 9, 0.0, 0.2142, 0, 0.0, 0.0, 0.0, 0.0), (0.0, 0, 21, 9, 0.0, 0.111, 0, 0.0, 0.0, 0.0, 0.0), (0.0, 0, 21, 9, 0.0001, 1.0, 0, 0.0, 0.0, 0.0, 0.0), (0.0, 0, 21, 9, 0.0, 0.0976, 0, 0.0, 0.0, 0.0, 0.0), (0.0, 0, 21, 9, 0.0001, 0.0404, 0, 0.0, 0.0, 0.0, 0.0), (0.0, 0, 21, 9, 0.0, 0.2857, 0, 0.0, 0.0, 0.0, 0.0), (0.0, 0, 21, 9, 0.0, 0.0255, 0, 0.0, 0.0, 0.0, 0.0), (0.0, 0, 21, 9, 0.0, 0.0154, 0, 0.0, 0.0, 0.0, 0.0), (0.0, 0, 21, 9, 0.0001, 0.0189, 0, 0.0, 0.0, 0.0, 0.0), (0.0, 0, 21, 9, 0.0, 0.1134, 0, 0.0, 0.0, 0.0, 0.0), (0.0, 0, 21, 9, 0.0, 0.0701, 0, 0.0, 0.0, 0.0, 0.0), (1.0, 0, 17, 9, 0.9997, 0.0, 0, 0.0, 0.0, 0.6, 0.0), (0.0, 0, 21, 9, 0.0, 0.0159, 0, 0.0, 0.0, 0.0, 0.0)]\n",
      "center is  (0.0603, 0, 58, 9, 0.0003, 0.145, 0, 0.0, 0.0, 0.6, 0.0) 2\n"
     ]
    },
    {
     "data": {
      "image/png": "[encoded data removed]",
      "text/plain": [
       "<Figure size 432x288 with 1 Axes>"
      ]
     },
     "metadata": {
      "needs_background": "light"
     },
     "output_type": "display_data"
    },
    {
     "name": "stdout",
     "output_type": "stream",
     "text": [
      "New instances is \n",
      " [(0.0024, 0, 17, 9, 0.0014, 0.0, 0, 0.0, 0.0, 0.0, 0.0), (0.9992, 0, 17, 9, 1.0, 0.0, 0, 0.0, 0.0, 1.0, 0.0), (0.9966, 0, 17, 9, 0.9992, 0.0, 0, 0.0, 0.0, 0.8, 0.0), (0.0, 0, 21, 9, 0.0, 0.1892, 0, 0.0, 0.0, 0.0, 0.0), (0.0, 0, 21, 9, 0.0, 0.2142, 0, 0.0, 0.0, 0.0, 0.0), (0.0, 0, 21, 9, 0.0, 0.111, 0, 0.0, 0.0, 0.0, 0.0), (0.0, 0, 21, 9, 0.0001, 1.0, 0, 0.0, 0.0, 0.0, 0.0), (0.0, 0, 21, 9, 0.0001, 0.0635, 0, 0.0, 0.0, 0.0, 0.0), (0.0, 0, 21, 9, 0.0, 0.1017, 0, 0.0, 0.0, 0.0, 0.0), (0.0, 0, 21, 9, 0.0, 0.0976, 0, 0.0, 0.0, 0.0, 0.0), (0.0, 0, 21, 9, 0.0001, 0.0404, 0, 0.0, 0.0, 0.0, 0.0), (0.0, 0, 21, 9, 0.0, 0.2857, 0, 0.0, 0.0, 0.0, 0.0), (0.0, 0, 21, 9, 0.0, 0.0255, 0, 0.0, 0.0, 0.0, 0.0), (0.0, 0, 21, 9, 0.0001, 0.1839, 0, 0.0, 0.0, 0.0, 0.0), (0.0, 0, 21, 9, 0.0001, 0.0154, 0, 0.0, 0.0, 0.0, 0.0), (0.0, 0, 21, 9, 0.0, 0.0154, 0, 0.0, 0.0, 0.0, 0.0), (0.9978, 0, 17, 9, 1.0, 0.0, 0, 0.0, 0.0, 0.2, 0.0), (0.0, 0, 21, 9, 0.0001, 0.0189, 0, 0.0, 0.0, 0.0, 0.0), (0.0, 0, 21, 9, 0.0001, 0.0278, 0, 0.0, 0.0, 0.0, 0.0), (0.0, 0, 21, 9, 0.0001, 0.1108, 0, 0.0, 0.0, 0.0, 0.0), (0.0, 0, 21, 9, 0.0001, 0.0559, 0, 0.0, 0.0, 0.0, 0.0), (0.0, 0, 21, 9, 0.0, 0.1134, 0, 0.0, 0.0, 0.0, 0.0), (0.0, 0, 21, 9, 0.0001, 0.0176, 0, 0.0, 0.0, 0.0, 0.0), (0.0, 0, 21, 9, 0.0, 0.0701, 0, 0.0, 0.0, 0.0, 0.0), (0.0, 0, 21, 9, 0.0, 0.1065, 0, 0.0, 0.0, 0.0, 0.0), (1.0, 0, 17, 9, 0.9997, 0.0, 0, 0.0, 0.0, 0.6, 0.0), (0.0, 0, 21, 9, 0.0, 0.0159, 0, 0.0, 0.0, 0.0, 0.0)]\n",
      "kList is [2, 3, 4, 5, 8, 16, 32]\n",
      "Kinf:\n",
      " [32, 4, 4, 2, 3, 2, 32, 2, 2, 2, 8, 4, 2, 2, 2, 2, 4, 5, 2, 2, 3, 3, 5, 2, 4, 4, 3]\n",
      "pre_c1:\n",
      " [1.0, 2.5017649997418343, 2.4676743776104613, 2.0565087409345524, 2.2531771946953327, 5.432507928676841, 1.0, 1.0176431605342258, 1.2858982804711212, 1.5708811426295854, 1.2430988744428657, 3.162042724675026, 4.7728927094893905, 2.0565087409345524, 1.2314358678923436, 1.2314358678923436, 2.406719964647287, 2.341929677453732, 5.269421457833202, 5.432507928676841, 1.4555093321921873, 1.2612376517986983, 2.341929677453732, 1.0176431605342258, 1.1735846792660303, 2.440799983465768, 2.7087367679841536]\n",
      "LOF points 0 2 990.8162343051877\n",
      "LOF points 1 5 1.0313436748854987\n",
      "LOF points 2 5 1.017289937819175\n",
      "LOF points 3 4 2.608439217739145\n",
      "LOF points 4 5 2.547272335288703\n",
      "LOF points 5 32 1.0000027719947882\n",
      "LOF points 6 2 4.727954011825767\n",
      "LOF points 7 5 1.3508085841402284\n",
      "LOF points 8 32 1.0000027719947882\n",
      "LOF points 9 4 1.1147252652758033\n",
      "LOF points 10 2 1.2710397260082884\n",
      "LOF points 11 2 1.7185389387016516\n",
      "LOF points 12 3 1.417740283178241\n",
      "LOF points 13 4 2.5613529114756277\n",
      "LOF points 14 32 1.0000027719947882\n",
      "LOF points 15 32 1.0000027719947882\n",
      "LOF points 16 2 1.066646125708501\n",
      "LOF points 17 3 1.0312661214611325\n",
      "LOF points 18 3 1.5652292067996567\n",
      "LOF points 19 32 1.0000027719947882\n",
      "LOF points 20 5 1.3617177136178444\n",
      "LOF points 21 32 1.0000027719947882\n",
      "LOF points 22 32 1.0000027719947882\n",
      "LOF points 23 4 1.1281227316624385\n",
      "LOF points 24 2 1.3486058321882173\n",
      "LOF points 25 5 1.0062110649352831\n",
      "LOF points 26 32 1.0000027719947882\n",
      "Ur is \n",
      " [(0.0024, 0, 17, 9, 0.0014, 0.0, 0, 0.0, 0.0, 0.0, 0.0), (0.9992, 0, 17, 9, 1.0, 0.0, 0, 0.0, 0.0, 1.0, 0.0), (0.9966, 0, 17, 9, 0.9992, 0.0, 0, 0.0, 0.0, 0.8, 0.0), (0.0, 0, 21, 9, 0.0, 0.1892, 0, 0.0, 0.0, 0.0, 0.0), (0.0, 0, 21, 9, 0.0, 0.2142, 0, 0.0, 0.0, 0.0, 0.0), (0.0, 0, 21, 9, 0.0, 0.111, 0, 0.0, 0.0, 0.0, 0.0), (0.0, 0, 21, 9, 0.0001, 1.0, 0, 0.0, 0.0, 0.0, 0.0), (0.0, 0, 21, 9, 0.0001, 0.0635, 0, 0.0, 0.0, 0.0, 0.0), (0.0, 0, 21, 9, 0.0, 0.1017, 0, 0.0, 0.0, 0.0, 0.0), (0.0, 0, 21, 9, 0.0, 0.0976, 0, 0.0, 0.0, 0.0, 0.0), (0.0, 0, 21, 9, 0.0001, 0.0404, 0, 0.0, 0.0, 0.0, 0.0), (0.0, 0, 21, 9, 0.0, 0.2857, 0, 0.0, 0.0, 0.0, 0.0), (0.0, 0, 21, 9, 0.0, 0.0255, 0, 0.0, 0.0, 0.0, 0.0), (0.0, 0, 21, 9, 0.0001, 0.1839, 0, 0.0, 0.0, 0.0, 0.0), (0.0, 0, 21, 9, 0.0001, 0.0154, 0, 0.0, 0.0, 0.0, 0.0), (0.0, 0, 21, 9, 0.0, 0.0154, 0, 0.0, 0.0, 0.0, 0.0), (0.9978, 0, 17, 9, 1.0, 0.0, 0, 0.0, 0.0, 0.2, 0.0), (0.0, 0, 21, 9, 0.0001, 0.0189, 0, 0.0, 0.0, 0.0, 0.0), (0.0, 0, 21, 9, 0.0001, 0.0278, 0, 0.0, 0.0, 0.0, 0.0), (0.0, 0, 21, 9, 0.0001, 0.1108, 0, 0.0, 0.0, 0.0, 0.0), (0.0, 0, 21, 9, 0.0001, 0.0559, 0, 0.0, 0.0, 0.0, 0.0), (0.0, 0, 21, 9, 0.0, 0.1134, 0, 0.0, 0.0, 0.0, 0.0), (0.0, 0, 21, 9, 0.0001, 0.0176, 0, 0.0, 0.0, 0.0, 0.0), (0.0, 0, 21, 9, 0.0, 0.0701, 0, 0.0, 0.0, 0.0, 0.0), (0.0, 0, 21, 9, 0.0, 0.1065, 0, 0.0, 0.0, 0.0, 0.0), (1.0, 0, 17, 9, 0.9997, 0.0, 0, 0.0, 0.0, 0.6, 0.0), (0.0, 0, 21, 9, 0.0, 0.0159, 0, 0.0, 0.0, 0.0, 0.0)]\n",
      "center is  (0.0, 0, 21, 9, 0.0001, 1.0, 0, 0.0, 0.0, 0.0, 0.0) 32\n"
     ]
    },
    {
     "data": {
      "image/png": "[encoded data removed]",
      "text/plain": [
       "<Figure size 432x288 with 1 Axes>"
      ]
     },
     "metadata": {
      "needs_background": "light"
     },
     "output_type": "display_data"
    },
    {
     "name": "stdout",
     "output_type": "stream",
     "text": [
      "group 0 is \n",
      " [(0.0, 2, 12, 9, 0.0002, 0.0, 0, 0.0, 0.0, 0.0, 0.0), (0.0, 2, 12, 9, 0.0001, 0.0, 0, 0.0, 0.0, 0.0, 0.0), (0.0, 0, 17, 9, 0.0001, 0.0, 0, 0.0, 0.0, 0.0, 0.0), (0.0, 0, 17, 9, 0.0, 0.0, 0, 0.0, 0.0, 0.0, 0.0), (0.0008, 0, 17, 9, 0.0002, 0.0, 0, 0.0, 0.0, 0.0, 0.0)]\n",
      "group 0 label is \n",
      " [(25, 5), (26, 5), (35, 20), (33, 20), (28, 20)]\n",
      "group 1 is \n",
      " [(0.0603, 0, 58, 9, 0.0003, 0.145, 0, 0.0, 0.0, 0.6, 0.0), (0.0364, 0, 58, 9, 0.0003, 0.155, 0, 0.0, 0.0, 0.6, 0.0), (0.0, 0, 47, 5, 0.0, 0.0, 0, 0.0, 0.0, 0.0, 0.0)]\n",
      "group 1 label is \n",
      " [(24, 1), (23, 1), (27, 4)]\n",
      "group 2 is \n",
      " [(0.0, 0, 21, 9, 0.0001, 1.0, 0, 0.0, 0.0, 0.0, 0.0), (0.0, 0, 21, 9, 0.0, 0.2857, 0, 0.0, 0.0, 0.0, 0.0), (0.0, 0, 21, 9, 0.0, 0.2142, 0, 0.0, 0.0, 0.0, 0.0), (0.0, 0, 21, 9, 0.0, 0.1892, 0, 0.0, 0.0, 0.0, 0.0), (0.0, 0, 21, 9, 0.0001, 0.1839, 0, 0.0, 0.0, 0.0, 0.0), (0.0, 0, 21, 9, 0.0, 0.1134, 0, 0.0, 0.0, 0.0, 0.0), (0.0, 0, 21, 9, 0.0, 0.111, 0, 0.0, 0.0, 0.0, 0.0), (0.0, 0, 21, 9, 0.0001, 0.1108, 0, 0.0, 0.0, 0.0, 0.0), (0.0, 0, 21, 9, 0.0, 0.1065, 0, 0.0, 0.0, 0.0, 0.0), (0.0, 0, 21, 9, 0.0, 0.1017, 0, 0.0, 0.0, 0.0, 0.0), (0.0, 0, 21, 9, 0.0, 0.0976, 0, 0.0, 0.0, 0.0, 0.0), (0.0, 0, 21, 9, 0.0, 0.0701, 0, 0.0, 0.0, 0.0, 0.0), (0.0, 0, 21, 9, 0.0001, 0.0635, 0, 0.0, 0.0, 0.0, 0.0), (0.0, 0, 21, 9, 0.0001, 0.0559, 0, 0.0, 0.0, 0.0, 0.0), (0.0, 0, 21, 9, 0.0001, 0.0404, 0, 0.0, 0.0, 0.0, 0.0), (0.0, 0, 21, 9, 0.0001, 0.0278, 0, 0.0, 0.0, 0.0, 0.0), (0.0, 0, 21, 9, 0.0, 0.0255, 0, 0.0, 0.0, 0.0, 0.0), (0.0, 0, 21, 9, 0.0001, 0.0189, 0, 0.0, 0.0, 0.0, 0.0), (0.0, 0, 21, 9, 0.0001, 0.0176, 0, 0.0, 0.0, 0.0, 0.0), (0.0, 0, 21, 9, 0.0, 0.0159, 0, 0.0, 0.0, 0.0, 0.0), (0.0, 0, 21, 9, 0.0001, 0.0154, 0, 0.0, 0.0, 0.0, 0.0), (0.0, 0, 21, 9, 0.0, 0.0154, 0, 0.0, 0.0, 0.0, 0.0), (0.0024, 0, 17, 9, 0.0014, 0.0, 0, 0.0, 0.0, 0.0, 0.0), (0.9978, 0, 17, 9, 1.0, 0.0, 0, 0.0, 0.0, 0.2, 0.0), (1.0, 0, 17, 9, 0.9997, 0.0, 0, 0.0, 0.0, 0.6, 0.0), (0.9966, 0, 17, 9, 0.9992, 0.0, 0, 0.0, 0.0, 0.8, 0.0), (0.9992, 0, 17, 9, 1.0, 0.0, 0, 0.0, 0.0, 1.0, 0.0)]\n",
      "group 2 label is \n",
      " [(15, 0), (1, 0), (6, 0), (7, 0), (18, 0), (10, 0), (8, 0), (20, 0), (4, 0), (5, 0), (11, 0), (3, 0), (14, 0), (21, 0), (16, 0), (17, 0), (2, 0), (13, 0), (19, 0), (9, 0), (22, 0), (12, 0), (34, 20), (31, 20), (29, 20), (32, 20), (30, 20)]\n"
     ]
    },
    {
     "data": {
      "image/png": "[encoded data removed]",
      "text/plain": [
       "<Figure size 432x288 with 1 Axes>"
      ]
     },
     "metadata": {
      "needs_background": "light"
     },
     "output_type": "display_data"
    }
   ],
   "source": [
    "%run RCD.py"
   ]
  },
  {
   "cell_type": "code",
   "execution_count": 2,
   "metadata": {
    "scrolled": true
   },
   "outputs": [
    {
     "name": "stdout",
     "output_type": "stream",
     "text": [
      "(0.0, 0, 21, 9, 0.0, 0.2857, 0, 0.0, 0.0, 0.0, 0.0)\n",
      "(0.0, 0, 21, 9, 0.0, 0.0255, 0, 0.0, 0.0, 0.0, 0.0)\n",
      "(0.0, 0, 21, 9, 0.0, 0.0701, 0, 0.0, 0.0, 0.0, 0.0)\n",
      "(0.0, 0, 21, 9, 0.0, 0.1065, 0, 0.0, 0.0, 0.0, 0.0)\n",
      "(0.0, 0, 21, 9, 0.0, 0.1017, 0, 0.0, 0.0, 0.0, 0.0)\n",
      "(0.0, 0, 21, 9, 0.0, 0.2142, 0, 0.0, 0.0, 0.0, 0.0)\n",
      "(0.0, 0, 21, 9, 0.0, 0.1892, 0, 0.0, 0.0, 0.0, 0.0)\n",
      "(0.0, 0, 21, 9, 0.0, 0.111, 0, 0.0, 0.0, 0.0, 0.0)\n",
      "(0.0, 0, 21, 9, 0.0, 0.0159, 0, 0.0, 0.0, 0.0, 0.0)\n",
      "(0.0, 0, 21, 9, 0.0, 0.1134, 0, 0.0, 0.0, 0.0, 0.0)\n",
      "(0.0, 0, 21, 9, 0.0, 0.0976, 0, 0.0, 0.0, 0.0, 0.0)\n",
      "(0.0, 0, 21, 9, 0.0, 0.0154, 0, 0.0, 0.0, 0.0, 0.0)\n",
      "(0.0, 0, 21, 9, 0.0001, 0.0189, 0, 0.0, 0.0, 0.0, 0.0)\n",
      "(0.0, 0, 21, 9, 0.0001, 0.0635, 0, 0.0, 0.0, 0.0, 0.0)\n",
      "(0.0, 0, 21, 9, 0.0001, 1.0, 0, 0.0, 0.0, 0.0, 0.0)\n",
      "(0.0, 0, 21, 9, 0.0001, 0.0404, 0, 0.0, 0.0, 0.0, 0.0)\n",
      "(0.0, 0, 21, 9, 0.0001, 0.0278, 0, 0.0, 0.0, 0.0, 0.0)\n",
      "(0.0, 0, 21, 9, 0.0001, 0.1839, 0, 0.0, 0.0, 0.0, 0.0)\n",
      "(0.0, 0, 21, 9, 0.0001, 0.0176, 0, 0.0, 0.0, 0.0, 0.0)\n",
      "(0.0, 0, 21, 9, 0.0001, 0.1108, 0, 0.0, 0.0, 0.0, 0.0)\n",
      "(0.0, 0, 21, 9, 0.0001, 0.0559, 0, 0.0, 0.0, 0.0, 0.0)\n",
      "(0.0, 0, 21, 9, 0.0001, 0.0154, 0, 0.0, 0.0, 0.0, 0.0)\n",
      "(0.0364, 0, 58, 9, 0.0003, 0.155, 0, 0.0, 0.0, 0.6, 0.0)\n",
      "(0.0603, 0, 58, 9, 0.0003, 0.145, 0, 0.0, 0.0, 0.6, 0.0)\n",
      "(0.0, 2, 12, 9, 0.0002, 0.0, 0, 0.0, 0.0, 0.0, 0.0)\n",
      "(0.0, 2, 12, 9, 0.0001, 0.0, 0, 0.0, 0.0, 0.0, 0.0)\n",
      "(0.0, 0, 47, 5, 0.0, 0.0, 0, 0.0, 0.0, 0.0, 0.0)\n",
      "(0.0008, 0, 17, 9, 0.0002, 0.0, 0, 0.0, 0.0, 0.0, 0.0)\n",
      "(1.0, 0, 17, 9, 0.9997, 0.0, 0, 0.0, 0.0, 0.6, 0.0)\n",
      "(0.9992, 0, 17, 9, 1.0, 0.0, 0, 0.0, 0.0, 1.0, 0.0)\n",
      "(0.9978, 0, 17, 9, 1.0, 0.0, 0, 0.0, 0.0, 0.2, 0.0)\n",
      "(0.9966, 0, 17, 9, 0.9992, 0.0, 0, 0.0, 0.0, 0.8, 0.0)\n",
      "(0.0, 0, 17, 9, 0.0, 0.0, 0, 0.0, 0.0, 0.0, 0.0)\n",
      "(0.0024, 0, 17, 9, 0.0014, 0.0, 0, 0.0, 0.0, 0.0, 0.0)\n",
      "(0.0, 0, 17, 9, 0.0001, 0.0, 0, 0.0, 0.0, 0.0, 0.0)\n",
      "(1, 0)\n",
      "(2, 0)\n",
      "(3, 0)\n",
      "(4, 0)\n",
      "(5, 0)\n",
      "(6, 0)\n",
      "(7, 0)\n",
      "(8, 0)\n",
      "(9, 0)\n",
      "(10, 0)\n",
      "(11, 0)\n",
      "(12, 0)\n",
      "(13, 0)\n",
      "(14, 0)\n",
      "(15, 0)\n",
      "(16, 0)\n",
      "(17, 0)\n",
      "(18, 0)\n",
      "(19, 0)\n",
      "(20, 0)\n",
      "(21, 0)\n",
      "(22, 0)\n",
      "(23, 1)\n",
      "(24, 1)\n",
      "(25, 5)\n",
      "(26, 5)\n",
      "(27, 4)\n",
      "(28, 20)\n",
      "(29, 20)\n",
      "(30, 20)\n",
      "(31, 20)\n",
      "(32, 20)\n",
      "(33, 20)\n",
      "(34, 20)\n",
      "(35, 20)\n"
     ]
    },
    {
     "data": {
      "image/png": "[encoded data removed]",
      "text/plain": [
       "<Figure size 432x288 with 1 Axes>"
      ]
     },
     "metadata": {
      "needs_background": "light"
     },
     "output_type": "display_data"
    },
    {
     "name": "stdout",
     "output_type": "stream",
     "text": [
      "Klist : [2, 4, 6, 8, 10, 12, 14, 16, 18, 20, 22, 24, 26, 28, 30, 32, 34]\n",
      "New instances is \n",
      " [(0.0, 0, 21, 9, 0.0, 0.2857, 0, 0.0, 0.0, 0.0, 0.0), (0.0, 0, 21, 9, 0.0, 0.0255, 0, 0.0, 0.0, 0.0, 0.0), (0.0, 0, 21, 9, 0.0, 0.0701, 0, 0.0, 0.0, 0.0, 0.0), (0.0, 0, 21, 9, 0.0, 0.1065, 0, 0.0, 0.0, 0.0, 0.0), (0.0, 0, 21, 9, 0.0, 0.1017, 0, 0.0, 0.0, 0.0, 0.0), (0.0, 0, 21, 9, 0.0, 0.2142, 0, 0.0, 0.0, 0.0, 0.0), (0.0, 0, 21, 9, 0.0, 0.1892, 0, 0.0, 0.0, 0.0, 0.0), (0.0, 0, 21, 9, 0.0, 0.111, 0, 0.0, 0.0, 0.0, 0.0), (0.0, 0, 21, 9, 0.0, 0.0159, 0, 0.0, 0.0, 0.0, 0.0), (0.0, 0, 21, 9, 0.0, 0.1134, 0, 0.0, 0.0, 0.0, 0.0), (0.0, 0, 21, 9, 0.0, 0.0976, 0, 0.0, 0.0, 0.0, 0.0), (0.0, 0, 21, 9, 0.0, 0.0154, 0, 0.0, 0.0, 0.0, 0.0), (0.0, 0, 21, 9, 0.0001, 0.0189, 0, 0.0, 0.0, 0.0, 0.0), (0.0, 0, 21, 9, 0.0001, 0.0635, 0, 0.0, 0.0, 0.0, 0.0), (0.0, 0, 21, 9, 0.0001, 1.0, 0, 0.0, 0.0, 0.0, 0.0), (0.0, 0, 21, 9, 0.0001, 0.0404, 0, 0.0, 0.0, 0.0, 0.0), (0.0, 0, 21, 9, 0.0001, 0.0278, 0, 0.0, 0.0, 0.0, 0.0), (0.0, 0, 21, 9, 0.0001, 0.1839, 0, 0.0, 0.0, 0.0, 0.0), (0.0, 0, 21, 9, 0.0001, 0.0176, 0, 0.0, 0.0, 0.0, 0.0), (0.0, 0, 21, 9, 0.0001, 0.1108, 0, 0.0, 0.0, 0.0, 0.0), (0.0, 0, 21, 9, 0.0001, 0.0559, 0, 0.0, 0.0, 0.0, 0.0), (0.0, 0, 21, 9, 0.0001, 0.0154, 0, 0.0, 0.0, 0.0, 0.0), (0.0364, 0, 58, 9, 0.0003, 0.155, 0, 0.0, 0.0, 0.6, 0.0), (0.0603, 0, 58, 9, 0.0003, 0.145, 0, 0.0, 0.0, 0.6, 0.0), (0.0, 2, 12, 9, 0.0002, 0.0, 0, 0.0, 0.0, 0.0, 0.0), (0.0, 2, 12, 9, 0.0001, 0.0, 0, 0.0, 0.0, 0.0, 0.0), (0.0, 0, 47, 5, 0.0, 0.0, 0, 0.0, 0.0, 0.0, 0.0), (0.0008, 0, 17, 9, 0.0002, 0.0, 0, 0.0, 0.0, 0.0, 0.0), (1.0, 0, 17, 9, 0.9997, 0.0, 0, 0.0, 0.0, 0.6, 0.0), (0.9992, 0, 17, 9, 1.0, 0.0, 0, 0.0, 0.0, 1.0, 0.0), (0.9978, 0, 17, 9, 1.0, 0.0, 0, 0.0, 0.0, 0.2, 0.0), (0.9966, 0, 17, 9, 0.9992, 0.0, 0, 0.0, 0.0, 0.8, 0.0), (0.0, 0, 17, 9, 0.0, 0.0, 0, 0.0, 0.0, 0.0, 0.0), (0.0024, 0, 17, 9, 0.0014, 0.0, 0, 0.0, 0.0, 0.0, 0.0), (0.0, 0, 17, 9, 0.0001, 0.0, 0, 0.0, 0.0, 0.0, 0.0)]\n",
      "kList is [2, 4, 6, 8, 10, 12, 14, 16, 18, 20, 22, 24, 26, 28, 30, 32, 34]\n",
      "Kinf:\n",
      " [30, 2, 2, 6, 6, 24, 2, 2, 8, 6, 6, 2, 2, 2, 30, 8, 2, 2, 2, 2, 2, 2, 2, 2, 2, 2, 32, 4, 4, 4, 4, 4, 4, 4, 4]\n",
      "pre_c1:\n",
      " [0.9195550623930638, 4.7728927094893905, 1.0176431605342258, 2.445869485979217, 2.445869485979218, 0.3329593714456158, 2.0565087409345524, 5.432507928676841, 1.4157004320634758, 2.5115879103552, 2.445869485979218, 1.2314358678923436, 1.866038302663363, 1.0176431605342258, 0.919555062393064, 1.2430988744428657, 5.269421457833202, 2.0565087409345524, 1.5515573596190777, 5.432507928676841, 0.8838441785622729, 1.2314358678923436, 204.87977963512054, 2510.197783941273, 1345620.5164798554, 1345620.5142633421, 1.0191275460351148, 95.944126875521, 10.432060964329548, 2.717136943709215, 10.285667789114779, 10.547501859822288, 95.9433273036127, 95.95248963107512, 95.9433273036127]\n",
      "LOF points 0 2 1.7185389387016516\n",
      "LOF points 1 4 1.698460357939777\n",
      "LOF points 2 4 1.1281227316624385\n",
      "LOF points 3 2 1.3486058321882173\n",
      "LOF points 5 6 1.6832728987896897\n",
      "LOF points 6 4 2.608439217739145\n",
      "LOF points 7 10 1.0196610347707122\n",
      "LOF points 9 10 1.008644630846541\n",
      "LOF points 10 4 1.1147252652758033\n",
      "LOF points 13 6 1.3157253830807305\n",
      "LOF points 14 2 4.727954011825767\n",
      "LOF points 15 2 1.2710397260082884\n",
      "LOF points 16 4 1.9380330986619945\n",
      "LOF points 17 4 2.5613529114756277\n",
      "LOF points 19 10 1.0186602696896727\n",
      "LOF points 20 6 1.5429755625406105\n",
      "LOF points 22 4 6.6836928506685265\n",
      "LOF points 23 4 54.85397275252263\n",
      "LOF points 24 4 6.1945040620387815\n",
      "LOF points 25 4 6.194504031427922\n",
      "LOF points 26 2 1126.976748467177\n",
      "LOF points 27 6 3.3465300420000776\n",
      "LOF points 28 6 6.5412468752245045\n",
      "LOF points 29 6 1.2180937160345415\n",
      "LOF points 30 2 1.066646125708501\n",
      "LOF points 31 6 6.661883996249511\n",
      "LOF points 32 6 3.346482844783677\n",
      "LOF points 33 2 1.6492371574284679\n",
      "LOF points 34 6 3.346482844783677\n",
      "Ur is \n",
      " [(0.0, 0, 21, 9, 0.0, 0.2857, 0, 0.0, 0.0, 0.0, 0.0), (0.0, 0, 21, 9, 0.0, 0.0255, 0, 0.0, 0.0, 0.0, 0.0), (0.0, 0, 21, 9, 0.0, 0.0701, 0, 0.0, 0.0, 0.0, 0.0), (0.0, 0, 21, 9, 0.0, 0.1065, 0, 0.0, 0.0, 0.0, 0.0), (0.0, 0, 21, 9, 0.0, 0.2142, 0, 0.0, 0.0, 0.0, 0.0), (0.0, 0, 21, 9, 0.0, 0.1892, 0, 0.0, 0.0, 0.0, 0.0), (0.0, 0, 21, 9, 0.0, 0.111, 0, 0.0, 0.0, 0.0, 0.0), (0.0, 0, 21, 9, 0.0, 0.1134, 0, 0.0, 0.0, 0.0, 0.0), (0.0, 0, 21, 9, 0.0, 0.0976, 0, 0.0, 0.0, 0.0, 0.0), (0.0, 0, 21, 9, 0.0001, 0.0635, 0, 0.0, 0.0, 0.0, 0.0), (0.0, 0, 21, 9, 0.0001, 1.0, 0, 0.0, 0.0, 0.0, 0.0), (0.0, 0, 21, 9, 0.0001, 0.0404, 0, 0.0, 0.0, 0.0, 0.0), (0.0, 0, 21, 9, 0.0001, 0.0278, 0, 0.0, 0.0, 0.0, 0.0), (0.0, 0, 21, 9, 0.0001, 0.1839, 0, 0.0, 0.0, 0.0, 0.0), (0.0, 0, 21, 9, 0.0001, 0.1108, 0, 0.0, 0.0, 0.0, 0.0), (0.0, 0, 21, 9, 0.0001, 0.0559, 0, 0.0, 0.0, 0.0, 0.0), (0.0364, 0, 58, 9, 0.0003, 0.155, 0, 0.0, 0.0, 0.6, 0.0), (0.0603, 0, 58, 9, 0.0003, 0.145, 0, 0.0, 0.0, 0.6, 0.0), (0.0, 2, 12, 9, 0.0002, 0.0, 0, 0.0, 0.0, 0.0, 0.0), (0.0, 2, 12, 9, 0.0001, 0.0, 0, 0.0, 0.0, 0.0, 0.0), (0.0, 0, 47, 5, 0.0, 0.0, 0, 0.0, 0.0, 0.0, 0.0), (0.0008, 0, 17, 9, 0.0002, 0.0, 0, 0.0, 0.0, 0.0, 0.0), (1.0, 0, 17, 9, 0.9997, 0.0, 0, 0.0, 0.0, 0.6, 0.0), (0.9992, 0, 17, 9, 1.0, 0.0, 0, 0.0, 0.0, 1.0, 0.0), (0.9978, 0, 17, 9, 1.0, 0.0, 0, 0.0, 0.0, 0.2, 0.0), (0.9966, 0, 17, 9, 0.9992, 0.0, 0, 0.0, 0.0, 0.8, 0.0), (0.0, 0, 17, 9, 0.0, 0.0, 0, 0.0, 0.0, 0.0, 0.0), (0.0024, 0, 17, 9, 0.0014, 0.0, 0, 0.0, 0.0, 0.0, 0.0), (0.0, 0, 17, 9, 0.0001, 0.0, 0, 0.0, 0.0, 0.0, 0.0)]\n",
      "center is  (0.0, 2, 12, 9, 0.0002, 0.0, 0, 0.0, 0.0, 0.0, 0.0) 2\n"
     ]
    },
    {
     "data": {
      "image/png": "[encoded data removed]",
      "text/plain": [
       "<Figure size 432x288 with 1 Axes>"
      ]
     },
     "metadata": {
      "needs_background": "light"
     },
     "output_type": "display_data"
    },
    {
     "name": "stdout",
     "output_type": "stream",
     "text": [
      "New instances is \n",
      " [(0.9966, 0, 17, 9, 0.9992, 0.0, 0, 0.0, 0.0, 0.8, 0.0), (0.0, 0, 21, 9, 0.0, 0.1892, 0, 0.0, 0.0, 0.0, 0.0), (0.0, 0, 47, 5, 0.0, 0.0, 0, 0.0, 0.0, 0.0, 0.0), (0.0364, 0, 58, 9, 0.0003, 0.155, 0, 0.0, 0.0, 0.6, 0.0), (0.0, 0, 21, 9, 0.0001, 0.0635, 0, 0.0, 0.0, 0.0, 0.0), (0.0, 0, 21, 9, 0.0, 0.1017, 0, 0.0, 0.0, 0.0, 0.0), (0.0, 0, 21, 9, 0.0001, 0.1839, 0, 0.0, 0.0, 0.0, 0.0), (0.0, 0, 21, 9, 0.0001, 0.0154, 0, 0.0, 0.0, 0.0, 0.0), (0.0603, 0, 58, 9, 0.0003, 0.145, 0, 0.0, 0.0, 0.6, 0.0), (0.9978, 0, 17, 9, 1.0, 0.0, 0, 0.0, 0.0, 0.2, 0.0), (0.0, 0, 21, 9, 0.0001, 0.0278, 0, 0.0, 0.0, 0.0, 0.0), (0.0, 0, 21, 9, 0.0001, 0.1108, 0, 0.0, 0.0, 0.0, 0.0), (0.0, 0, 21, 9, 0.0001, 0.0559, 0, 0.0, 0.0, 0.0, 0.0), (0.0, 0, 21, 9, 0.0001, 0.0176, 0, 0.0, 0.0, 0.0, 0.0), (0.0, 0, 21, 9, 0.0, 0.1065, 0, 0.0, 0.0, 0.0, 0.0), (0.0024, 0, 17, 9, 0.0014, 0.0, 0, 0.0, 0.0, 0.0, 0.0), (0.9992, 0, 17, 9, 1.0, 0.0, 0, 0.0, 0.0, 1.0, 0.0), (0.0, 0, 21, 9, 0.0, 0.2142, 0, 0.0, 0.0, 0.0, 0.0), (0.0, 0, 21, 9, 0.0, 0.111, 0, 0.0, 0.0, 0.0, 0.0), (0.0, 0, 21, 9, 0.0001, 1.0, 0, 0.0, 0.0, 0.0, 0.0), (0.0, 0, 21, 9, 0.0, 0.0976, 0, 0.0, 0.0, 0.0, 0.0), (0.0, 0, 21, 9, 0.0001, 0.0404, 0, 0.0, 0.0, 0.0, 0.0), (0.0, 0, 21, 9, 0.0, 0.2857, 0, 0.0, 0.0, 0.0, 0.0), (0.0, 0, 21, 9, 0.0, 0.0255, 0, 0.0, 0.0, 0.0, 0.0), (0.0, 0, 21, 9, 0.0, 0.0154, 0, 0.0, 0.0, 0.0, 0.0), (0.0, 0, 21, 9, 0.0001, 0.0189, 0, 0.0, 0.0, 0.0, 0.0), (0.0, 0, 21, 9, 0.0, 0.1134, 0, 0.0, 0.0, 0.0, 0.0), (0.0, 0, 21, 9, 0.0, 0.0701, 0, 0.0, 0.0, 0.0, 0.0), (1.0, 0, 17, 9, 0.9997, 0.0, 0, 0.0, 0.0, 0.6, 0.0), (0.0, 0, 21, 9, 0.0, 0.0159, 0, 0.0, 0.0, 0.0, 0.0)]\n",
      "kList is [2, 4, 5, 6, 8, 10, 12, 14, 16, 18, 20, 22, 24, 26, 28, 30, 32, 34]\n",
      "Kinf:\n",
      " [4, 2, 26, 2, 22, 22, 2, 2, 2, 4, 22, 2, 22, 22, 22, 22, 4, 22, 2, 26, 22, 22, 22, 22, 2, 22, 22, 22, 4, 22]\n",
      "pre_c1:\n",
      " [9.713877553087457, 2.0565087409345524, 1.1390646159871254, 236.61152308741208, 3.2785234850353477, 3.2785234850353486, 2.0565087409345524, 1.2314358678923436, 2923.8329158093034, 9.473933535668937, 3.278523485035349, 5.432507928676841, 3.2785234850353486, 3.2785234850353486, 3.278523485035349, 3.2785234850353486, 9.848073592928577, 3.2785234850353504, 5.432507928676841, 1.134993783979331, 3.2785234850353486, 3.2785234850353486, 3.2785234850353504, 3.278523485035349, 1.2314358678923436, 3.2785234850353486, 3.2785234850353486, 3.278523485035349, 9.608087836095804, 3.2785234850353486]\n",
      "LOF points 0 5 4.004511284642163\n",
      "LOF points 1 4 2.608439217739145\n",
      "LOF points 2 2 1161.723965672096\n",
      "LOF points 3 4 7.176624037951019\n",
      "LOF points 4 5 1.3508085841402284\n",
      "LOF points 5 30 1.0000054670381264\n",
      "LOF points 6 4 2.5613529114756277\n",
      "LOF points 7 30 1.0000054670381264\n",
      "LOF points 8 4 59.18147788012029\n",
      "LOF points 9 2 1.066646125708501\n",
      "LOF points 10 4 1.9380330986619945\n",
      "LOF points 11 10 1.0186602696896727\n",
      "LOF points 12 5 1.3617177136178444\n",
      "LOF points 13 30 1.0000054670381264\n",
      "LOF points 14 2 1.3486058321882173\n",
      "LOF points 15 2 98.337860157564\n",
      "LOF points 16 5 4.0598331221845\n",
      "LOF points 17 5 2.547272335288703\n",
      "LOF points 18 10 1.0196610347707122\n",
      "LOF points 19 2 4.727954011825767\n",
      "LOF points 20 4 1.1147252652758033\n",
      "LOF points 21 2 1.2710397260082884\n",
      "LOF points 22 2 1.7185389387016516\n",
      "LOF points 23 4 1.698460357939777\n",
      "LOF points 24 30 1.0000054670381264\n",
      "LOF points 25 30 1.0000054670381264\n",
      "LOF points 26 10 1.008644630846541\n",
      "LOF points 27 4 1.1281227316624385\n",
      "LOF points 28 5 3.9608998521141165\n",
      "LOF points 29 30 1.0000054670381264\n",
      "Ur is \n",
      " [(0.9966, 0, 17, 9, 0.9992, 0.0, 0, 0.0, 0.0, 0.8, 0.0), (0.0, 0, 21, 9, 0.0, 0.1892, 0, 0.0, 0.0, 0.0, 0.0), (0.0, 0, 47, 5, 0.0, 0.0, 0, 0.0, 0.0, 0.0, 0.0), (0.0364, 0, 58, 9, 0.0003, 0.155, 0, 0.0, 0.0, 0.6, 0.0), (0.0, 0, 21, 9, 0.0001, 0.0635, 0, 0.0, 0.0, 0.0, 0.0), (0.0, 0, 21, 9, 0.0, 0.1017, 0, 0.0, 0.0, 0.0, 0.0), (0.0, 0, 21, 9, 0.0001, 0.1839, 0, 0.0, 0.0, 0.0, 0.0), (0.0, 0, 21, 9, 0.0001, 0.0154, 0, 0.0, 0.0, 0.0, 0.0), (0.0603, 0, 58, 9, 0.0003, 0.145, 0, 0.0, 0.0, 0.6, 0.0), (0.9978, 0, 17, 9, 1.0, 0.0, 0, 0.0, 0.0, 0.2, 0.0), (0.0, 0, 21, 9, 0.0001, 0.0278, 0, 0.0, 0.0, 0.0, 0.0), (0.0, 0, 21, 9, 0.0001, 0.1108, 0, 0.0, 0.0, 0.0, 0.0), (0.0, 0, 21, 9, 0.0001, 0.0559, 0, 0.0, 0.0, 0.0, 0.0), (0.0, 0, 21, 9, 0.0001, 0.0176, 0, 0.0, 0.0, 0.0, 0.0), (0.0, 0, 21, 9, 0.0, 0.1065, 0, 0.0, 0.0, 0.0, 0.0), (0.0024, 0, 17, 9, 0.0014, 0.0, 0, 0.0, 0.0, 0.0, 0.0), (0.9992, 0, 17, 9, 1.0, 0.0, 0, 0.0, 0.0, 1.0, 0.0), (0.0, 0, 21, 9, 0.0, 0.2142, 0, 0.0, 0.0, 0.0, 0.0), (0.0, 0, 21, 9, 0.0, 0.111, 0, 0.0, 0.0, 0.0, 0.0), (0.0, 0, 21, 9, 0.0001, 1.0, 0, 0.0, 0.0, 0.0, 0.0), (0.0, 0, 21, 9, 0.0, 0.0976, 0, 0.0, 0.0, 0.0, 0.0), (0.0, 0, 21, 9, 0.0001, 0.0404, 0, 0.0, 0.0, 0.0, 0.0), (0.0, 0, 21, 9, 0.0, 0.2857, 0, 0.0, 0.0, 0.0, 0.0), (0.0, 0, 21, 9, 0.0, 0.0255, 0, 0.0, 0.0, 0.0, 0.0), (0.0, 0, 21, 9, 0.0, 0.0154, 0, 0.0, 0.0, 0.0, 0.0), (0.0, 0, 21, 9, 0.0001, 0.0189, 0, 0.0, 0.0, 0.0, 0.0), (0.0, 0, 21, 9, 0.0, 0.1134, 0, 0.0, 0.0, 0.0, 0.0), (0.0, 0, 21, 9, 0.0, 0.0701, 0, 0.0, 0.0, 0.0, 0.0), (1.0, 0, 17, 9, 0.9997, 0.0, 0, 0.0, 0.0, 0.6, 0.0), (0.0, 0, 21, 9, 0.0, 0.0159, 0, 0.0, 0.0, 0.0, 0.0)]\n",
      "center is  (0.0603, 0, 58, 9, 0.0003, 0.145, 0, 0.0, 0.0, 0.6, 0.0) 2\n"
     ]
    },
    {
     "data": {
      "image/png": "[encoded data removed]",
      "text/plain": [
       "<Figure size 432x288 with 1 Axes>"
      ]
     },
     "metadata": {
      "needs_background": "light"
     },
     "output_type": "display_data"
    },
    {
     "name": "stdout",
     "output_type": "stream",
     "text": [
      "New instances is \n",
      " [(0.0024, 0, 17, 9, 0.0014, 0.0, 0, 0.0, 0.0, 0.0, 0.0), (0.9992, 0, 17, 9, 1.0, 0.0, 0, 0.0, 0.0, 1.0, 0.0), (0.9966, 0, 17, 9, 0.9992, 0.0, 0, 0.0, 0.0, 0.8, 0.0), (0.0, 0, 21, 9, 0.0, 0.1892, 0, 0.0, 0.0, 0.0, 0.0), (0.0, 0, 21, 9, 0.0, 0.2142, 0, 0.0, 0.0, 0.0, 0.0), (0.0, 0, 21, 9, 0.0, 0.111, 0, 0.0, 0.0, 0.0, 0.0), (0.0, 0, 21, 9, 0.0001, 1.0, 0, 0.0, 0.0, 0.0, 0.0), (0.0, 0, 21, 9, 0.0001, 0.0635, 0, 0.0, 0.0, 0.0, 0.0), (0.0, 0, 21, 9, 0.0, 0.1017, 0, 0.0, 0.0, 0.0, 0.0), (0.0, 0, 21, 9, 0.0, 0.0976, 0, 0.0, 0.0, 0.0, 0.0), (0.0, 0, 21, 9, 0.0001, 0.0404, 0, 0.0, 0.0, 0.0, 0.0), (0.0, 0, 21, 9, 0.0, 0.2857, 0, 0.0, 0.0, 0.0, 0.0), (0.0, 0, 21, 9, 0.0, 0.0255, 0, 0.0, 0.0, 0.0, 0.0), (0.0, 0, 21, 9, 0.0001, 0.1839, 0, 0.0, 0.0, 0.0, 0.0), (0.0, 0, 21, 9, 0.0001, 0.0154, 0, 0.0, 0.0, 0.0, 0.0), (0.0, 0, 21, 9, 0.0, 0.0154, 0, 0.0, 0.0, 0.0, 0.0), (0.9978, 0, 17, 9, 1.0, 0.0, 0, 0.0, 0.0, 0.2, 0.0), (0.0, 0, 21, 9, 0.0001, 0.0189, 0, 0.0, 0.0, 0.0, 0.0), (0.0, 0, 21, 9, 0.0001, 0.0278, 0, 0.0, 0.0, 0.0, 0.0), (0.0, 0, 21, 9, 0.0001, 0.1108, 0, 0.0, 0.0, 0.0, 0.0), (0.0, 0, 21, 9, 0.0001, 0.0559, 0, 0.0, 0.0, 0.0, 0.0), (0.0, 0, 21, 9, 0.0, 0.1134, 0, 0.0, 0.0, 0.0, 0.0), (0.0, 0, 21, 9, 0.0001, 0.0176, 0, 0.0, 0.0, 0.0, 0.0), (0.0, 0, 21, 9, 0.0, 0.0701, 0, 0.0, 0.0, 0.0, 0.0), (0.0, 0, 21, 9, 0.0, 0.1065, 0, 0.0, 0.0, 0.0, 0.0), (1.0, 0, 17, 9, 0.9997, 0.0, 0, 0.0, 0.0, 0.6, 0.0), (0.0, 0, 21, 9, 0.0, 0.0159, 0, 0.0, 0.0, 0.0, 0.0)]\n",
      "kList is [2, 3, 4, 5, 6, 8, 10, 12, 14, 16, 18, 20, 22, 24, 26, 28, 30, 32, 34]\n",
      "Kinf:\n",
      " [26, 4, 4, 2, 3, 2, 22, 2, 6, 6, 8, 22, 2, 2, 2, 2, 4, 5, 2, 2, 3, 6, 5, 2, 6, 4, 3]\n",
      "pre_c1:\n",
      " [1.0625018753220927, 2.5017649997418343, 2.4676743776104613, 2.0565087409345524, 2.2531771946953327, 5.432507928676841, 0.6817249468856537, 1.0176431605342258, 2.445869485979218, 2.445869485979218, 1.2430988744428657, 0.6817249468856535, 4.7728927094893905, 2.0565087409345524, 1.2314358678923436, 1.2314358678923436, 2.406719964647287, 2.341929677453732, 5.269421457833202, 5.432507928676841, 1.4555093321921873, 2.5115879103552, 2.341929677453732, 1.0176431605342258, 2.445869485979217, 2.440799983465768, 2.7087367679841536]\n",
      "LOF points 0 2 990.8162343051877\n",
      "LOF points 1 5 1.0313436748854987\n",
      "LOF points 2 5 1.017289937819175\n",
      "LOF points 3 4 2.608439217739145\n",
      "LOF points 4 5 2.547272335288703\n",
      "LOF points 5 10 1.0196610347707122\n",
      "LOF points 6 2 4.727954011825767\n",
      "LOF points 7 5 1.3508085841402284\n",
      "LOF points 8 28 1.0000027719947882\n",
      "LOF points 9 4 1.1147252652758033\n",
      "LOF points 10 2 1.2710397260082884\n",
      "LOF points 11 2 1.7185389387016516\n",
      "LOF points 12 3 1.417740283178241\n",
      "LOF points 13 4 2.5613529114756277\n",
      "LOF points 14 28 1.0000027719947882\n",
      "LOF points 15 28 1.0000027719947882\n",
      "LOF points 16 2 1.066646125708501\n",
      "LOF points 17 3 1.0312661214611325\n",
      "LOF points 18 3 1.5652292067996567\n",
      "LOF points 19 10 1.0186602696896727\n",
      "LOF points 20 5 1.3617177136178444\n",
      "LOF points 21 10 1.008644630846541\n",
      "LOF points 22 28 1.0000027719947882\n",
      "LOF points 23 4 1.1281227316624385\n",
      "LOF points 24 2 1.3486058321882173\n",
      "LOF points 25 5 1.0062110649352831\n",
      "LOF points 26 28 1.0000027719947882\n",
      "Ur is \n",
      " [(0.0024, 0, 17, 9, 0.0014, 0.0, 0, 0.0, 0.0, 0.0, 0.0), (0.9992, 0, 17, 9, 1.0, 0.0, 0, 0.0, 0.0, 1.0, 0.0), (0.9966, 0, 17, 9, 0.9992, 0.0, 0, 0.0, 0.0, 0.8, 0.0), (0.0, 0, 21, 9, 0.0, 0.1892, 0, 0.0, 0.0, 0.0, 0.0), (0.0, 0, 21, 9, 0.0, 0.2142, 0, 0.0, 0.0, 0.0, 0.0), (0.0, 0, 21, 9, 0.0, 0.111, 0, 0.0, 0.0, 0.0, 0.0), (0.0, 0, 21, 9, 0.0001, 1.0, 0, 0.0, 0.0, 0.0, 0.0), (0.0, 0, 21, 9, 0.0001, 0.0635, 0, 0.0, 0.0, 0.0, 0.0), (0.0, 0, 21, 9, 0.0, 0.1017, 0, 0.0, 0.0, 0.0, 0.0), (0.0, 0, 21, 9, 0.0, 0.0976, 0, 0.0, 0.0, 0.0, 0.0), (0.0, 0, 21, 9, 0.0001, 0.0404, 0, 0.0, 0.0, 0.0, 0.0), (0.0, 0, 21, 9, 0.0, 0.2857, 0, 0.0, 0.0, 0.0, 0.0), (0.0, 0, 21, 9, 0.0, 0.0255, 0, 0.0, 0.0, 0.0, 0.0), (0.0, 0, 21, 9, 0.0001, 0.1839, 0, 0.0, 0.0, 0.0, 0.0), (0.0, 0, 21, 9, 0.0001, 0.0154, 0, 0.0, 0.0, 0.0, 0.0), (0.0, 0, 21, 9, 0.0, 0.0154, 0, 0.0, 0.0, 0.0, 0.0), (0.9978, 0, 17, 9, 1.0, 0.0, 0, 0.0, 0.0, 0.2, 0.0), (0.0, 0, 21, 9, 0.0001, 0.0189, 0, 0.0, 0.0, 0.0, 0.0), (0.0, 0, 21, 9, 0.0001, 0.0278, 0, 0.0, 0.0, 0.0, 0.0), (0.0, 0, 21, 9, 0.0001, 0.1108, 0, 0.0, 0.0, 0.0, 0.0), (0.0, 0, 21, 9, 0.0001, 0.0559, 0, 0.0, 0.0, 0.0, 0.0), (0.0, 0, 21, 9, 0.0, 0.1134, 0, 0.0, 0.0, 0.0, 0.0), (0.0, 0, 21, 9, 0.0001, 0.0176, 0, 0.0, 0.0, 0.0, 0.0), (0.0, 0, 21, 9, 0.0, 0.0701, 0, 0.0, 0.0, 0.0, 0.0), (0.0, 0, 21, 9, 0.0, 0.1065, 0, 0.0, 0.0, 0.0, 0.0), (1.0, 0, 17, 9, 0.9997, 0.0, 0, 0.0, 0.0, 0.6, 0.0), (0.0, 0, 21, 9, 0.0, 0.0159, 0, 0.0, 0.0, 0.0, 0.0)]\n",
      "center is  (0.0, 0, 21, 9, 0.0, 0.2857, 0, 0.0, 0.0, 0.0, 0.0) 22\n"
     ]
    },
    {
     "data": {
      "image/png": "[encoded data removed]",
      "text/plain": [
       "<Figure size 432x288 with 1 Axes>"
      ]
     },
     "metadata": {
      "needs_background": "light"
     },
     "output_type": "display_data"
    },
    {
     "name": "stdout",
     "output_type": "stream",
     "text": [
      "New instances is \n",
      " [(0.9966, 0, 17, 9, 0.9992, 0.0, 0, 0.0, 0.0, 0.8, 0.0), (1.0, 0, 17, 9, 0.9997, 0.0, 0, 0.0, 0.0, 0.6, 0.0), (0.9978, 0, 17, 9, 1.0, 0.0, 0, 0.0, 0.0, 0.2, 0.0), (0.9992, 0, 17, 9, 1.0, 0.0, 0, 0.0, 0.0, 1.0, 0.0)]\n",
      "kList is [2, 3, 4, 5, 6, 8, 10, 12, 14, 16, 18, 20, 22, 23, 24, 26, 28, 30, 32, 34]\n",
      "Kinf:\n",
      " [3, 2, 3, 2]\n",
      "pre_c1:\n",
      " [1.0136890101301188, 1.240122067019893, 1.2486470044004696, 1.240122067019893]\n",
      "LOF points 0 2 1.0416589181958598\n",
      "LOF points 1 4 1.0001020228563147\n",
      "LOF points 2 4 1.0001020228563147\n",
      "LOF points 3 4 1.0001020228563147\n",
      "Ur is \n",
      " [(0.9966, 0, 17, 9, 0.9992, 0.0, 0, 0.0, 0.0, 0.8, 0.0), (1.0, 0, 17, 9, 0.9997, 0.0, 0, 0.0, 0.0, 0.6, 0.0), (0.9978, 0, 17, 9, 1.0, 0.0, 0, 0.0, 0.0, 0.2, 0.0), (0.9992, 0, 17, 9, 1.0, 0.0, 0, 0.0, 0.0, 1.0, 0.0)]\n",
      "center is  (0.9966, 0, 17, 9, 0.9992, 0.0, 0, 0.0, 0.0, 0.8, 0.0) 3\n"
     ]
    },
    {
     "data": {
      "image/png": "[encoded data removed]",
      "text/plain": [
       "<Figure size 432x288 with 1 Axes>"
      ]
     },
     "metadata": {
      "needs_background": "light"
     },
     "output_type": "display_data"
    },
    {
     "name": "stdout",
     "output_type": "stream",
     "text": [
      "group 0 is \n",
      " [(0.0, 2, 12, 9, 0.0002, 0.0, 0, 0.0, 0.0, 0.0, 0.0), (0.0, 2, 12, 9, 0.0001, 0.0, 0, 0.0, 0.0, 0.0, 0.0), (0.0, 0, 17, 9, 0.0001, 0.0, 0, 0.0, 0.0, 0.0, 0.0), (0.0, 0, 17, 9, 0.0, 0.0, 0, 0.0, 0.0, 0.0, 0.0), (0.0008, 0, 17, 9, 0.0002, 0.0, 0, 0.0, 0.0, 0.0, 0.0)]\n",
      "group 0 label is \n",
      " [(25, 5), (26, 5), (35, 20), (33, 20), (28, 20)]\n",
      "group 1 is \n",
      " [(0.0603, 0, 58, 9, 0.0003, 0.145, 0, 0.0, 0.0, 0.6, 0.0), (0.0364, 0, 58, 9, 0.0003, 0.155, 0, 0.0, 0.0, 0.6, 0.0), (0.0, 0, 47, 5, 0.0, 0.0, 0, 0.0, 0.0, 0.0, 0.0)]\n",
      "group 1 label is \n",
      " [(24, 1), (23, 1), (27, 4)]\n",
      "group 2 is \n",
      " [(0.0, 0, 21, 9, 0.0, 0.2857, 0, 0.0, 0.0, 0.0, 0.0), (0.0, 0, 21, 9, 0.0, 0.2142, 0, 0.0, 0.0, 0.0, 0.0), (0.0, 0, 21, 9, 0.0, 0.1892, 0, 0.0, 0.0, 0.0, 0.0), (0.0, 0, 21, 9, 0.0001, 0.1839, 0, 0.0, 0.0, 0.0, 0.0), (0.0, 0, 21, 9, 0.0, 0.1134, 0, 0.0, 0.0, 0.0, 0.0), (0.0, 0, 21, 9, 0.0, 0.111, 0, 0.0, 0.0, 0.0, 0.0), (0.0, 0, 21, 9, 0.0001, 0.1108, 0, 0.0, 0.0, 0.0, 0.0), (0.0, 0, 21, 9, 0.0, 0.1065, 0, 0.0, 0.0, 0.0, 0.0), (0.0, 0, 21, 9, 0.0, 0.1017, 0, 0.0, 0.0, 0.0, 0.0), (0.0, 0, 21, 9, 0.0, 0.0976, 0, 0.0, 0.0, 0.0, 0.0), (0.0, 0, 21, 9, 0.0, 0.0701, 0, 0.0, 0.0, 0.0, 0.0), (0.0, 0, 21, 9, 0.0001, 0.0635, 0, 0.0, 0.0, 0.0, 0.0), (0.0, 0, 21, 9, 0.0001, 0.0559, 0, 0.0, 0.0, 0.0, 0.0), (0.0, 0, 21, 9, 0.0001, 0.0404, 0, 0.0, 0.0, 0.0, 0.0), (0.0, 0, 21, 9, 0.0001, 0.0278, 0, 0.0, 0.0, 0.0, 0.0), (0.0, 0, 21, 9, 0.0, 0.0255, 0, 0.0, 0.0, 0.0, 0.0), (0.0, 0, 21, 9, 0.0001, 0.0189, 0, 0.0, 0.0, 0.0, 0.0), (0.0, 0, 21, 9, 0.0001, 0.0176, 0, 0.0, 0.0, 0.0, 0.0), (0.0, 0, 21, 9, 0.0, 0.0159, 0, 0.0, 0.0, 0.0, 0.0), (0.0, 0, 21, 9, 0.0, 0.0154, 0, 0.0, 0.0, 0.0, 0.0), (0.0, 0, 21, 9, 0.0001, 0.0154, 0, 0.0, 0.0, 0.0, 0.0), (0.0, 0, 21, 9, 0.0001, 1.0, 0, 0.0, 0.0, 0.0, 0.0), (0.0024, 0, 17, 9, 0.0014, 0.0, 0, 0.0, 0.0, 0.0, 0.0)]\n",
      "group 2 label is \n",
      " [(1, 0), (6, 0), (7, 0), (18, 0), (10, 0), (8, 0), (20, 0), (4, 0), (5, 0), (11, 0), (3, 0), (14, 0), (21, 0), (16, 0), (17, 0), (2, 0), (13, 0), (19, 0), (9, 0), (12, 0), (22, 0), (15, 0), (34, 20)]\n",
      "group 3 is \n",
      " [(0.9966, 0, 17, 9, 0.9992, 0.0, 0, 0.0, 0.0, 0.8, 0.0), (0.9992, 0, 17, 9, 1.0, 0.0, 0, 0.0, 0.0, 1.0, 0.0), (1.0, 0, 17, 9, 0.9997, 0.0, 0, 0.0, 0.0, 0.6, 0.0), (0.9978, 0, 17, 9, 1.0, 0.0, 0, 0.0, 0.0, 0.2, 0.0)]\n",
      "group 3 label is \n",
      " [(32, 20), (30, 20), (29, 20), (31, 20)]\n"
     ]
    },
    {
     "data": {
      "image/png": "[encoded data removed]",
      "text/plain": [
       "<Figure size 432x288 with 1 Axes>"
      ]
     },
     "metadata": {
      "needs_background": "light"
     },
     "output_type": "display_data"
    }
   ],
   "source": [
    "%run RCD.py"
   ]
  },
  {
   "cell_type": "code",
   "execution_count": 3,
   "metadata": {
    "scrolled": true
   },
   "outputs": [
    {
     "name": "stdout",
     "output_type": "stream",
     "text": [
      "(0.0, 0, 21, 9, 0.0, 0.2857, 0, 0.0, 0.0, 0.0, 0.0)\n",
      "(0.0, 0, 21, 9, 0.0, 0.0255, 0, 0.0, 0.0, 0.0, 0.0)\n",
      "(0.0, 0, 21, 9, 0.0, 0.0701, 0, 0.0, 0.0, 0.0, 0.0)\n",
      "(0.0, 0, 21, 9, 0.0, 0.1065, 0, 0.0, 0.0, 0.0, 0.0)\n",
      "(0.0, 0, 21, 9, 0.0, 0.1017, 0, 0.0, 0.0, 0.0, 0.0)\n",
      "(0.0, 0, 21, 9, 0.0, 0.2142, 0, 0.0, 0.0, 0.0, 0.0)\n",
      "(0.0, 0, 21, 9, 0.0, 0.1892, 0, 0.0, 0.0, 0.0, 0.0)\n",
      "(0.0, 0, 21, 9, 0.0, 0.111, 0, 0.0, 0.0, 0.0, 0.0)\n",
      "(0.0, 0, 21, 9, 0.0, 0.0159, 0, 0.0, 0.0, 0.0, 0.0)\n",
      "(0.0, 0, 21, 9, 0.0, 0.1134, 0, 0.0, 0.0, 0.0, 0.0)\n",
      "(0.0, 0, 21, 9, 0.0, 0.0976, 0, 0.0, 0.0, 0.0, 0.0)\n",
      "(0.0, 0, 21, 9, 0.0, 0.0154, 0, 0.0, 0.0, 0.0, 0.0)\n",
      "(0.0, 0, 21, 9, 0.0001, 0.0189, 0, 0.0, 0.0, 0.0, 0.0)\n",
      "(0.0, 0, 21, 9, 0.0001, 0.0635, 0, 0.0, 0.0, 0.0, 0.0)\n",
      "(0.0, 0, 21, 9, 0.0001, 1.0, 0, 0.0, 0.0, 0.0, 0.0)\n",
      "(0.0, 0, 21, 9, 0.0001, 0.0404, 0, 0.0, 0.0, 0.0, 0.0)\n",
      "(0.0, 0, 21, 9, 0.0001, 0.0278, 0, 0.0, 0.0, 0.0, 0.0)\n",
      "(0.0, 0, 21, 9, 0.0001, 0.1839, 0, 0.0, 0.0, 0.0, 0.0)\n",
      "(0.0, 0, 21, 9, 0.0001, 0.0176, 0, 0.0, 0.0, 0.0, 0.0)\n",
      "(0.0, 0, 21, 9, 0.0001, 0.1108, 0, 0.0, 0.0, 0.0, 0.0)\n",
      "(0.0, 0, 21, 9, 0.0001, 0.0559, 0, 0.0, 0.0, 0.0, 0.0)\n",
      "(0.0, 0, 21, 9, 0.0001, 0.0154, 0, 0.0, 0.0, 0.0, 0.0)\n",
      "(0.0364, 0, 58, 9, 0.0003, 0.155, 0, 0.0, 0.0, 0.6, 0.0)\n",
      "(0.0603, 0, 58, 9, 0.0003, 0.145, 0, 0.0, 0.0, 0.6, 0.0)\n",
      "(0.0, 2, 12, 9, 0.0002, 0.0, 0, 0.0, 0.0, 0.0, 0.0)\n",
      "(0.0, 2, 12, 9, 0.0001, 0.0, 0, 0.0, 0.0, 0.0, 0.0)\n",
      "(0.0, 0, 47, 5, 0.0, 0.0, 0, 0.0, 0.0, 0.0, 0.0)\n",
      "(0.0008, 0, 17, 9, 0.0002, 0.0, 0, 0.0, 0.0, 0.0, 0.0)\n",
      "(1.0, 0, 17, 9, 0.9997, 0.0, 0, 0.0, 0.0, 0.6, 0.0)\n",
      "(0.9992, 0, 17, 9, 1.0, 0.0, 0, 0.0, 0.0, 1.0, 0.0)\n",
      "(0.9978, 0, 17, 9, 1.0, 0.0, 0, 0.0, 0.0, 0.2, 0.0)\n",
      "(0.9966, 0, 17, 9, 0.9992, 0.0, 0, 0.0, 0.0, 0.8, 0.0)\n",
      "(0.0, 0, 17, 9, 0.0, 0.0, 0, 0.0, 0.0, 0.0, 0.0)\n",
      "(0.0024, 0, 17, 9, 0.0014, 0.0, 0, 0.0, 0.0, 0.0, 0.0)\n",
      "(0.0, 0, 17, 9, 0.0001, 0.0, 0, 0.0, 0.0, 0.0, 0.0)\n",
      "(1, 0)\n",
      "(2, 0)\n",
      "(3, 0)\n",
      "(4, 0)\n",
      "(5, 0)\n",
      "(6, 0)\n",
      "(7, 0)\n",
      "(8, 0)\n",
      "(9, 0)\n",
      "(10, 0)\n",
      "(11, 0)\n",
      "(12, 0)\n",
      "(13, 0)\n",
      "(14, 0)\n",
      "(15, 0)\n",
      "(16, 0)\n",
      "(17, 0)\n",
      "(18, 0)\n",
      "(19, 0)\n",
      "(20, 0)\n",
      "(21, 0)\n",
      "(22, 0)\n",
      "(23, 1)\n",
      "(24, 1)\n",
      "(25, 5)\n",
      "(26, 5)\n",
      "(27, 4)\n",
      "(28, 20)\n",
      "(29, 20)\n",
      "(30, 20)\n",
      "(31, 20)\n",
      "(32, 20)\n",
      "(33, 20)\n",
      "(34, 20)\n",
      "(35, 20)\n"
     ]
    },
    {
     "data": {
      "image/png": "[encoded data removed]",
      "text/plain": [
       "<Figure size 432x288 with 1 Axes>"
      ]
     },
     "metadata": {
      "needs_background": "light"
     },
     "output_type": "display_data"
    },
    {
     "name": "stdout",
     "output_type": "stream",
     "text": [
      "Klist : [4, 8, 12, 16, 20, 24, 28, 32]\n",
      "New instances is \n",
      " [(0.0, 0, 21, 9, 0.0, 0.2857, 0, 0.0, 0.0, 0.0, 0.0), (0.0, 0, 21, 9, 0.0, 0.0255, 0, 0.0, 0.0, 0.0, 0.0), (0.0, 0, 21, 9, 0.0, 0.0701, 0, 0.0, 0.0, 0.0, 0.0), (0.0, 0, 21, 9, 0.0, 0.1065, 0, 0.0, 0.0, 0.0, 0.0), (0.0, 0, 21, 9, 0.0, 0.1017, 0, 0.0, 0.0, 0.0, 0.0), (0.0, 0, 21, 9, 0.0, 0.2142, 0, 0.0, 0.0, 0.0, 0.0), (0.0, 0, 21, 9, 0.0, 0.1892, 0, 0.0, 0.0, 0.0, 0.0), (0.0, 0, 21, 9, 0.0, 0.111, 0, 0.0, 0.0, 0.0, 0.0), (0.0, 0, 21, 9, 0.0, 0.0159, 0, 0.0, 0.0, 0.0, 0.0), (0.0, 0, 21, 9, 0.0, 0.1134, 0, 0.0, 0.0, 0.0, 0.0), (0.0, 0, 21, 9, 0.0, 0.0976, 0, 0.0, 0.0, 0.0, 0.0), (0.0, 0, 21, 9, 0.0, 0.0154, 0, 0.0, 0.0, 0.0, 0.0), (0.0, 0, 21, 9, 0.0001, 0.0189, 0, 0.0, 0.0, 0.0, 0.0), (0.0, 0, 21, 9, 0.0001, 0.0635, 0, 0.0, 0.0, 0.0, 0.0), (0.0, 0, 21, 9, 0.0001, 1.0, 0, 0.0, 0.0, 0.0, 0.0), (0.0, 0, 21, 9, 0.0001, 0.0404, 0, 0.0, 0.0, 0.0, 0.0), (0.0, 0, 21, 9, 0.0001, 0.0278, 0, 0.0, 0.0, 0.0, 0.0), (0.0, 0, 21, 9, 0.0001, 0.1839, 0, 0.0, 0.0, 0.0, 0.0), (0.0, 0, 21, 9, 0.0001, 0.0176, 0, 0.0, 0.0, 0.0, 0.0), (0.0, 0, 21, 9, 0.0001, 0.1108, 0, 0.0, 0.0, 0.0, 0.0), (0.0, 0, 21, 9, 0.0001, 0.0559, 0, 0.0, 0.0, 0.0, 0.0), (0.0, 0, 21, 9, 0.0001, 0.0154, 0, 0.0, 0.0, 0.0, 0.0), (0.0364, 0, 58, 9, 0.0003, 0.155, 0, 0.0, 0.0, 0.6, 0.0), (0.0603, 0, 58, 9, 0.0003, 0.145, 0, 0.0, 0.0, 0.6, 0.0), (0.0, 2, 12, 9, 0.0002, 0.0, 0, 0.0, 0.0, 0.0, 0.0), (0.0, 2, 12, 9, 0.0001, 0.0, 0, 0.0, 0.0, 0.0, 0.0), (0.0, 0, 47, 5, 0.0, 0.0, 0, 0.0, 0.0, 0.0, 0.0), (0.0008, 0, 17, 9, 0.0002, 0.0, 0, 0.0, 0.0, 0.0, 0.0), (1.0, 0, 17, 9, 0.9997, 0.0, 0, 0.0, 0.0, 0.6, 0.0), (0.9992, 0, 17, 9, 1.0, 0.0, 0, 0.0, 0.0, 1.0, 0.0), (0.9978, 0, 17, 9, 1.0, 0.0, 0, 0.0, 0.0, 0.2, 0.0), (0.9966, 0, 17, 9, 0.9992, 0.0, 0, 0.0, 0.0, 0.8, 0.0), (0.0, 0, 17, 9, 0.0, 0.0, 0, 0.0, 0.0, 0.0, 0.0), (0.0024, 0, 17, 9, 0.0014, 0.0, 0, 0.0, 0.0, 0.0, 0.0), (0.0, 0, 17, 9, 0.0001, 0.0, 0, 0.0, 0.0, 0.0, 0.0)]\n",
      "kList is [4, 8, 12, 16, 20, 24, 28, 32]\n",
      "Kinf:\n",
      " [32, 8, 24, 4, 24, 24, 24, 4, 8, 4, 24, 8, 8, 24, 32, 8, 8, 24, 8, 4, 24, 8, 32, 32, 32, 32, 32, 4, 4, 4, 4, 4, 4, 4, 4]\n",
      "pre_c1:\n",
      " [1.0172785877830728, 1.4157004320634758, 0.3380815390908647, 1.1735846792660303, 0.33808153909086475, 0.3329593714456158, 0.3329593714456158, 1.285042828553127, 1.4157004320634758, 1.2260636844240185, 0.3380815390908647, 1.4137760900435656, 1.4157004320634758, 0.33808153909086464, 1.0172785877830728, 1.2430988744428657, 1.4157004320634754, 0.33295937144561577, 1.4157004320634758, 1.285042828553127, 0.3380815390908646, 1.4137763129693492, 1.018483228893918, 1.018483228893918, 1.0172539525735502, 1.0172548862873592, 1.0191275460351148, 95.944126875521, 10.432060964329548, 2.717136943709215, 10.285667789114779, 10.547501859822288, 95.9433273036127, 95.95248963107512, 95.9433273036127]\n",
      "LOF points 0 8 2.2326353541475594\n",
      "LOF points 1 4 1.698460357939777\n",
      "LOF points 2 4 1.1281227316624385\n",
      "LOF points 5 8 1.640553278681204\n",
      "LOF points 6 4 2.608439217739145\n",
      "LOF points 9 16 1.0041884573317297\n",
      "LOF points 10 4 1.1147252652758033\n",
      "LOF points 14 4 6.126402581762294\n",
      "LOF points 15 4 1.0851095266708453\n",
      "LOF points 16 4 1.9380330986619945\n",
      "LOF points 17 4 2.5613529114756277\n",
      "LOF points 22 4 6.6836928506685265\n",
      "LOF points 23 4 54.85397275252263\n",
      "LOF points 24 4 6.1945040620387815\n",
      "LOF points 25 4 6.194504031427922\n",
      "LOF points 26 4 278.90152041941985\n",
      "LOF points 27 8 1.763710635414186\n",
      "LOF points 28 8 9.269360879120066\n",
      "LOF points 29 8 5.5704968000356185\n",
      "LOF points 30 8 8.943893784759608\n",
      "LOF points 31 8 9.526033865538285\n",
      "LOF points 32 8 1.763673487351708\n",
      "LOF points 33 8 1.76410002827899\n",
      "LOF points 34 8 1.7636734878618792\n",
      "Ur is \n",
      " [(0.0, 0, 21, 9, 0.0, 0.2857, 0, 0.0, 0.0, 0.0, 0.0), (0.0, 0, 21, 9, 0.0, 0.0255, 0, 0.0, 0.0, 0.0, 0.0), (0.0, 0, 21, 9, 0.0, 0.0701, 0, 0.0, 0.0, 0.0, 0.0), (0.0, 0, 21, 9, 0.0, 0.2142, 0, 0.0, 0.0, 0.0, 0.0), (0.0, 0, 21, 9, 0.0, 0.1892, 0, 0.0, 0.0, 0.0, 0.0), (0.0, 0, 21, 9, 0.0, 0.1134, 0, 0.0, 0.0, 0.0, 0.0), (0.0, 0, 21, 9, 0.0, 0.0976, 0, 0.0, 0.0, 0.0, 0.0), (0.0, 0, 21, 9, 0.0001, 1.0, 0, 0.0, 0.0, 0.0, 0.0), (0.0, 0, 21, 9, 0.0001, 0.0404, 0, 0.0, 0.0, 0.0, 0.0), (0.0, 0, 21, 9, 0.0001, 0.0278, 0, 0.0, 0.0, 0.0, 0.0), (0.0, 0, 21, 9, 0.0001, 0.1839, 0, 0.0, 0.0, 0.0, 0.0), (0.0364, 0, 58, 9, 0.0003, 0.155, 0, 0.0, 0.0, 0.6, 0.0), (0.0603, 0, 58, 9, 0.0003, 0.145, 0, 0.0, 0.0, 0.6, 0.0), (0.0, 2, 12, 9, 0.0002, 0.0, 0, 0.0, 0.0, 0.0, 0.0), (0.0, 2, 12, 9, 0.0001, 0.0, 0, 0.0, 0.0, 0.0, 0.0), (0.0, 0, 47, 5, 0.0, 0.0, 0, 0.0, 0.0, 0.0, 0.0), (0.0008, 0, 17, 9, 0.0002, 0.0, 0, 0.0, 0.0, 0.0, 0.0), (1.0, 0, 17, 9, 0.9997, 0.0, 0, 0.0, 0.0, 0.6, 0.0), (0.9992, 0, 17, 9, 1.0, 0.0, 0, 0.0, 0.0, 1.0, 0.0), (0.9978, 0, 17, 9, 1.0, 0.0, 0, 0.0, 0.0, 0.2, 0.0), (0.9966, 0, 17, 9, 0.9992, 0.0, 0, 0.0, 0.0, 0.8, 0.0), (0.0, 0, 17, 9, 0.0, 0.0, 0, 0.0, 0.0, 0.0, 0.0), (0.0024, 0, 17, 9, 0.0014, 0.0, 0, 0.0, 0.0, 0.0, 0.0), (0.0, 0, 17, 9, 0.0001, 0.0, 0, 0.0, 0.0, 0.0, 0.0)]\n",
      "center is  (0.0, 0, 17, 9, 0.0001, 0.0, 0, 0.0, 0.0, 0.0, 0.0) 4\n"
     ]
    },
    {
     "data": {
      "image/png": "[encoded data removed]",
      "text/plain": [
       "<Figure size 432x288 with 1 Axes>"
      ]
     },
     "metadata": {
      "needs_background": "light"
     },
     "output_type": "display_data"
    },
    {
     "name": "stdout",
     "output_type": "stream",
     "text": [
      "New instances is \n",
      " [(0.9966, 0, 17, 9, 0.9992, 0.0, 0, 0.0, 0.0, 0.8, 0.0), (0.0, 0, 21, 9, 0.0, 0.1892, 0, 0.0, 0.0, 0.0, 0.0), (0.0, 0, 47, 5, 0.0, 0.0, 0, 0.0, 0.0, 0.0, 0.0), (0.0364, 0, 58, 9, 0.0003, 0.155, 0, 0.0, 0.0, 0.6, 0.0), (0.0, 0, 21, 9, 0.0001, 0.0635, 0, 0.0, 0.0, 0.0, 0.0), (0.0, 0, 21, 9, 0.0, 0.1017, 0, 0.0, 0.0, 0.0, 0.0), (0.0, 0, 21, 9, 0.0001, 0.1839, 0, 0.0, 0.0, 0.0, 0.0), (0.0, 0, 21, 9, 0.0001, 0.0154, 0, 0.0, 0.0, 0.0, 0.0), (0.0603, 0, 58, 9, 0.0003, 0.145, 0, 0.0, 0.0, 0.6, 0.0), (0.0, 0, 21, 9, 0.0001, 0.0278, 0, 0.0, 0.0, 0.0, 0.0), (0.0, 0, 21, 9, 0.0001, 0.1108, 0, 0.0, 0.0, 0.0, 0.0), (0.0, 0, 21, 9, 0.0001, 0.0559, 0, 0.0, 0.0, 0.0, 0.0), (0.0, 0, 21, 9, 0.0001, 0.0176, 0, 0.0, 0.0, 0.0, 0.0), (0.0, 0, 21, 9, 0.0, 0.1065, 0, 0.0, 0.0, 0.0, 0.0), (0.9992, 0, 17, 9, 1.0, 0.0, 0, 0.0, 0.0, 1.0, 0.0), (0.0, 0, 21, 9, 0.0, 0.2142, 0, 0.0, 0.0, 0.0, 0.0), (0.0, 0, 21, 9, 0.0, 0.111, 0, 0.0, 0.0, 0.0, 0.0), (0.0, 0, 21, 9, 0.0001, 1.0, 0, 0.0, 0.0, 0.0, 0.0), (0.0, 2, 12, 9, 0.0001, 0.0, 0, 0.0, 0.0, 0.0, 0.0), (0.0, 0, 21, 9, 0.0, 0.0976, 0, 0.0, 0.0, 0.0, 0.0), (0.0, 0, 21, 9, 0.0001, 0.0404, 0, 0.0, 0.0, 0.0, 0.0), (0.0, 0, 21, 9, 0.0, 0.2857, 0, 0.0, 0.0, 0.0, 0.0), (0.0, 0, 21, 9, 0.0, 0.0255, 0, 0.0, 0.0, 0.0, 0.0), (0.0, 0, 21, 9, 0.0, 0.0154, 0, 0.0, 0.0, 0.0, 0.0), (0.0, 0, 21, 9, 0.0001, 0.0189, 0, 0.0, 0.0, 0.0, 0.0), (0.0, 2, 12, 9, 0.0002, 0.0, 0, 0.0, 0.0, 0.0, 0.0), (0.0, 0, 21, 9, 0.0, 0.1134, 0, 0.0, 0.0, 0.0, 0.0), (0.0, 0, 21, 9, 0.0, 0.0701, 0, 0.0, 0.0, 0.0, 0.0), (1.0, 0, 17, 9, 0.9997, 0.0, 0, 0.0, 0.0, 0.6, 0.0), (0.0, 0, 21, 9, 0.0, 0.0159, 0, 0.0, 0.0, 0.0, 0.0)]\n",
      "kList is [4, 5, 8, 12, 16, 20, 24, 28, 32]\n",
      "Kinf:\n",
      " [28, 20, 28, 24, 20, 20, 20, 5, 24, 8, 4, 20, 5, 4, 32, 20, 4, 28, 28, 20, 8, 28, 8, 5, 5, 28, 4, 20, 28, 5]\n",
      "pre_c1:\n",
      " [0.943930403525913, 0.33217737775624623, 0.9883679204371179, 1.0166792833153577, 0.33965766887246474, 0.33965766887246474, 0.332177375112142, 2.3419509881621003, 1.0166792833153582, 1.4157004320634754, 1.285042828553127, 0.3396576688724647, 2.341929677453732, 1.1735846792660303, 1.0, 0.3321773777562463, 1.285042828553127, 0.9864475695034075, 0.986446375737821, 0.3396576688724647, 1.2430988744428657, 0.9864475695034077, 1.4157004320634758, 2.341929677453732, 2.341929677453732, 0.9864475695034076, 1.2260636844240185, 0.3396576688724647, 0.9850965187808722, 2.341929677453732]\n",
      "LOF points 0 4 133.41545292206794\n",
      "LOF points 1 4 2.608439217739145\n",
      "LOF points 2 4 278.90152041941985\n",
      "LOF points 3 4 6.6836928506685265\n",
      "LOF points 4 5 1.3508085841402284\n",
      "LOF points 5 32 1.000005843589538\n",
      "LOF points 6 4 2.5613529114756277\n",
      "LOF points 7 32 1.000005843589538\n",
      "LOF points 8 4 54.85397275252263\n",
      "LOF points 9 4 1.9380330986619945\n",
      "LOF points 10 32 1.000005843589538\n",
      "LOF points 11 5 1.3617177136178444\n",
      "LOF points 12 32 1.000005843589538\n",
      "LOF points 13 32 1.000005843589538\n",
      "LOF points 14 4 1.1634440076708772\n",
      "LOF points 15 5 2.547272335288703\n",
      "LOF points 16 32 1.000005843589538\n",
      "LOF points 17 4 6.126402581762294\n",
      "LOF points 18 4 167.478504876638\n",
      "LOF points 19 4 1.1147252652758033\n",
      "LOF points 20 4 1.0851095266708453\n",
      "LOF points 21 5 3.1231983107159693\n",
      "LOF points 22 4 1.698460357939777\n",
      "LOF points 23 32 1.000005843589538\n",
      "LOF points 24 32 1.000005843589538\n",
      "LOF points 25 4 167.47850568297298\n",
      "LOF points 26 32 1.000005843589538\n",
      "LOF points 27 4 1.1281227316624385\n",
      "LOF points 28 4 131.64296682667594\n",
      "LOF points 29 32 1.000005843589538\n",
      "Ur is \n",
      " [(0.9966, 0, 17, 9, 0.9992, 0.0, 0, 0.0, 0.0, 0.8, 0.0), (0.0, 0, 21, 9, 0.0, 0.1892, 0, 0.0, 0.0, 0.0, 0.0), (0.0, 0, 47, 5, 0.0, 0.0, 0, 0.0, 0.0, 0.0, 0.0), (0.0364, 0, 58, 9, 0.0003, 0.155, 0, 0.0, 0.0, 0.6, 0.0), (0.0, 0, 21, 9, 0.0001, 0.0635, 0, 0.0, 0.0, 0.0, 0.0), (0.0, 0, 21, 9, 0.0, 0.1017, 0, 0.0, 0.0, 0.0, 0.0), (0.0, 0, 21, 9, 0.0001, 0.1839, 0, 0.0, 0.0, 0.0, 0.0), (0.0, 0, 21, 9, 0.0001, 0.0154, 0, 0.0, 0.0, 0.0, 0.0), (0.0603, 0, 58, 9, 0.0003, 0.145, 0, 0.0, 0.0, 0.6, 0.0), (0.0, 0, 21, 9, 0.0001, 0.0278, 0, 0.0, 0.0, 0.0, 0.0), (0.0, 0, 21, 9, 0.0001, 0.1108, 0, 0.0, 0.0, 0.0, 0.0), (0.0, 0, 21, 9, 0.0001, 0.0559, 0, 0.0, 0.0, 0.0, 0.0), (0.0, 0, 21, 9, 0.0001, 0.0176, 0, 0.0, 0.0, 0.0, 0.0), (0.0, 0, 21, 9, 0.0, 0.1065, 0, 0.0, 0.0, 0.0, 0.0), (0.9992, 0, 17, 9, 1.0, 0.0, 0, 0.0, 0.0, 1.0, 0.0), (0.0, 0, 21, 9, 0.0, 0.2142, 0, 0.0, 0.0, 0.0, 0.0), (0.0, 0, 21, 9, 0.0, 0.111, 0, 0.0, 0.0, 0.0, 0.0), (0.0, 0, 21, 9, 0.0001, 1.0, 0, 0.0, 0.0, 0.0, 0.0), (0.0, 2, 12, 9, 0.0001, 0.0, 0, 0.0, 0.0, 0.0, 0.0), (0.0, 0, 21, 9, 0.0, 0.0976, 0, 0.0, 0.0, 0.0, 0.0), (0.0, 0, 21, 9, 0.0001, 0.0404, 0, 0.0, 0.0, 0.0, 0.0), (0.0, 0, 21, 9, 0.0, 0.2857, 0, 0.0, 0.0, 0.0, 0.0), (0.0, 0, 21, 9, 0.0, 0.0255, 0, 0.0, 0.0, 0.0, 0.0), (0.0, 0, 21, 9, 0.0, 0.0154, 0, 0.0, 0.0, 0.0, 0.0), (0.0, 0, 21, 9, 0.0001, 0.0189, 0, 0.0, 0.0, 0.0, 0.0), (0.0, 2, 12, 9, 0.0002, 0.0, 0, 0.0, 0.0, 0.0, 0.0), (0.0, 0, 21, 9, 0.0, 0.1134, 0, 0.0, 0.0, 0.0, 0.0), (0.0, 0, 21, 9, 0.0, 0.0701, 0, 0.0, 0.0, 0.0, 0.0), (1.0, 0, 17, 9, 0.9997, 0.0, 0, 0.0, 0.0, 0.6, 0.0), (0.0, 0, 21, 9, 0.0, 0.0159, 0, 0.0, 0.0, 0.0, 0.0)]\n",
      "center is  (0.0, 0, 21, 9, 0.0, 0.2857, 0, 0.0, 0.0, 0.0, 0.0) 28\n"
     ]
    },
    {
     "data": {
      "image/png": "[encoded data removed]",
      "text/plain": [
       "<Figure size 432x288 with 1 Axes>"
      ]
     },
     "metadata": {
      "needs_background": "light"
     },
     "output_type": "display_data"
    },
    {
     "name": "stdout",
     "output_type": "stream",
     "text": [
      "group 0 is \n",
      " [(0.0, 0, 17, 9, 0.0001, 0.0, 0, 0.0, 0.0, 0.0, 0.0), (0.0, 0, 17, 9, 0.0, 0.0, 0, 0.0, 0.0, 0.0, 0.0), (0.0008, 0, 17, 9, 0.0002, 0.0, 0, 0.0, 0.0, 0.0, 0.0), (0.0024, 0, 17, 9, 0.0014, 0.0, 0, 0.0, 0.0, 0.0, 0.0), (0.9978, 0, 17, 9, 1.0, 0.0, 0, 0.0, 0.0, 0.2, 0.0)]\n",
      "group 0 label is \n",
      " [(35, 20), (33, 20), (28, 20), (34, 20), (31, 20)]\n",
      "group 1 is \n",
      " [(0.0, 0, 21, 9, 0.0, 0.2857, 0, 0.0, 0.0, 0.0, 0.0), (0.0, 0, 21, 9, 0.0, 0.2142, 0, 0.0, 0.0, 0.0, 0.0), (0.0, 0, 21, 9, 0.0, 0.1892, 0, 0.0, 0.0, 0.0, 0.0), (0.0, 0, 21, 9, 0.0001, 0.1839, 0, 0.0, 0.0, 0.0, 0.0), (0.0, 0, 21, 9, 0.0, 0.1134, 0, 0.0, 0.0, 0.0, 0.0), (0.0, 0, 21, 9, 0.0, 0.111, 0, 0.0, 0.0, 0.0, 0.0), (0.0, 0, 21, 9, 0.0001, 0.1108, 0, 0.0, 0.0, 0.0, 0.0), (0.0, 0, 21, 9, 0.0, 0.1065, 0, 0.0, 0.0, 0.0, 0.0), (0.0, 0, 21, 9, 0.0, 0.1017, 0, 0.0, 0.0, 0.0, 0.0), (0.0, 0, 21, 9, 0.0, 0.0976, 0, 0.0, 0.0, 0.0, 0.0), (0.0, 0, 21, 9, 0.0, 0.0701, 0, 0.0, 0.0, 0.0, 0.0), (0.0, 0, 21, 9, 0.0001, 0.0635, 0, 0.0, 0.0, 0.0, 0.0), (0.0, 0, 21, 9, 0.0001, 0.0559, 0, 0.0, 0.0, 0.0, 0.0), (0.0, 0, 21, 9, 0.0001, 0.0404, 0, 0.0, 0.0, 0.0, 0.0), (0.0, 0, 21, 9, 0.0001, 0.0278, 0, 0.0, 0.0, 0.0, 0.0), (0.0, 0, 21, 9, 0.0, 0.0255, 0, 0.0, 0.0, 0.0, 0.0), (0.0, 0, 21, 9, 0.0001, 0.0189, 0, 0.0, 0.0, 0.0, 0.0), (0.0, 0, 21, 9, 0.0001, 0.0176, 0, 0.0, 0.0, 0.0, 0.0), (0.0, 0, 21, 9, 0.0, 0.0159, 0, 0.0, 0.0, 0.0, 0.0), (0.0, 0, 21, 9, 0.0, 0.0154, 0, 0.0, 0.0, 0.0, 0.0), (0.0, 0, 21, 9, 0.0001, 0.0154, 0, 0.0, 0.0, 0.0, 0.0), (0.0, 0, 21, 9, 0.0001, 1.0, 0, 0.0, 0.0, 0.0, 0.0), (1.0, 0, 17, 9, 0.9997, 0.0, 0, 0.0, 0.0, 0.6, 0.0), (0.9966, 0, 17, 9, 0.9992, 0.0, 0, 0.0, 0.0, 0.8, 0.0), (0.9992, 0, 17, 9, 1.0, 0.0, 0, 0.0, 0.0, 1.0, 0.0), (0.0, 2, 12, 9, 0.0001, 0.0, 0, 0.0, 0.0, 0.0, 0.0), (0.0, 2, 12, 9, 0.0002, 0.0, 0, 0.0, 0.0, 0.0, 0.0), (0.0, 0, 47, 5, 0.0, 0.0, 0, 0.0, 0.0, 0.0, 0.0), (0.0364, 0, 58, 9, 0.0003, 0.155, 0, 0.0, 0.0, 0.6, 0.0), (0.0603, 0, 58, 9, 0.0003, 0.145, 0, 0.0, 0.0, 0.6, 0.0)]\n",
      "group 1 label is \n",
      " [(1, 0), (6, 0), (7, 0), (18, 0), (10, 0), (8, 0), (20, 0), (4, 0), (5, 0), (11, 0), (3, 0), (14, 0), (21, 0), (16, 0), (17, 0), (2, 0), (13, 0), (19, 0), (9, 0), (12, 0), (22, 0), (15, 0), (29, 20), (32, 20), (30, 20), (26, 5), (25, 5), (27, 4), (23, 1), (24, 1)]\n"
     ]
    },
    {
     "data": {
      "image/png": "[encoded data removed]",
      "text/plain": [
       "<Figure size 432x288 with 1 Axes>"
      ]
     },
     "metadata": {
      "needs_background": "light"
     },
     "output_type": "display_data"
    }
   ],
   "source": [
    "%run RCD.py"
   ]
  },
  {
   "cell_type": "code",
   "execution_count": 5,
   "metadata": {
    "scrolled": true
   },
   "outputs": [
    {
     "name": "stdout",
     "output_type": "stream",
     "text": [
      "(0.0, 0, 21, 9, 0.0, 0.2857, 0, 0.0, 0.0, 0.0, 0.0)\n",
      "(0.0, 0, 21, 9, 0.0, 0.0255, 0, 0.0, 0.0, 0.0, 0.0)\n",
      "(0.0, 0, 21, 9, 0.0, 0.0701, 0, 0.0, 0.0, 0.0, 0.0)\n",
      "(0.0, 0, 21, 9, 0.0, 0.1065, 0, 0.0, 0.0, 0.0, 0.0)\n",
      "(0.0, 0, 21, 9, 0.0, 0.1017, 0, 0.0, 0.0, 0.0, 0.0)\n",
      "(0.0, 0, 21, 9, 0.0, 0.2142, 0, 0.0, 0.0, 0.0, 0.0)\n",
      "(0.0, 0, 21, 9, 0.0, 0.1892, 0, 0.0, 0.0, 0.0, 0.0)\n",
      "(0.0, 0, 21, 9, 0.0, 0.111, 0, 0.0, 0.0, 0.0, 0.0)\n",
      "(0.0, 0, 21, 9, 0.0, 0.0159, 0, 0.0, 0.0, 0.0, 0.0)\n",
      "(0.0, 0, 21, 9, 0.0, 0.1134, 0, 0.0, 0.0, 0.0, 0.0)\n",
      "(0.0, 0, 21, 9, 0.0, 0.0976, 0, 0.0, 0.0, 0.0, 0.0)\n",
      "(0.0, 0, 21, 9, 0.0, 0.0154, 0, 0.0, 0.0, 0.0, 0.0)\n",
      "(0.0, 0, 21, 9, 0.0001, 0.0189, 0, 0.0, 0.0, 0.0, 0.0)\n",
      "(0.0, 0, 21, 9, 0.0001, 0.0635, 0, 0.0, 0.0, 0.0, 0.0)\n",
      "(0.0, 0, 21, 9, 0.0001, 1.0, 0, 0.0, 0.0, 0.0, 0.0)\n",
      "(0.0, 0, 21, 9, 0.0001, 0.0404, 0, 0.0, 0.0, 0.0, 0.0)\n",
      "(0.0, 0, 21, 9, 0.0001, 0.0278, 0, 0.0, 0.0, 0.0, 0.0)\n",
      "(0.0, 0, 21, 9, 0.0001, 0.1839, 0, 0.0, 0.0, 0.0, 0.0)\n",
      "(0.0, 0, 21, 9, 0.0001, 0.0176, 0, 0.0, 0.0, 0.0, 0.0)\n",
      "(0.0, 0, 21, 9, 0.0001, 0.1108, 0, 0.0, 0.0, 0.0, 0.0)\n",
      "(0.0, 0, 21, 9, 0.0001, 0.0559, 0, 0.0, 0.0, 0.0, 0.0)\n",
      "(0.0, 0, 21, 9, 0.0001, 0.0154, 0, 0.0, 0.0, 0.0, 0.0)\n",
      "(0.0364, 0, 58, 9, 0.0003, 0.155, 0, 0.0, 0.0, 0.6, 0.0)\n",
      "(0.0603, 0, 58, 9, 0.0003, 0.145, 0, 0.0, 0.0, 0.6, 0.0)\n",
      "(0.0, 2, 12, 9, 0.0002, 0.0, 0, 0.0, 0.0, 0.0, 0.0)\n",
      "(0.0, 2, 12, 9, 0.0001, 0.0, 0, 0.0, 0.0, 0.0, 0.0)\n",
      "(0.0, 0, 47, 5, 0.0, 0.0, 0, 0.0, 0.0, 0.0, 0.0)\n",
      "(0.0008, 0, 17, 9, 0.0002, 0.0, 0, 0.0, 0.0, 0.0, 0.0)\n",
      "(1.0, 0, 17, 9, 0.9997, 0.0, 0, 0.0, 0.0, 0.6, 0.0)\n",
      "(0.9992, 0, 17, 9, 1.0, 0.0, 0, 0.0, 0.0, 1.0, 0.0)\n",
      "(0.9978, 0, 17, 9, 1.0, 0.0, 0, 0.0, 0.0, 0.2, 0.0)\n",
      "(0.9966, 0, 17, 9, 0.9992, 0.0, 0, 0.0, 0.0, 0.8, 0.0)\n",
      "(0.0, 0, 17, 9, 0.0, 0.0, 0, 0.0, 0.0, 0.0, 0.0)\n",
      "(0.0024, 0, 17, 9, 0.0014, 0.0, 0, 0.0, 0.0, 0.0, 0.0)\n",
      "(0.0, 0, 17, 9, 0.0001, 0.0, 0, 0.0, 0.0, 0.0, 0.0)\n",
      "(1, 0)\n",
      "(2, 0)\n",
      "(3, 0)\n",
      "(4, 0)\n",
      "(5, 0)\n",
      "(6, 0)\n",
      "(7, 0)\n",
      "(8, 0)\n",
      "(9, 0)\n",
      "(10, 0)\n",
      "(11, 0)\n",
      "(12, 0)\n",
      "(13, 0)\n",
      "(14, 0)\n",
      "(15, 0)\n",
      "(16, 0)\n",
      "(17, 0)\n",
      "(18, 0)\n",
      "(19, 0)\n",
      "(20, 0)\n",
      "(21, 0)\n",
      "(22, 0)\n",
      "(23, 1)\n",
      "(24, 1)\n",
      "(25, 5)\n",
      "(26, 5)\n",
      "(27, 4)\n",
      "(28, 20)\n",
      "(29, 20)\n",
      "(30, 20)\n",
      "(31, 20)\n",
      "(32, 20)\n",
      "(33, 20)\n",
      "(34, 20)\n",
      "(35, 20)\n"
     ]
    },
    {
     "data": {
      "image/png": "[encoded data removed]",
      "text/plain": [
       "<Figure size 432x288 with 1 Axes>"
      ]
     },
     "metadata": {
      "needs_background": "light"
     },
     "output_type": "display_data"
    },
    {
     "name": "stdout",
     "output_type": "stream",
     "text": [
      "Klist : [3, 6, 9, 12, 15, 18, 21, 24, 27, 30, 33]\n",
      "New instances is \n",
      " [(0.0, 0, 21, 9, 0.0, 0.2857, 0, 0.0, 0.0, 0.0, 0.0), (0.0, 0, 21, 9, 0.0, 0.0255, 0, 0.0, 0.0, 0.0, 0.0), (0.0, 0, 21, 9, 0.0, 0.0701, 0, 0.0, 0.0, 0.0, 0.0), (0.0, 0, 21, 9, 0.0, 0.1065, 0, 0.0, 0.0, 0.0, 0.0), (0.0, 0, 21, 9, 0.0, 0.1017, 0, 0.0, 0.0, 0.0, 0.0), (0.0, 0, 21, 9, 0.0, 0.2142, 0, 0.0, 0.0, 0.0, 0.0), (0.0, 0, 21, 9, 0.0, 0.1892, 0, 0.0, 0.0, 0.0, 0.0), (0.0, 0, 21, 9, 0.0, 0.111, 0, 0.0, 0.0, 0.0, 0.0), (0.0, 0, 21, 9, 0.0, 0.0159, 0, 0.0, 0.0, 0.0, 0.0), (0.0, 0, 21, 9, 0.0, 0.1134, 0, 0.0, 0.0, 0.0, 0.0), (0.0, 0, 21, 9, 0.0, 0.0976, 0, 0.0, 0.0, 0.0, 0.0), (0.0, 0, 21, 9, 0.0, 0.0154, 0, 0.0, 0.0, 0.0, 0.0), (0.0, 0, 21, 9, 0.0001, 0.0189, 0, 0.0, 0.0, 0.0, 0.0), (0.0, 0, 21, 9, 0.0001, 0.0635, 0, 0.0, 0.0, 0.0, 0.0), (0.0, 0, 21, 9, 0.0001, 1.0, 0, 0.0, 0.0, 0.0, 0.0), (0.0, 0, 21, 9, 0.0001, 0.0404, 0, 0.0, 0.0, 0.0, 0.0), (0.0, 0, 21, 9, 0.0001, 0.0278, 0, 0.0, 0.0, 0.0, 0.0), (0.0, 0, 21, 9, 0.0001, 0.1839, 0, 0.0, 0.0, 0.0, 0.0), (0.0, 0, 21, 9, 0.0001, 0.0176, 0, 0.0, 0.0, 0.0, 0.0), (0.0, 0, 21, 9, 0.0001, 0.1108, 0, 0.0, 0.0, 0.0, 0.0), (0.0, 0, 21, 9, 0.0001, 0.0559, 0, 0.0, 0.0, 0.0, 0.0), (0.0, 0, 21, 9, 0.0001, 0.0154, 0, 0.0, 0.0, 0.0, 0.0), (0.0364, 0, 58, 9, 0.0003, 0.155, 0, 0.0, 0.0, 0.6, 0.0), (0.0603, 0, 58, 9, 0.0003, 0.145, 0, 0.0, 0.0, 0.6, 0.0), (0.0, 2, 12, 9, 0.0002, 0.0, 0, 0.0, 0.0, 0.0, 0.0), (0.0, 2, 12, 9, 0.0001, 0.0, 0, 0.0, 0.0, 0.0, 0.0), (0.0, 0, 47, 5, 0.0, 0.0, 0, 0.0, 0.0, 0.0, 0.0), (0.0008, 0, 17, 9, 0.0002, 0.0, 0, 0.0, 0.0, 0.0, 0.0), (1.0, 0, 17, 9, 0.9997, 0.0, 0, 0.0, 0.0, 0.6, 0.0), (0.9992, 0, 17, 9, 1.0, 0.0, 0, 0.0, 0.0, 1.0, 0.0), (0.9978, 0, 17, 9, 1.0, 0.0, 0, 0.0, 0.0, 0.2, 0.0), (0.9966, 0, 17, 9, 0.9992, 0.0, 0, 0.0, 0.0, 0.8, 0.0), (0.0, 0, 17, 9, 0.0, 0.0, 0, 0.0, 0.0, 0.0, 0.0), (0.0024, 0, 17, 9, 0.0014, 0.0, 0, 0.0, 0.0, 0.0, 0.0), (0.0, 0, 17, 9, 0.0001, 0.0, 0, 0.0, 0.0, 0.0, 0.0)]\n",
      "kList is [3, 6, 9, 12, 15, 18, 21, 24, 27, 30, 33]\n",
      "Kinf:\n",
      " [30, 21, 3, 6, 6, 3, 3, 6, 3, 6, 6, 3, 21, 3, 30, 21, 21, 3, 21, 6, 3, 3, 30, 30, 30, 30, 33, 3, 3, 3, 3, 3, 3, 21, 3]\n",
      "pre_c1:\n",
      " [0.9195550623930638, 1.300282559899071, 2.071318164061347, 2.445869485979217, 2.445869485979218, 2.2531771946953327, 6.918518826807975, 2.4887293279635543, 2.7087367679841536, 2.5115879103552, 2.445869485979218, 2.7094776334409816, 1.3002825598990713, 1.5910714758767543, 0.919555062393064, 1.300282559899071, 1.300282559899071, 6.793629009880843, 1.3002825598990708, 2.4868256161706737, 1.4555093321921873, 2.7087367679841536, 0.9178707904732041, 0.9178707904732042, 0.9195550623930638, 0.9195550618596043, 0.9889160814833202, 0.0921120731095308, 0.8240921669940434, 0.8240921669940435, 0.5150706505074774, 0.8240921669940435, 0.09211207310953082, 1.300263821666434, 0.09211207310953082]\n",
      "LOF points 0 3 1.086958001234948\n",
      "LOF points 1 3 1.417740283178241\n",
      "LOF points 3 15 1.0037102594390128\n",
      "LOF points 5 6 1.6832728987896897\n",
      "LOF points 6 6 1.564251993629676\n",
      "LOF points 7 15 1.0066541229857533\n",
      "LOF points 9 15 1.017035166936379\n",
      "LOF points 12 3 1.0312661214611325\n",
      "LOF points 13 6 1.3157253830807305\n",
      "LOF points 14 3 6.2251238904478825\n",
      "LOF points 15 3 1.424314192105142\n",
      "LOF points 16 3 1.5652292067996567\n",
      "LOF points 17 6 1.5131916739425915\n",
      "LOF points 19 15 1.0059017148974956\n",
      "LOF points 20 6 1.5429755625406105\n",
      "LOF points 22 3 5.280651953607568\n",
      "LOF points 23 3 64.69882413636984\n",
      "LOF points 24 3 133.77411825458088\n",
      "LOF points 25 3 133.77411803422746\n",
      "LOF points 26 3 376.66284512216635\n",
      "LOF points 27 6 3.3465300420000776\n",
      "LOF points 28 6 6.5412468752245045\n",
      "LOF points 29 6 1.2180937160345415\n",
      "LOF points 30 6 6.3882712007029765\n",
      "LOF points 31 6 6.661883996249511\n",
      "LOF points 32 6 3.346482844783677\n",
      "LOF points 33 6 3.3470247774413875\n",
      "LOF points 34 6 3.346482844783677\n",
      "Ur is \n",
      " [(0.0, 0, 21, 9, 0.0, 0.2857, 0, 0.0, 0.0, 0.0, 0.0), (0.0, 0, 21, 9, 0.0, 0.0255, 0, 0.0, 0.0, 0.0, 0.0), (0.0, 0, 21, 9, 0.0, 0.1065, 0, 0.0, 0.0, 0.0, 0.0), (0.0, 0, 21, 9, 0.0, 0.2142, 0, 0.0, 0.0, 0.0, 0.0), (0.0, 0, 21, 9, 0.0, 0.1892, 0, 0.0, 0.0, 0.0, 0.0), (0.0, 0, 21, 9, 0.0, 0.111, 0, 0.0, 0.0, 0.0, 0.0), (0.0, 0, 21, 9, 0.0, 0.1134, 0, 0.0, 0.0, 0.0, 0.0), (0.0, 0, 21, 9, 0.0001, 0.0189, 0, 0.0, 0.0, 0.0, 0.0), (0.0, 0, 21, 9, 0.0001, 0.0635, 0, 0.0, 0.0, 0.0, 0.0), (0.0, 0, 21, 9, 0.0001, 1.0, 0, 0.0, 0.0, 0.0, 0.0), (0.0, 0, 21, 9, 0.0001, 0.0404, 0, 0.0, 0.0, 0.0, 0.0), (0.0, 0, 21, 9, 0.0001, 0.0278, 0, 0.0, 0.0, 0.0, 0.0), (0.0, 0, 21, 9, 0.0001, 0.1839, 0, 0.0, 0.0, 0.0, 0.0), (0.0, 0, 21, 9, 0.0001, 0.1108, 0, 0.0, 0.0, 0.0, 0.0), (0.0, 0, 21, 9, 0.0001, 0.0559, 0, 0.0, 0.0, 0.0, 0.0), (0.0364, 0, 58, 9, 0.0003, 0.155, 0, 0.0, 0.0, 0.6, 0.0), (0.0603, 0, 58, 9, 0.0003, 0.145, 0, 0.0, 0.0, 0.6, 0.0), (0.0, 2, 12, 9, 0.0002, 0.0, 0, 0.0, 0.0, 0.0, 0.0), (0.0, 2, 12, 9, 0.0001, 0.0, 0, 0.0, 0.0, 0.0, 0.0), (0.0, 0, 47, 5, 0.0, 0.0, 0, 0.0, 0.0, 0.0, 0.0), (0.0008, 0, 17, 9, 0.0002, 0.0, 0, 0.0, 0.0, 0.0, 0.0), (1.0, 0, 17, 9, 0.9997, 0.0, 0, 0.0, 0.0, 0.6, 0.0), (0.9992, 0, 17, 9, 1.0, 0.0, 0, 0.0, 0.0, 1.0, 0.0), (0.9978, 0, 17, 9, 1.0, 0.0, 0, 0.0, 0.0, 0.2, 0.0), (0.9966, 0, 17, 9, 0.9992, 0.0, 0, 0.0, 0.0, 0.8, 0.0), (0.0, 0, 17, 9, 0.0, 0.0, 0, 0.0, 0.0, 0.0, 0.0), (0.0024, 0, 17, 9, 0.0014, 0.0, 0, 0.0, 0.0, 0.0, 0.0), (0.0, 0, 17, 9, 0.0001, 0.0, 0, 0.0, 0.0, 0.0, 0.0)]\n",
      "center is  (0.0, 0, 21, 9, 0.0, 0.2857, 0, 0.0, 0.0, 0.0, 0.0) 30\n"
     ]
    },
    {
     "data": {
      "image/png": "[encoded data removed]",
      "text/plain": [
       "<Figure size 432x288 with 1 Axes>"
      ]
     },
     "metadata": {
      "needs_background": "light"
     },
     "output_type": "display_data"
    },
    {
     "name": "stdout",
     "output_type": "stream",
     "text": [
      "New instances is \n",
      " [(0.0364, 0, 58, 9, 0.0003, 0.155, 0, 0.0, 0.0, 0.6, 0.0), (0.0603, 0, 58, 9, 0.0003, 0.145, 0, 0.0, 0.0, 0.6, 0.0), (0.0, 0, 47, 5, 0.0, 0.0, 0, 0.0, 0.0, 0.0, 0.0)]\n",
      "kList is [3, 6, 9, 12, 15, 18, 21, 24, 27, 30, 32, 33]\n",
      "Kinf:\n",
      " [3, 3, 3]\n",
      "pre_c1:\n",
      " [1.0, 1.0, 1.0]\n",
      "LOF points 0 3 1.0001122835219742\n",
      "LOF points 1 3 1.0001122835219742\n",
      "LOF points 2 3 1.0001122835219742\n",
      "Ur is \n",
      " [(0.0364, 0, 58, 9, 0.0003, 0.155, 0, 0.0, 0.0, 0.6, 0.0), (0.0603, 0, 58, 9, 0.0003, 0.145, 0, 0.0, 0.0, 0.6, 0.0), (0.0, 0, 47, 5, 0.0, 0.0, 0, 0.0, 0.0, 0.0, 0.0)]\n",
      "center is  (0.0364, 0, 58, 9, 0.0003, 0.155, 0, 0.0, 0.0, 0.6, 0.0) 3\n"
     ]
    },
    {
     "data": {
      "image/png": "[encoded data removed]",
      "text/plain": [
       "<Figure size 432x288 with 1 Axes>"
      ]
     },
     "metadata": {
      "needs_background": "light"
     },
     "output_type": "display_data"
    },
    {
     "name": "stdout",
     "output_type": "stream",
     "text": [
      "group 0 is \n",
      " [(0.0, 0, 21, 9, 0.0, 0.2857, 0, 0.0, 0.0, 0.0, 0.0), (0.0, 0, 21, 9, 0.0, 0.2142, 0, 0.0, 0.0, 0.0, 0.0), (0.0, 0, 21, 9, 0.0, 0.1892, 0, 0.0, 0.0, 0.0, 0.0), (0.0, 0, 21, 9, 0.0001, 0.1839, 0, 0.0, 0.0, 0.0, 0.0), (0.0, 0, 21, 9, 0.0, 0.1134, 0, 0.0, 0.0, 0.0, 0.0), (0.0, 0, 21, 9, 0.0, 0.111, 0, 0.0, 0.0, 0.0, 0.0), (0.0, 0, 21, 9, 0.0001, 0.1108, 0, 0.0, 0.0, 0.0, 0.0), (0.0, 0, 21, 9, 0.0, 0.1065, 0, 0.0, 0.0, 0.0, 0.0), (0.0, 0, 21, 9, 0.0, 0.1017, 0, 0.0, 0.0, 0.0, 0.0), (0.0, 0, 21, 9, 0.0, 0.0976, 0, 0.0, 0.0, 0.0, 0.0), (0.0, 0, 21, 9, 0.0, 0.0701, 0, 0.0, 0.0, 0.0, 0.0), (0.0, 0, 21, 9, 0.0001, 0.0635, 0, 0.0, 0.0, 0.0, 0.0), (0.0, 0, 21, 9, 0.0001, 0.0559, 0, 0.0, 0.0, 0.0, 0.0), (0.0, 0, 21, 9, 0.0001, 0.0404, 0, 0.0, 0.0, 0.0, 0.0), (0.0, 0, 21, 9, 0.0001, 0.0278, 0, 0.0, 0.0, 0.0, 0.0), (0.0, 0, 21, 9, 0.0, 0.0255, 0, 0.0, 0.0, 0.0, 0.0), (0.0, 0, 21, 9, 0.0001, 0.0189, 0, 0.0, 0.0, 0.0, 0.0), (0.0, 0, 21, 9, 0.0001, 0.0176, 0, 0.0, 0.0, 0.0, 0.0), (0.0, 0, 21, 9, 0.0, 0.0159, 0, 0.0, 0.0, 0.0, 0.0), (0.0, 0, 21, 9, 0.0, 0.0154, 0, 0.0, 0.0, 0.0, 0.0), (0.0, 0, 21, 9, 0.0001, 0.0154, 0, 0.0, 0.0, 0.0, 0.0), (0.0, 0, 21, 9, 0.0001, 1.0, 0, 0.0, 0.0, 0.0, 0.0), (0.0, 0, 17, 9, 0.0, 0.0, 0, 0.0, 0.0, 0.0, 0.0), (0.0, 0, 17, 9, 0.0001, 0.0, 0, 0.0, 0.0, 0.0, 0.0), (0.0008, 0, 17, 9, 0.0002, 0.0, 0, 0.0, 0.0, 0.0, 0.0), (0.0024, 0, 17, 9, 0.0014, 0.0, 0, 0.0, 0.0, 0.0, 0.0), (0.9978, 0, 17, 9, 1.0, 0.0, 0, 0.0, 0.0, 0.2, 0.0), (1.0, 0, 17, 9, 0.9997, 0.0, 0, 0.0, 0.0, 0.6, 0.0), (0.9966, 0, 17, 9, 0.9992, 0.0, 0, 0.0, 0.0, 0.8, 0.0), (0.9992, 0, 17, 9, 1.0, 0.0, 0, 0.0, 0.0, 1.0, 0.0), (0.0, 2, 12, 9, 0.0001, 0.0, 0, 0.0, 0.0, 0.0, 0.0), (0.0, 2, 12, 9, 0.0002, 0.0, 0, 0.0, 0.0, 0.0, 0.0)]\n",
      "group 0 label is \n",
      " [(1, 0), (6, 0), (7, 0), (18, 0), (10, 0), (8, 0), (20, 0), (4, 0), (5, 0), (11, 0), (3, 0), (14, 0), (21, 0), (16, 0), (17, 0), (2, 0), (13, 0), (19, 0), (9, 0), (12, 0), (22, 0), (15, 0), (33, 20), (35, 20), (28, 20), (34, 20), (31, 20), (29, 20), (32, 20), (30, 20), (26, 5), (25, 5)]\n",
      "group 1 is \n",
      " [(0.0364, 0, 58, 9, 0.0003, 0.155, 0, 0.0, 0.0, 0.6, 0.0), (0.0603, 0, 58, 9, 0.0003, 0.145, 0, 0.0, 0.0, 0.6, 0.0), (0.0, 0, 47, 5, 0.0, 0.0, 0, 0.0, 0.0, 0.0, 0.0)]\n",
      "group 1 label is \n",
      " [(23, 1), (24, 1), (27, 4)]\n"
     ]
    },
    {
     "data": {
      "image/png": "[encoded data removed]",
      "text/plain": [
       "<Figure size 432x288 with 1 Axes>"
      ]
     },
     "metadata": {
      "needs_background": "light"
     },
     "output_type": "display_data"
    }
   ],
   "source": [
    "%run RCD.py"
   ]
  },
  {
   "cell_type": "code",
   "execution_count": 6,
   "metadata": {
    "scrolled": true
   },
   "outputs": [
    {
     "name": "stdout",
     "output_type": "stream",
     "text": [
      "(0.0, 0, 21, 9, 0.0, 0.2857, 0, 0.0, 0.0, 0.0, 0.0)\n",
      "(0.0, 0, 21, 9, 0.0, 0.0255, 0, 0.0, 0.0, 0.0, 0.0)\n",
      "(0.0, 0, 21, 9, 0.0, 0.0701, 0, 0.0, 0.0, 0.0, 0.0)\n",
      "(0.0, 0, 21, 9, 0.0, 0.1065, 0, 0.0, 0.0, 0.0, 0.0)\n",
      "(0.0, 0, 21, 9, 0.0, 0.1017, 0, 0.0, 0.0, 0.0, 0.0)\n",
      "(0.0, 0, 21, 9, 0.0, 0.2142, 0, 0.0, 0.0, 0.0, 0.0)\n",
      "(0.0, 0, 21, 9, 0.0, 0.1892, 0, 0.0, 0.0, 0.0, 0.0)\n",
      "(0.0, 0, 21, 9, 0.0, 0.111, 0, 0.0, 0.0, 0.0, 0.0)\n",
      "(0.0, 0, 21, 9, 0.0, 0.0159, 0, 0.0, 0.0, 0.0, 0.0)\n",
      "(0.0, 0, 21, 9, 0.0, 0.1134, 0, 0.0, 0.0, 0.0, 0.0)\n",
      "(0.0, 0, 21, 9, 0.0, 0.0976, 0, 0.0, 0.0, 0.0, 0.0)\n",
      "(0.0, 0, 21, 9, 0.0, 0.0154, 0, 0.0, 0.0, 0.0, 0.0)\n",
      "(0.0, 0, 21, 9, 0.0001, 0.0189, 0, 0.0, 0.0, 0.0, 0.0)\n",
      "(0.0, 0, 21, 9, 0.0001, 0.0635, 0, 0.0, 0.0, 0.0, 0.0)\n",
      "(0.0, 0, 21, 9, 0.0001, 1.0, 0, 0.0, 0.0, 0.0, 0.0)\n",
      "(0.0, 0, 21, 9, 0.0001, 0.0404, 0, 0.0, 0.0, 0.0, 0.0)\n",
      "(0.0, 0, 21, 9, 0.0001, 0.0278, 0, 0.0, 0.0, 0.0, 0.0)\n",
      "(0.0, 0, 21, 9, 0.0001, 0.1839, 0, 0.0, 0.0, 0.0, 0.0)\n",
      "(0.0, 0, 21, 9, 0.0001, 0.0176, 0, 0.0, 0.0, 0.0, 0.0)\n",
      "(0.0, 0, 21, 9, 0.0001, 0.1108, 0, 0.0, 0.0, 0.0, 0.0)\n",
      "(0.0, 0, 21, 9, 0.0001, 0.0559, 0, 0.0, 0.0, 0.0, 0.0)\n",
      "(0.0, 0, 21, 9, 0.0001, 0.0154, 0, 0.0, 0.0, 0.0, 0.0)\n",
      "(0.0364, 0, 58, 9, 0.0003, 0.155, 0, 0.0, 0.0, 0.6, 0.0)\n",
      "(0.0603, 0, 58, 9, 0.0003, 0.145, 0, 0.0, 0.0, 0.6, 0.0)\n",
      "(0.0, 2, 12, 9, 0.0002, 0.0, 0, 0.0, 0.0, 0.0, 0.0)\n",
      "(0.0, 2, 12, 9, 0.0001, 0.0, 0, 0.0, 0.0, 0.0, 0.0)\n",
      "(0.0, 0, 47, 5, 0.0, 0.0, 0, 0.0, 0.0, 0.0, 0.0)\n",
      "(0.0008, 0, 17, 9, 0.0002, 0.0, 0, 0.0, 0.0, 0.0, 0.0)\n",
      "(1.0, 0, 17, 9, 0.9997, 0.0, 0, 0.0, 0.0, 0.6, 0.0)\n",
      "(0.9992, 0, 17, 9, 1.0, 0.0, 0, 0.0, 0.0, 1.0, 0.0)\n",
      "(0.9978, 0, 17, 9, 1.0, 0.0, 0, 0.0, 0.0, 0.2, 0.0)\n",
      "(0.9966, 0, 17, 9, 0.9992, 0.0, 0, 0.0, 0.0, 0.8, 0.0)\n",
      "(0.0, 0, 17, 9, 0.0, 0.0, 0, 0.0, 0.0, 0.0, 0.0)\n",
      "(0.0024, 0, 17, 9, 0.0014, 0.0, 0, 0.0, 0.0, 0.0, 0.0)\n",
      "(0.0, 0, 17, 9, 0.0001, 0.0, 0, 0.0, 0.0, 0.0, 0.0)\n",
      "(1, 0)\n",
      "(2, 0)\n",
      "(3, 0)\n",
      "(4, 0)\n",
      "(5, 0)\n",
      "(6, 0)\n",
      "(7, 0)\n",
      "(8, 0)\n",
      "(9, 0)\n",
      "(10, 0)\n",
      "(11, 0)\n",
      "(12, 0)\n",
      "(13, 0)\n",
      "(14, 0)\n",
      "(15, 0)\n",
      "(16, 0)\n",
      "(17, 0)\n",
      "(18, 0)\n",
      "(19, 0)\n",
      "(20, 0)\n",
      "(21, 0)\n",
      "(22, 0)\n",
      "(23, 1)\n",
      "(24, 1)\n",
      "(25, 5)\n",
      "(26, 5)\n",
      "(27, 4)\n",
      "(28, 20)\n",
      "(29, 20)\n",
      "(30, 20)\n",
      "(31, 20)\n",
      "(32, 20)\n",
      "(33, 20)\n",
      "(34, 20)\n",
      "(35, 20)\n"
     ]
    },
    {
     "data": {
      "image/png": "[encoded data removed]",
      "text/plain": [
       "<Figure size 432x288 with 1 Axes>"
      ]
     },
     "metadata": {
      "needs_background": "light"
     },
     "output_type": "display_data"
    },
    {
     "name": "stdout",
     "output_type": "stream",
     "text": [
      "Klist : [2, 4, 6, 8, 10, 12, 14, 16, 18, 20, 22, 24, 26, 28, 30, 32, 34]\n",
      "New instances is \n",
      " [(0.0, 0, 21, 9, 0.0, 0.2857, 0, 0.0, 0.0, 0.0, 0.0), (0.0, 0, 21, 9, 0.0, 0.0255, 0, 0.0, 0.0, 0.0, 0.0), (0.0, 0, 21, 9, 0.0, 0.0701, 0, 0.0, 0.0, 0.0, 0.0), (0.0, 0, 21, 9, 0.0, 0.1065, 0, 0.0, 0.0, 0.0, 0.0), (0.0, 0, 21, 9, 0.0, 0.1017, 0, 0.0, 0.0, 0.0, 0.0), (0.0, 0, 21, 9, 0.0, 0.2142, 0, 0.0, 0.0, 0.0, 0.0), (0.0, 0, 21, 9, 0.0, 0.1892, 0, 0.0, 0.0, 0.0, 0.0), (0.0, 0, 21, 9, 0.0, 0.111, 0, 0.0, 0.0, 0.0, 0.0), (0.0, 0, 21, 9, 0.0, 0.0159, 0, 0.0, 0.0, 0.0, 0.0), (0.0, 0, 21, 9, 0.0, 0.1134, 0, 0.0, 0.0, 0.0, 0.0), (0.0, 0, 21, 9, 0.0, 0.0976, 0, 0.0, 0.0, 0.0, 0.0), (0.0, 0, 21, 9, 0.0, 0.0154, 0, 0.0, 0.0, 0.0, 0.0), (0.0, 0, 21, 9, 0.0001, 0.0189, 0, 0.0, 0.0, 0.0, 0.0), (0.0, 0, 21, 9, 0.0001, 0.0635, 0, 0.0, 0.0, 0.0, 0.0), (0.0, 0, 21, 9, 0.0001, 1.0, 0, 0.0, 0.0, 0.0, 0.0), (0.0, 0, 21, 9, 0.0001, 0.0404, 0, 0.0, 0.0, 0.0, 0.0), (0.0, 0, 21, 9, 0.0001, 0.0278, 0, 0.0, 0.0, 0.0, 0.0), (0.0, 0, 21, 9, 0.0001, 0.1839, 0, 0.0, 0.0, 0.0, 0.0), (0.0, 0, 21, 9, 0.0001, 0.0176, 0, 0.0, 0.0, 0.0, 0.0), (0.0, 0, 21, 9, 0.0001, 0.1108, 0, 0.0, 0.0, 0.0, 0.0), (0.0, 0, 21, 9, 0.0001, 0.0559, 0, 0.0, 0.0, 0.0, 0.0), (0.0, 0, 21, 9, 0.0001, 0.0154, 0, 0.0, 0.0, 0.0, 0.0), (0.0364, 0, 58, 9, 0.0003, 0.155, 0, 0.0, 0.0, 0.6, 0.0), (0.0603, 0, 58, 9, 0.0003, 0.145, 0, 0.0, 0.0, 0.6, 0.0), (0.0, 2, 12, 9, 0.0002, 0.0, 0, 0.0, 0.0, 0.0, 0.0), (0.0, 2, 12, 9, 0.0001, 0.0, 0, 0.0, 0.0, 0.0, 0.0), (0.0, 0, 47, 5, 0.0, 0.0, 0, 0.0, 0.0, 0.0, 0.0), (0.0008, 0, 17, 9, 0.0002, 0.0, 0, 0.0, 0.0, 0.0, 0.0), (1.0, 0, 17, 9, 0.9997, 0.0, 0, 0.0, 0.0, 0.6, 0.0), (0.9992, 0, 17, 9, 1.0, 0.0, 0, 0.0, 0.0, 1.0, 0.0), (0.9978, 0, 17, 9, 1.0, 0.0, 0, 0.0, 0.0, 0.2, 0.0), (0.9966, 0, 17, 9, 0.9992, 0.0, 0, 0.0, 0.0, 0.8, 0.0), (0.0, 0, 17, 9, 0.0, 0.0, 0, 0.0, 0.0, 0.0, 0.0), (0.0024, 0, 17, 9, 0.0014, 0.0, 0, 0.0, 0.0, 0.0, 0.0), (0.0, 0, 17, 9, 0.0001, 0.0, 0, 0.0, 0.0, 0.0, 0.0)]\n",
      "kList is [2, 4, 6, 8, 10, 12, 14, 16, 18, 20, 22, 24, 26, 28, 30, 32, 34]\n",
      "Kinf:\n",
      " [30, 2, 2, 6, 6, 24, 2, 2, 8, 6, 6, 2, 2, 2, 30, 8, 2, 2, 2, 2, 2, 2, 2, 2, 2, 2, 32, 4, 4, 4, 4, 4, 4, 4, 4]\n",
      "pre_c1:\n",
      " [0.9195550623930638, 4.7728927094893905, 1.0176431605342258, 2.445869485979217, 2.445869485979218, 0.3329593714456158, 2.0565087409345524, 5.432507928676841, 1.4157004320634758, 2.5115879103552, 2.445869485979218, 1.2314358678923436, 1.866038302663363, 1.0176431605342258, 0.919555062393064, 1.2430988744428657, 5.269421457833202, 2.0565087409345524, 1.5515573596190777, 5.432507928676841, 0.8838441785622729, 1.2314358678923436, 204.87977963512054, 2510.197783941273, 1345620.5164798554, 1345620.5142633421, 1.0191275460351148, 95.944126875521, 10.432060964329548, 2.717136943709215, 10.285667789114779, 10.547501859822288, 95.9433273036127, 95.95248963107512, 95.9433273036127]\n",
      "LOF points 0 2 1.7185389387016516\n",
      "LOF points 1 4 1.698460357939777\n",
      "LOF points 2 4 1.1281227316624385\n",
      "LOF points 3 2 1.3486058321882173\n",
      "LOF points 5 6 1.6832728987896897\n",
      "LOF points 6 4 2.608439217739145\n",
      "LOF points 7 10 1.0196610347707122\n",
      "LOF points 9 10 1.008644630846541\n",
      "LOF points 10 4 1.1147252652758033\n",
      "LOF points 13 6 1.3157253830807305\n",
      "LOF points 14 2 4.727954011825767\n",
      "LOF points 15 2 1.2710397260082884\n",
      "LOF points 16 4 1.9380330986619945\n",
      "LOF points 17 4 2.5613529114756277\n",
      "LOF points 19 10 1.0186602696896727\n",
      "LOF points 20 6 1.5429755625406105\n",
      "LOF points 22 4 6.6836928506685265\n",
      "LOF points 23 4 54.85397275252263\n",
      "LOF points 24 4 6.1945040620387815\n",
      "LOF points 25 4 6.194504031427922\n",
      "LOF points 26 2 1126.976748467177\n",
      "LOF points 27 6 3.3465300420000776\n",
      "LOF points 28 6 6.5412468752245045\n",
      "LOF points 29 6 1.2180937160345415\n",
      "LOF points 30 2 1.066646125708501\n",
      "LOF points 31 6 6.661883996249511\n",
      "LOF points 32 6 3.346482844783677\n",
      "LOF points 33 2 1.6492371574284679\n",
      "LOF points 34 6 3.346482844783677\n",
      "Ur is \n",
      " [(0.0, 0, 21, 9, 0.0, 0.2857, 0, 0.0, 0.0, 0.0, 0.0), (0.0, 0, 21, 9, 0.0, 0.0255, 0, 0.0, 0.0, 0.0, 0.0), (0.0, 0, 21, 9, 0.0, 0.0701, 0, 0.0, 0.0, 0.0, 0.0), (0.0, 0, 21, 9, 0.0, 0.1065, 0, 0.0, 0.0, 0.0, 0.0), (0.0, 0, 21, 9, 0.0, 0.2142, 0, 0.0, 0.0, 0.0, 0.0), (0.0, 0, 21, 9, 0.0, 0.1892, 0, 0.0, 0.0, 0.0, 0.0), (0.0, 0, 21, 9, 0.0, 0.111, 0, 0.0, 0.0, 0.0, 0.0), (0.0, 0, 21, 9, 0.0, 0.1134, 0, 0.0, 0.0, 0.0, 0.0), (0.0, 0, 21, 9, 0.0, 0.0976, 0, 0.0, 0.0, 0.0, 0.0), (0.0, 0, 21, 9, 0.0001, 0.0635, 0, 0.0, 0.0, 0.0, 0.0), (0.0, 0, 21, 9, 0.0001, 1.0, 0, 0.0, 0.0, 0.0, 0.0), (0.0, 0, 21, 9, 0.0001, 0.0404, 0, 0.0, 0.0, 0.0, 0.0), (0.0, 0, 21, 9, 0.0001, 0.0278, 0, 0.0, 0.0, 0.0, 0.0), (0.0, 0, 21, 9, 0.0001, 0.1839, 0, 0.0, 0.0, 0.0, 0.0), (0.0, 0, 21, 9, 0.0001, 0.1108, 0, 0.0, 0.0, 0.0, 0.0), (0.0, 0, 21, 9, 0.0001, 0.0559, 0, 0.0, 0.0, 0.0, 0.0), (0.0364, 0, 58, 9, 0.0003, 0.155, 0, 0.0, 0.0, 0.6, 0.0), (0.0603, 0, 58, 9, 0.0003, 0.145, 0, 0.0, 0.0, 0.6, 0.0), (0.0, 2, 12, 9, 0.0002, 0.0, 0, 0.0, 0.0, 0.0, 0.0), (0.0, 2, 12, 9, 0.0001, 0.0, 0, 0.0, 0.0, 0.0, 0.0), (0.0, 0, 47, 5, 0.0, 0.0, 0, 0.0, 0.0, 0.0, 0.0), (0.0008, 0, 17, 9, 0.0002, 0.0, 0, 0.0, 0.0, 0.0, 0.0), (1.0, 0, 17, 9, 0.9997, 0.0, 0, 0.0, 0.0, 0.6, 0.0), (0.9992, 0, 17, 9, 1.0, 0.0, 0, 0.0, 0.0, 1.0, 0.0), (0.9978, 0, 17, 9, 1.0, 0.0, 0, 0.0, 0.0, 0.2, 0.0), (0.9966, 0, 17, 9, 0.9992, 0.0, 0, 0.0, 0.0, 0.8, 0.0), (0.0, 0, 17, 9, 0.0, 0.0, 0, 0.0, 0.0, 0.0, 0.0), (0.0024, 0, 17, 9, 0.0014, 0.0, 0, 0.0, 0.0, 0.0, 0.0), (0.0, 0, 17, 9, 0.0001, 0.0, 0, 0.0, 0.0, 0.0, 0.0)]\n",
      "center is  (0.0, 2, 12, 9, 0.0002, 0.0, 0, 0.0, 0.0, 0.0, 0.0) 2\n"
     ]
    },
    {
     "data": {
      "image/png": "[encoded data removed]",
      "text/plain": [
       "<Figure size 432x288 with 1 Axes>"
      ]
     },
     "metadata": {
      "needs_background": "light"
     },
     "output_type": "display_data"
    },
    {
     "name": "stdout",
     "output_type": "stream",
     "text": [
      "New instances is \n",
      " [(0.9966, 0, 17, 9, 0.9992, 0.0, 0, 0.0, 0.0, 0.8, 0.0), (0.0, 0, 21, 9, 0.0, 0.1892, 0, 0.0, 0.0, 0.0, 0.0), (0.0, 0, 47, 5, 0.0, 0.0, 0, 0.0, 0.0, 0.0, 0.0), (0.0364, 0, 58, 9, 0.0003, 0.155, 0, 0.0, 0.0, 0.6, 0.0), (0.0, 0, 21, 9, 0.0001, 0.0635, 0, 0.0, 0.0, 0.0, 0.0), (0.0, 0, 21, 9, 0.0, 0.1017, 0, 0.0, 0.0, 0.0, 0.0), (0.0, 0, 21, 9, 0.0001, 0.1839, 0, 0.0, 0.0, 0.0, 0.0), (0.0, 0, 21, 9, 0.0001, 0.0154, 0, 0.0, 0.0, 0.0, 0.0), (0.0603, 0, 58, 9, 0.0003, 0.145, 0, 0.0, 0.0, 0.6, 0.0), (0.9978, 0, 17, 9, 1.0, 0.0, 0, 0.0, 0.0, 0.2, 0.0), (0.0, 0, 21, 9, 0.0001, 0.0278, 0, 0.0, 0.0, 0.0, 0.0), (0.0, 0, 21, 9, 0.0001, 0.1108, 0, 0.0, 0.0, 0.0, 0.0), (0.0, 0, 21, 9, 0.0001, 0.0559, 0, 0.0, 0.0, 0.0, 0.0), (0.0, 0, 21, 9, 0.0001, 0.0176, 0, 0.0, 0.0, 0.0, 0.0), (0.0, 0, 21, 9, 0.0, 0.1065, 0, 0.0, 0.0, 0.0, 0.0), (0.0024, 0, 17, 9, 0.0014, 0.0, 0, 0.0, 0.0, 0.0, 0.0), (0.9992, 0, 17, 9, 1.0, 0.0, 0, 0.0, 0.0, 1.0, 0.0), (0.0, 0, 21, 9, 0.0, 0.2142, 0, 0.0, 0.0, 0.0, 0.0), (0.0, 0, 21, 9, 0.0, 0.111, 0, 0.0, 0.0, 0.0, 0.0), (0.0, 0, 21, 9, 0.0001, 1.0, 0, 0.0, 0.0, 0.0, 0.0), (0.0, 0, 21, 9, 0.0, 0.0976, 0, 0.0, 0.0, 0.0, 0.0), (0.0, 0, 21, 9, 0.0001, 0.0404, 0, 0.0, 0.0, 0.0, 0.0), (0.0, 0, 21, 9, 0.0, 0.2857, 0, 0.0, 0.0, 0.0, 0.0), (0.0, 0, 21, 9, 0.0, 0.0255, 0, 0.0, 0.0, 0.0, 0.0), (0.0, 0, 21, 9, 0.0, 0.0154, 0, 0.0, 0.0, 0.0, 0.0), (0.0, 0, 21, 9, 0.0001, 0.0189, 0, 0.0, 0.0, 0.0, 0.0), (0.0, 0, 21, 9, 0.0, 0.1134, 0, 0.0, 0.0, 0.0, 0.0), (0.0, 0, 21, 9, 0.0, 0.0701, 0, 0.0, 0.0, 0.0, 0.0), (1.0, 0, 17, 9, 0.9997, 0.0, 0, 0.0, 0.0, 0.6, 0.0), (0.0, 0, 21, 9, 0.0, 0.0159, 0, 0.0, 0.0, 0.0, 0.0)]\n",
      "kList is [2, 4, 5, 6, 8, 10, 12, 14, 16, 18, 20, 22, 24, 26, 28, 30, 32, 34]\n",
      "Kinf:\n",
      " [4, 2, 26, 2, 22, 22, 2, 2, 2, 4, 22, 2, 22, 22, 22, 22, 4, 22, 2, 26, 22, 22, 22, 22, 2, 22, 22, 22, 4, 22]\n",
      "pre_c1:\n",
      " [9.713877553087457, 2.0565087409345524, 1.1390646159871254, 236.61152308741208, 3.2785234850353477, 3.2785234850353486, 2.0565087409345524, 1.2314358678923436, 2923.8329158093034, 9.473933535668937, 3.278523485035349, 5.432507928676841, 3.2785234850353486, 3.2785234850353486, 3.278523485035349, 3.2785234850353486, 9.848073592928577, 3.2785234850353504, 5.432507928676841, 1.134993783979331, 3.2785234850353486, 3.2785234850353486, 3.2785234850353504, 3.278523485035349, 1.2314358678923436, 3.2785234850353486, 3.2785234850353486, 3.278523485035349, 9.608087836095804, 3.2785234850353486]\n",
      "LOF points 0 5 4.004511284642163\n",
      "LOF points 1 4 2.608439217739145\n",
      "LOF points 2 2 1161.723965672096\n",
      "LOF points 3 4 7.176624037951019\n",
      "LOF points 4 5 1.3508085841402284\n",
      "LOF points 5 30 1.0000054670381264\n",
      "LOF points 6 4 2.5613529114756277\n",
      "LOF points 7 30 1.0000054670381264\n",
      "LOF points 8 4 59.18147788012029\n",
      "LOF points 9 2 1.066646125708501\n",
      "LOF points 10 4 1.9380330986619945\n",
      "LOF points 11 10 1.0186602696896727\n",
      "LOF points 12 5 1.3617177136178444\n",
      "LOF points 13 30 1.0000054670381264\n",
      "LOF points 14 2 1.3486058321882173\n",
      "LOF points 15 2 98.337860157564\n",
      "LOF points 16 5 4.0598331221845\n",
      "LOF points 17 5 2.547272335288703\n",
      "LOF points 18 10 1.0196610347707122\n",
      "LOF points 19 2 4.727954011825767\n",
      "LOF points 20 4 1.1147252652758033\n",
      "LOF points 21 2 1.2710397260082884\n",
      "LOF points 22 2 1.7185389387016516\n",
      "LOF points 23 4 1.698460357939777\n",
      "LOF points 24 30 1.0000054670381264\n",
      "LOF points 25 30 1.0000054670381264\n",
      "LOF points 26 10 1.008644630846541\n",
      "LOF points 27 4 1.1281227316624385\n",
      "LOF points 28 5 3.9608998521141165\n",
      "LOF points 29 30 1.0000054670381264\n",
      "Ur is \n",
      " [(0.9966, 0, 17, 9, 0.9992, 0.0, 0, 0.0, 0.0, 0.8, 0.0), (0.0, 0, 21, 9, 0.0, 0.1892, 0, 0.0, 0.0, 0.0, 0.0), (0.0, 0, 47, 5, 0.0, 0.0, 0, 0.0, 0.0, 0.0, 0.0), (0.0364, 0, 58, 9, 0.0003, 0.155, 0, 0.0, 0.0, 0.6, 0.0), (0.0, 0, 21, 9, 0.0001, 0.0635, 0, 0.0, 0.0, 0.0, 0.0), (0.0, 0, 21, 9, 0.0, 0.1017, 0, 0.0, 0.0, 0.0, 0.0), (0.0, 0, 21, 9, 0.0001, 0.1839, 0, 0.0, 0.0, 0.0, 0.0), (0.0, 0, 21, 9, 0.0001, 0.0154, 0, 0.0, 0.0, 0.0, 0.0), (0.0603, 0, 58, 9, 0.0003, 0.145, 0, 0.0, 0.0, 0.6, 0.0), (0.9978, 0, 17, 9, 1.0, 0.0, 0, 0.0, 0.0, 0.2, 0.0), (0.0, 0, 21, 9, 0.0001, 0.0278, 0, 0.0, 0.0, 0.0, 0.0), (0.0, 0, 21, 9, 0.0001, 0.1108, 0, 0.0, 0.0, 0.0, 0.0), (0.0, 0, 21, 9, 0.0001, 0.0559, 0, 0.0, 0.0, 0.0, 0.0), (0.0, 0, 21, 9, 0.0001, 0.0176, 0, 0.0, 0.0, 0.0, 0.0), (0.0, 0, 21, 9, 0.0, 0.1065, 0, 0.0, 0.0, 0.0, 0.0), (0.0024, 0, 17, 9, 0.0014, 0.0, 0, 0.0, 0.0, 0.0, 0.0), (0.9992, 0, 17, 9, 1.0, 0.0, 0, 0.0, 0.0, 1.0, 0.0), (0.0, 0, 21, 9, 0.0, 0.2142, 0, 0.0, 0.0, 0.0, 0.0), (0.0, 0, 21, 9, 0.0, 0.111, 0, 0.0, 0.0, 0.0, 0.0), (0.0, 0, 21, 9, 0.0001, 1.0, 0, 0.0, 0.0, 0.0, 0.0), (0.0, 0, 21, 9, 0.0, 0.0976, 0, 0.0, 0.0, 0.0, 0.0), (0.0, 0, 21, 9, 0.0001, 0.0404, 0, 0.0, 0.0, 0.0, 0.0), (0.0, 0, 21, 9, 0.0, 0.2857, 0, 0.0, 0.0, 0.0, 0.0), (0.0, 0, 21, 9, 0.0, 0.0255, 0, 0.0, 0.0, 0.0, 0.0), (0.0, 0, 21, 9, 0.0, 0.0154, 0, 0.0, 0.0, 0.0, 0.0), (0.0, 0, 21, 9, 0.0001, 0.0189, 0, 0.0, 0.0, 0.0, 0.0), (0.0, 0, 21, 9, 0.0, 0.1134, 0, 0.0, 0.0, 0.0, 0.0), (0.0, 0, 21, 9, 0.0, 0.0701, 0, 0.0, 0.0, 0.0, 0.0), (1.0, 0, 17, 9, 0.9997, 0.0, 0, 0.0, 0.0, 0.6, 0.0), (0.0, 0, 21, 9, 0.0, 0.0159, 0, 0.0, 0.0, 0.0, 0.0)]\n",
      "center is  (0.0603, 0, 58, 9, 0.0003, 0.145, 0, 0.0, 0.0, 0.6, 0.0) 2\n"
     ]
    },
    {
     "data": {
      "image/png": "[encoded data removed]",
      "text/plain": [
       "<Figure size 432x288 with 1 Axes>"
      ]
     },
     "metadata": {
      "needs_background": "light"
     },
     "output_type": "display_data"
    },
    {
     "name": "stdout",
     "output_type": "stream",
     "text": [
      "New instances is \n",
      " [(0.0024, 0, 17, 9, 0.0014, 0.0, 0, 0.0, 0.0, 0.0, 0.0), (0.9992, 0, 17, 9, 1.0, 0.0, 0, 0.0, 0.0, 1.0, 0.0), (0.9966, 0, 17, 9, 0.9992, 0.0, 0, 0.0, 0.0, 0.8, 0.0), (0.0, 0, 21, 9, 0.0, 0.1892, 0, 0.0, 0.0, 0.0, 0.0), (0.0, 0, 21, 9, 0.0, 0.2142, 0, 0.0, 0.0, 0.0, 0.0), (0.0, 0, 21, 9, 0.0, 0.111, 0, 0.0, 0.0, 0.0, 0.0), (0.0, 0, 21, 9, 0.0001, 1.0, 0, 0.0, 0.0, 0.0, 0.0), (0.0, 0, 21, 9, 0.0001, 0.0635, 0, 0.0, 0.0, 0.0, 0.0), (0.0, 0, 21, 9, 0.0, 0.1017, 0, 0.0, 0.0, 0.0, 0.0), (0.0, 0, 21, 9, 0.0, 0.0976, 0, 0.0, 0.0, 0.0, 0.0), (0.0, 0, 21, 9, 0.0001, 0.0404, 0, 0.0, 0.0, 0.0, 0.0), (0.0, 0, 21, 9, 0.0, 0.2857, 0, 0.0, 0.0, 0.0, 0.0), (0.0, 0, 21, 9, 0.0, 0.0255, 0, 0.0, 0.0, 0.0, 0.0), (0.0, 0, 21, 9, 0.0001, 0.1839, 0, 0.0, 0.0, 0.0, 0.0), (0.0, 0, 21, 9, 0.0001, 0.0154, 0, 0.0, 0.0, 0.0, 0.0), (0.0, 0, 21, 9, 0.0, 0.0154, 0, 0.0, 0.0, 0.0, 0.0), (0.9978, 0, 17, 9, 1.0, 0.0, 0, 0.0, 0.0, 0.2, 0.0), (0.0, 0, 21, 9, 0.0001, 0.0189, 0, 0.0, 0.0, 0.0, 0.0), (0.0, 0, 21, 9, 0.0001, 0.0278, 0, 0.0, 0.0, 0.0, 0.0), (0.0, 0, 21, 9, 0.0001, 0.1108, 0, 0.0, 0.0, 0.0, 0.0), (0.0, 0, 21, 9, 0.0001, 0.0559, 0, 0.0, 0.0, 0.0, 0.0), (0.0, 0, 21, 9, 0.0, 0.1134, 0, 0.0, 0.0, 0.0, 0.0), (0.0, 0, 21, 9, 0.0001, 0.0176, 0, 0.0, 0.0, 0.0, 0.0), (0.0, 0, 21, 9, 0.0, 0.0701, 0, 0.0, 0.0, 0.0, 0.0), (0.0, 0, 21, 9, 0.0, 0.1065, 0, 0.0, 0.0, 0.0, 0.0), (1.0, 0, 17, 9, 0.9997, 0.0, 0, 0.0, 0.0, 0.6, 0.0), (0.0, 0, 21, 9, 0.0, 0.0159, 0, 0.0, 0.0, 0.0, 0.0)]\n",
      "kList is [2, 3, 4, 5, 6, 8, 10, 12, 14, 16, 18, 20, 22, 24, 26, 28, 30, 32, 34]\n",
      "Kinf:\n",
      " [26, 4, 4, 2, 3, 2, 22, 2, 6, 6, 8, 22, 2, 2, 2, 2, 4, 5, 2, 2, 3, 6, 5, 2, 6, 4, 3]\n",
      "pre_c1:\n",
      " [1.0625018753220927, 2.5017649997418343, 2.4676743776104613, 2.0565087409345524, 2.2531771946953327, 5.432507928676841, 0.6817249468856537, 1.0176431605342258, 2.445869485979218, 2.445869485979218, 1.2430988744428657, 0.6817249468856535, 4.7728927094893905, 2.0565087409345524, 1.2314358678923436, 1.2314358678923436, 2.406719964647287, 2.341929677453732, 5.269421457833202, 5.432507928676841, 1.4555093321921873, 2.5115879103552, 2.341929677453732, 1.0176431605342258, 2.445869485979217, 2.440799983465768, 2.7087367679841536]\n",
      "LOF points 0 2 990.8162343051877\n",
      "LOF points 1 5 1.0313436748854987\n",
      "LOF points 2 5 1.017289937819175\n",
      "LOF points 3 4 2.608439217739145\n",
      "LOF points 4 5 2.547272335288703\n",
      "LOF points 5 10 1.0196610347707122\n",
      "LOF points 6 2 4.727954011825767\n",
      "LOF points 7 5 1.3508085841402284\n",
      "LOF points 8 28 1.0000027719947882\n",
      "LOF points 9 4 1.1147252652758033\n",
      "LOF points 10 2 1.2710397260082884\n",
      "LOF points 11 2 1.7185389387016516\n",
      "LOF points 12 3 1.417740283178241\n",
      "LOF points 13 4 2.5613529114756277\n",
      "LOF points 14 28 1.0000027719947882\n",
      "LOF points 15 28 1.0000027719947882\n",
      "LOF points 16 2 1.066646125708501\n",
      "LOF points 17 3 1.0312661214611325\n",
      "LOF points 18 3 1.5652292067996567\n",
      "LOF points 19 10 1.0186602696896727\n",
      "LOF points 20 5 1.3617177136178444\n",
      "LOF points 21 10 1.008644630846541\n",
      "LOF points 22 28 1.0000027719947882\n",
      "LOF points 23 4 1.1281227316624385\n",
      "LOF points 24 2 1.3486058321882173\n",
      "LOF points 25 5 1.0062110649352831\n",
      "LOF points 26 28 1.0000027719947882\n",
      "Ur is \n",
      " [(0.0024, 0, 17, 9, 0.0014, 0.0, 0, 0.0, 0.0, 0.0, 0.0), (0.9992, 0, 17, 9, 1.0, 0.0, 0, 0.0, 0.0, 1.0, 0.0), (0.9966, 0, 17, 9, 0.9992, 0.0, 0, 0.0, 0.0, 0.8, 0.0), (0.0, 0, 21, 9, 0.0, 0.1892, 0, 0.0, 0.0, 0.0, 0.0), (0.0, 0, 21, 9, 0.0, 0.2142, 0, 0.0, 0.0, 0.0, 0.0), (0.0, 0, 21, 9, 0.0, 0.111, 0, 0.0, 0.0, 0.0, 0.0), (0.0, 0, 21, 9, 0.0001, 1.0, 0, 0.0, 0.0, 0.0, 0.0), (0.0, 0, 21, 9, 0.0001, 0.0635, 0, 0.0, 0.0, 0.0, 0.0), (0.0, 0, 21, 9, 0.0, 0.1017, 0, 0.0, 0.0, 0.0, 0.0), (0.0, 0, 21, 9, 0.0, 0.0976, 0, 0.0, 0.0, 0.0, 0.0), (0.0, 0, 21, 9, 0.0001, 0.0404, 0, 0.0, 0.0, 0.0, 0.0), (0.0, 0, 21, 9, 0.0, 0.2857, 0, 0.0, 0.0, 0.0, 0.0), (0.0, 0, 21, 9, 0.0, 0.0255, 0, 0.0, 0.0, 0.0, 0.0), (0.0, 0, 21, 9, 0.0001, 0.1839, 0, 0.0, 0.0, 0.0, 0.0), (0.0, 0, 21, 9, 0.0001, 0.0154, 0, 0.0, 0.0, 0.0, 0.0), (0.0, 0, 21, 9, 0.0, 0.0154, 0, 0.0, 0.0, 0.0, 0.0), (0.9978, 0, 17, 9, 1.0, 0.0, 0, 0.0, 0.0, 0.2, 0.0), (0.0, 0, 21, 9, 0.0001, 0.0189, 0, 0.0, 0.0, 0.0, 0.0), (0.0, 0, 21, 9, 0.0001, 0.0278, 0, 0.0, 0.0, 0.0, 0.0), (0.0, 0, 21, 9, 0.0001, 0.1108, 0, 0.0, 0.0, 0.0, 0.0), (0.0, 0, 21, 9, 0.0001, 0.0559, 0, 0.0, 0.0, 0.0, 0.0), (0.0, 0, 21, 9, 0.0, 0.1134, 0, 0.0, 0.0, 0.0, 0.0), (0.0, 0, 21, 9, 0.0001, 0.0176, 0, 0.0, 0.0, 0.0, 0.0), (0.0, 0, 21, 9, 0.0, 0.0701, 0, 0.0, 0.0, 0.0, 0.0), (0.0, 0, 21, 9, 0.0, 0.1065, 0, 0.0, 0.0, 0.0, 0.0), (1.0, 0, 17, 9, 0.9997, 0.0, 0, 0.0, 0.0, 0.6, 0.0), (0.0, 0, 21, 9, 0.0, 0.0159, 0, 0.0, 0.0, 0.0, 0.0)]\n",
      "center is  (0.0, 0, 21, 9, 0.0, 0.2857, 0, 0.0, 0.0, 0.0, 0.0) 22\n"
     ]
    },
    {
     "data": {
      "image/png": "[encoded data removed]",
      "text/plain": [
       "<Figure size 432x288 with 1 Axes>"
      ]
     },
     "metadata": {
      "needs_background": "light"
     },
     "output_type": "display_data"
    },
    {
     "name": "stdout",
     "output_type": "stream",
     "text": [
      "New instances is \n",
      " [(0.9966, 0, 17, 9, 0.9992, 0.0, 0, 0.0, 0.0, 0.8, 0.0), (1.0, 0, 17, 9, 0.9997, 0.0, 0, 0.0, 0.0, 0.6, 0.0), (0.9978, 0, 17, 9, 1.0, 0.0, 0, 0.0, 0.0, 0.2, 0.0), (0.9992, 0, 17, 9, 1.0, 0.0, 0, 0.0, 0.0, 1.0, 0.0)]\n",
      "kList is [2, 3, 4, 5, 6, 8, 10, 12, 14, 16, 18, 20, 22, 23, 24, 26, 28, 30, 32, 34]\n",
      "Kinf:\n",
      " [3, 2, 3, 2]\n",
      "pre_c1:\n",
      " [1.0136890101301188, 1.240122067019893, 1.2486470044004696, 1.240122067019893]\n",
      "LOF points 0 2 1.0416589181958598\n",
      "LOF points 1 4 1.0001020228563147\n",
      "LOF points 2 4 1.0001020228563147\n",
      "LOF points 3 4 1.0001020228563147\n",
      "Ur is \n",
      " [(0.9966, 0, 17, 9, 0.9992, 0.0, 0, 0.0, 0.0, 0.8, 0.0), (1.0, 0, 17, 9, 0.9997, 0.0, 0, 0.0, 0.0, 0.6, 0.0), (0.9978, 0, 17, 9, 1.0, 0.0, 0, 0.0, 0.0, 0.2, 0.0), (0.9992, 0, 17, 9, 1.0, 0.0, 0, 0.0, 0.0, 1.0, 0.0)]\n",
      "center is  (0.9966, 0, 17, 9, 0.9992, 0.0, 0, 0.0, 0.0, 0.8, 0.0) 3\n"
     ]
    },
    {
     "data": {
      "image/png": "[encoded data removed]",
      "text/plain": [
       "<Figure size 432x288 with 1 Axes>"
      ]
     },
     "metadata": {
      "needs_background": "light"
     },
     "output_type": "display_data"
    },
    {
     "name": "stdout",
     "output_type": "stream",
     "text": [
      "group 0 is \n",
      " [(0.0, 2, 12, 9, 0.0002, 0.0, 0, 0.0, 0.0, 0.0, 0.0), (0.0, 2, 12, 9, 0.0001, 0.0, 0, 0.0, 0.0, 0.0, 0.0), (0.0, 0, 17, 9, 0.0001, 0.0, 0, 0.0, 0.0, 0.0, 0.0), (0.0, 0, 17, 9, 0.0, 0.0, 0, 0.0, 0.0, 0.0, 0.0), (0.0008, 0, 17, 9, 0.0002, 0.0, 0, 0.0, 0.0, 0.0, 0.0)]\n",
      "group 0 label is \n",
      " [(25, 5), (26, 5), (35, 20), (33, 20), (28, 20)]\n",
      "group 1 is \n",
      " [(0.0603, 0, 58, 9, 0.0003, 0.145, 0, 0.0, 0.0, 0.6, 0.0), (0.0364, 0, 58, 9, 0.0003, 0.155, 0, 0.0, 0.0, 0.6, 0.0), (0.0, 0, 47, 5, 0.0, 0.0, 0, 0.0, 0.0, 0.0, 0.0)]\n",
      "group 1 label is \n",
      " [(24, 1), (23, 1), (27, 4)]\n",
      "group 2 is \n",
      " [(0.0, 0, 21, 9, 0.0, 0.2857, 0, 0.0, 0.0, 0.0, 0.0), (0.0, 0, 21, 9, 0.0, 0.2142, 0, 0.0, 0.0, 0.0, 0.0), (0.0, 0, 21, 9, 0.0, 0.1892, 0, 0.0, 0.0, 0.0, 0.0), (0.0, 0, 21, 9, 0.0001, 0.1839, 0, 0.0, 0.0, 0.0, 0.0), (0.0, 0, 21, 9, 0.0, 0.1134, 0, 0.0, 0.0, 0.0, 0.0), (0.0, 0, 21, 9, 0.0, 0.111, 0, 0.0, 0.0, 0.0, 0.0), (0.0, 0, 21, 9, 0.0001, 0.1108, 0, 0.0, 0.0, 0.0, 0.0), (0.0, 0, 21, 9, 0.0, 0.1065, 0, 0.0, 0.0, 0.0, 0.0), (0.0, 0, 21, 9, 0.0, 0.1017, 0, 0.0, 0.0, 0.0, 0.0), (0.0, 0, 21, 9, 0.0, 0.0976, 0, 0.0, 0.0, 0.0, 0.0), (0.0, 0, 21, 9, 0.0, 0.0701, 0, 0.0, 0.0, 0.0, 0.0), (0.0, 0, 21, 9, 0.0001, 0.0635, 0, 0.0, 0.0, 0.0, 0.0), (0.0, 0, 21, 9, 0.0001, 0.0559, 0, 0.0, 0.0, 0.0, 0.0), (0.0, 0, 21, 9, 0.0001, 0.0404, 0, 0.0, 0.0, 0.0, 0.0), (0.0, 0, 21, 9, 0.0001, 0.0278, 0, 0.0, 0.0, 0.0, 0.0), (0.0, 0, 21, 9, 0.0, 0.0255, 0, 0.0, 0.0, 0.0, 0.0), (0.0, 0, 21, 9, 0.0001, 0.0189, 0, 0.0, 0.0, 0.0, 0.0), (0.0, 0, 21, 9, 0.0001, 0.0176, 0, 0.0, 0.0, 0.0, 0.0), (0.0, 0, 21, 9, 0.0, 0.0159, 0, 0.0, 0.0, 0.0, 0.0), (0.0, 0, 21, 9, 0.0, 0.0154, 0, 0.0, 0.0, 0.0, 0.0), (0.0, 0, 21, 9, 0.0001, 0.0154, 0, 0.0, 0.0, 0.0, 0.0), (0.0, 0, 21, 9, 0.0001, 1.0, 0, 0.0, 0.0, 0.0, 0.0), (0.0024, 0, 17, 9, 0.0014, 0.0, 0, 0.0, 0.0, 0.0, 0.0)]\n",
      "group 2 label is \n",
      " [(1, 0), (6, 0), (7, 0), (18, 0), (10, 0), (8, 0), (20, 0), (4, 0), (5, 0), (11, 0), (3, 0), (14, 0), (21, 0), (16, 0), (17, 0), (2, 0), (13, 0), (19, 0), (9, 0), (12, 0), (22, 0), (15, 0), (34, 20)]\n",
      "group 3 is \n",
      " [(0.9966, 0, 17, 9, 0.9992, 0.0, 0, 0.0, 0.0, 0.8, 0.0), (0.9992, 0, 17, 9, 1.0, 0.0, 0, 0.0, 0.0, 1.0, 0.0), (1.0, 0, 17, 9, 0.9997, 0.0, 0, 0.0, 0.0, 0.6, 0.0), (0.9978, 0, 17, 9, 1.0, 0.0, 0, 0.0, 0.0, 0.2, 0.0)]\n",
      "group 3 label is \n",
      " [(32, 20), (30, 20), (29, 20), (31, 20)]\n"
     ]
    },
    {
     "data": {
      "image/png": "[encoded data removed]",
      "text/plain": [
       "<Figure size 432x288 with 1 Axes>"
      ]
     },
     "metadata": {
      "needs_background": "light"
     },
     "output_type": "display_data"
    }
   ],
   "source": [
    "%run RCD.py"
   ]
  },
  {
   "cell_type": "code",
   "execution_count": 1,
   "metadata": {
    "scrolled": true
   },
   "outputs": [
    {
     "name": "stdout",
     "output_type": "stream",
     "text": [
      "(0.0, 0, 21, 1, 0.0, 0.0, 0, 0.0, 0.0, 0.0, 0.0)\n",
      "(0.0464, 0, 21, 9, 0.0001, 0.0472, 0, 0.0, 0.0, 0.0, 0.0)\n",
      "(0.0, 0, 21, 9, 0.0001, 0.1331, 0, 0.0, 0.0, 0.0, 0.0)\n",
      "(0.0, 0, 21, 9, 0.0, 0.2958, 0, 0.0, 0.0, 0.0, 0.0)\n",
      "(0.0, 0, 21, 9, 0.0001, 0.5528, 0, 0.0, 0.0, 0.0, 0.0)\n",
      "(0.0, 0, 21, 9, 0.0001, 0.0482, 0, 0.0, 0.0, 0.0, 0.0)\n",
      "(0.0, 0, 21, 9, 0.0, 0.0474, 0, 0.0, 0.0, 0.0, 0.0)\n",
      "(0.0, 0, 21, 9, 0.0001, 0.4629, 0, 0.0, 0.0, 0.0, 0.0)\n",
      "(0.0, 0, 21, 9, 0.0001, 0.3842, 0, 0.0, 0.0, 0.0, 0.0)\n",
      "(0.0, 0, 21, 9, 0.0, 0.2368, 0, 0.0, 0.0, 0.0, 0.0)\n",
      "(0.0, 1, 47, 9, 0.0, 0.0, 0, 0.0, 0.0, 0.0, 0.0)\n",
      "(0.0, 1, 47, 9, 0.0, 0.0252, 0, 0.0, 0.0, 0.0, 0.0)\n",
      "(0.001, 1, 47, 9, 0.0, 0.0252, 0, 0.0, 0.0, 0.0, 0.0)\n",
      "(0.0028, 1, 47, 9, 0.0, 0.0252, 0, 0.0, 0.0, 0.0, 0.0)\n",
      "(0.0, 0, 47, 5, 0.0, 0.0, 0, 0.0, 0.0, 0.0, 0.0)\n",
      "(0.0, 0, 42, 5, 0.0, 0.0, 0, 0.0, 0.0, 0.0, 0.0)\n",
      "(0.0, 2, 12, 9, 0.0002, 0.0, 0, 0.0, 0.0, 0.0, 0.0)\n",
      "(0.0, 0, 17, 9, 0.0001, 0.0, 0, 0.0, 0.0, 0.0, 0.0)\n",
      "(0.0008, 0, 17, 9, 0.0002, 0.0, 0, 0.0, 0.0, 0.0, 0.0)\n",
      "(1.0, 0, 17, 9, 0.9997, 0.0, 0, 0.0, 0.0, 0.6, 0.0)\n",
      "(0.9992, 0, 17, 9, 1.0, 0.0, 0, 0.0, 0.0, 1.0, 0.0)\n",
      "(0.9978, 0, 17, 9, 1.0, 0.0, 0, 0.0, 0.0, 0.2, 0.0)\n",
      "(0.9966, 0, 17, 9, 0.9992, 0.0, 0, 0.0, 0.0, 0.8, 0.0)\n",
      "(0.0, 0, 17, 9, 0.0, 0.0, 0, 0.0, 0.0, 0.0, 0.0)\n",
      "(0.0024, 0, 17, 9, 0.0014, 0.0, 0, 0.0, 0.0, 0.0, 0.0)\n",
      "(0.0, 0, 47, 4, 0.0, 0.0, 0, 0.0, 0.0, 0.0, 0.0)\n",
      "(0.0, 0, 42, 4, 0.0, 0.0, 0, 0.0, 0.0, 0.0, 0.0)\n",
      "(0.0, 0, 45, 4, 0.0, 0.0, 0, 0.0, 0.0, 0.0, 0.0)\n",
      "(0.0364, 0, 58, 9, 0.0003, 0.5074, 0, 0.0, 0.0, 0.6, 0.0)\n",
      "(0.0603, 0, 58, 9, 0.0003, 0.4746, 0, 0.0, 0.0, 0.6, 0.0)\n",
      "(0.0, 0, 17, 9, 0.0, 0.9763, 0, 0.0, 0.0, 0.0, 0.0)\n",
      "(0.0, 0, 17, 9, 0.0, 1.0, 0, 0.0, 0.0, 0.0, 0.0)\n",
      "(0.0, 0, 17, 9, 0.0, 0.8614, 0, 0.0, 0.0, 0.0, 0.0)\n",
      "(0.0, 0, 17, 9, 0.0, 0.3555, 0, 0.0, 0.0, 0.2, 0.0)\n",
      "(1, 0)\n",
      "(2, 0)\n",
      "(3, 0)\n",
      "(4, 0)\n",
      "(5, 0)\n",
      "(6, 0)\n",
      "(7, 0)\n",
      "(8, 0)\n",
      "(9, 0)\n",
      "(10, 0)\n",
      "(11, 0)\n",
      "(12, 0)\n",
      "(13, 0)\n",
      "(14, 0)\n",
      "(15, 4)\n",
      "(16, 4)\n",
      "(17, 5)\n",
      "(18, 20)\n",
      "(19, 20)\n",
      "(20, 20)\n",
      "(21, 20)\n",
      "(22, 20)\n",
      "(23, 20)\n",
      "(24, 20)\n",
      "(25, 20)\n",
      "(26, 9)\n",
      "(27, 9)\n",
      "(28, 9)\n",
      "(29, 1)\n",
      "(30, 1)\n",
      "(31, 1)\n",
      "(32, 1)\n",
      "(33, 1)\n",
      "(34, 1)\n"
     ]
    },
    {
     "data": {
      "image/png": "[encoded data removed]",
      "text/plain": [
       "<Figure size 432x288 with 1 Axes>"
      ]
     },
     "metadata": {
      "needs_background": "light"
     },
     "output_type": "display_data"
    },
    {
     "name": "stdout",
     "output_type": "stream",
     "text": [
      "Klist : [2, 4, 6, 8, 10, 12, 14, 16, 18, 20, 22, 24, 26, 28, 30, 32, 34]\n",
      "New instances is \n",
      " [(0.0, 0, 21, 1, 0.0, 0.0, 0, 0.0, 0.0, 0.0, 0.0), (0.0464, 0, 21, 9, 0.0001, 0.0472, 0, 0.0, 0.0, 0.0, 0.0), (0.0, 0, 21, 9, 0.0001, 0.1331, 0, 0.0, 0.0, 0.0, 0.0), (0.0, 0, 21, 9, 0.0, 0.2958, 0, 0.0, 0.0, 0.0, 0.0), (0.0, 0, 21, 9, 0.0001, 0.5528, 0, 0.0, 0.0, 0.0, 0.0), (0.0, 0, 21, 9, 0.0001, 0.0482, 0, 0.0, 0.0, 0.0, 0.0), (0.0, 0, 21, 9, 0.0, 0.0474, 0, 0.0, 0.0, 0.0, 0.0), (0.0, 0, 21, 9, 0.0001, 0.4629, 0, 0.0, 0.0, 0.0, 0.0), (0.0, 0, 21, 9, 0.0001, 0.3842, 0, 0.0, 0.0, 0.0, 0.0), (0.0, 0, 21, 9, 0.0, 0.2368, 0, 0.0, 0.0, 0.0, 0.0), (0.0, 1, 47, 9, 0.0, 0.0, 0, 0.0, 0.0, 0.0, 0.0), (0.0, 1, 47, 9, 0.0, 0.0252, 0, 0.0, 0.0, 0.0, 0.0), (0.001, 1, 47, 9, 0.0, 0.0252, 0, 0.0, 0.0, 0.0, 0.0), (0.0028, 1, 47, 9, 0.0, 0.0252, 0, 0.0, 0.0, 0.0, 0.0), (0.0, 0, 47, 5, 0.0, 0.0, 0, 0.0, 0.0, 0.0, 0.0), (0.0, 0, 42, 5, 0.0, 0.0, 0, 0.0, 0.0, 0.0, 0.0), (0.0, 2, 12, 9, 0.0002, 0.0, 0, 0.0, 0.0, 0.0, 0.0), (0.0, 0, 17, 9, 0.0001, 0.0, 0, 0.0, 0.0, 0.0, 0.0), (0.0008, 0, 17, 9, 0.0002, 0.0, 0, 0.0, 0.0, 0.0, 0.0), (1.0, 0, 17, 9, 0.9997, 0.0, 0, 0.0, 0.0, 0.6, 0.0), (0.9992, 0, 17, 9, 1.0, 0.0, 0, 0.0, 0.0, 1.0, 0.0), (0.9978, 0, 17, 9, 1.0, 0.0, 0, 0.0, 0.0, 0.2, 0.0), (0.9966, 0, 17, 9, 0.9992, 0.0, 0, 0.0, 0.0, 0.8, 0.0), (0.0, 0, 17, 9, 0.0, 0.0, 0, 0.0, 0.0, 0.0, 0.0), (0.0024, 0, 17, 9, 0.0014, 0.0, 0, 0.0, 0.0, 0.0, 0.0), (0.0, 0, 47, 4, 0.0, 0.0, 0, 0.0, 0.0, 0.0, 0.0), (0.0, 0, 42, 4, 0.0, 0.0, 0, 0.0, 0.0, 0.0, 0.0), (0.0, 0, 45, 4, 0.0, 0.0, 0, 0.0, 0.0, 0.0, 0.0), (0.0364, 0, 58, 9, 0.0003, 0.5074, 0, 0.0, 0.0, 0.6, 0.0), (0.0603, 0, 58, 9, 0.0003, 0.4746, 0, 0.0, 0.0, 0.6, 0.0), (0.0, 0, 17, 9, 0.0, 0.9763, 0, 0.0, 0.0, 0.0, 0.0), (0.0, 0, 17, 9, 0.0, 1.0, 0, 0.0, 0.0, 0.0, 0.0), (0.0, 0, 17, 9, 0.0, 0.8614, 0, 0.0, 0.0, 0.0, 0.0), (0.0, 0, 17, 9, 0.0, 0.3555, 0, 0.0, 0.0, 0.2, 0.0)]\n",
      "kList is [2, 4, 6, 8, 10, 12, 14, 16, 18, 20, 22, 24, 26, 28, 30, 32, 34]\n",
      "Kinf:\n",
      " [30, 8, 8, 2, 2, 2, 2, 2, 14, 2, 4, 4, 4, 4, 30, 30, 30, 4, 4, 4, 4, 4, 4, 4, 4, 2, 2, 2, 2, 2, 2, 2, 30, 14]\n",
      "pre_c1:\n",
      " [1.17186200815048, 1.3153457117363898, 1.2683865444425046, 1.019532212832719, 1.129113538881644, 29.001679734735628, 29.001679734735628, 0.8557132255227191, 1.2216876620412922, 1.3372000726377626, 28.16559198595174, 28.16916673837887, 28.16917236576717, 28.16921085695246, 1.1718620081504794, 1.1718620081504802, 1.1718884524744502, 37.453781018616354, 37.45403683973389, 8.155882507049542, 4.8420714098809405, 8.037289375745338, 4.787122026884046, 37.45377720032454, 37.45672434254789, 1.6102441040251443, 1.073496069350099, 1.6102441040251443, 304.5739919152406, 302.9534312513669, 1.8126494367860897, 1.8126494367860897, 1.1718620081504798, 1.2216876620412922]\n",
      "LOF points 0 2 3.8760913676956754\n",
      "LOF points 1 34 1.0000029243382687\n",
      "LOF points 2 2 1.4124143337792419\n",
      "LOF points 3 8 1.0251621793226167\n",
      "LOF points 4 4 1.000069561768915\n",
      "LOF points 5 34 1.0000029243382687\n",
      "LOF points 6 34 1.0000029243382687\n",
      "LOF points 7 8 1.1054143192741555\n",
      "LOF points 8 8 1.0958249180593467\n",
      "LOF points 9 6 1.2075987704041726\n",
      "LOF points 10 2 5.978064186399182\n",
      "LOF points 11 8 1.5700379395730617\n",
      "LOF points 12 8 1.5700384729887966\n",
      "LOF points 13 8 1.5700433960099087\n",
      "LOF points 14 12 1.164194014567775\n",
      "LOF points 15 8 1.5744453474650406\n",
      "LOF points 16 2 18.55731874186372\n",
      "LOF points 17 34 1.0000029243382687\n",
      "LOF points 18 34 1.0000029243382687\n",
      "LOF points 19 6 3.8172374650241316\n",
      "LOF points 20 6 3.9612774345545354\n",
      "LOF points 21 2 1.066646125708501\n",
      "LOF points 22 6 3.8790598286694364\n",
      "LOF points 23 34 1.0000029243382687\n",
      "LOF points 24 2 1.6492371574284679\n",
      "LOF points 25 8 1.0201230012572862\n",
      "LOF points 26 8 1.624175256534203\n",
      "LOF points 27 8 1.0205010428760748\n",
      "LOF points 28 4 1.1701805378537706\n",
      "LOF points 29 4 1.1608687727507976\n",
      "LOF points 30 4 1.0905509304338366\n",
      "LOF points 31 4 1.105997108027596\n",
      "LOF points 32 4 1.0163009304305926\n",
      "LOF points 33 2 1.7267996572768418\n",
      "Ur is \n",
      " [(0.0, 0, 21, 1, 0.0, 0.0, 0, 0.0, 0.0, 0.0, 0.0), (0.0464, 0, 21, 9, 0.0001, 0.0472, 0, 0.0, 0.0, 0.0, 0.0), (0.0, 0, 21, 9, 0.0001, 0.1331, 0, 0.0, 0.0, 0.0, 0.0), (0.0, 0, 21, 9, 0.0, 0.2958, 0, 0.0, 0.0, 0.0, 0.0), (0.0, 0, 21, 9, 0.0001, 0.5528, 0, 0.0, 0.0, 0.0, 0.0), (0.0, 0, 21, 9, 0.0001, 0.0482, 0, 0.0, 0.0, 0.0, 0.0), (0.0, 0, 21, 9, 0.0, 0.0474, 0, 0.0, 0.0, 0.0, 0.0), (0.0, 0, 21, 9, 0.0001, 0.4629, 0, 0.0, 0.0, 0.0, 0.0), (0.0, 0, 21, 9, 0.0001, 0.3842, 0, 0.0, 0.0, 0.0, 0.0), (0.0, 0, 21, 9, 0.0, 0.2368, 0, 0.0, 0.0, 0.0, 0.0), (0.0, 1, 47, 9, 0.0, 0.0, 0, 0.0, 0.0, 0.0, 0.0), (0.0, 1, 47, 9, 0.0, 0.0252, 0, 0.0, 0.0, 0.0, 0.0), (0.001, 1, 47, 9, 0.0, 0.0252, 0, 0.0, 0.0, 0.0, 0.0), (0.0028, 1, 47, 9, 0.0, 0.0252, 0, 0.0, 0.0, 0.0, 0.0), (0.0, 0, 47, 5, 0.0, 0.0, 0, 0.0, 0.0, 0.0, 0.0), (0.0, 0, 42, 5, 0.0, 0.0, 0, 0.0, 0.0, 0.0, 0.0), (0.0, 2, 12, 9, 0.0002, 0.0, 0, 0.0, 0.0, 0.0, 0.0), (0.0, 0, 17, 9, 0.0001, 0.0, 0, 0.0, 0.0, 0.0, 0.0), (0.0008, 0, 17, 9, 0.0002, 0.0, 0, 0.0, 0.0, 0.0, 0.0), (1.0, 0, 17, 9, 0.9997, 0.0, 0, 0.0, 0.0, 0.6, 0.0), (0.9992, 0, 17, 9, 1.0, 0.0, 0, 0.0, 0.0, 1.0, 0.0), (0.9978, 0, 17, 9, 1.0, 0.0, 0, 0.0, 0.0, 0.2, 0.0), (0.9966, 0, 17, 9, 0.9992, 0.0, 0, 0.0, 0.0, 0.8, 0.0), (0.0, 0, 17, 9, 0.0, 0.0, 0, 0.0, 0.0, 0.0, 0.0), (0.0024, 0, 17, 9, 0.0014, 0.0, 0, 0.0, 0.0, 0.0, 0.0), (0.0, 0, 47, 4, 0.0, 0.0, 0, 0.0, 0.0, 0.0, 0.0), (0.0, 0, 42, 4, 0.0, 0.0, 0, 0.0, 0.0, 0.0, 0.0), (0.0, 0, 45, 4, 0.0, 0.0, 0, 0.0, 0.0, 0.0, 0.0), (0.0364, 0, 58, 9, 0.0003, 0.5074, 0, 0.0, 0.0, 0.6, 0.0), (0.0603, 0, 58, 9, 0.0003, 0.4746, 0, 0.0, 0.0, 0.6, 0.0), (0.0, 0, 17, 9, 0.0, 0.9763, 0, 0.0, 0.0, 0.0, 0.0), (0.0, 0, 17, 9, 0.0, 1.0, 0, 0.0, 0.0, 0.0, 0.0), (0.0, 0, 17, 9, 0.0, 0.8614, 0, 0.0, 0.0, 0.0, 0.0), (0.0, 0, 17, 9, 0.0, 0.3555, 0, 0.0, 0.0, 0.2, 0.0)]\n",
      "center is  (0.0364, 0, 58, 9, 0.0003, 0.5074, 0, 0.0, 0.0, 0.6, 0.0) 2\n"
     ]
    },
    {
     "data": {
      "image/png": "[encoded data removed]",
      "text/plain": [
       "<Figure size 432x288 with 1 Axes>"
      ]
     },
     "metadata": {
      "needs_background": "light"
     },
     "output_type": "display_data"
    },
    {
     "name": "stdout",
     "output_type": "stream",
     "text": [
      "New instances is \n",
      " [(0.0, 0, 21, 1, 0.0, 0.0, 0, 0.0, 0.0, 0.0, 0.0), (0.0, 0, 17, 9, 0.0001, 0.0, 0, 0.0, 0.0, 0.0, 0.0), (0.9966, 0, 17, 9, 0.9992, 0.0, 0, 0.0, 0.0, 0.8, 0.0), (0.0464, 0, 21, 9, 0.0001, 0.0472, 0, 0.0, 0.0, 0.0, 0.0), (0.0, 0, 47, 5, 0.0, 0.0, 0, 0.0, 0.0, 0.0, 0.0), (0.0, 0, 17, 9, 0.0, 0.9763, 0, 0.0, 0.0, 0.0, 0.0), (0.0, 0, 17, 9, 0.0, 0.0, 0, 0.0, 0.0, 0.0, 0.0), (0.0, 0, 21, 9, 0.0001, 0.3842, 0, 0.0, 0.0, 0.0, 0.0), (0.0, 0, 42, 4, 0.0, 0.0, 0, 0.0, 0.0, 0.0, 0.0), (0.9978, 0, 17, 9, 1.0, 0.0, 0, 0.0, 0.0, 0.2, 0.0), (0.0, 0, 17, 9, 0.0, 0.3555, 0, 0.0, 0.0, 0.2, 0.0), (0.0, 0, 17, 9, 0.0, 1.0, 0, 0.0, 0.0, 0.0, 0.0), (0.0, 0, 21, 9, 0.0, 0.0474, 0, 0.0, 0.0, 0.0, 0.0), (0.0, 0, 21, 9, 0.0001, 0.0482, 0, 0.0, 0.0, 0.0, 0.0), (0.0, 1, 47, 9, 0.0, 0.0, 0, 0.0, 0.0, 0.0, 0.0), (0.0, 0, 45, 4, 0.0, 0.0, 0, 0.0, 0.0, 0.0, 0.0), (0.0024, 0, 17, 9, 0.0014, 0.0, 0, 0.0, 0.0, 0.0, 0.0), (0.9992, 0, 17, 9, 1.0, 0.0, 0, 0.0, 0.0, 1.0, 0.0), (0.0, 0, 21, 9, 0.0001, 0.4629, 0, 0.0, 0.0, 0.0, 0.0), (0.0, 0, 21, 9, 0.0001, 0.5528, 0, 0.0, 0.0, 0.0, 0.0), (0.0, 0, 21, 9, 0.0, 0.2958, 0, 0.0, 0.0, 0.0, 0.0), (0.0, 0, 42, 5, 0.0, 0.0, 0, 0.0, 0.0, 0.0, 0.0), (0.0, 0, 21, 9, 0.0001, 0.1331, 0, 0.0, 0.0, 0.0, 0.0), (0.0, 0, 17, 9, 0.0, 0.8614, 0, 0.0, 0.0, 0.0, 0.0), (0.0008, 0, 17, 9, 0.0002, 0.0, 0, 0.0, 0.0, 0.0, 0.0), (0.0, 2, 12, 9, 0.0002, 0.0, 0, 0.0, 0.0, 0.0, 0.0), (0.0, 0, 47, 4, 0.0, 0.0, 0, 0.0, 0.0, 0.0, 0.0), (0.0, 0, 21, 9, 0.0, 0.2368, 0, 0.0, 0.0, 0.0, 0.0), (1.0, 0, 17, 9, 0.9997, 0.0, 0, 0.0, 0.0, 0.6, 0.0)]\n",
      "kList is [2, 4, 5, 6, 8, 10, 12, 14, 16, 18, 20, 22, 24, 26, 28, 30, 32, 34]\n",
      "Kinf:\n",
      " [26, 4, 4, 14, 5, 2, 4, 14, 5, 4, 14, 2, 2, 2, 6, 5, 4, 4, 14, 2, 2, 5, 14, 2, 4, 26, 5, 2, 4]\n",
      "pre_c1:\n",
      " [1.0160593533297575, 47.34627477715034, 4.688424843852431, 1.370417155780866, 3.677515237839623, 1.7820142647699666, 47.34627168440725, 1.38217588861195, 3.73132132479971, 7.1358993330041764, 1.3821758886119504, 1.7820142647699666, 29.001679734735628, 29.001679734735628, 1.7166307526848748, 3.73132132479971, 47.348658981515264, 4.742214937493493, 1.3268610338653208, 1.129113538881644, 1.019532212832719, 3.677515237839623, 1.3821758886119506, 0.3675695219760519, 47.346481988636285, 1.0160101594182271, 3.677515237839623, 1.3372000726377626, 7.240975066288303]\n",
      "LOF points 0 2 3.570844927240958\n",
      "LOF points 1 30 1.0000055913342363\n",
      "LOF points 2 5 1.9826686426481785\n",
      "LOF points 3 30 1.0000055913342363\n",
      "LOF points 4 2 1.0364412196811281\n",
      "LOF points 5 4 1.0958643997792772\n",
      "LOF points 6 30 1.0000055913342363\n",
      "LOF points 7 8 1.0828797862139448\n",
      "LOF points 8 8 1.3523863577441304\n",
      "LOF points 9 2 1.066646125708501\n",
      "LOF points 10 2 1.7957132276211147\n",
      "LOF points 11 4 1.1109249216201\n",
      "LOF points 12 30 1.0000055913342363\n",
      "LOF points 13 30 1.0000055913342363\n",
      "LOF points 14 2 3.1893348355132183\n",
      "LOF points 15 8 1.363885920797818\n",
      "LOF points 16 2 1.6492371574284679\n",
      "LOF points 17 5 2.005415713466021\n",
      "LOF points 18 8 1.0985263054652898\n",
      "LOF points 19 6 1.0395455305631736\n",
      "LOF points 20 8 1.0153180562750572\n",
      "LOF points 21 2 1.0135416666666663\n",
      "LOF points 22 2 1.4124143337792419\n",
      "LOF points 23 4 1.0238774839359082\n",
      "LOF points 24 30 1.0000055913342363\n",
      "LOF points 25 2 612.9949499350819\n",
      "LOF points 26 8 1.3719368452569205\n",
      "LOF points 27 6 1.0955869124241997\n",
      "LOF points 28 5 3.062106077044541\n",
      "Ur is \n",
      " [(0.0, 0, 21, 1, 0.0, 0.0, 0, 0.0, 0.0, 0.0, 0.0), (0.0, 0, 17, 9, 0.0001, 0.0, 0, 0.0, 0.0, 0.0, 0.0), (0.9966, 0, 17, 9, 0.9992, 0.0, 0, 0.0, 0.0, 0.8, 0.0), (0.0464, 0, 21, 9, 0.0001, 0.0472, 0, 0.0, 0.0, 0.0, 0.0), (0.0, 0, 47, 5, 0.0, 0.0, 0, 0.0, 0.0, 0.0, 0.0), (0.0, 0, 17, 9, 0.0, 0.9763, 0, 0.0, 0.0, 0.0, 0.0), (0.0, 0, 17, 9, 0.0, 0.0, 0, 0.0, 0.0, 0.0, 0.0), (0.0, 0, 21, 9, 0.0001, 0.3842, 0, 0.0, 0.0, 0.0, 0.0), (0.0, 0, 42, 4, 0.0, 0.0, 0, 0.0, 0.0, 0.0, 0.0), (0.9978, 0, 17, 9, 1.0, 0.0, 0, 0.0, 0.0, 0.2, 0.0), (0.0, 0, 17, 9, 0.0, 0.3555, 0, 0.0, 0.0, 0.2, 0.0), (0.0, 0, 17, 9, 0.0, 1.0, 0, 0.0, 0.0, 0.0, 0.0), (0.0, 0, 21, 9, 0.0, 0.0474, 0, 0.0, 0.0, 0.0, 0.0), (0.0, 0, 21, 9, 0.0001, 0.0482, 0, 0.0, 0.0, 0.0, 0.0), (0.0, 1, 47, 9, 0.0, 0.0, 0, 0.0, 0.0, 0.0, 0.0), (0.0, 0, 45, 4, 0.0, 0.0, 0, 0.0, 0.0, 0.0, 0.0), (0.0024, 0, 17, 9, 0.0014, 0.0, 0, 0.0, 0.0, 0.0, 0.0), (0.9992, 0, 17, 9, 1.0, 0.0, 0, 0.0, 0.0, 1.0, 0.0), (0.0, 0, 21, 9, 0.0001, 0.4629, 0, 0.0, 0.0, 0.0, 0.0), (0.0, 0, 21, 9, 0.0001, 0.5528, 0, 0.0, 0.0, 0.0, 0.0), (0.0, 0, 21, 9, 0.0, 0.2958, 0, 0.0, 0.0, 0.0, 0.0), (0.0, 0, 42, 5, 0.0, 0.0, 0, 0.0, 0.0, 0.0, 0.0), (0.0, 0, 21, 9, 0.0001, 0.1331, 0, 0.0, 0.0, 0.0, 0.0), (0.0, 0, 17, 9, 0.0, 0.8614, 0, 0.0, 0.0, 0.0, 0.0), (0.0008, 0, 17, 9, 0.0002, 0.0, 0, 0.0, 0.0, 0.0, 0.0), (0.0, 2, 12, 9, 0.0002, 0.0, 0, 0.0, 0.0, 0.0, 0.0), (0.0, 0, 47, 4, 0.0, 0.0, 0, 0.0, 0.0, 0.0, 0.0), (0.0, 0, 21, 9, 0.0, 0.2368, 0, 0.0, 0.0, 0.0, 0.0), (1.0, 0, 17, 9, 0.9997, 0.0, 0, 0.0, 0.0, 0.6, 0.0)]\n",
      "center is  (0.0, 0, 17, 9, 0.0001, 0.0, 0, 0.0, 0.0, 0.0, 0.0) 4\n"
     ]
    },
    {
     "data": {
      "image/png": "[encoded data removed]",
      "text/plain": [
       "<Figure size 432x288 with 1 Axes>"
      ]
     },
     "metadata": {
      "needs_background": "light"
     },
     "output_type": "display_data"
    },
    {
     "name": "stdout",
     "output_type": "stream",
     "text": [
      "New instances is \n",
      " [(0.0, 0, 21, 1, 0.0, 0.0, 0, 0.0, 0.0, 0.0, 0.0), (0.9992, 0, 17, 9, 1.0, 0.0, 0, 0.0, 0.0, 1.0, 0.0), (0.9966, 0, 17, 9, 0.9992, 0.0, 0, 0.0, 0.0, 0.8, 0.0), (0.0, 0, 21, 9, 0.0001, 0.4629, 0, 0.0, 0.0, 0.0, 0.0), (0.0464, 0, 21, 9, 0.0001, 0.0472, 0, 0.0, 0.0, 0.0, 0.0), (0.0, 0, 21, 9, 0.0001, 0.5528, 0, 0.0, 0.0, 0.0, 0.0), (0.0, 0, 21, 9, 0.0, 0.2958, 0, 0.0, 0.0, 0.0, 0.0), (0.0, 0, 47, 5, 0.0, 0.0, 0, 0.0, 0.0, 0.0, 0.0), (0.0, 0, 42, 5, 0.0, 0.0, 0, 0.0, 0.0, 0.0, 0.0), (0.0, 0, 17, 9, 0.0, 0.9763, 0, 0.0, 0.0, 0.0, 0.0), (0.0, 0, 21, 9, 0.0001, 0.1331, 0, 0.0, 0.0, 0.0, 0.0), (0.0, 0, 21, 9, 0.0001, 0.3842, 0, 0.0, 0.0, 0.0, 0.0), (0.0, 0, 42, 4, 0.0, 0.0, 0, 0.0, 0.0, 0.0, 0.0), (0.9978, 0, 17, 9, 1.0, 0.0, 0, 0.0, 0.0, 0.2, 0.0), (0.0, 0, 17, 9, 0.0, 0.8614, 0, 0.0, 0.0, 0.0, 0.0), (0.0, 0, 17, 9, 0.0, 1.0, 0, 0.0, 0.0, 0.0, 0.0), (0.0, 0, 21, 9, 0.0, 0.0474, 0, 0.0, 0.0, 0.0, 0.0), (0.0, 2, 12, 9, 0.0002, 0.0, 0, 0.0, 0.0, 0.0, 0.0), (0.0, 0, 21, 9, 0.0001, 0.0482, 0, 0.0, 0.0, 0.0, 0.0), (0.0, 1, 47, 9, 0.0, 0.0, 0, 0.0, 0.0, 0.0, 0.0), (0.0, 0, 47, 4, 0.0, 0.0, 0, 0.0, 0.0, 0.0, 0.0), (0.0, 0, 21, 9, 0.0, 0.2368, 0, 0.0, 0.0, 0.0, 0.0), (0.0, 0, 45, 4, 0.0, 0.0, 0, 0.0, 0.0, 0.0, 0.0), (1.0, 0, 17, 9, 0.9997, 0.0, 0, 0.0, 0.0, 0.6, 0.0)]\n",
      "kList is [2, 4, 5, 6, 8, 10, 12, 14, 16, 18, 20, 22, 24, 26, 28, 30, 32, 34]\n",
      "Kinf:\n",
      " [20, 4, 4, 2, 4, 2, 2, 5, 5, 2, 4, 2, 5, 4, 20, 2, 2, 20, 2, 20, 5, 2, 5, 4]\n",
      "pre_c1:\n",
      " [1.180131666162501, 5.351368723233052, 5.276600855672213, 0.8557132255227191, 1.4696293046319056, 1.129113538881644, 1.019532212832719, 3.677515237839623, 3.677515237839623, 1.7820142647699666, 1.4585154045785198, 0.7171695065832014, 3.73132132479971, 5.142453555097556, 1.1801316661625003, 1.7820142647699666, 29.001679734735628, 1.1802008746985861, 29.001679734735628, 1.180131666162501, 3.677515237839623, 1.3372000726377626, 3.73132132479971, 5.217464466939296]\n",
      "LOF points 0 2 3.570844927240958\n",
      "LOF points 1 5 2.236970283821259\n",
      "LOF points 2 5 2.205715943750812\n",
      "LOF points 3 24 1.0000069472942508\n",
      "LOF points 4 24 1.0000069472942505\n",
      "LOF points 5 24 1.0000069472942505\n",
      "LOF points 6 24 1.0000069472942508\n",
      "LOF points 7 2 1.0364412196811281\n",
      "LOF points 8 2 1.0135416666666663\n",
      "LOF points 9 4 1.0901322268629656\n",
      "LOF points 10 2 1.4124143337792419\n",
      "LOF points 11 24 1.0000069472942508\n",
      "LOF points 12 8 1.146309581940109\n",
      "LOF points 13 2 1.066646125708501\n",
      "LOF points 14 4 1.0185218552794606\n",
      "LOF points 15 4 1.1051139711511837\n",
      "LOF points 16 24 1.0000069472942505\n",
      "LOF points 17 2 11.6355463023849\n",
      "LOF points 18 24 1.0000069472942505\n",
      "LOF points 19 2 3.1893348355132183\n",
      "LOF points 20 8 1.1628809641040747\n",
      "LOF points 21 24 1.0000069472942508\n",
      "LOF points 22 8 1.1560568403630311\n",
      "LOF points 23 5 2.1809958485509204\n",
      "Ur is \n",
      " [(0.0, 0, 21, 1, 0.0, 0.0, 0, 0.0, 0.0, 0.0, 0.0), (0.9992, 0, 17, 9, 1.0, 0.0, 0, 0.0, 0.0, 1.0, 0.0), (0.9966, 0, 17, 9, 0.9992, 0.0, 0, 0.0, 0.0, 0.8, 0.0), (0.0, 0, 21, 9, 0.0001, 0.4629, 0, 0.0, 0.0, 0.0, 0.0), (0.0464, 0, 21, 9, 0.0001, 0.0472, 0, 0.0, 0.0, 0.0, 0.0), (0.0, 0, 21, 9, 0.0001, 0.5528, 0, 0.0, 0.0, 0.0, 0.0), (0.0, 0, 21, 9, 0.0, 0.2958, 0, 0.0, 0.0, 0.0, 0.0), (0.0, 0, 47, 5, 0.0, 0.0, 0, 0.0, 0.0, 0.0, 0.0), (0.0, 0, 42, 5, 0.0, 0.0, 0, 0.0, 0.0, 0.0, 0.0), (0.0, 0, 17, 9, 0.0, 0.9763, 0, 0.0, 0.0, 0.0, 0.0), (0.0, 0, 21, 9, 0.0001, 0.1331, 0, 0.0, 0.0, 0.0, 0.0), (0.0, 0, 21, 9, 0.0001, 0.3842, 0, 0.0, 0.0, 0.0, 0.0), (0.0, 0, 42, 4, 0.0, 0.0, 0, 0.0, 0.0, 0.0, 0.0), (0.9978, 0, 17, 9, 1.0, 0.0, 0, 0.0, 0.0, 0.2, 0.0), (0.0, 0, 17, 9, 0.0, 0.8614, 0, 0.0, 0.0, 0.0, 0.0), (0.0, 0, 17, 9, 0.0, 1.0, 0, 0.0, 0.0, 0.0, 0.0), (0.0, 0, 21, 9, 0.0, 0.0474, 0, 0.0, 0.0, 0.0, 0.0), (0.0, 2, 12, 9, 0.0002, 0.0, 0, 0.0, 0.0, 0.0, 0.0), (0.0, 0, 21, 9, 0.0001, 0.0482, 0, 0.0, 0.0, 0.0, 0.0), (0.0, 1, 47, 9, 0.0, 0.0, 0, 0.0, 0.0, 0.0, 0.0), (0.0, 0, 47, 4, 0.0, 0.0, 0, 0.0, 0.0, 0.0, 0.0), (0.0, 0, 21, 9, 0.0, 0.2368, 0, 0.0, 0.0, 0.0, 0.0), (0.0, 0, 45, 4, 0.0, 0.0, 0, 0.0, 0.0, 0.0, 0.0), (1.0, 0, 17, 9, 0.9997, 0.0, 0, 0.0, 0.0, 0.6, 0.0)]\n",
      "center is  (0.0, 0, 21, 9, 0.0001, 0.0482, 0, 0.0, 0.0, 0.0, 0.0) 2\n"
     ]
    },
    {
     "data": {
      "image/png": "[encoded data removed]",
      "text/plain": [
       "<Figure size 432x288 with 1 Axes>"
      ]
     },
     "metadata": {
      "needs_background": "light"
     },
     "output_type": "display_data"
    },
    {
     "name": "stdout",
     "output_type": "stream",
     "text": [
      "New instances is \n",
      " [(0.0, 0, 21, 1, 0.0, 0.0, 0, 0.0, 0.0, 0.0, 0.0), (0.9992, 0, 17, 9, 1.0, 0.0, 0, 0.0, 0.0, 1.0, 0.0), (0.9966, 0, 17, 9, 0.9992, 0.0, 0, 0.0, 0.0, 0.8, 0.0), (0.0, 0, 21, 9, 0.0001, 0.4629, 0, 0.0, 0.0, 0.0, 0.0), (0.0, 0, 21, 9, 0.0001, 0.5528, 0, 0.0, 0.0, 0.0, 0.0), (0.0, 0, 21, 9, 0.0, 0.2958, 0, 0.0, 0.0, 0.0, 0.0), (0.0, 0, 47, 5, 0.0, 0.0, 0, 0.0, 0.0, 0.0, 0.0), (0.0, 0, 42, 5, 0.0, 0.0, 0, 0.0, 0.0, 0.0, 0.0), (0.0, 0, 17, 9, 0.0, 0.9763, 0, 0.0, 0.0, 0.0, 0.0), (0.0, 0, 21, 9, 0.0001, 0.1331, 0, 0.0, 0.0, 0.0, 0.0), (0.0, 0, 21, 9, 0.0001, 0.3842, 0, 0.0, 0.0, 0.0, 0.0), (0.0, 0, 42, 4, 0.0, 0.0, 0, 0.0, 0.0, 0.0, 0.0), (0.9978, 0, 17, 9, 1.0, 0.0, 0, 0.0, 0.0, 0.2, 0.0), (0.0, 0, 17, 9, 0.0, 0.8614, 0, 0.0, 0.0, 0.0, 0.0), (0.0, 0, 17, 9, 0.0, 1.0, 0, 0.0, 0.0, 0.0, 0.0), (0.0, 2, 12, 9, 0.0002, 0.0, 0, 0.0, 0.0, 0.0, 0.0), (0.0, 1, 47, 9, 0.0, 0.0, 0, 0.0, 0.0, 0.0, 0.0), (0.0, 0, 47, 4, 0.0, 0.0, 0, 0.0, 0.0, 0.0, 0.0), (0.0, 0, 21, 9, 0.0, 0.2368, 0, 0.0, 0.0, 0.0, 0.0), (0.0, 0, 45, 4, 0.0, 0.0, 0, 0.0, 0.0, 0.0, 0.0), (1.0, 0, 17, 9, 0.9997, 0.0, 0, 0.0, 0.0, 0.6, 0.0)]\n",
      "kList is [2, 3, 4, 5, 6, 8, 10, 12, 14, 16, 18, 20, 22, 24, 26, 28, 30, 32, 34]\n",
      "Kinf:\n",
      " [6, 4, 4, 6, 6, 3, 5, 5, 2, 6, 3, 5, 4, 3, 2, 18, 6, 5, 2, 5, 4]\n",
      "pre_c1:\n",
      " [1.0716570307457876, 4.496213123823605, 4.435802504826178, 1.4813645181725912, 1.4303790600681954, 1.41678841417055, 3.666923036891892, 3.666923036891892, 1.7820142647699666, 1.472832818045713, 1.355731267678818, 3.7206893033210835, 4.327948484875711, 3.1932500838186435, 1.7820142647699666, 1.015403282845371, 1.0888679002587092, 3.666923036891892, 1.1771371923333354, 3.7206893033210835, 4.388225268942522]\n",
      "LOF points 0 2 3.570844927240958\n",
      "LOF points 1 5 1.8394138852897275\n",
      "LOF points 2 5 1.8146997250970016\n",
      "LOF points 3 22 1.0000073387536133\n",
      "LOF points 4 22 1.0000073387536133\n",
      "LOF points 5 22 1.0000073387536133\n",
      "LOF points 6 2 1.0364412196811281\n",
      "LOF points 7 2 1.0135416666666663\n",
      "LOF points 8 4 1.0901322268629656\n",
      "LOF points 9 22 1.0000073387536133\n",
      "LOF points 10 22 1.000007338753613\n",
      "LOF points 11 8 1.0197008899578563\n",
      "LOF points 12 2 1.066646125708501\n",
      "LOF points 13 4 1.0185218552794606\n",
      "LOF points 14 4 1.1051139711511837\n",
      "LOF points 15 2 4.403592334685193\n",
      "LOF points 16 2 3.1893348355132183\n",
      "LOF points 17 8 1.0340924837968601\n",
      "LOF points 18 22 1.0000073387536133\n",
      "LOF points 19 8 1.0281624763015453\n",
      "LOF points 20 5 1.795235739316523\n",
      "Ur is \n",
      " [(0.0, 0, 21, 1, 0.0, 0.0, 0, 0.0, 0.0, 0.0, 0.0), (0.9992, 0, 17, 9, 1.0, 0.0, 0, 0.0, 0.0, 1.0, 0.0), (0.9966, 0, 17, 9, 0.9992, 0.0, 0, 0.0, 0.0, 0.8, 0.0), (0.0, 0, 21, 9, 0.0001, 0.4629, 0, 0.0, 0.0, 0.0, 0.0), (0.0, 0, 21, 9, 0.0001, 0.5528, 0, 0.0, 0.0, 0.0, 0.0), (0.0, 0, 21, 9, 0.0, 0.2958, 0, 0.0, 0.0, 0.0, 0.0), (0.0, 0, 47, 5, 0.0, 0.0, 0, 0.0, 0.0, 0.0, 0.0), (0.0, 0, 42, 5, 0.0, 0.0, 0, 0.0, 0.0, 0.0, 0.0), (0.0, 0, 17, 9, 0.0, 0.9763, 0, 0.0, 0.0, 0.0, 0.0), (0.0, 0, 21, 9, 0.0001, 0.1331, 0, 0.0, 0.0, 0.0, 0.0), (0.0, 0, 21, 9, 0.0001, 0.3842, 0, 0.0, 0.0, 0.0, 0.0), (0.0, 0, 42, 4, 0.0, 0.0, 0, 0.0, 0.0, 0.0, 0.0), (0.9978, 0, 17, 9, 1.0, 0.0, 0, 0.0, 0.0, 0.2, 0.0), (0.0, 0, 17, 9, 0.0, 0.8614, 0, 0.0, 0.0, 0.0, 0.0), (0.0, 0, 17, 9, 0.0, 1.0, 0, 0.0, 0.0, 0.0, 0.0), (0.0, 2, 12, 9, 0.0002, 0.0, 0, 0.0, 0.0, 0.0, 0.0), (0.0, 1, 47, 9, 0.0, 0.0, 0, 0.0, 0.0, 0.0, 0.0), (0.0, 0, 47, 4, 0.0, 0.0, 0, 0.0, 0.0, 0.0, 0.0), (0.0, 0, 21, 9, 0.0, 0.2368, 0, 0.0, 0.0, 0.0, 0.0), (0.0, 0, 45, 4, 0.0, 0.0, 0, 0.0, 0.0, 0.0, 0.0), (1.0, 0, 17, 9, 0.9997, 0.0, 0, 0.0, 0.0, 0.6, 0.0)]\n",
      "center is  (0.0, 2, 12, 9, 0.0002, 0.0, 0, 0.0, 0.0, 0.0, 0.0) 18\n"
     ]
    },
    {
     "data": {
      "image/png": "[encoded data removed]",
      "text/plain": [
       "<Figure size 432x288 with 1 Axes>"
      ]
     },
     "metadata": {
      "needs_background": "light"
     },
     "output_type": "display_data"
    },
    {
     "name": "stdout",
     "output_type": "stream",
     "text": [
      "group 0 is \n",
      " [(0.0364, 0, 58, 9, 0.0003, 0.5074, 0, 0.0, 0.0, 0.6, 0.0), (0.0603, 0, 58, 9, 0.0003, 0.4746, 0, 0.0, 0.0, 0.6, 0.0), (0.0028, 1, 47, 9, 0.0, 0.0252, 0, 0.0, 0.0, 0.0, 0.0), (0.001, 1, 47, 9, 0.0, 0.0252, 0, 0.0, 0.0, 0.0, 0.0), (0.0, 1, 47, 9, 0.0, 0.0252, 0, 0.0, 0.0, 0.0, 0.0)]\n",
      "group 0 label is \n",
      " [(29, 1), (30, 1), (14, 0), (13, 0), (12, 0)]\n",
      "group 1 is \n",
      " [(0.0, 0, 17, 9, 0.0001, 0.0, 0, 0.0, 0.0, 0.0, 0.0), (0.0, 0, 17, 9, 0.0, 0.0, 0, 0.0, 0.0, 0.0, 0.0), (0.0008, 0, 17, 9, 0.0002, 0.0, 0, 0.0, 0.0, 0.0, 0.0), (0.0024, 0, 17, 9, 0.0014, 0.0, 0, 0.0, 0.0, 0.0, 0.0), (0.0, 0, 17, 9, 0.0, 0.3555, 0, 0.0, 0.0, 0.2, 0.0)]\n",
      "group 1 label is \n",
      " [(18, 20), (24, 20), (19, 20), (25, 20), (34, 1)]\n",
      "group 2 is \n",
      " [(0.0, 0, 21, 9, 0.0001, 0.0482, 0, 0.0, 0.0, 0.0, 0.0), (0.0, 0, 21, 9, 0.0, 0.0474, 0, 0.0, 0.0, 0.0, 0.0), (0.0464, 0, 21, 9, 0.0001, 0.0472, 0, 0.0, 0.0, 0.0, 0.0)]\n",
      "group 2 label is \n",
      " [(6, 0), (7, 0), (2, 0)]\n",
      "group 3 is \n",
      " [(0.0, 2, 12, 9, 0.0002, 0.0, 0, 0.0, 0.0, 0.0, 0.0), (0.0, 0, 17, 9, 0.0, 0.8614, 0, 0.0, 0.0, 0.0, 0.0), (0.0, 0, 17, 9, 0.0, 0.9763, 0, 0.0, 0.0, 0.0, 0.0), (0.0, 0, 17, 9, 0.0, 1.0, 0, 0.0, 0.0, 0.0, 0.0), (0.9978, 0, 17, 9, 1.0, 0.0, 0, 0.0, 0.0, 0.2, 0.0), (1.0, 0, 17, 9, 0.9997, 0.0, 0, 0.0, 0.0, 0.6, 0.0), (0.9966, 0, 17, 9, 0.9992, 0.0, 0, 0.0, 0.0, 0.8, 0.0), (0.9992, 0, 17, 9, 1.0, 0.0, 0, 0.0, 0.0, 1.0, 0.0), (0.0, 0, 21, 9, 0.0001, 0.1331, 0, 0.0, 0.0, 0.0, 0.0), (0.0, 0, 21, 9, 0.0, 0.2368, 0, 0.0, 0.0, 0.0, 0.0), (0.0, 0, 21, 9, 0.0, 0.2958, 0, 0.0, 0.0, 0.0, 0.0), (0.0, 0, 21, 9, 0.0001, 0.3842, 0, 0.0, 0.0, 0.0, 0.0), (0.0, 0, 21, 9, 0.0001, 0.4629, 0, 0.0, 0.0, 0.0, 0.0), (0.0, 0, 21, 9, 0.0001, 0.5528, 0, 0.0, 0.0, 0.0, 0.0), (0.0, 0, 21, 1, 0.0, 0.0, 0, 0.0, 0.0, 0.0, 0.0), (0.0, 0, 42, 5, 0.0, 0.0, 0, 0.0, 0.0, 0.0, 0.0), (0.0, 0, 42, 4, 0.0, 0.0, 0, 0.0, 0.0, 0.0, 0.0), (0.0, 0, 45, 4, 0.0, 0.0, 0, 0.0, 0.0, 0.0, 0.0), (0.0, 1, 47, 9, 0.0, 0.0, 0, 0.0, 0.0, 0.0, 0.0), (0.0, 0, 47, 5, 0.0, 0.0, 0, 0.0, 0.0, 0.0, 0.0), (0.0, 0, 47, 4, 0.0, 0.0, 0, 0.0, 0.0, 0.0, 0.0)]\n",
      "group 3 label is \n",
      " [(17, 5), (33, 1), (31, 1), (32, 1), (22, 20), (20, 20), (23, 20), (21, 20), (3, 0), (10, 0), (4, 0), (9, 0), (8, 0), (5, 0), (1, 0), (16, 4), (27, 9), (28, 9), (11, 0), (15, 4), (26, 9)]\n"
     ]
    },
    {
     "data": {
      "image/png": "[encoded data removed]",
      "text/plain": [
       "<Figure size 432x288 with 1 Axes>"
      ]
     },
     "metadata": {
      "needs_background": "light"
     },
     "output_type": "display_data"
    }
   ],
   "source": [
    "%run RCD.py"
   ]
  },
  {
   "cell_type": "code",
   "execution_count": 2,
   "metadata": {
    "scrolled": true
   },
   "outputs": [
    {
     "name": "stdout",
     "output_type": "stream",
     "text": [
      "(0.0, 0, 21, 1, 0.0, 0.0, 0, 0.0, 0.0, 0.0, 0.0)\n",
      "(0.0464, 0, 21, 9, 0.0001, 0.0472, 0, 0.0, 0.0, 0.0, 0.0)\n",
      "(0.0, 0, 21, 9, 0.0001, 0.1331, 0, 0.0, 0.0, 0.0, 0.0)\n",
      "(0.0, 0, 21, 9, 0.0, 0.2958, 0, 0.0, 0.0, 0.0, 0.0)\n",
      "(0.0, 0, 21, 9, 0.0001, 0.5528, 0, 0.0, 0.0, 0.0, 0.0)\n",
      "(0.0, 0, 21, 9, 0.0001, 0.0482, 0, 0.0, 0.0, 0.0, 0.0)\n",
      "(0.0, 0, 21, 9, 0.0, 0.0474, 0, 0.0, 0.0, 0.0, 0.0)\n",
      "(0.0, 0, 21, 9, 0.0001, 0.4629, 0, 0.0, 0.0, 0.0, 0.0)\n",
      "(0.0, 0, 21, 9, 0.0001, 0.3842, 0, 0.0, 0.0, 0.0, 0.0)\n",
      "(0.0, 0, 21, 9, 0.0, 0.2368, 0, 0.0, 0.0, 0.0, 0.0)\n",
      "(0.0, 1, 47, 9, 0.0, 0.0, 0, 0.0, 0.0, 0.0, 0.0)\n",
      "(0.0, 1, 47, 9, 0.0, 0.0252, 0, 0.0, 0.0, 0.0, 0.0)\n",
      "(0.001, 1, 47, 9, 0.0, 0.0252, 0, 0.0, 0.0, 0.0, 0.0)\n",
      "(0.0028, 1, 47, 9, 0.0, 0.0252, 0, 0.0, 0.0, 0.0, 0.0)\n",
      "(0.0, 0, 47, 5, 0.0, 0.0, 0, 0.0, 0.0, 0.0, 0.0)\n",
      "(0.0, 0, 42, 5, 0.0, 0.0, 0, 0.0, 0.0, 0.0, 0.0)\n",
      "(0.0, 2, 12, 9, 0.0002, 0.0, 0, 0.0, 0.0, 0.0, 0.0)\n",
      "(0.0, 0, 17, 9, 0.0001, 0.0, 0, 0.0, 0.0, 0.0, 0.0)\n",
      "(0.0008, 0, 17, 9, 0.0002, 0.0, 0, 0.0, 0.0, 0.0, 0.0)\n",
      "(1.0, 0, 17, 9, 0.9997, 0.0, 0, 0.0, 0.0, 0.6, 0.0)\n",
      "(0.9992, 0, 17, 9, 1.0, 0.0, 0, 0.0, 0.0, 1.0, 0.0)\n",
      "(0.9978, 0, 17, 9, 1.0, 0.0, 0, 0.0, 0.0, 0.2, 0.0)\n",
      "(0.9966, 0, 17, 9, 0.9992, 0.0, 0, 0.0, 0.0, 0.8, 0.0)\n",
      "(0.0, 0, 17, 9, 0.0, 0.0, 0, 0.0, 0.0, 0.0, 0.0)\n",
      "(0.0024, 0, 17, 9, 0.0014, 0.0, 0, 0.0, 0.0, 0.0, 0.0)\n",
      "(0.0, 0, 47, 4, 0.0, 0.0, 0, 0.0, 0.0, 0.0, 0.0)\n",
      "(0.0, 0, 42, 4, 0.0, 0.0, 0, 0.0, 0.0, 0.0, 0.0)\n",
      "(0.0, 0, 45, 4, 0.0, 0.0, 0, 0.0, 0.0, 0.0, 0.0)\n",
      "(0.0364, 0, 58, 9, 0.0003, 0.5074, 0, 0.0, 0.0, 0.6, 0.0)\n",
      "(0.0603, 0, 58, 9, 0.0003, 0.4746, 0, 0.0, 0.0, 0.6, 0.0)\n",
      "(0.0, 0, 17, 9, 0.0, 0.9763, 0, 0.0, 0.0, 0.0, 0.0)\n",
      "(0.0, 0, 17, 9, 0.0, 1.0, 0, 0.0, 0.0, 0.0, 0.0)\n",
      "(0.0, 0, 17, 9, 0.0, 0.8614, 0, 0.0, 0.0, 0.0, 0.0)\n",
      "(0.0, 0, 17, 9, 0.0, 0.3555, 0, 0.0, 0.0, 0.2, 0.0)\n",
      "(1, 0)\n",
      "(2, 0)\n",
      "(3, 0)\n",
      "(4, 0)\n",
      "(5, 0)\n",
      "(6, 0)\n",
      "(7, 0)\n",
      "(8, 0)\n",
      "(9, 0)\n",
      "(10, 0)\n",
      "(11, 0)\n",
      "(12, 0)\n",
      "(13, 0)\n",
      "(14, 0)\n",
      "(15, 4)\n",
      "(16, 4)\n",
      "(17, 5)\n",
      "(18, 20)\n",
      "(19, 20)\n",
      "(20, 20)\n",
      "(21, 20)\n",
      "(22, 20)\n",
      "(23, 20)\n",
      "(24, 20)\n",
      "(25, 20)\n",
      "(26, 9)\n",
      "(27, 9)\n",
      "(28, 9)\n",
      "(29, 1)\n",
      "(30, 1)\n",
      "(31, 1)\n",
      "(32, 1)\n",
      "(33, 1)\n",
      "(34, 1)\n"
     ]
    },
    {
     "data": {
      "image/png": "[encoded data removed]",
      "text/plain": [
       "<Figure size 432x288 with 1 Axes>"
      ]
     },
     "metadata": {
      "needs_background": "light"
     },
     "output_type": "display_data"
    },
    {
     "name": "stdout",
     "output_type": "stream",
     "text": [
      "Klist : [2, 4, 8, 16, 32]\n",
      "New instances is \n",
      " [(0.0, 0, 21, 1, 0.0, 0.0, 0, 0.0, 0.0, 0.0, 0.0), (0.0464, 0, 21, 9, 0.0001, 0.0472, 0, 0.0, 0.0, 0.0, 0.0), (0.0, 0, 21, 9, 0.0001, 0.1331, 0, 0.0, 0.0, 0.0, 0.0), (0.0, 0, 21, 9, 0.0, 0.2958, 0, 0.0, 0.0, 0.0, 0.0), (0.0, 0, 21, 9, 0.0001, 0.5528, 0, 0.0, 0.0, 0.0, 0.0), (0.0, 0, 21, 9, 0.0001, 0.0482, 0, 0.0, 0.0, 0.0, 0.0), (0.0, 0, 21, 9, 0.0, 0.0474, 0, 0.0, 0.0, 0.0, 0.0), (0.0, 0, 21, 9, 0.0001, 0.4629, 0, 0.0, 0.0, 0.0, 0.0), (0.0, 0, 21, 9, 0.0001, 0.3842, 0, 0.0, 0.0, 0.0, 0.0), (0.0, 0, 21, 9, 0.0, 0.2368, 0, 0.0, 0.0, 0.0, 0.0), (0.0, 1, 47, 9, 0.0, 0.0, 0, 0.0, 0.0, 0.0, 0.0), (0.0, 1, 47, 9, 0.0, 0.0252, 0, 0.0, 0.0, 0.0, 0.0), (0.001, 1, 47, 9, 0.0, 0.0252, 0, 0.0, 0.0, 0.0, 0.0), (0.0028, 1, 47, 9, 0.0, 0.0252, 0, 0.0, 0.0, 0.0, 0.0), (0.0, 0, 47, 5, 0.0, 0.0, 0, 0.0, 0.0, 0.0, 0.0), (0.0, 0, 42, 5, 0.0, 0.0, 0, 0.0, 0.0, 0.0, 0.0), (0.0, 2, 12, 9, 0.0002, 0.0, 0, 0.0, 0.0, 0.0, 0.0), (0.0, 0, 17, 9, 0.0001, 0.0, 0, 0.0, 0.0, 0.0, 0.0), (0.0008, 0, 17, 9, 0.0002, 0.0, 0, 0.0, 0.0, 0.0, 0.0), (1.0, 0, 17, 9, 0.9997, 0.0, 0, 0.0, 0.0, 0.6, 0.0), (0.9992, 0, 17, 9, 1.0, 0.0, 0, 0.0, 0.0, 1.0, 0.0), (0.9978, 0, 17, 9, 1.0, 0.0, 0, 0.0, 0.0, 0.2, 0.0), (0.9966, 0, 17, 9, 0.9992, 0.0, 0, 0.0, 0.0, 0.8, 0.0), (0.0, 0, 17, 9, 0.0, 0.0, 0, 0.0, 0.0, 0.0, 0.0), (0.0024, 0, 17, 9, 0.0014, 0.0, 0, 0.0, 0.0, 0.0, 0.0), (0.0, 0, 47, 4, 0.0, 0.0, 0, 0.0, 0.0, 0.0, 0.0), (0.0, 0, 42, 4, 0.0, 0.0, 0, 0.0, 0.0, 0.0, 0.0), (0.0, 0, 45, 4, 0.0, 0.0, 0, 0.0, 0.0, 0.0, 0.0), (0.0364, 0, 58, 9, 0.0003, 0.5074, 0, 0.0, 0.0, 0.6, 0.0), (0.0603, 0, 58, 9, 0.0003, 0.4746, 0, 0.0, 0.0, 0.6, 0.0), (0.0, 0, 17, 9, 0.0, 0.9763, 0, 0.0, 0.0, 0.0, 0.0), (0.0, 0, 17, 9, 0.0, 1.0, 0, 0.0, 0.0, 0.0, 0.0), (0.0, 0, 17, 9, 0.0, 0.8614, 0, 0.0, 0.0, 0.0, 0.0), (0.0, 0, 17, 9, 0.0, 0.3555, 0, 0.0, 0.0, 0.2, 0.0)]\n",
      "kList is [2, 4, 8, 16, 32]\n",
      "Kinf:\n",
      " [32, 8, 8, 2, 2, 2, 2, 2, 2, 2, 4, 4, 4, 4, 4, 4, 32, 4, 4, 4, 4, 4, 4, 4, 4, 2, 2, 2, 2, 2, 2, 2, 2, 32]\n",
      "pre_c1:\n",
      " [0.993809234491827, 1.3153457117363898, 1.2683865444425046, 1.019532212832719, 1.129113538881644, 29.001679734735628, 29.001679734735628, 0.8557132255227191, 0.7171695065832014, 1.3372000726377626, 28.16559198595174, 28.16916673837887, 28.16917236576717, 28.16921085695246, 0.2882573931553678, 0.28363692377325656, 0.993825189487864, 37.453781018616354, 37.45403683973389, 8.155882507049542, 4.8420714098809405, 8.037289375745338, 4.787122026884046, 37.45377720032454, 37.45672434254789, 1.6102441040251443, 1.073496069350099, 1.6102441040251443, 304.5739919152406, 302.9534312513669, 1.8126494367860897, 1.8126494367860897, 0.37388852612559165, 0.99384749197083]\n",
      "LOF points 0 2 3.8760913676956754\n",
      "LOF points 2 2 1.4124143337792419\n",
      "LOF points 3 8 1.0251621793226167\n",
      "LOF points 4 4 1.000069561768915\n",
      "LOF points 7 8 1.1054143192741555\n",
      "LOF points 8 8 1.0958249180593467\n",
      "LOF points 10 2 5.978064186399182\n",
      "LOF points 11 8 1.5700379395730617\n",
      "LOF points 12 8 1.5700384729887966\n",
      "LOF points 13 8 1.5700433960099087\n",
      "LOF points 14 16 1.0263464371404782\n",
      "LOF points 15 8 1.5744453474650406\n",
      "LOF points 16 2 18.55731874186372\n",
      "LOF points 19 8 3.7029185818117702\n",
      "LOF points 20 8 3.9241025497679285\n",
      "LOF points 21 2 1.066646125708501\n",
      "LOF points 22 8 3.7992056134932737\n",
      "LOF points 24 2 1.6492371574284679\n",
      "LOF points 25 8 1.0201230012572862\n",
      "LOF points 26 8 1.624175256534203\n",
      "LOF points 27 8 1.0205010428760748\n",
      "LOF points 28 4 1.1701805378537706\n",
      "LOF points 29 4 1.1608687727507976\n",
      "LOF points 30 4 1.0905509304338366\n",
      "LOF points 31 4 1.105997108027596\n",
      "LOF points 32 4 1.0163009304305926\n",
      "LOF points 33 2 1.7267996572768418\n",
      "Ur is \n",
      " [(0.0, 0, 21, 1, 0.0, 0.0, 0, 0.0, 0.0, 0.0, 0.0), (0.0, 0, 21, 9, 0.0001, 0.1331, 0, 0.0, 0.0, 0.0, 0.0), (0.0, 0, 21, 9, 0.0, 0.2958, 0, 0.0, 0.0, 0.0, 0.0), (0.0, 0, 21, 9, 0.0001, 0.5528, 0, 0.0, 0.0, 0.0, 0.0), (0.0, 0, 21, 9, 0.0001, 0.4629, 0, 0.0, 0.0, 0.0, 0.0), (0.0, 0, 21, 9, 0.0001, 0.3842, 0, 0.0, 0.0, 0.0, 0.0), (0.0, 1, 47, 9, 0.0, 0.0, 0, 0.0, 0.0, 0.0, 0.0), (0.0, 1, 47, 9, 0.0, 0.0252, 0, 0.0, 0.0, 0.0, 0.0), (0.001, 1, 47, 9, 0.0, 0.0252, 0, 0.0, 0.0, 0.0, 0.0), (0.0028, 1, 47, 9, 0.0, 0.0252, 0, 0.0, 0.0, 0.0, 0.0), (0.0, 0, 47, 5, 0.0, 0.0, 0, 0.0, 0.0, 0.0, 0.0), (0.0, 0, 42, 5, 0.0, 0.0, 0, 0.0, 0.0, 0.0, 0.0), (0.0, 2, 12, 9, 0.0002, 0.0, 0, 0.0, 0.0, 0.0, 0.0), (1.0, 0, 17, 9, 0.9997, 0.0, 0, 0.0, 0.0, 0.6, 0.0), (0.9992, 0, 17, 9, 1.0, 0.0, 0, 0.0, 0.0, 1.0, 0.0), (0.9978, 0, 17, 9, 1.0, 0.0, 0, 0.0, 0.0, 0.2, 0.0), (0.9966, 0, 17, 9, 0.9992, 0.0, 0, 0.0, 0.0, 0.8, 0.0), (0.0024, 0, 17, 9, 0.0014, 0.0, 0, 0.0, 0.0, 0.0, 0.0), (0.0, 0, 47, 4, 0.0, 0.0, 0, 0.0, 0.0, 0.0, 0.0), (0.0, 0, 42, 4, 0.0, 0.0, 0, 0.0, 0.0, 0.0, 0.0), (0.0, 0, 45, 4, 0.0, 0.0, 0, 0.0, 0.0, 0.0, 0.0), (0.0364, 0, 58, 9, 0.0003, 0.5074, 0, 0.0, 0.0, 0.6, 0.0), (0.0603, 0, 58, 9, 0.0003, 0.4746, 0, 0.0, 0.0, 0.6, 0.0), (0.0, 0, 17, 9, 0.0, 0.9763, 0, 0.0, 0.0, 0.0, 0.0), (0.0, 0, 17, 9, 0.0, 1.0, 0, 0.0, 0.0, 0.0, 0.0), (0.0, 0, 17, 9, 0.0, 0.8614, 0, 0.0, 0.0, 0.0, 0.0), (0.0, 0, 17, 9, 0.0, 0.3555, 0, 0.0, 0.0, 0.2, 0.0)]\n",
      "center is  (0.0364, 0, 58, 9, 0.0003, 0.5074, 0, 0.0, 0.0, 0.6, 0.0) 2\n"
     ]
    },
    {
     "data": {
      "image/png": "[encoded data removed]",
      "text/plain": [
       "<Figure size 432x288 with 1 Axes>"
      ]
     },
     "metadata": {
      "needs_background": "light"
     },
     "output_type": "display_data"
    },
    {
     "name": "stdout",
     "output_type": "stream",
     "text": [
      "New instances is \n",
      " [(0.0, 0, 21, 1, 0.0, 0.0, 0, 0.0, 0.0, 0.0, 0.0), (0.0, 0, 17, 9, 0.0001, 0.0, 0, 0.0, 0.0, 0.0, 0.0), (0.9966, 0, 17, 9, 0.9992, 0.0, 0, 0.0, 0.0, 0.8, 0.0), (0.0464, 0, 21, 9, 0.0001, 0.0472, 0, 0.0, 0.0, 0.0, 0.0), (0.0, 0, 47, 5, 0.0, 0.0, 0, 0.0, 0.0, 0.0, 0.0), (0.0, 0, 17, 9, 0.0, 0.9763, 0, 0.0, 0.0, 0.0, 0.0), (0.0, 0, 17, 9, 0.0, 0.0, 0, 0.0, 0.0, 0.0, 0.0), (0.0, 0, 21, 9, 0.0001, 0.3842, 0, 0.0, 0.0, 0.0, 0.0), (0.0, 0, 42, 4, 0.0, 0.0, 0, 0.0, 0.0, 0.0, 0.0), (0.9978, 0, 17, 9, 1.0, 0.0, 0, 0.0, 0.0, 0.2, 0.0), (0.0, 0, 17, 9, 0.0, 0.3555, 0, 0.0, 0.0, 0.2, 0.0), (0.0, 0, 17, 9, 0.0, 1.0, 0, 0.0, 0.0, 0.0, 0.0), (0.0, 0, 21, 9, 0.0, 0.0474, 0, 0.0, 0.0, 0.0, 0.0), (0.0, 0, 21, 9, 0.0001, 0.0482, 0, 0.0, 0.0, 0.0, 0.0), (0.0, 1, 47, 9, 0.0, 0.0, 0, 0.0, 0.0, 0.0, 0.0), (0.0, 0, 45, 4, 0.0, 0.0, 0, 0.0, 0.0, 0.0, 0.0), (0.0024, 0, 17, 9, 0.0014, 0.0, 0, 0.0, 0.0, 0.0, 0.0), (0.9992, 0, 17, 9, 1.0, 0.0, 0, 0.0, 0.0, 1.0, 0.0), (0.0, 0, 21, 9, 0.0001, 0.4629, 0, 0.0, 0.0, 0.0, 0.0), (0.0, 0, 21, 9, 0.0001, 0.5528, 0, 0.0, 0.0, 0.0, 0.0), (0.0, 0, 21, 9, 0.0, 0.2958, 0, 0.0, 0.0, 0.0, 0.0), (0.0, 0, 42, 5, 0.0, 0.0, 0, 0.0, 0.0, 0.0, 0.0), (0.0, 0, 21, 9, 0.0001, 0.1331, 0, 0.0, 0.0, 0.0, 0.0), (0.0, 0, 17, 9, 0.0, 0.8614, 0, 0.0, 0.0, 0.0, 0.0), (0.0008, 0, 17, 9, 0.0002, 0.0, 0, 0.0, 0.0, 0.0, 0.0), (0.0, 2, 12, 9, 0.0002, 0.0, 0, 0.0, 0.0, 0.0, 0.0), (0.0, 0, 47, 4, 0.0, 0.0, 0, 0.0, 0.0, 0.0, 0.0), (0.0, 0, 21, 9, 0.0, 0.2368, 0, 0.0, 0.0, 0.0, 0.0), (1.0, 0, 17, 9, 0.9997, 0.0, 0, 0.0, 0.0, 0.6, 0.0)]\n",
      "kList is [2, 4, 5, 8, 16, 32]\n",
      "Kinf:\n",
      " [32, 4, 4, 8, 5, 2, 4, 2, 5, 4, 16, 2, 2, 2, 32, 5, 4, 4, 2, 2, 2, 5, 8, 2, 4, 32, 5, 2, 4]\n",
      "pre_c1:\n",
      " [1.0, 47.34627477715034, 4.688424843852431, 1.2086937403850646, 3.677515237839623, 1.7820142647699666, 47.34627168440725, 0.7171695065832014, 3.73132132479971, 7.1358993330041764, 0.9005596480186633, 1.7820142647699666, 29.001679734735628, 29.001679734735628, 1.0, 3.73132132479971, 47.348658981515264, 4.742214937493493, 0.8557132255227191, 1.129113538881644, 1.019532212832719, 3.677515237839623, 1.13545473646308, 0.3675695219760519, 47.346481988636285, 1.0, 3.677515237839623, 1.3372000726377626, 7.240975066288303]\n",
      "LOF points 0 2 3.570844927240958\n",
      "LOF points 1 32 1.0000055913342363\n",
      "LOF points 2 5 1.9826686426481785\n",
      "LOF points 3 32 1.0000055913342363\n",
      "LOF points 4 2 1.0364412196811281\n",
      "LOF points 5 4 1.0958643997792772\n",
      "LOF points 6 32 1.0000055913342363\n",
      "LOF points 7 8 1.0828797862139448\n",
      "LOF points 8 8 1.3523863577441304\n",
      "LOF points 9 2 1.066646125708501\n",
      "LOF points 10 2 1.7957132276211147\n",
      "LOF points 11 4 1.1109249216201\n",
      "LOF points 12 32 1.0000055913342363\n",
      "LOF points 13 32 1.0000055913342363\n",
      "LOF points 14 2 3.1893348355132183\n",
      "LOF points 15 8 1.363885920797818\n",
      "LOF points 16 2 1.6492371574284679\n",
      "LOF points 17 5 2.005415713466021\n",
      "LOF points 18 8 1.0985263054652898\n",
      "LOF points 19 8 1.169026094936373\n",
      "LOF points 20 8 1.0153180562750572\n",
      "LOF points 21 2 1.0135416666666663\n",
      "LOF points 22 2 1.4124143337792419\n",
      "LOF points 23 4 1.0238774839359082\n",
      "LOF points 24 32 1.0000055913342363\n",
      "LOF points 25 2 612.9949499350819\n",
      "LOF points 26 8 1.3719368452569205\n",
      "LOF points 27 32 1.0000055913342363\n",
      "LOF points 28 5 3.062106077044541\n",
      "Ur is \n",
      " [(0.0, 0, 21, 1, 0.0, 0.0, 0, 0.0, 0.0, 0.0, 0.0), (0.0, 0, 17, 9, 0.0001, 0.0, 0, 0.0, 0.0, 0.0, 0.0), (0.9966, 0, 17, 9, 0.9992, 0.0, 0, 0.0, 0.0, 0.8, 0.0), (0.0464, 0, 21, 9, 0.0001, 0.0472, 0, 0.0, 0.0, 0.0, 0.0), (0.0, 0, 47, 5, 0.0, 0.0, 0, 0.0, 0.0, 0.0, 0.0), (0.0, 0, 17, 9, 0.0, 0.9763, 0, 0.0, 0.0, 0.0, 0.0), (0.0, 0, 17, 9, 0.0, 0.0, 0, 0.0, 0.0, 0.0, 0.0), (0.0, 0, 21, 9, 0.0001, 0.3842, 0, 0.0, 0.0, 0.0, 0.0), (0.0, 0, 42, 4, 0.0, 0.0, 0, 0.0, 0.0, 0.0, 0.0), (0.9978, 0, 17, 9, 1.0, 0.0, 0, 0.0, 0.0, 0.2, 0.0), (0.0, 0, 17, 9, 0.0, 0.3555, 0, 0.0, 0.0, 0.2, 0.0), (0.0, 0, 17, 9, 0.0, 1.0, 0, 0.0, 0.0, 0.0, 0.0), (0.0, 0, 21, 9, 0.0, 0.0474, 0, 0.0, 0.0, 0.0, 0.0), (0.0, 0, 21, 9, 0.0001, 0.0482, 0, 0.0, 0.0, 0.0, 0.0), (0.0, 1, 47, 9, 0.0, 0.0, 0, 0.0, 0.0, 0.0, 0.0), (0.0, 0, 45, 4, 0.0, 0.0, 0, 0.0, 0.0, 0.0, 0.0), (0.0024, 0, 17, 9, 0.0014, 0.0, 0, 0.0, 0.0, 0.0, 0.0), (0.9992, 0, 17, 9, 1.0, 0.0, 0, 0.0, 0.0, 1.0, 0.0), (0.0, 0, 21, 9, 0.0001, 0.4629, 0, 0.0, 0.0, 0.0, 0.0), (0.0, 0, 21, 9, 0.0001, 0.5528, 0, 0.0, 0.0, 0.0, 0.0), (0.0, 0, 21, 9, 0.0, 0.2958, 0, 0.0, 0.0, 0.0, 0.0), (0.0, 0, 42, 5, 0.0, 0.0, 0, 0.0, 0.0, 0.0, 0.0), (0.0, 0, 21, 9, 0.0001, 0.1331, 0, 0.0, 0.0, 0.0, 0.0), (0.0, 0, 17, 9, 0.0, 0.8614, 0, 0.0, 0.0, 0.0, 0.0), (0.0008, 0, 17, 9, 0.0002, 0.0, 0, 0.0, 0.0, 0.0, 0.0), (0.0, 2, 12, 9, 0.0002, 0.0, 0, 0.0, 0.0, 0.0, 0.0), (0.0, 0, 47, 4, 0.0, 0.0, 0, 0.0, 0.0, 0.0, 0.0), (0.0, 0, 21, 9, 0.0, 0.2368, 0, 0.0, 0.0, 0.0, 0.0), (1.0, 0, 17, 9, 0.9997, 0.0, 0, 0.0, 0.0, 0.6, 0.0)]\n",
      "center is  (0.0, 0, 17, 9, 0.0001, 0.0, 0, 0.0, 0.0, 0.0, 0.0) 4\n"
     ]
    },
    {
     "data": {
      "image/png": "[encoded data removed]",
      "text/plain": [
       "<Figure size 432x288 with 1 Axes>"
      ]
     },
     "metadata": {
      "needs_background": "light"
     },
     "output_type": "display_data"
    },
    {
     "name": "stdout",
     "output_type": "stream",
     "text": [
      "New instances is \n",
      " [(0.0, 0, 21, 1, 0.0, 0.0, 0, 0.0, 0.0, 0.0, 0.0), (0.9992, 0, 17, 9, 1.0, 0.0, 0, 0.0, 0.0, 1.0, 0.0), (0.9966, 0, 17, 9, 0.9992, 0.0, 0, 0.0, 0.0, 0.8, 0.0), (0.0, 0, 21, 9, 0.0001, 0.4629, 0, 0.0, 0.0, 0.0, 0.0), (0.0464, 0, 21, 9, 0.0001, 0.0472, 0, 0.0, 0.0, 0.0, 0.0), (0.0, 0, 21, 9, 0.0001, 0.5528, 0, 0.0, 0.0, 0.0, 0.0), (0.0, 0, 21, 9, 0.0, 0.2958, 0, 0.0, 0.0, 0.0, 0.0), (0.0, 0, 47, 5, 0.0, 0.0, 0, 0.0, 0.0, 0.0, 0.0), (0.0, 0, 42, 5, 0.0, 0.0, 0, 0.0, 0.0, 0.0, 0.0), (0.0, 0, 17, 9, 0.0, 0.9763, 0, 0.0, 0.0, 0.0, 0.0), (0.0, 0, 21, 9, 0.0001, 0.1331, 0, 0.0, 0.0, 0.0, 0.0), (0.0, 0, 21, 9, 0.0001, 0.3842, 0, 0.0, 0.0, 0.0, 0.0), (0.0, 0, 42, 4, 0.0, 0.0, 0, 0.0, 0.0, 0.0, 0.0), (0.9978, 0, 17, 9, 1.0, 0.0, 0, 0.0, 0.0, 0.2, 0.0), (0.0, 0, 17, 9, 0.0, 0.8614, 0, 0.0, 0.0, 0.0, 0.0), (0.0, 0, 17, 9, 0.0, 1.0, 0, 0.0, 0.0, 0.0, 0.0), (0.0, 0, 21, 9, 0.0, 0.0474, 0, 0.0, 0.0, 0.0, 0.0), (0.0, 2, 12, 9, 0.0002, 0.0, 0, 0.0, 0.0, 0.0, 0.0), (0.0, 0, 21, 9, 0.0001, 0.0482, 0, 0.0, 0.0, 0.0, 0.0), (0.0, 1, 47, 9, 0.0, 0.0, 0, 0.0, 0.0, 0.0, 0.0), (0.0, 0, 47, 4, 0.0, 0.0, 0, 0.0, 0.0, 0.0, 0.0), (0.0, 0, 21, 9, 0.0, 0.2368, 0, 0.0, 0.0, 0.0, 0.0), (0.0, 0, 45, 4, 0.0, 0.0, 0, 0.0, 0.0, 0.0, 0.0), (1.0, 0, 17, 9, 0.9997, 0.0, 0, 0.0, 0.0, 0.6, 0.0)]\n",
      "kList is [2, 4, 5, 8, 16, 32]\n",
      "Kinf:\n",
      " [16, 4, 4, 2, 4, 2, 2, 5, 5, 2, 4, 2, 5, 4, 2, 2, 2, 32, 2, 16, 5, 2, 5, 4]\n",
      "pre_c1:\n",
      " [1.038447007755481, 5.351368723233052, 5.276600855672213, 0.8557132255227191, 1.4696293046319056, 1.129113538881644, 1.019532212832719, 3.677515237839623, 3.677515237839623, 1.7820142647699666, 1.4585154045785198, 0.7171695065832014, 3.73132132479971, 5.142453555097556, 0.3675695219760519, 1.7820142647699666, 29.001679734735628, 1.0, 29.001679734735628, 1.0707175566345124, 3.677515237839623, 1.3372000726377626, 3.73132132479971, 5.217464466939296]\n",
      "LOF points 0 2 3.570844927240958\n",
      "LOF points 1 5 2.236970283821259\n",
      "LOF points 2 5 2.205715943750812\n",
      "LOF points 3 32 1.0000069472942508\n",
      "LOF points 4 32 1.0000069472942505\n",
      "LOF points 5 32 1.0000069472942505\n",
      "LOF points 6 32 1.0000069472942508\n",
      "LOF points 7 2 1.0364412196811281\n",
      "LOF points 8 2 1.0135416666666663\n",
      "LOF points 9 4 1.0901322268629656\n",
      "LOF points 10 2 1.4124143337792419\n",
      "LOF points 11 32 1.0000069472942508\n",
      "LOF points 12 8 1.146309581940109\n",
      "LOF points 13 2 1.066646125708501\n",
      "LOF points 14 4 1.0185218552794606\n",
      "LOF points 15 4 1.1051139711511837\n",
      "LOF points 16 32 1.0000069472942505\n",
      "LOF points 17 2 11.6355463023849\n",
      "LOF points 18 32 1.0000069472942505\n",
      "LOF points 19 2 3.1893348355132183\n",
      "LOF points 20 8 1.1628809641040747\n",
      "LOF points 21 32 1.0000069472942508\n",
      "LOF points 22 8 1.1560568403630311\n",
      "LOF points 23 5 2.1809958485509204\n",
      "Ur is \n",
      " [(0.0, 0, 21, 1, 0.0, 0.0, 0, 0.0, 0.0, 0.0, 0.0), (0.9992, 0, 17, 9, 1.0, 0.0, 0, 0.0, 0.0, 1.0, 0.0), (0.9966, 0, 17, 9, 0.9992, 0.0, 0, 0.0, 0.0, 0.8, 0.0), (0.0, 0, 21, 9, 0.0001, 0.4629, 0, 0.0, 0.0, 0.0, 0.0), (0.0464, 0, 21, 9, 0.0001, 0.0472, 0, 0.0, 0.0, 0.0, 0.0), (0.0, 0, 21, 9, 0.0001, 0.5528, 0, 0.0, 0.0, 0.0, 0.0), (0.0, 0, 21, 9, 0.0, 0.2958, 0, 0.0, 0.0, 0.0, 0.0), (0.0, 0, 47, 5, 0.0, 0.0, 0, 0.0, 0.0, 0.0, 0.0), (0.0, 0, 42, 5, 0.0, 0.0, 0, 0.0, 0.0, 0.0, 0.0), (0.0, 0, 17, 9, 0.0, 0.9763, 0, 0.0, 0.0, 0.0, 0.0), (0.0, 0, 21, 9, 0.0001, 0.1331, 0, 0.0, 0.0, 0.0, 0.0), (0.0, 0, 21, 9, 0.0001, 0.3842, 0, 0.0, 0.0, 0.0, 0.0), (0.0, 0, 42, 4, 0.0, 0.0, 0, 0.0, 0.0, 0.0, 0.0), (0.9978, 0, 17, 9, 1.0, 0.0, 0, 0.0, 0.0, 0.2, 0.0), (0.0, 0, 17, 9, 0.0, 0.8614, 0, 0.0, 0.0, 0.0, 0.0), (0.0, 0, 17, 9, 0.0, 1.0, 0, 0.0, 0.0, 0.0, 0.0), (0.0, 0, 21, 9, 0.0, 0.0474, 0, 0.0, 0.0, 0.0, 0.0), (0.0, 2, 12, 9, 0.0002, 0.0, 0, 0.0, 0.0, 0.0, 0.0), (0.0, 0, 21, 9, 0.0001, 0.0482, 0, 0.0, 0.0, 0.0, 0.0), (0.0, 1, 47, 9, 0.0, 0.0, 0, 0.0, 0.0, 0.0, 0.0), (0.0, 0, 47, 4, 0.0, 0.0, 0, 0.0, 0.0, 0.0, 0.0), (0.0, 0, 21, 9, 0.0, 0.2368, 0, 0.0, 0.0, 0.0, 0.0), (0.0, 0, 45, 4, 0.0, 0.0, 0, 0.0, 0.0, 0.0, 0.0), (1.0, 0, 17, 9, 0.9997, 0.0, 0, 0.0, 0.0, 0.6, 0.0)]\n",
      "center is  (0.0, 2, 12, 9, 0.0002, 0.0, 0, 0.0, 0.0, 0.0, 0.0) 32\n"
     ]
    },
    {
     "data": {
      "image/png": "[encoded data removed]",
      "text/plain": [
       "<Figure size 432x288 with 1 Axes>"
      ]
     },
     "metadata": {
      "needs_background": "light"
     },
     "output_type": "display_data"
    },
    {
     "name": "stdout",
     "output_type": "stream",
     "text": [
      "group 0 is \n",
      " [(0.0364, 0, 58, 9, 0.0003, 0.5074, 0, 0.0, 0.0, 0.6, 0.0), (0.0603, 0, 58, 9, 0.0003, 0.4746, 0, 0.0, 0.0, 0.6, 0.0), (0.0028, 1, 47, 9, 0.0, 0.0252, 0, 0.0, 0.0, 0.0, 0.0), (0.001, 1, 47, 9, 0.0, 0.0252, 0, 0.0, 0.0, 0.0, 0.0), (0.0, 1, 47, 9, 0.0, 0.0252, 0, 0.0, 0.0, 0.0, 0.0)]\n",
      "group 0 label is \n",
      " [(29, 1), (30, 1), (14, 0), (13, 0), (12, 0)]\n",
      "group 1 is \n",
      " [(0.0, 0, 17, 9, 0.0001, 0.0, 0, 0.0, 0.0, 0.0, 0.0), (0.0, 0, 17, 9, 0.0, 0.0, 0, 0.0, 0.0, 0.0, 0.0), (0.0008, 0, 17, 9, 0.0002, 0.0, 0, 0.0, 0.0, 0.0, 0.0), (0.0024, 0, 17, 9, 0.0014, 0.0, 0, 0.0, 0.0, 0.0, 0.0), (0.0, 0, 17, 9, 0.0, 0.3555, 0, 0.0, 0.0, 0.2, 0.0)]\n",
      "group 1 label is \n",
      " [(18, 20), (24, 20), (19, 20), (25, 20), (34, 1)]\n",
      "group 2 is \n",
      " [(0.0, 2, 12, 9, 0.0002, 0.0, 0, 0.0, 0.0, 0.0, 0.0), (0.0, 0, 17, 9, 0.0, 0.8614, 0, 0.0, 0.0, 0.0, 0.0), (0.0, 0, 17, 9, 0.0, 0.9763, 0, 0.0, 0.0, 0.0, 0.0), (0.0, 0, 17, 9, 0.0, 1.0, 0, 0.0, 0.0, 0.0, 0.0), (0.9978, 0, 17, 9, 1.0, 0.0, 0, 0.0, 0.0, 0.2, 0.0), (1.0, 0, 17, 9, 0.9997, 0.0, 0, 0.0, 0.0, 0.6, 0.0), (0.9966, 0, 17, 9, 0.9992, 0.0, 0, 0.0, 0.0, 0.8, 0.0), (0.9992, 0, 17, 9, 1.0, 0.0, 0, 0.0, 0.0, 1.0, 0.0), (0.0, 0, 21, 9, 0.0, 0.0474, 0, 0.0, 0.0, 0.0, 0.0), (0.0, 0, 21, 9, 0.0001, 0.0482, 0, 0.0, 0.0, 0.0, 0.0), (0.0464, 0, 21, 9, 0.0001, 0.0472, 0, 0.0, 0.0, 0.0, 0.0), (0.0, 0, 21, 9, 0.0001, 0.1331, 0, 0.0, 0.0, 0.0, 0.0), (0.0, 0, 21, 9, 0.0, 0.2368, 0, 0.0, 0.0, 0.0, 0.0), (0.0, 0, 21, 9, 0.0, 0.2958, 0, 0.0, 0.0, 0.0, 0.0), (0.0, 0, 21, 9, 0.0001, 0.3842, 0, 0.0, 0.0, 0.0, 0.0), (0.0, 0, 21, 9, 0.0001, 0.4629, 0, 0.0, 0.0, 0.0, 0.0), (0.0, 0, 21, 9, 0.0001, 0.5528, 0, 0.0, 0.0, 0.0, 0.0), (0.0, 0, 21, 1, 0.0, 0.0, 0, 0.0, 0.0, 0.0, 0.0), (0.0, 0, 42, 5, 0.0, 0.0, 0, 0.0, 0.0, 0.0, 0.0), (0.0, 0, 42, 4, 0.0, 0.0, 0, 0.0, 0.0, 0.0, 0.0), (0.0, 0, 45, 4, 0.0, 0.0, 0, 0.0, 0.0, 0.0, 0.0), (0.0, 1, 47, 9, 0.0, 0.0, 0, 0.0, 0.0, 0.0, 0.0), (0.0, 0, 47, 5, 0.0, 0.0, 0, 0.0, 0.0, 0.0, 0.0), (0.0, 0, 47, 4, 0.0, 0.0, 0, 0.0, 0.0, 0.0, 0.0)]\n",
      "group 2 label is \n",
      " [(17, 5), (33, 1), (31, 1), (32, 1), (22, 20), (20, 20), (23, 20), (21, 20), (7, 0), (6, 0), (2, 0), (3, 0), (10, 0), (4, 0), (9, 0), (8, 0), (5, 0), (1, 0), (16, 4), (27, 9), (28, 9), (11, 0), (15, 4), (26, 9)]\n"
     ]
    },
    {
     "data": {
      "image/png": "[encoded data removed]",
      "text/plain": [
       "<Figure size 432x288 with 1 Axes>"
      ]
     },
     "metadata": {
      "needs_background": "light"
     },
     "output_type": "display_data"
    }
   ],
   "source": [
    "%run RCD.py"
   ]
  },
  {
   "cell_type": "code",
   "execution_count": 4,
   "metadata": {
    "scrolled": true
   },
   "outputs": [
    {
     "name": "stdout",
     "output_type": "stream",
     "text": [
      "(0.0, 0, 21, 1, 0.0, 0.0, 0, 0.0, 0.0, 0.0, 0.0)\n",
      "(0.0464, 0, 21, 9, 0.0001, 0.0472, 0, 0.0, 0.0, 0.0, 0.0)\n",
      "(0.0, 0, 21, 9, 0.0001, 0.1331, 0, 0.0, 0.0, 0.0, 0.0)\n",
      "(0.0, 0, 21, 9, 0.0, 0.2958, 0, 0.0, 0.0, 0.0, 0.0)\n",
      "(0.0, 0, 21, 9, 0.0001, 0.5528, 0, 0.0, 0.0, 0.0, 0.0)\n",
      "(0.0, 0, 21, 9, 0.0001, 0.0482, 0, 0.0, 0.0, 0.0, 0.0)\n",
      "(0.0, 0, 21, 9, 0.0, 0.0474, 0, 0.0, 0.0, 0.0, 0.0)\n",
      "(0.0, 0, 21, 9, 0.0001, 0.4629, 0, 0.0, 0.0, 0.0, 0.0)\n",
      "(0.0, 0, 21, 9, 0.0001, 0.3842, 0, 0.0, 0.0, 0.0, 0.0)\n",
      "(0.0, 0, 21, 9, 0.0, 0.2368, 0, 0.0, 0.0, 0.0, 0.0)\n",
      "(0.0, 1, 47, 9, 0.0, 0.0, 0, 0.0, 0.0, 0.0, 0.0)\n",
      "(0.0, 1, 47, 9, 0.0, 0.0252, 0, 0.0, 0.0, 0.0, 0.0)\n",
      "(0.001, 1, 47, 9, 0.0, 0.0252, 0, 0.0, 0.0, 0.0, 0.0)\n",
      "(0.0028, 1, 47, 9, 0.0, 0.0252, 0, 0.0, 0.0, 0.0, 0.0)\n",
      "(0.0, 0, 47, 5, 0.0, 0.0, 0, 0.0, 0.0, 0.0, 0.0)\n",
      "(0.0, 0, 42, 5, 0.0, 0.0, 0, 0.0, 0.0, 0.0, 0.0)\n",
      "(0.0, 2, 12, 9, 0.0002, 0.0, 0, 0.0, 0.0, 0.0, 0.0)\n",
      "(0.0, 0, 17, 9, 0.0001, 0.0, 0, 0.0, 0.0, 0.0, 0.0)\n",
      "(0.0008, 0, 17, 9, 0.0002, 0.0, 0, 0.0, 0.0, 0.0, 0.0)\n",
      "(1.0, 0, 17, 9, 0.9997, 0.0, 0, 0.0, 0.0, 0.6, 0.0)\n",
      "(0.9992, 0, 17, 9, 1.0, 0.0, 0, 0.0, 0.0, 1.0, 0.0)\n",
      "(0.9978, 0, 17, 9, 1.0, 0.0, 0, 0.0, 0.0, 0.2, 0.0)\n",
      "(0.9966, 0, 17, 9, 0.9992, 0.0, 0, 0.0, 0.0, 0.8, 0.0)\n",
      "(0.0, 0, 17, 9, 0.0, 0.0, 0, 0.0, 0.0, 0.0, 0.0)\n",
      "(0.0024, 0, 17, 9, 0.0014, 0.0, 0, 0.0, 0.0, 0.0, 0.0)\n",
      "(0.0, 0, 47, 4, 0.0, 0.0, 0, 0.0, 0.0, 0.0, 0.0)\n",
      "(0.0, 0, 42, 4, 0.0, 0.0, 0, 0.0, 0.0, 0.0, 0.0)\n",
      "(0.0, 0, 45, 4, 0.0, 0.0, 0, 0.0, 0.0, 0.0, 0.0)\n",
      "(0.0364, 0, 58, 9, 0.0003, 0.5074, 0, 0.0, 0.0, 0.6, 0.0)\n",
      "(0.0603, 0, 58, 9, 0.0003, 0.4746, 0, 0.0, 0.0, 0.6, 0.0)\n",
      "(0.0, 0, 17, 9, 0.0, 0.9763, 0, 0.0, 0.0, 0.0, 0.0)\n",
      "(0.0, 0, 17, 9, 0.0, 1.0, 0, 0.0, 0.0, 0.0, 0.0)\n",
      "(0.0, 0, 17, 9, 0.0, 0.8614, 0, 0.0, 0.0, 0.0, 0.0)\n",
      "(0.0, 0, 17, 9, 0.0, 0.3555, 0, 0.0, 0.0, 0.2, 0.0)\n",
      "(1, 0)\n",
      "(2, 0)\n",
      "(3, 0)\n",
      "(4, 0)\n",
      "(5, 0)\n",
      "(6, 0)\n",
      "(7, 0)\n",
      "(8, 0)\n",
      "(9, 0)\n",
      "(10, 0)\n",
      "(11, 0)\n",
      "(12, 0)\n",
      "(13, 0)\n",
      "(14, 0)\n",
      "(15, 4)\n",
      "(16, 4)\n",
      "(17, 5)\n",
      "(18, 20)\n",
      "(19, 20)\n",
      "(20, 20)\n",
      "(21, 20)\n",
      "(22, 20)\n",
      "(23, 20)\n",
      "(24, 20)\n",
      "(25, 20)\n",
      "(26, 9)\n",
      "(27, 9)\n",
      "(28, 9)\n",
      "(29, 1)\n",
      "(30, 1)\n",
      "(31, 1)\n",
      "(32, 1)\n",
      "(33, 1)\n",
      "(34, 1)\n"
     ]
    },
    {
     "data": {
      "image/png": "[encoded data removed]",
      "text/plain": [
       "<Figure size 432x288 with 1 Axes>"
      ]
     },
     "metadata": {
      "needs_background": "light"
     },
     "output_type": "display_data"
    },
    {
     "name": "stdout",
     "output_type": "stream",
     "text": [
      "Klist : [4, 8, 12, 16, 20, 24, 28, 32]\n",
      "New instances is \n",
      " [(0.0, 0, 21, 1, 0.0, 0.0, 0, 0.0, 0.0, 0.0, 0.0), (0.0464, 0, 21, 9, 0.0001, 0.0472, 0, 0.0, 0.0, 0.0, 0.0), (0.0, 0, 21, 9, 0.0001, 0.1331, 0, 0.0, 0.0, 0.0, 0.0), (0.0, 0, 21, 9, 0.0, 0.2958, 0, 0.0, 0.0, 0.0, 0.0), (0.0, 0, 21, 9, 0.0001, 0.5528, 0, 0.0, 0.0, 0.0, 0.0), (0.0, 0, 21, 9, 0.0001, 0.0482, 0, 0.0, 0.0, 0.0, 0.0), (0.0, 0, 21, 9, 0.0, 0.0474, 0, 0.0, 0.0, 0.0, 0.0), (0.0, 0, 21, 9, 0.0001, 0.4629, 0, 0.0, 0.0, 0.0, 0.0), (0.0, 0, 21, 9, 0.0001, 0.3842, 0, 0.0, 0.0, 0.0, 0.0), (0.0, 0, 21, 9, 0.0, 0.2368, 0, 0.0, 0.0, 0.0, 0.0), (0.0, 1, 47, 9, 0.0, 0.0, 0, 0.0, 0.0, 0.0, 0.0), (0.0, 1, 47, 9, 0.0, 0.0252, 0, 0.0, 0.0, 0.0, 0.0), (0.001, 1, 47, 9, 0.0, 0.0252, 0, 0.0, 0.0, 0.0, 0.0), (0.0028, 1, 47, 9, 0.0, 0.0252, 0, 0.0, 0.0, 0.0, 0.0), (0.0, 0, 47, 5, 0.0, 0.0, 0, 0.0, 0.0, 0.0, 0.0), (0.0, 0, 42, 5, 0.0, 0.0, 0, 0.0, 0.0, 0.0, 0.0), (0.0, 2, 12, 9, 0.0002, 0.0, 0, 0.0, 0.0, 0.0, 0.0), (0.0, 0, 17, 9, 0.0001, 0.0, 0, 0.0, 0.0, 0.0, 0.0), (0.0008, 0, 17, 9, 0.0002, 0.0, 0, 0.0, 0.0, 0.0, 0.0), (1.0, 0, 17, 9, 0.9997, 0.0, 0, 0.0, 0.0, 0.6, 0.0), (0.9992, 0, 17, 9, 1.0, 0.0, 0, 0.0, 0.0, 1.0, 0.0), (0.9978, 0, 17, 9, 1.0, 0.0, 0, 0.0, 0.0, 0.2, 0.0), (0.9966, 0, 17, 9, 0.9992, 0.0, 0, 0.0, 0.0, 0.8, 0.0), (0.0, 0, 17, 9, 0.0, 0.0, 0, 0.0, 0.0, 0.0, 0.0), (0.0024, 0, 17, 9, 0.0014, 0.0, 0, 0.0, 0.0, 0.0, 0.0), (0.0, 0, 47, 4, 0.0, 0.0, 0, 0.0, 0.0, 0.0, 0.0), (0.0, 0, 42, 4, 0.0, 0.0, 0, 0.0, 0.0, 0.0, 0.0), (0.0, 0, 45, 4, 0.0, 0.0, 0, 0.0, 0.0, 0.0, 0.0), (0.0364, 0, 58, 9, 0.0003, 0.5074, 0, 0.0, 0.0, 0.6, 0.0), (0.0603, 0, 58, 9, 0.0003, 0.4746, 0, 0.0, 0.0, 0.6, 0.0), (0.0, 0, 17, 9, 0.0, 0.9763, 0, 0.0, 0.0, 0.0, 0.0), (0.0, 0, 17, 9, 0.0, 1.0, 0, 0.0, 0.0, 0.0, 0.0), (0.0, 0, 17, 9, 0.0, 0.8614, 0, 0.0, 0.0, 0.0, 0.0), (0.0, 0, 17, 9, 0.0, 0.3555, 0, 0.0, 0.0, 0.2, 0.0)]\n",
      "kList is [4, 8, 12, 16, 20, 24, 28, 32]\n",
      "Kinf:\n",
      " [28, 8, 8, 12, 28, 8, 8, 4, 4, 4, 4, 4, 4, 4, 4, 4, 32, 4, 4, 4, 4, 4, 4, 4, 4, 4, 4, 4, 28, 28, 28, 28, 28, 12]\n",
      "pre_c1:\n",
      " [1.0184141456518767, 1.3153457117363898, 1.2683865444425046, 0.9334214423874513, 1.049387548579293, 1.3153457117363905, 1.3153457117363898, 1.0551218819939727, 1.0815413391451556, 1.146097882044031, 28.16559198595174, 28.16916673837887, 28.16917236576717, 28.16921085695246, 0.2882573931553678, 0.28363692377325656, 0.993825189487864, 37.453781018616354, 37.45403683973389, 8.155882507049542, 4.8420714098809405, 8.037289375745338, 4.787122026884046, 37.45377720032454, 37.45672434254789, 0.2972129892586539, 0.29230340702681024, 0.2972129892586539, 1.019555515616822, 1.0197290072240346, 1.0482362586990053, 1.045031965716727, 1.049387548579293, 0.9334214423874515]\n",
      "LOF points 0 4 3.2540970577823245\n",
      "LOF points 3 8 1.0251621793226167\n",
      "LOF points 4 4 1.000069561768915\n",
      "LOF points 7 8 1.1054143192741555\n",
      "LOF points 8 8 1.0958249180593467\n",
      "LOF points 10 8 1.5705400652499937\n",
      "LOF points 11 8 1.5700379395730617\n",
      "LOF points 12 8 1.5700384729887966\n",
      "LOF points 13 8 1.5700433960099087\n",
      "LOF points 14 12 1.164194014567775\n",
      "LOF points 15 8 1.5744453474650406\n",
      "LOF points 16 4 1.2154955710784194\n",
      "LOF points 19 8 3.7029185818117702\n",
      "LOF points 20 8 3.9241025497679285\n",
      "LOF points 21 8 3.894820956785498\n",
      "LOF points 22 8 3.7992056134932737\n",
      "LOF points 25 8 1.0201230012572862\n",
      "LOF points 26 8 1.624175256534203\n",
      "LOF points 27 8 1.0205010428760748\n",
      "LOF points 28 4 1.1701805378537706\n",
      "LOF points 29 4 1.1608687727507976\n",
      "LOF points 30 4 1.0905509304338366\n",
      "LOF points 31 4 1.105997108027596\n",
      "LOF points 32 4 1.0163009304305926\n",
      "LOF points 33 4 1.0994388205306647\n",
      "Ur is \n",
      " [(0.0, 0, 21, 1, 0.0, 0.0, 0, 0.0, 0.0, 0.0, 0.0), (0.0, 0, 21, 9, 0.0, 0.2958, 0, 0.0, 0.0, 0.0, 0.0), (0.0, 0, 21, 9, 0.0001, 0.5528, 0, 0.0, 0.0, 0.0, 0.0), (0.0, 0, 21, 9, 0.0001, 0.4629, 0, 0.0, 0.0, 0.0, 0.0), (0.0, 0, 21, 9, 0.0001, 0.3842, 0, 0.0, 0.0, 0.0, 0.0), (0.0, 1, 47, 9, 0.0, 0.0, 0, 0.0, 0.0, 0.0, 0.0), (0.0, 1, 47, 9, 0.0, 0.0252, 0, 0.0, 0.0, 0.0, 0.0), (0.001, 1, 47, 9, 0.0, 0.0252, 0, 0.0, 0.0, 0.0, 0.0), (0.0028, 1, 47, 9, 0.0, 0.0252, 0, 0.0, 0.0, 0.0, 0.0), (0.0, 0, 47, 5, 0.0, 0.0, 0, 0.0, 0.0, 0.0, 0.0), (0.0, 0, 42, 5, 0.0, 0.0, 0, 0.0, 0.0, 0.0, 0.0), (0.0, 2, 12, 9, 0.0002, 0.0, 0, 0.0, 0.0, 0.0, 0.0), (1.0, 0, 17, 9, 0.9997, 0.0, 0, 0.0, 0.0, 0.6, 0.0), (0.9992, 0, 17, 9, 1.0, 0.0, 0, 0.0, 0.0, 1.0, 0.0), (0.9978, 0, 17, 9, 1.0, 0.0, 0, 0.0, 0.0, 0.2, 0.0), (0.9966, 0, 17, 9, 0.9992, 0.0, 0, 0.0, 0.0, 0.8, 0.0), (0.0, 0, 47, 4, 0.0, 0.0, 0, 0.0, 0.0, 0.0, 0.0), (0.0, 0, 42, 4, 0.0, 0.0, 0, 0.0, 0.0, 0.0, 0.0), (0.0, 0, 45, 4, 0.0, 0.0, 0, 0.0, 0.0, 0.0, 0.0), (0.0364, 0, 58, 9, 0.0003, 0.5074, 0, 0.0, 0.0, 0.6, 0.0), (0.0603, 0, 58, 9, 0.0003, 0.4746, 0, 0.0, 0.0, 0.6, 0.0), (0.0, 0, 17, 9, 0.0, 0.9763, 0, 0.0, 0.0, 0.0, 0.0), (0.0, 0, 17, 9, 0.0, 1.0, 0, 0.0, 0.0, 0.0, 0.0), (0.0, 0, 17, 9, 0.0, 0.8614, 0, 0.0, 0.0, 0.0, 0.0), (0.0, 0, 17, 9, 0.0, 0.3555, 0, 0.0, 0.0, 0.2, 0.0)]\n",
      "center is  (0.001, 1, 47, 9, 0.0, 0.0252, 0, 0.0, 0.0, 0.0, 0.0) 4\n"
     ]
    },
    {
     "data": {
      "image/png": "[encoded data removed]",
      "text/plain": [
       "<Figure size 432x288 with 1 Axes>"
      ]
     },
     "metadata": {
      "needs_background": "light"
     },
     "output_type": "display_data"
    },
    {
     "name": "stdout",
     "output_type": "stream",
     "text": [
      "New instances is \n",
      " [(0.0, 0, 21, 1, 0.0, 0.0, 0, 0.0, 0.0, 0.0, 0.0), (0.0, 0, 17, 9, 0.0001, 0.0, 0, 0.0, 0.0, 0.0, 0.0), (0.9966, 0, 17, 9, 0.9992, 0.0, 0, 0.0, 0.0, 0.8, 0.0), (0.0464, 0, 21, 9, 0.0001, 0.0472, 0, 0.0, 0.0, 0.0, 0.0), (0.0, 0, 17, 9, 0.0, 0.9763, 0, 0.0, 0.0, 0.0, 0.0), (0.0, 0, 17, 9, 0.0, 0.0, 0, 0.0, 0.0, 0.0, 0.0), (0.0, 0, 21, 9, 0.0001, 0.3842, 0, 0.0, 0.0, 0.0, 0.0), (0.0, 0, 42, 4, 0.0, 0.0, 0, 0.0, 0.0, 0.0, 0.0), (0.9978, 0, 17, 9, 1.0, 0.0, 0, 0.0, 0.0, 0.2, 0.0), (0.0, 0, 17, 9, 0.0, 0.3555, 0, 0.0, 0.0, 0.2, 0.0), (0.0, 0, 17, 9, 0.0, 1.0, 0, 0.0, 0.0, 0.0, 0.0), (0.0, 0, 21, 9, 0.0, 0.0474, 0, 0.0, 0.0, 0.0, 0.0), (0.0, 0, 21, 9, 0.0001, 0.0482, 0, 0.0, 0.0, 0.0, 0.0), (0.0603, 0, 58, 9, 0.0003, 0.4746, 0, 0.0, 0.0, 0.6, 0.0), (0.0, 0, 45, 4, 0.0, 0.0, 0, 0.0, 0.0, 0.0, 0.0), (0.0024, 0, 17, 9, 0.0014, 0.0, 0, 0.0, 0.0, 0.0, 0.0), (0.9992, 0, 17, 9, 1.0, 0.0, 0, 0.0, 0.0, 1.0, 0.0), (0.0, 0, 21, 9, 0.0001, 0.4629, 0, 0.0, 0.0, 0.0, 0.0), (0.0, 0, 21, 9, 0.0001, 0.5528, 0, 0.0, 0.0, 0.0, 0.0), (0.0, 0, 21, 9, 0.0, 0.2958, 0, 0.0, 0.0, 0.0, 0.0), (0.0, 0, 42, 5, 0.0, 0.0, 0, 0.0, 0.0, 0.0, 0.0), (0.0, 0, 21, 9, 0.0001, 0.1331, 0, 0.0, 0.0, 0.0, 0.0), (0.0364, 0, 58, 9, 0.0003, 0.5074, 0, 0.0, 0.0, 0.6, 0.0), (0.0, 0, 17, 9, 0.0, 0.8614, 0, 0.0, 0.0, 0.0, 0.0), (0.0008, 0, 17, 9, 0.0002, 0.0, 0, 0.0, 0.0, 0.0, 0.0), (0.0, 2, 12, 9, 0.0002, 0.0, 0, 0.0, 0.0, 0.0, 0.0), (0.0, 0, 21, 9, 0.0, 0.2368, 0, 0.0, 0.0, 0.0, 0.0), (1.0, 0, 17, 9, 0.9997, 0.0, 0, 0.0, 0.0, 0.6, 0.0)]\n",
      "kList is [4, 6, 8, 12, 16, 20, 24, 28, 32]\n",
      "Kinf:\n",
      " [4, 4, 4, 8, 24, 4, 24, 4, 4, 24, 24, 8, 8, 24, 4, 4, 4, 24, 24, 24, 4, 8, 24, 24, 4, 24, 24, 4]\n",
      "pre_c1:\n",
      " [2.964974197061544, 37.453781018616354, 4.787122026884046, 1.3153457117363898, 1.1668677709727515, 37.45377720032454, 1.1668677709727517, 2.808325934080838, 8.037289375745338, 1.1668677709727517, 1.1668677709727515, 1.3153457117363898, 1.3153457117363905, 1.1694752637520274, 2.8361588969881133, 37.45672434254789, 4.8420714098809405, 1.1668677709727517, 1.1668677709727517, 1.1668677709727517, 2.741205688716135, 1.2683865444425046, 1.169475263752028, 1.1668677709727522, 37.45403683973389, 1.166900798499863, 1.166867770972751, 8.155882507049542]\n",
      "LOF points 0 6 3.246480952992016\n",
      "LOF points 1 28 1.0000047045928104\n",
      "LOF points 2 6 3.8790598286694364\n",
      "LOF points 3 28 1.0000047045928104\n",
      "LOF points 4 4 1.0905509304338366\n",
      "LOF points 5 28 1.0000047045928104\n",
      "LOF points 6 8 1.0958249180593467\n",
      "LOF points 7 6 2.968586615520168\n",
      "LOF points 8 6 5.228892064270307\n",
      "LOF points 9 4 1.0994388205306647\n",
      "LOF points 10 4 1.105997108027596\n",
      "LOF points 11 28 1.0000047045928104\n",
      "LOF points 12 28 1.0000047045928104\n",
      "LOF points 13 4 1.8492621231189195\n",
      "LOF points 14 6 3.0179620716263984\n",
      "LOF points 15 28 1.0000047045928104\n",
      "LOF points 16 6 3.9612774345545354\n",
      "LOF points 17 8 1.1054143192741555\n",
      "LOF points 18 4 1.000069561768915\n",
      "LOF points 19 8 1.0251621793226167\n",
      "LOF points 20 6 2.849516556637262\n",
      "LOF points 21 6 1.0791651614018163\n",
      "LOF points 22 4 1.857917187441084\n",
      "LOF points 23 4 1.0163009304305926\n",
      "LOF points 24 28 1.0000047045928104\n",
      "LOF points 25 4 7.866767608856614\n",
      "LOF points 26 6 1.2075987704041726\n",
      "LOF points 27 6 3.8172374650241316\n",
      "Ur is \n",
      " [(0.0, 0, 21, 1, 0.0, 0.0, 0, 0.0, 0.0, 0.0, 0.0), (0.0, 0, 17, 9, 0.0001, 0.0, 0, 0.0, 0.0, 0.0, 0.0), (0.9966, 0, 17, 9, 0.9992, 0.0, 0, 0.0, 0.0, 0.8, 0.0), (0.0464, 0, 21, 9, 0.0001, 0.0472, 0, 0.0, 0.0, 0.0, 0.0), (0.0, 0, 17, 9, 0.0, 0.9763, 0, 0.0, 0.0, 0.0, 0.0), (0.0, 0, 17, 9, 0.0, 0.0, 0, 0.0, 0.0, 0.0, 0.0), (0.0, 0, 21, 9, 0.0001, 0.3842, 0, 0.0, 0.0, 0.0, 0.0), (0.0, 0, 42, 4, 0.0, 0.0, 0, 0.0, 0.0, 0.0, 0.0), (0.9978, 0, 17, 9, 1.0, 0.0, 0, 0.0, 0.0, 0.2, 0.0), (0.0, 0, 17, 9, 0.0, 0.3555, 0, 0.0, 0.0, 0.2, 0.0), (0.0, 0, 17, 9, 0.0, 1.0, 0, 0.0, 0.0, 0.0, 0.0), (0.0, 0, 21, 9, 0.0, 0.0474, 0, 0.0, 0.0, 0.0, 0.0), (0.0, 0, 21, 9, 0.0001, 0.0482, 0, 0.0, 0.0, 0.0, 0.0), (0.0603, 0, 58, 9, 0.0003, 0.4746, 0, 0.0, 0.0, 0.6, 0.0), (0.0, 0, 45, 4, 0.0, 0.0, 0, 0.0, 0.0, 0.0, 0.0), (0.0024, 0, 17, 9, 0.0014, 0.0, 0, 0.0, 0.0, 0.0, 0.0), (0.9992, 0, 17, 9, 1.0, 0.0, 0, 0.0, 0.0, 1.0, 0.0), (0.0, 0, 21, 9, 0.0001, 0.4629, 0, 0.0, 0.0, 0.0, 0.0), (0.0, 0, 21, 9, 0.0001, 0.5528, 0, 0.0, 0.0, 0.0, 0.0), (0.0, 0, 21, 9, 0.0, 0.2958, 0, 0.0, 0.0, 0.0, 0.0), (0.0, 0, 42, 5, 0.0, 0.0, 0, 0.0, 0.0, 0.0, 0.0), (0.0, 0, 21, 9, 0.0001, 0.1331, 0, 0.0, 0.0, 0.0, 0.0), (0.0364, 0, 58, 9, 0.0003, 0.5074, 0, 0.0, 0.0, 0.6, 0.0), (0.0, 0, 17, 9, 0.0, 0.8614, 0, 0.0, 0.0, 0.0, 0.0), (0.0008, 0, 17, 9, 0.0002, 0.0, 0, 0.0, 0.0, 0.0, 0.0), (0.0, 2, 12, 9, 0.0002, 0.0, 0, 0.0, 0.0, 0.0, 0.0), (0.0, 0, 21, 9, 0.0, 0.2368, 0, 0.0, 0.0, 0.0, 0.0), (1.0, 0, 17, 9, 0.9997, 0.0, 0, 0.0, 0.0, 0.6, 0.0)]\n",
      "center is  (0.0, 0, 17, 9, 0.0001, 0.0, 0, 0.0, 0.0, 0.0, 0.0) 4\n"
     ]
    },
    {
     "data": {
      "image/png": "[encoded data removed]",
      "text/plain": [
       "<Figure size 432x288 with 1 Axes>"
      ]
     },
     "metadata": {
      "needs_background": "light"
     },
     "output_type": "display_data"
    },
    {
     "name": "stdout",
     "output_type": "stream",
     "text": [
      "New instances is \n",
      " [(0.0, 0, 21, 1, 0.0, 0.0, 0, 0.0, 0.0, 0.0, 0.0), (0.9992, 0, 17, 9, 1.0, 0.0, 0, 0.0, 0.0, 1.0, 0.0), (0.9966, 0, 17, 9, 0.9992, 0.0, 0, 0.0, 0.0, 0.8, 0.0), (0.0, 0, 21, 9, 0.0001, 0.4629, 0, 0.0, 0.0, 0.0, 0.0), (0.0464, 0, 21, 9, 0.0001, 0.0472, 0, 0.0, 0.0, 0.0, 0.0), (0.0, 0, 21, 9, 0.0001, 0.5528, 0, 0.0, 0.0, 0.0, 0.0), (0.0, 0, 21, 9, 0.0, 0.2958, 0, 0.0, 0.0, 0.0, 0.0), (0.0, 0, 42, 5, 0.0, 0.0, 0, 0.0, 0.0, 0.0, 0.0), (0.0, 0, 17, 9, 0.0, 0.9763, 0, 0.0, 0.0, 0.0, 0.0), (0.0, 0, 21, 9, 0.0001, 0.1331, 0, 0.0, 0.0, 0.0, 0.0), (0.0364, 0, 58, 9, 0.0003, 0.5074, 0, 0.0, 0.0, 0.6, 0.0), (0.0, 0, 21, 9, 0.0001, 0.3842, 0, 0.0, 0.0, 0.0, 0.0), (0.0, 0, 42, 4, 0.0, 0.0, 0, 0.0, 0.0, 0.0, 0.0), (0.9978, 0, 17, 9, 1.0, 0.0, 0, 0.0, 0.0, 0.2, 0.0), (0.0, 0, 17, 9, 0.0, 0.8614, 0, 0.0, 0.0, 0.0, 0.0), (0.0, 0, 17, 9, 0.0, 1.0, 0, 0.0, 0.0, 0.0, 0.0), (0.0, 0, 21, 9, 0.0, 0.0474, 0, 0.0, 0.0, 0.0, 0.0), (0.0, 2, 12, 9, 0.0002, 0.0, 0, 0.0, 0.0, 0.0, 0.0), (0.0, 0, 21, 9, 0.0001, 0.0482, 0, 0.0, 0.0, 0.0, 0.0), (0.0603, 0, 58, 9, 0.0003, 0.4746, 0, 0.0, 0.0, 0.6, 0.0), (0.0, 0, 21, 9, 0.0, 0.2368, 0, 0.0, 0.0, 0.0, 0.0), (0.0, 0, 45, 4, 0.0, 0.0, 0, 0.0, 0.0, 0.0, 0.0), (1.0, 0, 17, 9, 0.9997, 0.0, 0, 0.0, 0.0, 0.6, 0.0)]\n",
      "kList is [4, 5, 6, 8, 12, 16, 20, 24, 28, 32]\n",
      "Kinf:\n",
      " [4, 4, 4, 5, 4, 12, 5, 4, 12, 4, 20, 5, 4, 4, 12, 12, 4, 20, 4, 20, 5, 4, 4]\n",
      "pre_c1:\n",
      " [2.0384156541357012, 5.34149968884901, 5.266712223357429, 1.043095129084143, 1.4696293046319056, 1.089169537361268, 1.0445303576728238, 1.884575114556662, 1.0938761125906828, 1.4585154045785198, 1.0164573731116118, 1.0066935716247238, 1.9307201902866413, 5.132499842786562, 1.1048643870550747, 1.0895974938690982, 1.4598635040768868, 1.0144113945708209, 1.4585154045785198, 1.0164573731116118, 1.0920810272037236, 1.949855313738102, 5.207552503875548]\n",
      "LOF points 0 5 1.6125382266666748\n",
      "LOF points 1 5 2.235402406119076\n",
      "LOF points 2 5 2.204104064820576\n",
      "LOF points 3 24 1.0000064424699773\n",
      "LOF points 4 24 1.0000064424699773\n",
      "LOF points 5 24 1.000006442469977\n",
      "LOF points 6 24 1.0000064424699773\n",
      "LOF points 7 5 1.4908389302651208\n",
      "LOF points 8 4 1.080730597585359\n",
      "LOF points 9 24 1.0000064424699773\n",
      "LOF points 10 4 1.9492910777232977\n",
      "LOF points 11 24 1.0000064424699773\n",
      "LOF points 12 5 1.527343113519429\n",
      "LOF points 13 5 2.1479365658154914\n",
      "LOF points 14 4 1.0071492135024562\n",
      "LOF points 15 4 1.0960376834586176\n",
      "LOF points 16 24 1.0000064424699773\n",
      "LOF points 17 4 4.772876163563691\n",
      "LOF points 18 24 1.0000064424699773\n",
      "LOF points 19 4 1.9420446182651967\n",
      "LOF points 20 24 1.0000064424699773\n",
      "LOF points 21 5 1.5424804178149798\n",
      "LOF points 22 5 2.179345890716175\n",
      "Ur is \n",
      " [(0.0, 0, 21, 1, 0.0, 0.0, 0, 0.0, 0.0, 0.0, 0.0), (0.9992, 0, 17, 9, 1.0, 0.0, 0, 0.0, 0.0, 1.0, 0.0), (0.9966, 0, 17, 9, 0.9992, 0.0, 0, 0.0, 0.0, 0.8, 0.0), (0.0, 0, 21, 9, 0.0001, 0.4629, 0, 0.0, 0.0, 0.0, 0.0), (0.0464, 0, 21, 9, 0.0001, 0.0472, 0, 0.0, 0.0, 0.0, 0.0), (0.0, 0, 21, 9, 0.0001, 0.5528, 0, 0.0, 0.0, 0.0, 0.0), (0.0, 0, 21, 9, 0.0, 0.2958, 0, 0.0, 0.0, 0.0, 0.0), (0.0, 0, 42, 5, 0.0, 0.0, 0, 0.0, 0.0, 0.0, 0.0), (0.0, 0, 17, 9, 0.0, 0.9763, 0, 0.0, 0.0, 0.0, 0.0), (0.0, 0, 21, 9, 0.0001, 0.1331, 0, 0.0, 0.0, 0.0, 0.0), (0.0364, 0, 58, 9, 0.0003, 0.5074, 0, 0.0, 0.0, 0.6, 0.0), (0.0, 0, 21, 9, 0.0001, 0.3842, 0, 0.0, 0.0, 0.0, 0.0), (0.0, 0, 42, 4, 0.0, 0.0, 0, 0.0, 0.0, 0.0, 0.0), (0.9978, 0, 17, 9, 1.0, 0.0, 0, 0.0, 0.0, 0.2, 0.0), (0.0, 0, 17, 9, 0.0, 0.8614, 0, 0.0, 0.0, 0.0, 0.0), (0.0, 0, 17, 9, 0.0, 1.0, 0, 0.0, 0.0, 0.0, 0.0), (0.0, 0, 21, 9, 0.0, 0.0474, 0, 0.0, 0.0, 0.0, 0.0), (0.0, 2, 12, 9, 0.0002, 0.0, 0, 0.0, 0.0, 0.0, 0.0), (0.0, 0, 21, 9, 0.0001, 0.0482, 0, 0.0, 0.0, 0.0, 0.0), (0.0603, 0, 58, 9, 0.0003, 0.4746, 0, 0.0, 0.0, 0.6, 0.0), (0.0, 0, 21, 9, 0.0, 0.2368, 0, 0.0, 0.0, 0.0, 0.0), (0.0, 0, 45, 4, 0.0, 0.0, 0, 0.0, 0.0, 0.0, 0.0), (1.0, 0, 17, 9, 0.9997, 0.0, 0, 0.0, 0.0, 0.6, 0.0)]\n",
      "center is  (0.9966, 0, 17, 9, 0.9992, 0.0, 0, 0.0, 0.0, 0.8, 0.0) 4\n"
     ]
    },
    {
     "data": {
      "image/png": "[encoded data removed]",
      "text/plain": [
       "<Figure size 432x288 with 1 Axes>"
      ]
     },
     "metadata": {
      "needs_background": "light"
     },
     "output_type": "display_data"
    },
    {
     "name": "stdout",
     "output_type": "stream",
     "text": [
      "New instances is \n",
      " [(0.0, 0, 42, 4, 0.0, 0.0, 0, 0.0, 0.0, 0.0, 0.0), (0.0, 0, 21, 1, 0.0, 0.0, 0, 0.0, 0.0, 0.0, 0.0), (0.0, 2, 12, 9, 0.0002, 0.0, 0, 0.0, 0.0, 0.0, 0.0), (0.0, 0, 21, 9, 0.0, 0.0474, 0, 0.0, 0.0, 0.0, 0.0), (0.0464, 0, 21, 9, 0.0001, 0.0472, 0, 0.0, 0.0, 0.0, 0.0), (0.0, 0, 21, 9, 0.0001, 0.0482, 0, 0.0, 0.0, 0.0, 0.0), (0.0, 0, 21, 9, 0.0001, 0.4629, 0, 0.0, 0.0, 0.0, 0.0), (0.0, 0, 21, 9, 0.0001, 0.5528, 0, 0.0, 0.0, 0.0, 0.0), (0.0, 0, 21, 9, 0.0, 0.2958, 0, 0.0, 0.0, 0.0, 0.0), (0.0, 0, 42, 5, 0.0, 0.0, 0, 0.0, 0.0, 0.0, 0.0), (0.0603, 0, 58, 9, 0.0003, 0.4746, 0, 0.0, 0.0, 0.6, 0.0), (0.0, 0, 21, 9, 0.0, 0.2368, 0, 0.0, 0.0, 0.0, 0.0), (0.0, 0, 45, 4, 0.0, 0.0, 0, 0.0, 0.0, 0.0, 0.0), (0.0, 0, 21, 9, 0.0001, 0.1331, 0, 0.0, 0.0, 0.0, 0.0), (0.0364, 0, 58, 9, 0.0003, 0.5074, 0, 0.0, 0.0, 0.6, 0.0), (0.0, 0, 21, 9, 0.0001, 0.3842, 0, 0.0, 0.0, 0.0, 0.0)]\n",
      "kList is [4, 5, 6, 7, 8, 12, 16, 20, 24, 28, 32]\n",
      "Kinf:\n",
      " [4, 4, 16, 8, 12, 8, 8, 8, 6, 4, 16, 6, 4, 6, 16, 6]\n",
      "pre_c1:\n",
      " [1.319563576944107, 1.392639115490929, 1.0, 1.0795017377029543, 1.0294638671865144, 1.1288535416081722, 1.1393460688904753, 1.137853625977161, 1.082334274565568, 1.288300839384284, 1.0, 1.0680392581878078, 1.3325378517533994, 1.0680392581878075, 1.0, 1.1149696110002814]\n",
      "LOF points 0 5 1.0398331745552167\n",
      "LOF points 1 5 1.0974176445702546\n",
      "LOF points 2 4 2.0716657855635923\n",
      "LOF points 3 16 1.0000420996826218\n",
      "LOF points 4 4 1.5224288317109356\n",
      "LOF points 5 16 1.0000420996826218\n",
      "LOF points 6 16 1.0000420996826218\n",
      "LOF points 7 5 1.0291103385899931\n",
      "LOF points 8 16 1.0000420996826216\n",
      "LOF points 9 5 1.0151977327999961\n",
      "LOF points 10 4 1.835833112365639\n",
      "LOF points 11 16 1.0000420996826216\n",
      "LOF points 12 5 1.0500570709996317\n",
      "LOF points 13 16 1.0000420996826218\n",
      "LOF points 14 4 2.0094229739596723\n",
      "LOF points 15 16 1.0000420996826218\n",
      "Ur is \n",
      " [(0.0, 0, 42, 4, 0.0, 0.0, 0, 0.0, 0.0, 0.0, 0.0), (0.0, 0, 21, 1, 0.0, 0.0, 0, 0.0, 0.0, 0.0, 0.0), (0.0, 2, 12, 9, 0.0002, 0.0, 0, 0.0, 0.0, 0.0, 0.0), (0.0, 0, 21, 9, 0.0, 0.0474, 0, 0.0, 0.0, 0.0, 0.0), (0.0464, 0, 21, 9, 0.0001, 0.0472, 0, 0.0, 0.0, 0.0, 0.0), (0.0, 0, 21, 9, 0.0001, 0.0482, 0, 0.0, 0.0, 0.0, 0.0), (0.0, 0, 21, 9, 0.0001, 0.4629, 0, 0.0, 0.0, 0.0, 0.0), (0.0, 0, 21, 9, 0.0001, 0.5528, 0, 0.0, 0.0, 0.0, 0.0), (0.0, 0, 21, 9, 0.0, 0.2958, 0, 0.0, 0.0, 0.0, 0.0), (0.0, 0, 42, 5, 0.0, 0.0, 0, 0.0, 0.0, 0.0, 0.0), (0.0603, 0, 58, 9, 0.0003, 0.4746, 0, 0.0, 0.0, 0.6, 0.0), (0.0, 0, 21, 9, 0.0, 0.2368, 0, 0.0, 0.0, 0.0, 0.0), (0.0, 0, 45, 4, 0.0, 0.0, 0, 0.0, 0.0, 0.0, 0.0), (0.0, 0, 21, 9, 0.0001, 0.1331, 0, 0.0, 0.0, 0.0, 0.0), (0.0364, 0, 58, 9, 0.0003, 0.5074, 0, 0.0, 0.0, 0.6, 0.0), (0.0, 0, 21, 9, 0.0001, 0.3842, 0, 0.0, 0.0, 0.0, 0.0)]\n",
      "center is  (0.0464, 0, 21, 9, 0.0001, 0.0472, 0, 0.0, 0.0, 0.0, 0.0) 12\n"
     ]
    },
    {
     "data": {
      "image/png": "[encoded data removed]",
      "text/plain": [
       "<Figure size 432x288 with 1 Axes>"
      ]
     },
     "metadata": {
      "needs_background": "light"
     },
     "output_type": "display_data"
    },
    {
     "name": "stdout",
     "output_type": "stream",
     "text": [
      "New instances is \n",
      " [(0.0364, 0, 58, 9, 0.0003, 0.5074, 0, 0.0, 0.0, 0.6, 0.0), (0.0603, 0, 58, 9, 0.0003, 0.4746, 0, 0.0, 0.0, 0.6, 0.0)]\n",
      "kList is [4, 5, 6, 7, 8, 12, 14, 16, 20, 24, 28, 32]\n",
      "Kinf:\n",
      " [4, 4]\n",
      "pre_c1:\n",
      " [1.0, 1.0]\n",
      "Ur is \n",
      " []\n",
      "group 0 is \n",
      " [(0.001, 1, 47, 9, 0.0, 0.0252, 0, 0.0, 0.0, 0.0, 0.0), (0.0, 1, 47, 9, 0.0, 0.0252, 0, 0.0, 0.0, 0.0, 0.0), (0.0028, 1, 47, 9, 0.0, 0.0252, 0, 0.0, 0.0, 0.0, 0.0), (0.0, 1, 47, 9, 0.0, 0.0, 0, 0.0, 0.0, 0.0, 0.0), (0.0, 0, 47, 5, 0.0, 0.0, 0, 0.0, 0.0, 0.0, 0.0), (0.0, 0, 47, 4, 0.0, 0.0, 0, 0.0, 0.0, 0.0, 0.0)]\n",
      "group 0 label is \n",
      " [(13, 0), (12, 0), (14, 0), (11, 0), (15, 4), (26, 9)]\n",
      "group 1 is \n",
      " [(0.0, 0, 17, 9, 0.0001, 0.0, 0, 0.0, 0.0, 0.0, 0.0), (0.0, 0, 17, 9, 0.0, 0.0, 0, 0.0, 0.0, 0.0, 0.0), (0.0008, 0, 17, 9, 0.0002, 0.0, 0, 0.0, 0.0, 0.0, 0.0), (0.0024, 0, 17, 9, 0.0014, 0.0, 0, 0.0, 0.0, 0.0, 0.0), (0.0, 0, 17, 9, 0.0, 0.3555, 0, 0.0, 0.0, 0.2, 0.0)]\n",
      "group 1 label is \n",
      " [(18, 20), (24, 20), (19, 20), (25, 20), (34, 1)]\n",
      "group 2 is \n",
      " [(0.9966, 0, 17, 9, 0.9992, 0.0, 0, 0.0, 0.0, 0.8, 0.0), (0.9992, 0, 17, 9, 1.0, 0.0, 0, 0.0, 0.0, 1.0, 0.0), (1.0, 0, 17, 9, 0.9997, 0.0, 0, 0.0, 0.0, 0.6, 0.0), (0.9978, 0, 17, 9, 1.0, 0.0, 0, 0.0, 0.0, 0.2, 0.0), (0.0, 0, 17, 9, 0.0, 0.8614, 0, 0.0, 0.0, 0.0, 0.0), (0.0, 0, 17, 9, 0.0, 0.9763, 0, 0.0, 0.0, 0.0, 0.0), (0.0, 0, 17, 9, 0.0, 1.0, 0, 0.0, 0.0, 0.0, 0.0)]\n",
      "group 2 label is \n",
      " [(23, 20), (21, 20), (20, 20), (22, 20), (33, 1), (31, 1), (32, 1)]\n",
      "group 3 is \n",
      " [(0.0464, 0, 21, 9, 0.0001, 0.0472, 0, 0.0, 0.0, 0.0, 0.0), (0.0, 0, 21, 9, 0.0, 0.0474, 0, 0.0, 0.0, 0.0, 0.0), (0.0, 0, 21, 9, 0.0001, 0.0482, 0, 0.0, 0.0, 0.0, 0.0), (0.0, 0, 21, 9, 0.0001, 0.1331, 0, 0.0, 0.0, 0.0, 0.0), (0.0, 0, 21, 9, 0.0, 0.2368, 0, 0.0, 0.0, 0.0, 0.0), (0.0, 0, 21, 9, 0.0, 0.2958, 0, 0.0, 0.0, 0.0, 0.0), (0.0, 0, 21, 9, 0.0001, 0.3842, 0, 0.0, 0.0, 0.0, 0.0), (0.0, 0, 21, 9, 0.0001, 0.4629, 0, 0.0, 0.0, 0.0, 0.0), (0.0, 0, 21, 9, 0.0001, 0.5528, 0, 0.0, 0.0, 0.0, 0.0), (0.0, 0, 21, 1, 0.0, 0.0, 0, 0.0, 0.0, 0.0, 0.0), (0.0, 2, 12, 9, 0.0002, 0.0, 0, 0.0, 0.0, 0.0, 0.0), (0.0, 0, 42, 5, 0.0, 0.0, 0, 0.0, 0.0, 0.0, 0.0), (0.0, 0, 42, 4, 0.0, 0.0, 0, 0.0, 0.0, 0.0, 0.0), (0.0, 0, 45, 4, 0.0, 0.0, 0, 0.0, 0.0, 0.0, 0.0)]\n",
      "group 3 label is \n",
      " [(2, 0), (7, 0), (6, 0), (3, 0), (10, 0), (4, 0), (9, 0), (8, 0), (5, 0), (1, 0), (17, 5), (16, 4), (27, 9), (28, 9)]\n"
     ]
    },
    {
     "data": {
      "image/png": "[encoded data removed]",
      "text/plain": [
       "<Figure size 432x288 with 1 Axes>"
      ]
     },
     "metadata": {
      "needs_background": "light"
     },
     "output_type": "display_data"
    }
   ],
   "source": [
    "%run RCD.py"
   ]
  },
  {
   "cell_type": "code",
   "execution_count": 2,
   "metadata": {
    "scrolled": true
   },
   "outputs": [
    {
     "name": "stdout",
     "output_type": "stream",
     "text": [
      "(0.0, 0, 21, 1, 0.0, 0.0, 0, 0.0, 0.0, 0.0, 0.0)\n",
      "(0.0464, 0, 21, 9, 0.0001, 0.0472, 0, 0.0, 0.0, 0.0, 0.0)\n",
      "(0.0, 0, 21, 9, 0.0001, 0.1331, 0, 0.0, 0.0, 0.0, 0.0)\n",
      "(0.0, 0, 21, 9, 0.0, 0.2958, 0, 0.0, 0.0, 0.0, 0.0)\n",
      "(0.0, 0, 21, 9, 0.0001, 0.5528, 0, 0.0, 0.0, 0.0, 0.0)\n",
      "(0.0, 0, 21, 9, 0.0001, 0.0482, 0, 0.0, 0.0, 0.0, 0.0)\n",
      "(0.0, 0, 21, 9, 0.0, 0.0474, 0, 0.0, 0.0, 0.0, 0.0)\n",
      "(0.0, 0, 21, 9, 0.0001, 0.4629, 0, 0.0, 0.0, 0.0, 0.0)\n",
      "(0.0, 0, 21, 9, 0.0001, 0.3842, 0, 0.0, 0.0, 0.0, 0.0)\n",
      "(0.0, 0, 21, 9, 0.0, 0.2368, 0, 0.0, 0.0, 0.0, 0.0)\n",
      "(0.0, 1, 47, 9, 0.0, 0.0, 0, 0.0, 0.0, 0.0, 0.0)\n",
      "(0.0, 1, 47, 9, 0.0, 0.0252, 0, 0.0, 0.0, 0.0, 0.0)\n",
      "(0.001, 1, 47, 9, 0.0, 0.0252, 0, 0.0, 0.0, 0.0, 0.0)\n",
      "(0.0028, 1, 47, 9, 0.0, 0.0252, 0, 0.0, 0.0, 0.0, 0.0)\n",
      "(0.0, 0, 47, 5, 0.0, 0.0, 0, 0.0, 0.0, 0.0, 0.0)\n",
      "(0.0, 0, 42, 5, 0.0, 0.0, 0, 0.0, 0.0, 0.0, 0.0)\n",
      "(0.0, 2, 12, 9, 0.0002, 0.0, 0, 0.0, 0.0, 0.0, 0.0)\n",
      "(0.0, 0, 17, 9, 0.0001, 0.0, 0, 0.0, 0.0, 0.0, 0.0)\n",
      "(0.0008, 0, 17, 9, 0.0002, 0.0, 0, 0.0, 0.0, 0.0, 0.0)\n",
      "(1.0, 0, 17, 9, 0.9997, 0.0, 0, 0.0, 0.0, 0.6, 0.0)\n",
      "(0.9992, 0, 17, 9, 1.0, 0.0, 0, 0.0, 0.0, 1.0, 0.0)\n",
      "(0.9978, 0, 17, 9, 1.0, 0.0, 0, 0.0, 0.0, 0.2, 0.0)\n",
      "(0.9966, 0, 17, 9, 0.9992, 0.0, 0, 0.0, 0.0, 0.8, 0.0)\n",
      "(0.0, 0, 17, 9, 0.0, 0.0, 0, 0.0, 0.0, 0.0, 0.0)\n",
      "(0.0024, 0, 17, 9, 0.0014, 0.0, 0, 0.0, 0.0, 0.0, 0.0)\n",
      "(0.0, 0, 47, 4, 0.0, 0.0, 0, 0.0, 0.0, 0.0, 0.0)\n",
      "(0.0, 0, 42, 4, 0.0, 0.0, 0, 0.0, 0.0, 0.0, 0.0)\n",
      "(0.0, 0, 45, 4, 0.0, 0.0, 0, 0.0, 0.0, 0.0, 0.0)\n",
      "(0.0364, 0, 58, 9, 0.0003, 0.5074, 0, 0.0, 0.0, 0.6, 0.0)\n",
      "(0.0603, 0, 58, 9, 0.0003, 0.4746, 0, 0.0, 0.0, 0.6, 0.0)\n",
      "(0.0, 0, 17, 9, 0.0, 0.9763, 0, 0.0, 0.0, 0.0, 0.0)\n",
      "(0.0, 0, 17, 9, 0.0, 1.0, 0, 0.0, 0.0, 0.0, 0.0)\n",
      "(0.0, 0, 17, 9, 0.0, 0.8614, 0, 0.0, 0.0, 0.0, 0.0)\n",
      "(0.0, 0, 17, 9, 0.0, 0.3555, 0, 0.0, 0.0, 0.2, 0.0)\n",
      "(1, 0)\n",
      "(2, 0)\n",
      "(3, 0)\n",
      "(4, 0)\n",
      "(5, 0)\n",
      "(6, 0)\n",
      "(7, 0)\n",
      "(8, 0)\n",
      "(9, 0)\n",
      "(10, 0)\n",
      "(11, 0)\n",
      "(12, 0)\n",
      "(13, 0)\n",
      "(14, 0)\n",
      "(15, 4)\n",
      "(16, 4)\n",
      "(17, 5)\n",
      "(18, 20)\n",
      "(19, 20)\n",
      "(20, 20)\n",
      "(21, 20)\n",
      "(22, 20)\n",
      "(23, 20)\n",
      "(24, 20)\n",
      "(25, 20)\n",
      "(26, 9)\n",
      "(27, 9)\n",
      "(28, 9)\n",
      "(29, 1)\n",
      "(30, 1)\n",
      "(31, 1)\n",
      "(32, 1)\n",
      "(33, 1)\n",
      "(34, 1)\n"
     ]
    },
    {
     "data": {
      "image/png": "[encoded data removed]",
      "text/plain": [
       "<Figure size 432x288 with 1 Axes>"
      ]
     },
     "metadata": {
      "needs_background": "light"
     },
     "output_type": "display_data"
    },
    {
     "name": "stdout",
     "output_type": "stream",
     "text": [
      "Klist : [2, 4, 6, 8, 10, 12, 14, 16, 18, 20, 22, 24, 26, 28, 30, 32, 34]\n",
      "New instances is \n",
      " [(0.0, 0, 21, 1, 0.0, 0.0, 0, 0.0, 0.0, 0.0, 0.0), (0.0464, 0, 21, 9, 0.0001, 0.0472, 0, 0.0, 0.0, 0.0, 0.0), (0.0, 0, 21, 9, 0.0001, 0.1331, 0, 0.0, 0.0, 0.0, 0.0), (0.0, 0, 21, 9, 0.0, 0.2958, 0, 0.0, 0.0, 0.0, 0.0), (0.0, 0, 21, 9, 0.0001, 0.5528, 0, 0.0, 0.0, 0.0, 0.0), (0.0, 0, 21, 9, 0.0001, 0.0482, 0, 0.0, 0.0, 0.0, 0.0), (0.0, 0, 21, 9, 0.0, 0.0474, 0, 0.0, 0.0, 0.0, 0.0), (0.0, 0, 21, 9, 0.0001, 0.4629, 0, 0.0, 0.0, 0.0, 0.0), (0.0, 0, 21, 9, 0.0001, 0.3842, 0, 0.0, 0.0, 0.0, 0.0), (0.0, 0, 21, 9, 0.0, 0.2368, 0, 0.0, 0.0, 0.0, 0.0), (0.0, 1, 47, 9, 0.0, 0.0, 0, 0.0, 0.0, 0.0, 0.0), (0.0, 1, 47, 9, 0.0, 0.0252, 0, 0.0, 0.0, 0.0, 0.0), (0.001, 1, 47, 9, 0.0, 0.0252, 0, 0.0, 0.0, 0.0, 0.0), (0.0028, 1, 47, 9, 0.0, 0.0252, 0, 0.0, 0.0, 0.0, 0.0), (0.0, 0, 47, 5, 0.0, 0.0, 0, 0.0, 0.0, 0.0, 0.0), (0.0, 0, 42, 5, 0.0, 0.0, 0, 0.0, 0.0, 0.0, 0.0), (0.0, 2, 12, 9, 0.0002, 0.0, 0, 0.0, 0.0, 0.0, 0.0), (0.0, 0, 17, 9, 0.0001, 0.0, 0, 0.0, 0.0, 0.0, 0.0), (0.0008, 0, 17, 9, 0.0002, 0.0, 0, 0.0, 0.0, 0.0, 0.0), (1.0, 0, 17, 9, 0.9997, 0.0, 0, 0.0, 0.0, 0.6, 0.0), (0.9992, 0, 17, 9, 1.0, 0.0, 0, 0.0, 0.0, 1.0, 0.0), (0.9978, 0, 17, 9, 1.0, 0.0, 0, 0.0, 0.0, 0.2, 0.0), (0.9966, 0, 17, 9, 0.9992, 0.0, 0, 0.0, 0.0, 0.8, 0.0), (0.0, 0, 17, 9, 0.0, 0.0, 0, 0.0, 0.0, 0.0, 0.0), (0.0024, 0, 17, 9, 0.0014, 0.0, 0, 0.0, 0.0, 0.0, 0.0), (0.0, 0, 47, 4, 0.0, 0.0, 0, 0.0, 0.0, 0.0, 0.0), (0.0, 0, 42, 4, 0.0, 0.0, 0, 0.0, 0.0, 0.0, 0.0), (0.0, 0, 45, 4, 0.0, 0.0, 0, 0.0, 0.0, 0.0, 0.0), (0.0364, 0, 58, 9, 0.0003, 0.5074, 0, 0.0, 0.0, 0.6, 0.0), (0.0603, 0, 58, 9, 0.0003, 0.4746, 0, 0.0, 0.0, 0.6, 0.0), (0.0, 0, 17, 9, 0.0, 0.9763, 0, 0.0, 0.0, 0.0, 0.0), (0.0, 0, 17, 9, 0.0, 1.0, 0, 0.0, 0.0, 0.0, 0.0), (0.0, 0, 17, 9, 0.0, 0.8614, 0, 0.0, 0.0, 0.0, 0.0), (0.0, 0, 17, 9, 0.0, 0.3555, 0, 0.0, 0.0, 0.2, 0.0)]\n",
      "kList is [2, 4, 6, 8, 10, 12, 14, 16, 18, 20, 22, 24, 26, 28, 30, 32, 34]\n",
      "Kinf:\n",
      " [30, 8, 8, 2, 2, 2, 2, 2, 14, 2, 4, 4, 4, 4, 30, 30, 30, 4, 4, 4, 4, 4, 4, 4, 4, 2, 2, 2, 2, 2, 2, 2, 30, 14]\n",
      "pre_c1:\n",
      " [1.17186200815048, 1.3153457117363898, 1.2683865444425046, 1.019532212832719, 1.129113538881644, 29.001679734735628, 29.001679734735628, 0.8557132255227191, 1.2216876620412922, 1.3372000726377626, 28.16559198595174, 28.16916673837887, 28.16917236576717, 28.16921085695246, 1.1718620081504794, 1.1718620081504802, 1.1718884524744502, 37.453781018616354, 37.45403683973389, 8.155882507049542, 4.8420714098809405, 8.037289375745338, 4.787122026884046, 37.45377720032454, 37.45672434254789, 1.6102441040251443, 1.073496069350099, 1.6102441040251443, 304.5739919152406, 302.9534312513669, 1.8126494367860897, 1.8126494367860897, 1.1718620081504798, 1.2216876620412922]\n",
      "LOF points 0 2 3.8760913676956754\n",
      "LOF points 1 34 1.0000029243382687\n",
      "LOF points 2 2 1.4124143337792419\n",
      "LOF points 3 8 1.0251621793226167\n",
      "LOF points 4 4 1.000069561768915\n",
      "LOF points 5 34 1.0000029243382687\n",
      "LOF points 6 34 1.0000029243382687\n",
      "LOF points 7 8 1.1054143192741555\n",
      "LOF points 8 8 1.0958249180593467\n",
      "LOF points 9 6 1.2075987704041726\n",
      "LOF points 10 2 5.978064186399182\n",
      "LOF points 11 8 1.5700379395730617\n",
      "LOF points 12 8 1.5700384729887966\n",
      "LOF points 13 8 1.5700433960099087\n",
      "LOF points 14 12 1.164194014567775\n",
      "LOF points 15 8 1.5744453474650406\n",
      "LOF points 16 2 18.55731874186372\n",
      "LOF points 17 34 1.0000029243382687\n",
      "LOF points 18 34 1.0000029243382687\n",
      "LOF points 19 6 3.8172374650241316\n",
      "LOF points 20 6 3.9612774345545354\n",
      "LOF points 21 2 1.066646125708501\n",
      "LOF points 22 6 3.8790598286694364\n",
      "LOF points 23 34 1.0000029243382687\n",
      "LOF points 24 2 1.6492371574284679\n",
      "LOF points 25 8 1.0201230012572862\n",
      "LOF points 26 8 1.624175256534203\n",
      "LOF points 27 8 1.0205010428760748\n",
      "LOF points 28 4 1.1701805378537706\n",
      "LOF points 29 4 1.1608687727507976\n",
      "LOF points 30 4 1.0905509304338366\n",
      "LOF points 31 4 1.105997108027596\n",
      "LOF points 32 4 1.0163009304305926\n",
      "LOF points 33 2 1.7267996572768418\n",
      "Ur is \n",
      " [(0.0, 0, 21, 1, 0.0, 0.0, 0, 0.0, 0.0, 0.0, 0.0), (0.0464, 0, 21, 9, 0.0001, 0.0472, 0, 0.0, 0.0, 0.0, 0.0), (0.0, 0, 21, 9, 0.0001, 0.1331, 0, 0.0, 0.0, 0.0, 0.0), (0.0, 0, 21, 9, 0.0, 0.2958, 0, 0.0, 0.0, 0.0, 0.0), (0.0, 0, 21, 9, 0.0001, 0.5528, 0, 0.0, 0.0, 0.0, 0.0), (0.0, 0, 21, 9, 0.0001, 0.0482, 0, 0.0, 0.0, 0.0, 0.0), (0.0, 0, 21, 9, 0.0, 0.0474, 0, 0.0, 0.0, 0.0, 0.0), (0.0, 0, 21, 9, 0.0001, 0.4629, 0, 0.0, 0.0, 0.0, 0.0), (0.0, 0, 21, 9, 0.0001, 0.3842, 0, 0.0, 0.0, 0.0, 0.0), (0.0, 0, 21, 9, 0.0, 0.2368, 0, 0.0, 0.0, 0.0, 0.0), (0.0, 1, 47, 9, 0.0, 0.0, 0, 0.0, 0.0, 0.0, 0.0), (0.0, 1, 47, 9, 0.0, 0.0252, 0, 0.0, 0.0, 0.0, 0.0), (0.001, 1, 47, 9, 0.0, 0.0252, 0, 0.0, 0.0, 0.0, 0.0), (0.0028, 1, 47, 9, 0.0, 0.0252, 0, 0.0, 0.0, 0.0, 0.0), (0.0, 0, 47, 5, 0.0, 0.0, 0, 0.0, 0.0, 0.0, 0.0), (0.0, 0, 42, 5, 0.0, 0.0, 0, 0.0, 0.0, 0.0, 0.0), (0.0, 2, 12, 9, 0.0002, 0.0, 0, 0.0, 0.0, 0.0, 0.0), (0.0, 0, 17, 9, 0.0001, 0.0, 0, 0.0, 0.0, 0.0, 0.0), (0.0008, 0, 17, 9, 0.0002, 0.0, 0, 0.0, 0.0, 0.0, 0.0), (1.0, 0, 17, 9, 0.9997, 0.0, 0, 0.0, 0.0, 0.6, 0.0), (0.9992, 0, 17, 9, 1.0, 0.0, 0, 0.0, 0.0, 1.0, 0.0), (0.9978, 0, 17, 9, 1.0, 0.0, 0, 0.0, 0.0, 0.2, 0.0), (0.9966, 0, 17, 9, 0.9992, 0.0, 0, 0.0, 0.0, 0.8, 0.0), (0.0, 0, 17, 9, 0.0, 0.0, 0, 0.0, 0.0, 0.0, 0.0), (0.0024, 0, 17, 9, 0.0014, 0.0, 0, 0.0, 0.0, 0.0, 0.0), (0.0, 0, 47, 4, 0.0, 0.0, 0, 0.0, 0.0, 0.0, 0.0), (0.0, 0, 42, 4, 0.0, 0.0, 0, 0.0, 0.0, 0.0, 0.0), (0.0, 0, 45, 4, 0.0, 0.0, 0, 0.0, 0.0, 0.0, 0.0), (0.0364, 0, 58, 9, 0.0003, 0.5074, 0, 0.0, 0.0, 0.6, 0.0), (0.0603, 0, 58, 9, 0.0003, 0.4746, 0, 0.0, 0.0, 0.6, 0.0), (0.0, 0, 17, 9, 0.0, 0.9763, 0, 0.0, 0.0, 0.0, 0.0), (0.0, 0, 17, 9, 0.0, 1.0, 0, 0.0, 0.0, 0.0, 0.0), (0.0, 0, 17, 9, 0.0, 0.8614, 0, 0.0, 0.0, 0.0, 0.0), (0.0, 0, 17, 9, 0.0, 0.3555, 0, 0.0, 0.0, 0.2, 0.0)]\n",
      "center is  (0.0364, 0, 58, 9, 0.0003, 0.5074, 0, 0.0, 0.0, 0.6, 0.0) 2\n"
     ]
    },
    {
     "data": {
      "image/png": "[encoded data removed]",
      "text/plain": [
       "<Figure size 432x288 with 1 Axes>"
      ]
     },
     "metadata": {
      "needs_background": "light"
     },
     "output_type": "display_data"
    },
    {
     "name": "stdout",
     "output_type": "stream",
     "text": [
      "New instances is \n",
      " [(0.0, 0, 21, 1, 0.0, 0.0, 0, 0.0, 0.0, 0.0, 0.0), (0.0, 0, 17, 9, 0.0001, 0.0, 0, 0.0, 0.0, 0.0, 0.0), (0.9966, 0, 17, 9, 0.9992, 0.0, 0, 0.0, 0.0, 0.8, 0.0), (0.0464, 0, 21, 9, 0.0001, 0.0472, 0, 0.0, 0.0, 0.0, 0.0), (0.0, 0, 47, 5, 0.0, 0.0, 0, 0.0, 0.0, 0.0, 0.0), (0.0, 0, 17, 9, 0.0, 0.9763, 0, 0.0, 0.0, 0.0, 0.0), (0.0, 0, 17, 9, 0.0, 0.0, 0, 0.0, 0.0, 0.0, 0.0), (0.0, 0, 21, 9, 0.0001, 0.3842, 0, 0.0, 0.0, 0.0, 0.0), (0.0, 0, 42, 4, 0.0, 0.0, 0, 0.0, 0.0, 0.0, 0.0), (0.9978, 0, 17, 9, 1.0, 0.0, 0, 0.0, 0.0, 0.2, 0.0), (0.0, 0, 17, 9, 0.0, 0.3555, 0, 0.0, 0.0, 0.2, 0.0), (0.0, 0, 17, 9, 0.0, 1.0, 0, 0.0, 0.0, 0.0, 0.0), (0.0, 0, 21, 9, 0.0, 0.0474, 0, 0.0, 0.0, 0.0, 0.0), (0.0, 0, 21, 9, 0.0001, 0.0482, 0, 0.0, 0.0, 0.0, 0.0), (0.0, 1, 47, 9, 0.0, 0.0, 0, 0.0, 0.0, 0.0, 0.0), (0.0, 0, 45, 4, 0.0, 0.0, 0, 0.0, 0.0, 0.0, 0.0), (0.0024, 0, 17, 9, 0.0014, 0.0, 0, 0.0, 0.0, 0.0, 0.0), (0.9992, 0, 17, 9, 1.0, 0.0, 0, 0.0, 0.0, 1.0, 0.0), (0.0, 0, 21, 9, 0.0001, 0.4629, 0, 0.0, 0.0, 0.0, 0.0), (0.0, 0, 21, 9, 0.0001, 0.5528, 0, 0.0, 0.0, 0.0, 0.0), (0.0, 0, 21, 9, 0.0, 0.2958, 0, 0.0, 0.0, 0.0, 0.0), (0.0, 0, 42, 5, 0.0, 0.0, 0, 0.0, 0.0, 0.0, 0.0), (0.0, 0, 21, 9, 0.0001, 0.1331, 0, 0.0, 0.0, 0.0, 0.0), (0.0, 0, 17, 9, 0.0, 0.8614, 0, 0.0, 0.0, 0.0, 0.0), (0.0008, 0, 17, 9, 0.0002, 0.0, 0, 0.0, 0.0, 0.0, 0.0), (0.0, 2, 12, 9, 0.0002, 0.0, 0, 0.0, 0.0, 0.0, 0.0), (0.0, 0, 47, 4, 0.0, 0.0, 0, 0.0, 0.0, 0.0, 0.0), (0.0, 0, 21, 9, 0.0, 0.2368, 0, 0.0, 0.0, 0.0, 0.0), (1.0, 0, 17, 9, 0.9997, 0.0, 0, 0.0, 0.0, 0.6, 0.0)]\n",
      "kList is [2, 4, 5, 6, 8, 10, 12, 14, 16, 18, 20, 22, 24, 26, 28, 30, 32, 34]\n",
      "Kinf:\n",
      " [26, 4, 4, 14, 5, 2, 4, 14, 5, 4, 14, 2, 2, 2, 6, 5, 4, 4, 14, 2, 2, 5, 14, 2, 4, 26, 5, 2, 4]\n",
      "pre_c1:\n",
      " [1.0160593533297575, 47.34627477715034, 4.688424843852431, 1.370417155780866, 3.677515237839623, 1.7820142647699666, 47.34627168440725, 1.38217588861195, 3.73132132479971, 7.1358993330041764, 1.3821758886119504, 1.7820142647699666, 29.001679734735628, 29.001679734735628, 1.7166307526848748, 3.73132132479971, 47.348658981515264, 4.742214937493493, 1.3268610338653208, 1.129113538881644, 1.019532212832719, 3.677515237839623, 1.3821758886119506, 0.3675695219760519, 47.346481988636285, 1.0160101594182271, 3.677515237839623, 1.3372000726377626, 7.240975066288303]\n",
      "LOF points 0 2 3.570844927240958\n",
      "LOF points 1 30 1.0000055913342363\n",
      "LOF points 2 5 1.9826686426481785\n",
      "LOF points 3 30 1.0000055913342363\n",
      "LOF points 4 2 1.0364412196811281\n",
      "LOF points 5 4 1.0958643997792772\n",
      "LOF points 6 30 1.0000055913342363\n",
      "LOF points 7 8 1.0828797862139448\n",
      "LOF points 8 8 1.3523863577441304\n",
      "LOF points 9 2 1.066646125708501\n",
      "LOF points 10 2 1.7957132276211147\n",
      "LOF points 11 4 1.1109249216201\n",
      "LOF points 12 30 1.0000055913342363\n",
      "LOF points 13 30 1.0000055913342363\n",
      "LOF points 14 2 3.1893348355132183\n",
      "LOF points 15 8 1.363885920797818\n",
      "LOF points 16 2 1.6492371574284679\n",
      "LOF points 17 5 2.005415713466021\n",
      "LOF points 18 8 1.0985263054652898\n",
      "LOF points 19 6 1.0395455305631736\n",
      "LOF points 20 8 1.0153180562750572\n",
      "LOF points 21 2 1.0135416666666663\n",
      "LOF points 22 2 1.4124143337792419\n",
      "LOF points 23 4 1.0238774839359082\n",
      "LOF points 24 30 1.0000055913342363\n",
      "LOF points 25 2 612.9949499350819\n",
      "LOF points 26 8 1.3719368452569205\n",
      "LOF points 27 6 1.0955869124241997\n",
      "LOF points 28 5 3.062106077044541\n",
      "Ur is \n",
      " [(0.0, 0, 21, 1, 0.0, 0.0, 0, 0.0, 0.0, 0.0, 0.0), (0.0, 0, 17, 9, 0.0001, 0.0, 0, 0.0, 0.0, 0.0, 0.0), (0.9966, 0, 17, 9, 0.9992, 0.0, 0, 0.0, 0.0, 0.8, 0.0), (0.0464, 0, 21, 9, 0.0001, 0.0472, 0, 0.0, 0.0, 0.0, 0.0), (0.0, 0, 47, 5, 0.0, 0.0, 0, 0.0, 0.0, 0.0, 0.0), (0.0, 0, 17, 9, 0.0, 0.9763, 0, 0.0, 0.0, 0.0, 0.0), (0.0, 0, 17, 9, 0.0, 0.0, 0, 0.0, 0.0, 0.0, 0.0), (0.0, 0, 21, 9, 0.0001, 0.3842, 0, 0.0, 0.0, 0.0, 0.0), (0.0, 0, 42, 4, 0.0, 0.0, 0, 0.0, 0.0, 0.0, 0.0), (0.9978, 0, 17, 9, 1.0, 0.0, 0, 0.0, 0.0, 0.2, 0.0), (0.0, 0, 17, 9, 0.0, 0.3555, 0, 0.0, 0.0, 0.2, 0.0), (0.0, 0, 17, 9, 0.0, 1.0, 0, 0.0, 0.0, 0.0, 0.0), (0.0, 0, 21, 9, 0.0, 0.0474, 0, 0.0, 0.0, 0.0, 0.0), (0.0, 0, 21, 9, 0.0001, 0.0482, 0, 0.0, 0.0, 0.0, 0.0), (0.0, 1, 47, 9, 0.0, 0.0, 0, 0.0, 0.0, 0.0, 0.0), (0.0, 0, 45, 4, 0.0, 0.0, 0, 0.0, 0.0, 0.0, 0.0), (0.0024, 0, 17, 9, 0.0014, 0.0, 0, 0.0, 0.0, 0.0, 0.0), (0.9992, 0, 17, 9, 1.0, 0.0, 0, 0.0, 0.0, 1.0, 0.0), (0.0, 0, 21, 9, 0.0001, 0.4629, 0, 0.0, 0.0, 0.0, 0.0), (0.0, 0, 21, 9, 0.0001, 0.5528, 0, 0.0, 0.0, 0.0, 0.0), (0.0, 0, 21, 9, 0.0, 0.2958, 0, 0.0, 0.0, 0.0, 0.0), (0.0, 0, 42, 5, 0.0, 0.0, 0, 0.0, 0.0, 0.0, 0.0), (0.0, 0, 21, 9, 0.0001, 0.1331, 0, 0.0, 0.0, 0.0, 0.0), (0.0, 0, 17, 9, 0.0, 0.8614, 0, 0.0, 0.0, 0.0, 0.0), (0.0008, 0, 17, 9, 0.0002, 0.0, 0, 0.0, 0.0, 0.0, 0.0), (0.0, 2, 12, 9, 0.0002, 0.0, 0, 0.0, 0.0, 0.0, 0.0), (0.0, 0, 47, 4, 0.0, 0.0, 0, 0.0, 0.0, 0.0, 0.0), (0.0, 0, 21, 9, 0.0, 0.2368, 0, 0.0, 0.0, 0.0, 0.0), (1.0, 0, 17, 9, 0.9997, 0.0, 0, 0.0, 0.0, 0.6, 0.0)]\n",
      "center is  (0.0, 0, 17, 9, 0.0001, 0.0, 0, 0.0, 0.0, 0.0, 0.0) 4\n"
     ]
    },
    {
     "data": {
      "image/png": "[encoded data removed]",
      "text/plain": [
       "<Figure size 432x288 with 1 Axes>"
      ]
     },
     "metadata": {
      "needs_background": "light"
     },
     "output_type": "display_data"
    },
    {
     "name": "stdout",
     "output_type": "stream",
     "text": [
      "New instances is \n",
      " [(0.0, 0, 21, 1, 0.0, 0.0, 0, 0.0, 0.0, 0.0, 0.0), (0.9992, 0, 17, 9, 1.0, 0.0, 0, 0.0, 0.0, 1.0, 0.0), (0.9966, 0, 17, 9, 0.9992, 0.0, 0, 0.0, 0.0, 0.8, 0.0), (0.0, 0, 21, 9, 0.0001, 0.4629, 0, 0.0, 0.0, 0.0, 0.0), (0.0464, 0, 21, 9, 0.0001, 0.0472, 0, 0.0, 0.0, 0.0, 0.0), (0.0, 0, 21, 9, 0.0001, 0.5528, 0, 0.0, 0.0, 0.0, 0.0), (0.0, 0, 21, 9, 0.0, 0.2958, 0, 0.0, 0.0, 0.0, 0.0), (0.0, 0, 47, 5, 0.0, 0.0, 0, 0.0, 0.0, 0.0, 0.0), (0.0, 0, 42, 5, 0.0, 0.0, 0, 0.0, 0.0, 0.0, 0.0), (0.0, 0, 17, 9, 0.0, 0.9763, 0, 0.0, 0.0, 0.0, 0.0), (0.0, 0, 21, 9, 0.0001, 0.1331, 0, 0.0, 0.0, 0.0, 0.0), (0.0, 0, 21, 9, 0.0001, 0.3842, 0, 0.0, 0.0, 0.0, 0.0), (0.0, 0, 42, 4, 0.0, 0.0, 0, 0.0, 0.0, 0.0, 0.0), (0.9978, 0, 17, 9, 1.0, 0.0, 0, 0.0, 0.0, 0.2, 0.0), (0.0, 0, 17, 9, 0.0, 0.8614, 0, 0.0, 0.0, 0.0, 0.0), (0.0, 0, 17, 9, 0.0, 1.0, 0, 0.0, 0.0, 0.0, 0.0), (0.0, 0, 21, 9, 0.0, 0.0474, 0, 0.0, 0.0, 0.0, 0.0), (0.0, 2, 12, 9, 0.0002, 0.0, 0, 0.0, 0.0, 0.0, 0.0), (0.0, 0, 21, 9, 0.0001, 0.0482, 0, 0.0, 0.0, 0.0, 0.0), (0.0, 1, 47, 9, 0.0, 0.0, 0, 0.0, 0.0, 0.0, 0.0), (0.0, 0, 47, 4, 0.0, 0.0, 0, 0.0, 0.0, 0.0, 0.0), (0.0, 0, 21, 9, 0.0, 0.2368, 0, 0.0, 0.0, 0.0, 0.0), (0.0, 0, 45, 4, 0.0, 0.0, 0, 0.0, 0.0, 0.0, 0.0), (1.0, 0, 17, 9, 0.9997, 0.0, 0, 0.0, 0.0, 0.6, 0.0)]\n",
      "kList is [2, 4, 5, 6, 8, 10, 12, 14, 16, 18, 20, 22, 24, 26, 28, 30, 32, 34]\n",
      "Kinf:\n",
      " [20, 4, 4, 2, 4, 2, 2, 5, 5, 2, 4, 2, 5, 4, 20, 2, 2, 20, 2, 20, 5, 2, 5, 4]\n",
      "pre_c1:\n",
      " [1.180131666162501, 5.351368723233052, 5.276600855672213, 0.8557132255227191, 1.4696293046319056, 1.129113538881644, 1.019532212832719, 3.677515237839623, 3.677515237839623, 1.7820142647699666, 1.4585154045785198, 0.7171695065832014, 3.73132132479971, 5.142453555097556, 1.1801316661625003, 1.7820142647699666, 29.001679734735628, 1.1802008746985861, 29.001679734735628, 1.180131666162501, 3.677515237839623, 1.3372000726377626, 3.73132132479971, 5.217464466939296]\n",
      "LOF points 0 2 3.570844927240958\n",
      "LOF points 1 5 2.236970283821259\n",
      "LOF points 2 5 2.205715943750812\n",
      "LOF points 3 24 1.0000069472942508\n",
      "LOF points 4 24 1.0000069472942505\n",
      "LOF points 5 24 1.0000069472942505\n",
      "LOF points 6 24 1.0000069472942508\n",
      "LOF points 7 2 1.0364412196811281\n",
      "LOF points 8 2 1.0135416666666663\n",
      "LOF points 9 4 1.0901322268629656\n",
      "LOF points 10 2 1.4124143337792419\n",
      "LOF points 11 24 1.0000069472942508\n",
      "LOF points 12 8 1.146309581940109\n",
      "LOF points 13 2 1.066646125708501\n",
      "LOF points 14 4 1.0185218552794606\n",
      "LOF points 15 4 1.1051139711511837\n",
      "LOF points 16 24 1.0000069472942505\n",
      "LOF points 17 2 11.6355463023849\n",
      "LOF points 18 24 1.0000069472942505\n",
      "LOF points 19 2 3.1893348355132183\n",
      "LOF points 20 8 1.1628809641040747\n",
      "LOF points 21 24 1.0000069472942508\n",
      "LOF points 22 8 1.1560568403630311\n",
      "LOF points 23 5 2.1809958485509204\n",
      "Ur is \n",
      " [(0.0, 0, 21, 1, 0.0, 0.0, 0, 0.0, 0.0, 0.0, 0.0), (0.9992, 0, 17, 9, 1.0, 0.0, 0, 0.0, 0.0, 1.0, 0.0), (0.9966, 0, 17, 9, 0.9992, 0.0, 0, 0.0, 0.0, 0.8, 0.0), (0.0, 0, 21, 9, 0.0001, 0.4629, 0, 0.0, 0.0, 0.0, 0.0), (0.0464, 0, 21, 9, 0.0001, 0.0472, 0, 0.0, 0.0, 0.0, 0.0), (0.0, 0, 21, 9, 0.0001, 0.5528, 0, 0.0, 0.0, 0.0, 0.0), (0.0, 0, 21, 9, 0.0, 0.2958, 0, 0.0, 0.0, 0.0, 0.0), (0.0, 0, 47, 5, 0.0, 0.0, 0, 0.0, 0.0, 0.0, 0.0), (0.0, 0, 42, 5, 0.0, 0.0, 0, 0.0, 0.0, 0.0, 0.0), (0.0, 0, 17, 9, 0.0, 0.9763, 0, 0.0, 0.0, 0.0, 0.0), (0.0, 0, 21, 9, 0.0001, 0.1331, 0, 0.0, 0.0, 0.0, 0.0), (0.0, 0, 21, 9, 0.0001, 0.3842, 0, 0.0, 0.0, 0.0, 0.0), (0.0, 0, 42, 4, 0.0, 0.0, 0, 0.0, 0.0, 0.0, 0.0), (0.9978, 0, 17, 9, 1.0, 0.0, 0, 0.0, 0.0, 0.2, 0.0), (0.0, 0, 17, 9, 0.0, 0.8614, 0, 0.0, 0.0, 0.0, 0.0), (0.0, 0, 17, 9, 0.0, 1.0, 0, 0.0, 0.0, 0.0, 0.0), (0.0, 0, 21, 9, 0.0, 0.0474, 0, 0.0, 0.0, 0.0, 0.0), (0.0, 2, 12, 9, 0.0002, 0.0, 0, 0.0, 0.0, 0.0, 0.0), (0.0, 0, 21, 9, 0.0001, 0.0482, 0, 0.0, 0.0, 0.0, 0.0), (0.0, 1, 47, 9, 0.0, 0.0, 0, 0.0, 0.0, 0.0, 0.0), (0.0, 0, 47, 4, 0.0, 0.0, 0, 0.0, 0.0, 0.0, 0.0), (0.0, 0, 21, 9, 0.0, 0.2368, 0, 0.0, 0.0, 0.0, 0.0), (0.0, 0, 45, 4, 0.0, 0.0, 0, 0.0, 0.0, 0.0, 0.0), (1.0, 0, 17, 9, 0.9997, 0.0, 0, 0.0, 0.0, 0.6, 0.0)]\n",
      "center is  (0.0, 0, 21, 9, 0.0001, 0.0482, 0, 0.0, 0.0, 0.0, 0.0) 2\n"
     ]
    },
    {
     "data": {
      "image/png": "[encoded data removed]",
      "text/plain": [
       "<Figure size 432x288 with 1 Axes>"
      ]
     },
     "metadata": {
      "needs_background": "light"
     },
     "output_type": "display_data"
    },
    {
     "name": "stdout",
     "output_type": "stream",
     "text": [
      "New instances is \n",
      " [(0.0, 0, 21, 1, 0.0, 0.0, 0, 0.0, 0.0, 0.0, 0.0), (0.9992, 0, 17, 9, 1.0, 0.0, 0, 0.0, 0.0, 1.0, 0.0), (0.9966, 0, 17, 9, 0.9992, 0.0, 0, 0.0, 0.0, 0.8, 0.0), (0.0, 0, 21, 9, 0.0001, 0.4629, 0, 0.0, 0.0, 0.0, 0.0), (0.0, 0, 21, 9, 0.0001, 0.5528, 0, 0.0, 0.0, 0.0, 0.0), (0.0, 0, 21, 9, 0.0, 0.2958, 0, 0.0, 0.0, 0.0, 0.0), (0.0, 0, 47, 5, 0.0, 0.0, 0, 0.0, 0.0, 0.0, 0.0), (0.0, 0, 42, 5, 0.0, 0.0, 0, 0.0, 0.0, 0.0, 0.0), (0.0, 0, 17, 9, 0.0, 0.9763, 0, 0.0, 0.0, 0.0, 0.0), (0.0, 0, 21, 9, 0.0001, 0.1331, 0, 0.0, 0.0, 0.0, 0.0), (0.0, 0, 21, 9, 0.0001, 0.3842, 0, 0.0, 0.0, 0.0, 0.0), (0.0, 0, 42, 4, 0.0, 0.0, 0, 0.0, 0.0, 0.0, 0.0), (0.9978, 0, 17, 9, 1.0, 0.0, 0, 0.0, 0.0, 0.2, 0.0), (0.0, 0, 17, 9, 0.0, 0.8614, 0, 0.0, 0.0, 0.0, 0.0), (0.0, 0, 17, 9, 0.0, 1.0, 0, 0.0, 0.0, 0.0, 0.0), (0.0, 2, 12, 9, 0.0002, 0.0, 0, 0.0, 0.0, 0.0, 0.0), (0.0, 1, 47, 9, 0.0, 0.0, 0, 0.0, 0.0, 0.0, 0.0), (0.0, 0, 47, 4, 0.0, 0.0, 0, 0.0, 0.0, 0.0, 0.0), (0.0, 0, 21, 9, 0.0, 0.2368, 0, 0.0, 0.0, 0.0, 0.0), (0.0, 0, 45, 4, 0.0, 0.0, 0, 0.0, 0.0, 0.0, 0.0), (1.0, 0, 17, 9, 0.9997, 0.0, 0, 0.0, 0.0, 0.6, 0.0)]\n",
      "kList is [2, 3, 4, 5, 6, 8, 10, 12, 14, 16, 18, 20, 22, 24, 26, 28, 30, 32, 34]\n",
      "Kinf:\n",
      " [6, 4, 4, 6, 6, 3, 5, 5, 2, 6, 3, 5, 4, 3, 2, 18, 6, 5, 2, 5, 4]\n",
      "pre_c1:\n",
      " [1.0716570307457876, 4.496213123823605, 4.435802504826178, 1.4813645181725912, 1.4303790600681954, 1.41678841417055, 3.666923036891892, 3.666923036891892, 1.7820142647699666, 1.472832818045713, 1.355731267678818, 3.7206893033210835, 4.327948484875711, 3.1932500838186435, 1.7820142647699666, 1.015403282845371, 1.0888679002587092, 3.666923036891892, 1.1771371923333354, 3.7206893033210835, 4.388225268942522]\n",
      "LOF points 0 2 3.570844927240958\n",
      "LOF points 1 5 1.8394138852897275\n",
      "LOF points 2 5 1.8146997250970016\n",
      "LOF points 3 22 1.0000073387536133\n",
      "LOF points 4 22 1.0000073387536133\n",
      "LOF points 5 22 1.0000073387536133\n",
      "LOF points 6 2 1.0364412196811281\n",
      "LOF points 7 2 1.0135416666666663\n",
      "LOF points 8 4 1.0901322268629656\n",
      "LOF points 9 22 1.0000073387536133\n",
      "LOF points 10 22 1.000007338753613\n",
      "LOF points 11 8 1.0197008899578563\n",
      "LOF points 12 2 1.066646125708501\n",
      "LOF points 13 4 1.0185218552794606\n",
      "LOF points 14 4 1.1051139711511837\n",
      "LOF points 15 2 4.403592334685193\n",
      "LOF points 16 2 3.1893348355132183\n",
      "LOF points 17 8 1.0340924837968601\n",
      "LOF points 18 22 1.0000073387536133\n",
      "LOF points 19 8 1.0281624763015453\n",
      "LOF points 20 5 1.795235739316523\n",
      "Ur is \n",
      " [(0.0, 0, 21, 1, 0.0, 0.0, 0, 0.0, 0.0, 0.0, 0.0), (0.9992, 0, 17, 9, 1.0, 0.0, 0, 0.0, 0.0, 1.0, 0.0), (0.9966, 0, 17, 9, 0.9992, 0.0, 0, 0.0, 0.0, 0.8, 0.0), (0.0, 0, 21, 9, 0.0001, 0.4629, 0, 0.0, 0.0, 0.0, 0.0), (0.0, 0, 21, 9, 0.0001, 0.5528, 0, 0.0, 0.0, 0.0, 0.0), (0.0, 0, 21, 9, 0.0, 0.2958, 0, 0.0, 0.0, 0.0, 0.0), (0.0, 0, 47, 5, 0.0, 0.0, 0, 0.0, 0.0, 0.0, 0.0), (0.0, 0, 42, 5, 0.0, 0.0, 0, 0.0, 0.0, 0.0, 0.0), (0.0, 0, 17, 9, 0.0, 0.9763, 0, 0.0, 0.0, 0.0, 0.0), (0.0, 0, 21, 9, 0.0001, 0.1331, 0, 0.0, 0.0, 0.0, 0.0), (0.0, 0, 21, 9, 0.0001, 0.3842, 0, 0.0, 0.0, 0.0, 0.0), (0.0, 0, 42, 4, 0.0, 0.0, 0, 0.0, 0.0, 0.0, 0.0), (0.9978, 0, 17, 9, 1.0, 0.0, 0, 0.0, 0.0, 0.2, 0.0), (0.0, 0, 17, 9, 0.0, 0.8614, 0, 0.0, 0.0, 0.0, 0.0), (0.0, 0, 17, 9, 0.0, 1.0, 0, 0.0, 0.0, 0.0, 0.0), (0.0, 2, 12, 9, 0.0002, 0.0, 0, 0.0, 0.0, 0.0, 0.0), (0.0, 1, 47, 9, 0.0, 0.0, 0, 0.0, 0.0, 0.0, 0.0), (0.0, 0, 47, 4, 0.0, 0.0, 0, 0.0, 0.0, 0.0, 0.0), (0.0, 0, 21, 9, 0.0, 0.2368, 0, 0.0, 0.0, 0.0, 0.0), (0.0, 0, 45, 4, 0.0, 0.0, 0, 0.0, 0.0, 0.0, 0.0), (1.0, 0, 17, 9, 0.9997, 0.0, 0, 0.0, 0.0, 0.6, 0.0)]\n",
      "center is  (0.0, 2, 12, 9, 0.0002, 0.0, 0, 0.0, 0.0, 0.0, 0.0) 18\n"
     ]
    },
    {
     "data": {
      "image/png": "[encoded data removed]",
      "text/plain": [
       "<Figure size 432x288 with 1 Axes>"
      ]
     },
     "metadata": {
      "needs_background": "light"
     },
     "output_type": "display_data"
    },
    {
     "name": "stdout",
     "output_type": "stream",
     "text": [
      "group 0 is \n",
      " [(0.0364, 0, 58, 9, 0.0003, 0.5074, 0, 0.0, 0.0, 0.6, 0.0), (0.0603, 0, 58, 9, 0.0003, 0.4746, 0, 0.0, 0.0, 0.6, 0.0), (0.0028, 1, 47, 9, 0.0, 0.0252, 0, 0.0, 0.0, 0.0, 0.0), (0.001, 1, 47, 9, 0.0, 0.0252, 0, 0.0, 0.0, 0.0, 0.0), (0.0, 1, 47, 9, 0.0, 0.0252, 0, 0.0, 0.0, 0.0, 0.0)]\n",
      "group 0 label is \n",
      " [(29, 1), (30, 1), (14, 0), (13, 0), (12, 0)]\n",
      "group 1 is \n",
      " [(0.0, 0, 17, 9, 0.0001, 0.0, 0, 0.0, 0.0, 0.0, 0.0), (0.0, 0, 17, 9, 0.0, 0.0, 0, 0.0, 0.0, 0.0, 0.0), (0.0008, 0, 17, 9, 0.0002, 0.0, 0, 0.0, 0.0, 0.0, 0.0), (0.0024, 0, 17, 9, 0.0014, 0.0, 0, 0.0, 0.0, 0.0, 0.0), (0.0, 0, 17, 9, 0.0, 0.3555, 0, 0.0, 0.0, 0.2, 0.0)]\n",
      "group 1 label is \n",
      " [(18, 20), (24, 20), (19, 20), (25, 20), (34, 1)]\n",
      "group 2 is \n",
      " [(0.0, 0, 21, 9, 0.0001, 0.0482, 0, 0.0, 0.0, 0.0, 0.0), (0.0, 0, 21, 9, 0.0, 0.0474, 0, 0.0, 0.0, 0.0, 0.0), (0.0464, 0, 21, 9, 0.0001, 0.0472, 0, 0.0, 0.0, 0.0, 0.0)]\n",
      "group 2 label is \n",
      " [(6, 0), (7, 0), (2, 0)]\n",
      "group 3 is \n",
      " [(0.0, 2, 12, 9, 0.0002, 0.0, 0, 0.0, 0.0, 0.0, 0.0), (0.0, 0, 17, 9, 0.0, 0.8614, 0, 0.0, 0.0, 0.0, 0.0), (0.0, 0, 17, 9, 0.0, 0.9763, 0, 0.0, 0.0, 0.0, 0.0), (0.0, 0, 17, 9, 0.0, 1.0, 0, 0.0, 0.0, 0.0, 0.0), (0.9978, 0, 17, 9, 1.0, 0.0, 0, 0.0, 0.0, 0.2, 0.0), (1.0, 0, 17, 9, 0.9997, 0.0, 0, 0.0, 0.0, 0.6, 0.0), (0.9966, 0, 17, 9, 0.9992, 0.0, 0, 0.0, 0.0, 0.8, 0.0), (0.9992, 0, 17, 9, 1.0, 0.0, 0, 0.0, 0.0, 1.0, 0.0), (0.0, 0, 21, 9, 0.0001, 0.1331, 0, 0.0, 0.0, 0.0, 0.0), (0.0, 0, 21, 9, 0.0, 0.2368, 0, 0.0, 0.0, 0.0, 0.0), (0.0, 0, 21, 9, 0.0, 0.2958, 0, 0.0, 0.0, 0.0, 0.0), (0.0, 0, 21, 9, 0.0001, 0.3842, 0, 0.0, 0.0, 0.0, 0.0), (0.0, 0, 21, 9, 0.0001, 0.4629, 0, 0.0, 0.0, 0.0, 0.0), (0.0, 0, 21, 9, 0.0001, 0.5528, 0, 0.0, 0.0, 0.0, 0.0), (0.0, 0, 21, 1, 0.0, 0.0, 0, 0.0, 0.0, 0.0, 0.0), (0.0, 0, 42, 5, 0.0, 0.0, 0, 0.0, 0.0, 0.0, 0.0), (0.0, 0, 42, 4, 0.0, 0.0, 0, 0.0, 0.0, 0.0, 0.0), (0.0, 0, 45, 4, 0.0, 0.0, 0, 0.0, 0.0, 0.0, 0.0), (0.0, 1, 47, 9, 0.0, 0.0, 0, 0.0, 0.0, 0.0, 0.0), (0.0, 0, 47, 5, 0.0, 0.0, 0, 0.0, 0.0, 0.0, 0.0), (0.0, 0, 47, 4, 0.0, 0.0, 0, 0.0, 0.0, 0.0, 0.0)]\n",
      "group 3 label is \n",
      " [(17, 5), (33, 1), (31, 1), (32, 1), (22, 20), (20, 20), (23, 20), (21, 20), (3, 0), (10, 0), (4, 0), (9, 0), (8, 0), (5, 0), (1, 0), (16, 4), (27, 9), (28, 9), (11, 0), (15, 4), (26, 9)]\n"
     ]
    },
    {
     "data": {
      "image/png": "[encoded data removed]",
      "text/plain": [
       "<Figure size 432x288 with 1 Axes>"
      ]
     },
     "metadata": {
      "needs_background": "light"
     },
     "output_type": "display_data"
    }
   ],
   "source": [
    "%run RCD.py"
   ]
  },
  {
   "cell_type": "code",
   "execution_count": 3,
   "metadata": {
    "scrolled": true
   },
   "outputs": [
    {
     "name": "stdout",
     "output_type": "stream",
     "text": [
      "(0.0, 0, 21, 1, 0.0, 0.0, 0, 0.0, 0.0, 0.0, 0.0)\n",
      "(0.0464, 0, 21, 9, 0.0001, 0.0472, 0, 0.0, 0.0, 0.0, 0.0)\n",
      "(0.0, 0, 21, 9, 0.0001, 0.1331, 0, 0.0, 0.0, 0.0, 0.0)\n",
      "(0.0, 0, 21, 9, 0.0, 0.2958, 0, 0.0, 0.0, 0.0, 0.0)\n",
      "(0.0, 0, 21, 9, 0.0001, 0.5528, 0, 0.0, 0.0, 0.0, 0.0)\n",
      "(0.0, 0, 21, 9, 0.0001, 0.0482, 0, 0.0, 0.0, 0.0, 0.0)\n",
      "(0.0, 0, 21, 9, 0.0, 0.0474, 0, 0.0, 0.0, 0.0, 0.0)\n",
      "(0.0, 0, 21, 9, 0.0001, 0.4629, 0, 0.0, 0.0, 0.0, 0.0)\n",
      "(0.0, 0, 21, 9, 0.0001, 0.3842, 0, 0.0, 0.0, 0.0, 0.0)\n",
      "(0.0, 0, 21, 9, 0.0, 0.2368, 0, 0.0, 0.0, 0.0, 0.0)\n",
      "(0.0, 1, 47, 9, 0.0, 0.0, 0, 0.0, 0.0, 0.0, 0.0)\n",
      "(0.0, 1, 47, 9, 0.0, 0.0252, 0, 0.0, 0.0, 0.0, 0.0)\n",
      "(0.001, 1, 47, 9, 0.0, 0.0252, 0, 0.0, 0.0, 0.0, 0.0)\n",
      "(0.0028, 1, 47, 9, 0.0, 0.0252, 0, 0.0, 0.0, 0.0, 0.0)\n",
      "(0.0, 0, 47, 5, 0.0, 0.0, 0, 0.0, 0.0, 0.0, 0.0)\n",
      "(0.0, 0, 42, 5, 0.0, 0.0, 0, 0.0, 0.0, 0.0, 0.0)\n",
      "(0.0, 2, 12, 9, 0.0002, 0.0, 0, 0.0, 0.0, 0.0, 0.0)\n",
      "(0.0, 0, 17, 9, 0.0001, 0.0, 0, 0.0, 0.0, 0.0, 0.0)\n",
      "(0.0008, 0, 17, 9, 0.0002, 0.0, 0, 0.0, 0.0, 0.0, 0.0)\n",
      "(1.0, 0, 17, 9, 0.9997, 0.0, 0, 0.0, 0.0, 0.6, 0.0)\n",
      "(0.9992, 0, 17, 9, 1.0, 0.0, 0, 0.0, 0.0, 1.0, 0.0)\n",
      "(0.9978, 0, 17, 9, 1.0, 0.0, 0, 0.0, 0.0, 0.2, 0.0)\n",
      "(0.9966, 0, 17, 9, 0.9992, 0.0, 0, 0.0, 0.0, 0.8, 0.0)\n",
      "(0.0, 0, 17, 9, 0.0, 0.0, 0, 0.0, 0.0, 0.0, 0.0)\n",
      "(0.0024, 0, 17, 9, 0.0014, 0.0, 0, 0.0, 0.0, 0.0, 0.0)\n",
      "(0.0, 0, 47, 4, 0.0, 0.0, 0, 0.0, 0.0, 0.0, 0.0)\n",
      "(0.0, 0, 42, 4, 0.0, 0.0, 0, 0.0, 0.0, 0.0, 0.0)\n",
      "(0.0, 0, 45, 4, 0.0, 0.0, 0, 0.0, 0.0, 0.0, 0.0)\n",
      "(0.0364, 0, 58, 9, 0.0003, 0.5074, 0, 0.0, 0.0, 0.6, 0.0)\n",
      "(0.0603, 0, 58, 9, 0.0003, 0.4746, 0, 0.0, 0.0, 0.6, 0.0)\n",
      "(0.0, 0, 17, 9, 0.0, 0.9763, 0, 0.0, 0.0, 0.0, 0.0)\n",
      "(0.0, 0, 17, 9, 0.0, 1.0, 0, 0.0, 0.0, 0.0, 0.0)\n",
      "(0.0, 0, 17, 9, 0.0, 0.8614, 0, 0.0, 0.0, 0.0, 0.0)\n",
      "(0.0, 0, 17, 9, 0.0, 0.3555, 0, 0.0, 0.0, 0.2, 0.0)\n",
      "(1, 0)\n",
      "(2, 0)\n",
      "(3, 0)\n",
      "(4, 0)\n",
      "(5, 0)\n",
      "(6, 0)\n",
      "(7, 0)\n",
      "(8, 0)\n",
      "(9, 0)\n",
      "(10, 0)\n",
      "(11, 0)\n",
      "(12, 0)\n",
      "(13, 0)\n",
      "(14, 0)\n",
      "(15, 4)\n",
      "(16, 4)\n",
      "(17, 5)\n",
      "(18, 20)\n",
      "(19, 20)\n",
      "(20, 20)\n",
      "(21, 20)\n",
      "(22, 20)\n",
      "(23, 20)\n",
      "(24, 20)\n",
      "(25, 20)\n",
      "(26, 9)\n",
      "(27, 9)\n",
      "(28, 9)\n",
      "(29, 1)\n",
      "(30, 1)\n",
      "(31, 1)\n",
      "(32, 1)\n",
      "(33, 1)\n",
      "(34, 1)\n"
     ]
    },
    {
     "data": {
      "image/png": "[encoded data removed]",
      "text/plain": [
       "<Figure size 432x288 with 1 Axes>"
      ]
     },
     "metadata": {
      "needs_background": "light"
     },
     "output_type": "display_data"
    },
    {
     "name": "stdout",
     "output_type": "stream",
     "text": [
      "Klist : [2, 4, 8, 16, 32]\n",
      "New instances is \n",
      " [(0.0, 0, 21, 1, 0.0, 0.0, 0, 0.0, 0.0, 0.0, 0.0), (0.0464, 0, 21, 9, 0.0001, 0.0472, 0, 0.0, 0.0, 0.0, 0.0), (0.0, 0, 21, 9, 0.0001, 0.1331, 0, 0.0, 0.0, 0.0, 0.0), (0.0, 0, 21, 9, 0.0, 0.2958, 0, 0.0, 0.0, 0.0, 0.0), (0.0, 0, 21, 9, 0.0001, 0.5528, 0, 0.0, 0.0, 0.0, 0.0), (0.0, 0, 21, 9, 0.0001, 0.0482, 0, 0.0, 0.0, 0.0, 0.0), (0.0, 0, 21, 9, 0.0, 0.0474, 0, 0.0, 0.0, 0.0, 0.0), (0.0, 0, 21, 9, 0.0001, 0.4629, 0, 0.0, 0.0, 0.0, 0.0), (0.0, 0, 21, 9, 0.0001, 0.3842, 0, 0.0, 0.0, 0.0, 0.0), (0.0, 0, 21, 9, 0.0, 0.2368, 0, 0.0, 0.0, 0.0, 0.0), (0.0, 1, 47, 9, 0.0, 0.0, 0, 0.0, 0.0, 0.0, 0.0), (0.0, 1, 47, 9, 0.0, 0.0252, 0, 0.0, 0.0, 0.0, 0.0), (0.001, 1, 47, 9, 0.0, 0.0252, 0, 0.0, 0.0, 0.0, 0.0), (0.0028, 1, 47, 9, 0.0, 0.0252, 0, 0.0, 0.0, 0.0, 0.0), (0.0, 0, 47, 5, 0.0, 0.0, 0, 0.0, 0.0, 0.0, 0.0), (0.0, 0, 42, 5, 0.0, 0.0, 0, 0.0, 0.0, 0.0, 0.0), (0.0, 2, 12, 9, 0.0002, 0.0, 0, 0.0, 0.0, 0.0, 0.0), (0.0, 0, 17, 9, 0.0001, 0.0, 0, 0.0, 0.0, 0.0, 0.0), (0.0008, 0, 17, 9, 0.0002, 0.0, 0, 0.0, 0.0, 0.0, 0.0), (1.0, 0, 17, 9, 0.9997, 0.0, 0, 0.0, 0.0, 0.6, 0.0), (0.9992, 0, 17, 9, 1.0, 0.0, 0, 0.0, 0.0, 1.0, 0.0), (0.9978, 0, 17, 9, 1.0, 0.0, 0, 0.0, 0.0, 0.2, 0.0), (0.9966, 0, 17, 9, 0.9992, 0.0, 0, 0.0, 0.0, 0.8, 0.0), (0.0, 0, 17, 9, 0.0, 0.0, 0, 0.0, 0.0, 0.0, 0.0), (0.0024, 0, 17, 9, 0.0014, 0.0, 0, 0.0, 0.0, 0.0, 0.0), (0.0, 0, 47, 4, 0.0, 0.0, 0, 0.0, 0.0, 0.0, 0.0), (0.0, 0, 42, 4, 0.0, 0.0, 0, 0.0, 0.0, 0.0, 0.0), (0.0, 0, 45, 4, 0.0, 0.0, 0, 0.0, 0.0, 0.0, 0.0), (0.0364, 0, 58, 9, 0.0003, 0.5074, 0, 0.0, 0.0, 0.6, 0.0), (0.0603, 0, 58, 9, 0.0003, 0.4746, 0, 0.0, 0.0, 0.6, 0.0), (0.0, 0, 17, 9, 0.0, 0.9763, 0, 0.0, 0.0, 0.0, 0.0), (0.0, 0, 17, 9, 0.0, 1.0, 0, 0.0, 0.0, 0.0, 0.0), (0.0, 0, 17, 9, 0.0, 0.8614, 0, 0.0, 0.0, 0.0, 0.0), (0.0, 0, 17, 9, 0.0, 0.3555, 0, 0.0, 0.0, 0.2, 0.0)]\n",
      "kList is [2, 4, 8, 16, 32]\n",
      "Kinf:\n",
      " [32, 8, 8, 2, 2, 2, 2, 2, 2, 2, 4, 4, 4, 4, 4, 4, 32, 4, 4, 4, 4, 4, 4, 4, 4, 2, 2, 2, 2, 2, 2, 2, 2, 32]\n",
      "pre_c1:\n",
      " [0.993809234491827, 1.3153457117363898, 1.2683865444425046, 1.019532212832719, 1.129113538881644, 29.001679734735628, 29.001679734735628, 0.8557132255227191, 0.7171695065832014, 1.3372000726377626, 28.16559198595174, 28.16916673837887, 28.16917236576717, 28.16921085695246, 0.2882573931553678, 0.28363692377325656, 0.993825189487864, 37.453781018616354, 37.45403683973389, 8.155882507049542, 4.8420714098809405, 8.037289375745338, 4.787122026884046, 37.45377720032454, 37.45672434254789, 1.6102441040251443, 1.073496069350099, 1.6102441040251443, 304.5739919152406, 302.9534312513669, 1.8126494367860897, 1.8126494367860897, 0.37388852612559165, 0.99384749197083]\n",
      "LOF points 0 2 3.8760913676956754\n",
      "LOF points 2 2 1.4124143337792419\n",
      "LOF points 3 8 1.0251621793226167\n",
      "LOF points 4 4 1.000069561768915\n",
      "LOF points 7 8 1.1054143192741555\n",
      "LOF points 8 8 1.0958249180593467\n",
      "LOF points 10 2 5.978064186399182\n",
      "LOF points 11 8 1.5700379395730617\n",
      "LOF points 12 8 1.5700384729887966\n",
      "LOF points 13 8 1.5700433960099087\n",
      "LOF points 14 16 1.0263464371404782\n",
      "LOF points 15 8 1.5744453474650406\n",
      "LOF points 16 2 18.55731874186372\n",
      "LOF points 19 8 3.7029185818117702\n",
      "LOF points 20 8 3.9241025497679285\n",
      "LOF points 21 2 1.066646125708501\n",
      "LOF points 22 8 3.7992056134932737\n",
      "LOF points 24 2 1.6492371574284679\n",
      "LOF points 25 8 1.0201230012572862\n",
      "LOF points 26 8 1.624175256534203\n",
      "LOF points 27 8 1.0205010428760748\n",
      "LOF points 28 4 1.1701805378537706\n",
      "LOF points 29 4 1.1608687727507976\n",
      "LOF points 30 4 1.0905509304338366\n",
      "LOF points 31 4 1.105997108027596\n",
      "LOF points 32 4 1.0163009304305926\n",
      "LOF points 33 2 1.7267996572768418\n",
      "Ur is \n",
      " [(0.0, 0, 21, 1, 0.0, 0.0, 0, 0.0, 0.0, 0.0, 0.0), (0.0, 0, 21, 9, 0.0001, 0.1331, 0, 0.0, 0.0, 0.0, 0.0), (0.0, 0, 21, 9, 0.0, 0.2958, 0, 0.0, 0.0, 0.0, 0.0), (0.0, 0, 21, 9, 0.0001, 0.5528, 0, 0.0, 0.0, 0.0, 0.0), (0.0, 0, 21, 9, 0.0001, 0.4629, 0, 0.0, 0.0, 0.0, 0.0), (0.0, 0, 21, 9, 0.0001, 0.3842, 0, 0.0, 0.0, 0.0, 0.0), (0.0, 1, 47, 9, 0.0, 0.0, 0, 0.0, 0.0, 0.0, 0.0), (0.0, 1, 47, 9, 0.0, 0.0252, 0, 0.0, 0.0, 0.0, 0.0), (0.001, 1, 47, 9, 0.0, 0.0252, 0, 0.0, 0.0, 0.0, 0.0), (0.0028, 1, 47, 9, 0.0, 0.0252, 0, 0.0, 0.0, 0.0, 0.0), (0.0, 0, 47, 5, 0.0, 0.0, 0, 0.0, 0.0, 0.0, 0.0), (0.0, 0, 42, 5, 0.0, 0.0, 0, 0.0, 0.0, 0.0, 0.0), (0.0, 2, 12, 9, 0.0002, 0.0, 0, 0.0, 0.0, 0.0, 0.0), (1.0, 0, 17, 9, 0.9997, 0.0, 0, 0.0, 0.0, 0.6, 0.0), (0.9992, 0, 17, 9, 1.0, 0.0, 0, 0.0, 0.0, 1.0, 0.0), (0.9978, 0, 17, 9, 1.0, 0.0, 0, 0.0, 0.0, 0.2, 0.0), (0.9966, 0, 17, 9, 0.9992, 0.0, 0, 0.0, 0.0, 0.8, 0.0), (0.0024, 0, 17, 9, 0.0014, 0.0, 0, 0.0, 0.0, 0.0, 0.0), (0.0, 0, 47, 4, 0.0, 0.0, 0, 0.0, 0.0, 0.0, 0.0), (0.0, 0, 42, 4, 0.0, 0.0, 0, 0.0, 0.0, 0.0, 0.0), (0.0, 0, 45, 4, 0.0, 0.0, 0, 0.0, 0.0, 0.0, 0.0), (0.0364, 0, 58, 9, 0.0003, 0.5074, 0, 0.0, 0.0, 0.6, 0.0), (0.0603, 0, 58, 9, 0.0003, 0.4746, 0, 0.0, 0.0, 0.6, 0.0), (0.0, 0, 17, 9, 0.0, 0.9763, 0, 0.0, 0.0, 0.0, 0.0), (0.0, 0, 17, 9, 0.0, 1.0, 0, 0.0, 0.0, 0.0, 0.0), (0.0, 0, 17, 9, 0.0, 0.8614, 0, 0.0, 0.0, 0.0, 0.0), (0.0, 0, 17, 9, 0.0, 0.3555, 0, 0.0, 0.0, 0.2, 0.0)]\n",
      "center is  (0.0364, 0, 58, 9, 0.0003, 0.5074, 0, 0.0, 0.0, 0.6, 0.0) 2\n"
     ]
    },
    {
     "data": {
      "image/png": "[encoded data removed]",
      "text/plain": [
       "<Figure size 432x288 with 1 Axes>"
      ]
     },
     "metadata": {
      "needs_background": "light"
     },
     "output_type": "display_data"
    },
    {
     "name": "stdout",
     "output_type": "stream",
     "text": [
      "New instances is \n",
      " [(0.0, 0, 21, 1, 0.0, 0.0, 0, 0.0, 0.0, 0.0, 0.0), (0.0, 0, 17, 9, 0.0001, 0.0, 0, 0.0, 0.0, 0.0, 0.0), (0.9966, 0, 17, 9, 0.9992, 0.0, 0, 0.0, 0.0, 0.8, 0.0), (0.0464, 0, 21, 9, 0.0001, 0.0472, 0, 0.0, 0.0, 0.0, 0.0), (0.0, 0, 47, 5, 0.0, 0.0, 0, 0.0, 0.0, 0.0, 0.0), (0.0, 0, 17, 9, 0.0, 0.9763, 0, 0.0, 0.0, 0.0, 0.0), (0.0, 0, 17, 9, 0.0, 0.0, 0, 0.0, 0.0, 0.0, 0.0), (0.0, 0, 21, 9, 0.0001, 0.3842, 0, 0.0, 0.0, 0.0, 0.0), (0.0, 0, 42, 4, 0.0, 0.0, 0, 0.0, 0.0, 0.0, 0.0), (0.9978, 0, 17, 9, 1.0, 0.0, 0, 0.0, 0.0, 0.2, 0.0), (0.0, 0, 17, 9, 0.0, 0.3555, 0, 0.0, 0.0, 0.2, 0.0), (0.0, 0, 17, 9, 0.0, 1.0, 0, 0.0, 0.0, 0.0, 0.0), (0.0, 0, 21, 9, 0.0, 0.0474, 0, 0.0, 0.0, 0.0, 0.0), (0.0, 0, 21, 9, 0.0001, 0.0482, 0, 0.0, 0.0, 0.0, 0.0), (0.0, 1, 47, 9, 0.0, 0.0, 0, 0.0, 0.0, 0.0, 0.0), (0.0, 0, 45, 4, 0.0, 0.0, 0, 0.0, 0.0, 0.0, 0.0), (0.0024, 0, 17, 9, 0.0014, 0.0, 0, 0.0, 0.0, 0.0, 0.0), (0.9992, 0, 17, 9, 1.0, 0.0, 0, 0.0, 0.0, 1.0, 0.0), (0.0, 0, 21, 9, 0.0001, 0.4629, 0, 0.0, 0.0, 0.0, 0.0), (0.0, 0, 21, 9, 0.0001, 0.5528, 0, 0.0, 0.0, 0.0, 0.0), (0.0, 0, 21, 9, 0.0, 0.2958, 0, 0.0, 0.0, 0.0, 0.0), (0.0, 0, 42, 5, 0.0, 0.0, 0, 0.0, 0.0, 0.0, 0.0), (0.0, 0, 21, 9, 0.0001, 0.1331, 0, 0.0, 0.0, 0.0, 0.0), (0.0, 0, 17, 9, 0.0, 0.8614, 0, 0.0, 0.0, 0.0, 0.0), (0.0008, 0, 17, 9, 0.0002, 0.0, 0, 0.0, 0.0, 0.0, 0.0), (0.0, 2, 12, 9, 0.0002, 0.0, 0, 0.0, 0.0, 0.0, 0.0), (0.0, 0, 47, 4, 0.0, 0.0, 0, 0.0, 0.0, 0.0, 0.0), (0.0, 0, 21, 9, 0.0, 0.2368, 0, 0.0, 0.0, 0.0, 0.0), (1.0, 0, 17, 9, 0.9997, 0.0, 0, 0.0, 0.0, 0.6, 0.0)]\n",
      "kList is [2, 4, 5, 8, 16, 32]\n",
      "Kinf:\n",
      " [32, 4, 4, 8, 5, 2, 4, 2, 5, 4, 16, 2, 2, 2, 32, 5, 4, 4, 2, 2, 2, 5, 8, 2, 4, 32, 5, 2, 4]\n",
      "pre_c1:\n",
      " [1.0, 47.34627477715034, 4.688424843852431, 1.2086937403850646, 3.677515237839623, 1.7820142647699666, 47.34627168440725, 0.7171695065832014, 3.73132132479971, 7.1358993330041764, 0.9005596480186633, 1.7820142647699666, 29.001679734735628, 29.001679734735628, 1.0, 3.73132132479971, 47.348658981515264, 4.742214937493493, 0.8557132255227191, 1.129113538881644, 1.019532212832719, 3.677515237839623, 1.13545473646308, 0.3675695219760519, 47.346481988636285, 1.0, 3.677515237839623, 1.3372000726377626, 7.240975066288303]\n",
      "LOF points 0 2 3.570844927240958\n",
      "LOF points 1 32 1.0000055913342363\n",
      "LOF points 2 5 1.9826686426481785\n",
      "LOF points 3 32 1.0000055913342363\n",
      "LOF points 4 2 1.0364412196811281\n",
      "LOF points 5 4 1.0958643997792772\n",
      "LOF points 6 32 1.0000055913342363\n",
      "LOF points 7 8 1.0828797862139448\n",
      "LOF points 8 8 1.3523863577441304\n",
      "LOF points 9 2 1.066646125708501\n",
      "LOF points 10 2 1.7957132276211147\n",
      "LOF points 11 4 1.1109249216201\n",
      "LOF points 12 32 1.0000055913342363\n",
      "LOF points 13 32 1.0000055913342363\n",
      "LOF points 14 2 3.1893348355132183\n",
      "LOF points 15 8 1.363885920797818\n",
      "LOF points 16 2 1.6492371574284679\n",
      "LOF points 17 5 2.005415713466021\n",
      "LOF points 18 8 1.0985263054652898\n",
      "LOF points 19 8 1.169026094936373\n",
      "LOF points 20 8 1.0153180562750572\n",
      "LOF points 21 2 1.0135416666666663\n",
      "LOF points 22 2 1.4124143337792419\n",
      "LOF points 23 4 1.0238774839359082\n",
      "LOF points 24 32 1.0000055913342363\n",
      "LOF points 25 2 612.9949499350819\n",
      "LOF points 26 8 1.3719368452569205\n",
      "LOF points 27 32 1.0000055913342363\n",
      "LOF points 28 5 3.062106077044541\n",
      "Ur is \n",
      " [(0.0, 0, 21, 1, 0.0, 0.0, 0, 0.0, 0.0, 0.0, 0.0), (0.0, 0, 17, 9, 0.0001, 0.0, 0, 0.0, 0.0, 0.0, 0.0), (0.9966, 0, 17, 9, 0.9992, 0.0, 0, 0.0, 0.0, 0.8, 0.0), (0.0464, 0, 21, 9, 0.0001, 0.0472, 0, 0.0, 0.0, 0.0, 0.0), (0.0, 0, 47, 5, 0.0, 0.0, 0, 0.0, 0.0, 0.0, 0.0), (0.0, 0, 17, 9, 0.0, 0.9763, 0, 0.0, 0.0, 0.0, 0.0), (0.0, 0, 17, 9, 0.0, 0.0, 0, 0.0, 0.0, 0.0, 0.0), (0.0, 0, 21, 9, 0.0001, 0.3842, 0, 0.0, 0.0, 0.0, 0.0), (0.0, 0, 42, 4, 0.0, 0.0, 0, 0.0, 0.0, 0.0, 0.0), (0.9978, 0, 17, 9, 1.0, 0.0, 0, 0.0, 0.0, 0.2, 0.0), (0.0, 0, 17, 9, 0.0, 0.3555, 0, 0.0, 0.0, 0.2, 0.0), (0.0, 0, 17, 9, 0.0, 1.0, 0, 0.0, 0.0, 0.0, 0.0), (0.0, 0, 21, 9, 0.0, 0.0474, 0, 0.0, 0.0, 0.0, 0.0), (0.0, 0, 21, 9, 0.0001, 0.0482, 0, 0.0, 0.0, 0.0, 0.0), (0.0, 1, 47, 9, 0.0, 0.0, 0, 0.0, 0.0, 0.0, 0.0), (0.0, 0, 45, 4, 0.0, 0.0, 0, 0.0, 0.0, 0.0, 0.0), (0.0024, 0, 17, 9, 0.0014, 0.0, 0, 0.0, 0.0, 0.0, 0.0), (0.9992, 0, 17, 9, 1.0, 0.0, 0, 0.0, 0.0, 1.0, 0.0), (0.0, 0, 21, 9, 0.0001, 0.4629, 0, 0.0, 0.0, 0.0, 0.0), (0.0, 0, 21, 9, 0.0001, 0.5528, 0, 0.0, 0.0, 0.0, 0.0), (0.0, 0, 21, 9, 0.0, 0.2958, 0, 0.0, 0.0, 0.0, 0.0), (0.0, 0, 42, 5, 0.0, 0.0, 0, 0.0, 0.0, 0.0, 0.0), (0.0, 0, 21, 9, 0.0001, 0.1331, 0, 0.0, 0.0, 0.0, 0.0), (0.0, 0, 17, 9, 0.0, 0.8614, 0, 0.0, 0.0, 0.0, 0.0), (0.0008, 0, 17, 9, 0.0002, 0.0, 0, 0.0, 0.0, 0.0, 0.0), (0.0, 2, 12, 9, 0.0002, 0.0, 0, 0.0, 0.0, 0.0, 0.0), (0.0, 0, 47, 4, 0.0, 0.0, 0, 0.0, 0.0, 0.0, 0.0), (0.0, 0, 21, 9, 0.0, 0.2368, 0, 0.0, 0.0, 0.0, 0.0), (1.0, 0, 17, 9, 0.9997, 0.0, 0, 0.0, 0.0, 0.6, 0.0)]\n",
      "center is  (0.0, 0, 17, 9, 0.0001, 0.0, 0, 0.0, 0.0, 0.0, 0.0) 4\n"
     ]
    },
    {
     "data": {
      "image/png": "[encoded data removed]",
      "text/plain": [
       "<Figure size 432x288 with 1 Axes>"
      ]
     },
     "metadata": {
      "needs_background": "light"
     },
     "output_type": "display_data"
    },
    {
     "name": "stdout",
     "output_type": "stream",
     "text": [
      "New instances is \n",
      " [(0.0, 0, 21, 1, 0.0, 0.0, 0, 0.0, 0.0, 0.0, 0.0), (0.9992, 0, 17, 9, 1.0, 0.0, 0, 0.0, 0.0, 1.0, 0.0), (0.9966, 0, 17, 9, 0.9992, 0.0, 0, 0.0, 0.0, 0.8, 0.0), (0.0, 0, 21, 9, 0.0001, 0.4629, 0, 0.0, 0.0, 0.0, 0.0), (0.0464, 0, 21, 9, 0.0001, 0.0472, 0, 0.0, 0.0, 0.0, 0.0), (0.0, 0, 21, 9, 0.0001, 0.5528, 0, 0.0, 0.0, 0.0, 0.0), (0.0, 0, 21, 9, 0.0, 0.2958, 0, 0.0, 0.0, 0.0, 0.0), (0.0, 0, 47, 5, 0.0, 0.0, 0, 0.0, 0.0, 0.0, 0.0), (0.0, 0, 42, 5, 0.0, 0.0, 0, 0.0, 0.0, 0.0, 0.0), (0.0, 0, 17, 9, 0.0, 0.9763, 0, 0.0, 0.0, 0.0, 0.0), (0.0, 0, 21, 9, 0.0001, 0.1331, 0, 0.0, 0.0, 0.0, 0.0), (0.0, 0, 21, 9, 0.0001, 0.3842, 0, 0.0, 0.0, 0.0, 0.0), (0.0, 0, 42, 4, 0.0, 0.0, 0, 0.0, 0.0, 0.0, 0.0), (0.9978, 0, 17, 9, 1.0, 0.0, 0, 0.0, 0.0, 0.2, 0.0), (0.0, 0, 17, 9, 0.0, 0.8614, 0, 0.0, 0.0, 0.0, 0.0), (0.0, 0, 17, 9, 0.0, 1.0, 0, 0.0, 0.0, 0.0, 0.0), (0.0, 0, 21, 9, 0.0, 0.0474, 0, 0.0, 0.0, 0.0, 0.0), (0.0, 2, 12, 9, 0.0002, 0.0, 0, 0.0, 0.0, 0.0, 0.0), (0.0, 0, 21, 9, 0.0001, 0.0482, 0, 0.0, 0.0, 0.0, 0.0), (0.0, 1, 47, 9, 0.0, 0.0, 0, 0.0, 0.0, 0.0, 0.0), (0.0, 0, 47, 4, 0.0, 0.0, 0, 0.0, 0.0, 0.0, 0.0), (0.0, 0, 21, 9, 0.0, 0.2368, 0, 0.0, 0.0, 0.0, 0.0), (0.0, 0, 45, 4, 0.0, 0.0, 0, 0.0, 0.0, 0.0, 0.0), (1.0, 0, 17, 9, 0.9997, 0.0, 0, 0.0, 0.0, 0.6, 0.0)]\n",
      "kList is [2, 4, 5, 8, 16, 32]\n",
      "Kinf:\n",
      " [16, 4, 4, 2, 4, 2, 2, 5, 5, 2, 4, 2, 5, 4, 2, 2, 2, 32, 2, 16, 5, 2, 5, 4]\n",
      "pre_c1:\n",
      " [1.038447007755481, 5.351368723233052, 5.276600855672213, 0.8557132255227191, 1.4696293046319056, 1.129113538881644, 1.019532212832719, 3.677515237839623, 3.677515237839623, 1.7820142647699666, 1.4585154045785198, 0.7171695065832014, 3.73132132479971, 5.142453555097556, 0.3675695219760519, 1.7820142647699666, 29.001679734735628, 1.0, 29.001679734735628, 1.0707175566345124, 3.677515237839623, 1.3372000726377626, 3.73132132479971, 5.217464466939296]\n",
      "LOF points 0 2 3.570844927240958\n",
      "LOF points 1 5 2.236970283821259\n",
      "LOF points 2 5 2.205715943750812\n",
      "LOF points 3 32 1.0000069472942508\n",
      "LOF points 4 32 1.0000069472942505\n",
      "LOF points 5 32 1.0000069472942505\n",
      "LOF points 6 32 1.0000069472942508\n",
      "LOF points 7 2 1.0364412196811281\n",
      "LOF points 8 2 1.0135416666666663\n",
      "LOF points 9 4 1.0901322268629656\n",
      "LOF points 10 2 1.4124143337792419\n",
      "LOF points 11 32 1.0000069472942508\n",
      "LOF points 12 8 1.146309581940109\n",
      "LOF points 13 2 1.066646125708501\n",
      "LOF points 14 4 1.0185218552794606\n",
      "LOF points 15 4 1.1051139711511837\n",
      "LOF points 16 32 1.0000069472942505\n",
      "LOF points 17 2 11.6355463023849\n",
      "LOF points 18 32 1.0000069472942505\n",
      "LOF points 19 2 3.1893348355132183\n",
      "LOF points 20 8 1.1628809641040747\n",
      "LOF points 21 32 1.0000069472942508\n",
      "LOF points 22 8 1.1560568403630311\n",
      "LOF points 23 5 2.1809958485509204\n",
      "Ur is \n",
      " [(0.0, 0, 21, 1, 0.0, 0.0, 0, 0.0, 0.0, 0.0, 0.0), (0.9992, 0, 17, 9, 1.0, 0.0, 0, 0.0, 0.0, 1.0, 0.0), (0.9966, 0, 17, 9, 0.9992, 0.0, 0, 0.0, 0.0, 0.8, 0.0), (0.0, 0, 21, 9, 0.0001, 0.4629, 0, 0.0, 0.0, 0.0, 0.0), (0.0464, 0, 21, 9, 0.0001, 0.0472, 0, 0.0, 0.0, 0.0, 0.0), (0.0, 0, 21, 9, 0.0001, 0.5528, 0, 0.0, 0.0, 0.0, 0.0), (0.0, 0, 21, 9, 0.0, 0.2958, 0, 0.0, 0.0, 0.0, 0.0), (0.0, 0, 47, 5, 0.0, 0.0, 0, 0.0, 0.0, 0.0, 0.0), (0.0, 0, 42, 5, 0.0, 0.0, 0, 0.0, 0.0, 0.0, 0.0), (0.0, 0, 17, 9, 0.0, 0.9763, 0, 0.0, 0.0, 0.0, 0.0), (0.0, 0, 21, 9, 0.0001, 0.1331, 0, 0.0, 0.0, 0.0, 0.0), (0.0, 0, 21, 9, 0.0001, 0.3842, 0, 0.0, 0.0, 0.0, 0.0), (0.0, 0, 42, 4, 0.0, 0.0, 0, 0.0, 0.0, 0.0, 0.0), (0.9978, 0, 17, 9, 1.0, 0.0, 0, 0.0, 0.0, 0.2, 0.0), (0.0, 0, 17, 9, 0.0, 0.8614, 0, 0.0, 0.0, 0.0, 0.0), (0.0, 0, 17, 9, 0.0, 1.0, 0, 0.0, 0.0, 0.0, 0.0), (0.0, 0, 21, 9, 0.0, 0.0474, 0, 0.0, 0.0, 0.0, 0.0), (0.0, 2, 12, 9, 0.0002, 0.0, 0, 0.0, 0.0, 0.0, 0.0), (0.0, 0, 21, 9, 0.0001, 0.0482, 0, 0.0, 0.0, 0.0, 0.0), (0.0, 1, 47, 9, 0.0, 0.0, 0, 0.0, 0.0, 0.0, 0.0), (0.0, 0, 47, 4, 0.0, 0.0, 0, 0.0, 0.0, 0.0, 0.0), (0.0, 0, 21, 9, 0.0, 0.2368, 0, 0.0, 0.0, 0.0, 0.0), (0.0, 0, 45, 4, 0.0, 0.0, 0, 0.0, 0.0, 0.0, 0.0), (1.0, 0, 17, 9, 0.9997, 0.0, 0, 0.0, 0.0, 0.6, 0.0)]\n",
      "center is  (0.0, 2, 12, 9, 0.0002, 0.0, 0, 0.0, 0.0, 0.0, 0.0) 32\n"
     ]
    },
    {
     "data": {
      "image/png": "[encoded data removed]",
      "text/plain": [
       "<Figure size 432x288 with 1 Axes>"
      ]
     },
     "metadata": {
      "needs_background": "light"
     },
     "output_type": "display_data"
    },
    {
     "name": "stdout",
     "output_type": "stream",
     "text": [
      "group 0 is \n",
      " [(0.0364, 0, 58, 9, 0.0003, 0.5074, 0, 0.0, 0.0, 0.6, 0.0), (0.0603, 0, 58, 9, 0.0003, 0.4746, 0, 0.0, 0.0, 0.6, 0.0), (0.0028, 1, 47, 9, 0.0, 0.0252, 0, 0.0, 0.0, 0.0, 0.0), (0.001, 1, 47, 9, 0.0, 0.0252, 0, 0.0, 0.0, 0.0, 0.0), (0.0, 1, 47, 9, 0.0, 0.0252, 0, 0.0, 0.0, 0.0, 0.0)]\n",
      "group 0 label is \n",
      " [(29, 1), (30, 1), (14, 0), (13, 0), (12, 0)]\n",
      "group 1 is \n",
      " [(0.0, 0, 17, 9, 0.0001, 0.0, 0, 0.0, 0.0, 0.0, 0.0), (0.0, 0, 17, 9, 0.0, 0.0, 0, 0.0, 0.0, 0.0, 0.0), (0.0008, 0, 17, 9, 0.0002, 0.0, 0, 0.0, 0.0, 0.0, 0.0), (0.0024, 0, 17, 9, 0.0014, 0.0, 0, 0.0, 0.0, 0.0, 0.0), (0.0, 0, 17, 9, 0.0, 0.3555, 0, 0.0, 0.0, 0.2, 0.0)]\n",
      "group 1 label is \n",
      " [(18, 20), (24, 20), (19, 20), (25, 20), (34, 1)]\n",
      "group 2 is \n",
      " [(0.0, 2, 12, 9, 0.0002, 0.0, 0, 0.0, 0.0, 0.0, 0.0), (0.0, 0, 17, 9, 0.0, 0.8614, 0, 0.0, 0.0, 0.0, 0.0), (0.0, 0, 17, 9, 0.0, 0.9763, 0, 0.0, 0.0, 0.0, 0.0), (0.0, 0, 17, 9, 0.0, 1.0, 0, 0.0, 0.0, 0.0, 0.0), (0.9978, 0, 17, 9, 1.0, 0.0, 0, 0.0, 0.0, 0.2, 0.0), (1.0, 0, 17, 9, 0.9997, 0.0, 0, 0.0, 0.0, 0.6, 0.0), (0.9966, 0, 17, 9, 0.9992, 0.0, 0, 0.0, 0.0, 0.8, 0.0), (0.9992, 0, 17, 9, 1.0, 0.0, 0, 0.0, 0.0, 1.0, 0.0), (0.0, 0, 21, 9, 0.0, 0.0474, 0, 0.0, 0.0, 0.0, 0.0), (0.0, 0, 21, 9, 0.0001, 0.0482, 0, 0.0, 0.0, 0.0, 0.0), (0.0464, 0, 21, 9, 0.0001, 0.0472, 0, 0.0, 0.0, 0.0, 0.0), (0.0, 0, 21, 9, 0.0001, 0.1331, 0, 0.0, 0.0, 0.0, 0.0), (0.0, 0, 21, 9, 0.0, 0.2368, 0, 0.0, 0.0, 0.0, 0.0), (0.0, 0, 21, 9, 0.0, 0.2958, 0, 0.0, 0.0, 0.0, 0.0), (0.0, 0, 21, 9, 0.0001, 0.3842, 0, 0.0, 0.0, 0.0, 0.0), (0.0, 0, 21, 9, 0.0001, 0.4629, 0, 0.0, 0.0, 0.0, 0.0), (0.0, 0, 21, 9, 0.0001, 0.5528, 0, 0.0, 0.0, 0.0, 0.0), (0.0, 0, 21, 1, 0.0, 0.0, 0, 0.0, 0.0, 0.0, 0.0), (0.0, 0, 42, 5, 0.0, 0.0, 0, 0.0, 0.0, 0.0, 0.0), (0.0, 0, 42, 4, 0.0, 0.0, 0, 0.0, 0.0, 0.0, 0.0), (0.0, 0, 45, 4, 0.0, 0.0, 0, 0.0, 0.0, 0.0, 0.0), (0.0, 1, 47, 9, 0.0, 0.0, 0, 0.0, 0.0, 0.0, 0.0), (0.0, 0, 47, 5, 0.0, 0.0, 0, 0.0, 0.0, 0.0, 0.0), (0.0, 0, 47, 4, 0.0, 0.0, 0, 0.0, 0.0, 0.0, 0.0)]\n",
      "group 2 label is \n",
      " [(17, 5), (33, 1), (31, 1), (32, 1), (22, 20), (20, 20), (23, 20), (21, 20), (7, 0), (6, 0), (2, 0), (3, 0), (10, 0), (4, 0), (9, 0), (8, 0), (5, 0), (1, 0), (16, 4), (27, 9), (28, 9), (11, 0), (15, 4), (26, 9)]\n"
     ]
    },
    {
     "data": {
      "image/png": "[encoded data removed]",
      "text/plain": [
       "<Figure size 432x288 with 1 Axes>"
      ]
     },
     "metadata": {
      "needs_background": "light"
     },
     "output_type": "display_data"
    }
   ],
   "source": [
    "%run RCD.py"
   ]
  },
  {
   "cell_type": "code",
   "execution_count": 4,
   "metadata": {
    "scrolled": true
   },
   "outputs": [
    {
     "name": "stdout",
     "output_type": "stream",
     "text": [
      "(0.0, 0, 21, 9, 0.0, 0.2857, 0, 0.0, 0.0, 0.0, 0.0)\n",
      "(0.0, 0, 21, 9, 0.0, 0.0255, 0, 0.0, 0.0, 0.0, 0.0)\n",
      "(0.0, 0, 21, 9, 0.0, 0.0701, 0, 0.0, 0.0, 0.0, 0.0)\n",
      "(0.0, 0, 21, 9, 0.0, 0.1065, 0, 0.0, 0.0, 0.0, 0.0)\n",
      "(0.0, 0, 21, 9, 0.0, 0.1017, 0, 0.0, 0.0, 0.0, 0.0)\n",
      "(0.0, 0, 21, 9, 0.0, 0.2142, 0, 0.0, 0.0, 0.0, 0.0)\n",
      "(0.0, 0, 21, 9, 0.0, 0.1892, 0, 0.0, 0.0, 0.0, 0.0)\n",
      "(0.0, 0, 21, 9, 0.0, 0.111, 0, 0.0, 0.0, 0.0, 0.0)\n",
      "(0.0, 0, 21, 9, 0.0, 0.0159, 0, 0.0, 0.0, 0.0, 0.0)\n",
      "(0.0, 0, 21, 9, 0.0, 0.1134, 0, 0.0, 0.0, 0.0, 0.0)\n",
      "(0.0, 0, 21, 9, 0.0, 0.0976, 0, 0.0, 0.0, 0.0, 0.0)\n",
      "(0.0, 0, 21, 9, 0.0, 0.0154, 0, 0.0, 0.0, 0.0, 0.0)\n",
      "(0.0, 0, 21, 9, 0.0001, 0.0189, 0, 0.0, 0.0, 0.0, 0.0)\n",
      "(0.0, 0, 21, 9, 0.0001, 0.0635, 0, 0.0, 0.0, 0.0, 0.0)\n",
      "(0.0, 0, 21, 9, 0.0001, 1.0, 0, 0.0, 0.0, 0.0, 0.0)\n",
      "(0.0, 0, 21, 9, 0.0001, 0.0404, 0, 0.0, 0.0, 0.0, 0.0)\n",
      "(0.0, 0, 21, 9, 0.0001, 0.0278, 0, 0.0, 0.0, 0.0, 0.0)\n",
      "(0.0, 0, 21, 9, 0.0001, 0.1839, 0, 0.0, 0.0, 0.0, 0.0)\n",
      "(0.0, 0, 21, 9, 0.0001, 0.0176, 0, 0.0, 0.0, 0.0, 0.0)\n",
      "(0.0, 0, 21, 9, 0.0001, 0.1108, 0, 0.0, 0.0, 0.0, 0.0)\n",
      "(0.0, 0, 21, 9, 0.0001, 0.0559, 0, 0.0, 0.0, 0.0, 0.0)\n",
      "(0.0, 0, 21, 9, 0.0001, 0.0154, 0, 0.0, 0.0, 0.0, 0.0)\n",
      "(0.0364, 0, 58, 9, 0.0003, 0.155, 0, 0.0, 0.0, 0.6, 0.0)\n",
      "(0.0603, 0, 58, 9, 0.0003, 0.145, 0, 0.0, 0.0, 0.6, 0.0)\n",
      "(0.0, 2, 12, 9, 0.0002, 0.0, 0, 0.0, 0.0, 0.0, 0.0)\n",
      "(0.0, 2, 12, 9, 0.0001, 0.0, 0, 0.0, 0.0, 0.0, 0.0)\n",
      "(0.0, 0, 47, 5, 0.0, 0.0, 0, 0.0, 0.0, 0.0, 0.0)\n",
      "(0.0008, 0, 17, 9, 0.0002, 0.0, 0, 0.0, 0.0, 0.0, 0.0)\n",
      "(1.0, 0, 17, 9, 0.9997, 0.0, 0, 0.0, 0.0, 0.6, 0.0)\n",
      "(0.9992, 0, 17, 9, 1.0, 0.0, 0, 0.0, 0.0, 1.0, 0.0)\n",
      "(0.9978, 0, 17, 9, 1.0, 0.0, 0, 0.0, 0.0, 0.2, 0.0)\n",
      "(0.9966, 0, 17, 9, 0.9992, 0.0, 0, 0.0, 0.0, 0.8, 0.0)\n",
      "(0.0, 0, 17, 9, 0.0, 0.0, 0, 0.0, 0.0, 0.0, 0.0)\n",
      "(0.0024, 0, 17, 9, 0.0014, 0.0, 0, 0.0, 0.0, 0.0, 0.0)\n",
      "(0.0, 0, 17, 9, 0.0001, 0.0, 0, 0.0, 0.0, 0.0, 0.0)\n",
      "(1, 0)\n",
      "(2, 0)\n",
      "(3, 0)\n",
      "(4, 0)\n",
      "(5, 0)\n",
      "(6, 0)\n",
      "(7, 0)\n",
      "(8, 0)\n",
      "(9, 0)\n",
      "(10, 0)\n",
      "(11, 0)\n",
      "(12, 0)\n",
      "(13, 0)\n",
      "(14, 0)\n",
      "(15, 0)\n",
      "(16, 0)\n",
      "(17, 0)\n",
      "(18, 0)\n",
      "(19, 0)\n",
      "(20, 0)\n",
      "(21, 0)\n",
      "(22, 0)\n",
      "(23, 1)\n",
      "(24, 1)\n",
      "(25, 5)\n",
      "(26, 5)\n",
      "(27, 4)\n",
      "(28, 20)\n",
      "(29, 20)\n",
      "(30, 20)\n",
      "(31, 20)\n",
      "(32, 20)\n",
      "(33, 20)\n",
      "(34, 20)\n",
      "(35, 20)\n"
     ]
    },
    {
     "data": {
      "image/png": "[encoded data removed]",
      "text/plain": [
       "<Figure size 432x288 with 1 Axes>"
      ]
     },
     "metadata": {
      "needs_background": "light"
     },
     "output_type": "display_data"
    },
    {
     "name": "stdout",
     "output_type": "stream",
     "text": [
      "Klist : [2, 4, 6, 8, 10, 12, 14, 16, 18, 20, 22, 24, 26, 28, 30, 32, 34]\n",
      "New instances is \n",
      " [(0.0, 0, 21, 9, 0.0, 0.2857, 0, 0.0, 0.0, 0.0, 0.0), (0.0, 0, 21, 9, 0.0, 0.0255, 0, 0.0, 0.0, 0.0, 0.0), (0.0, 0, 21, 9, 0.0, 0.0701, 0, 0.0, 0.0, 0.0, 0.0), (0.0, 0, 21, 9, 0.0, 0.1065, 0, 0.0, 0.0, 0.0, 0.0), (0.0, 0, 21, 9, 0.0, 0.1017, 0, 0.0, 0.0, 0.0, 0.0), (0.0, 0, 21, 9, 0.0, 0.2142, 0, 0.0, 0.0, 0.0, 0.0), (0.0, 0, 21, 9, 0.0, 0.1892, 0, 0.0, 0.0, 0.0, 0.0), (0.0, 0, 21, 9, 0.0, 0.111, 0, 0.0, 0.0, 0.0, 0.0), (0.0, 0, 21, 9, 0.0, 0.0159, 0, 0.0, 0.0, 0.0, 0.0), (0.0, 0, 21, 9, 0.0, 0.1134, 0, 0.0, 0.0, 0.0, 0.0), (0.0, 0, 21, 9, 0.0, 0.0976, 0, 0.0, 0.0, 0.0, 0.0), (0.0, 0, 21, 9, 0.0, 0.0154, 0, 0.0, 0.0, 0.0, 0.0), (0.0, 0, 21, 9, 0.0001, 0.0189, 0, 0.0, 0.0, 0.0, 0.0), (0.0, 0, 21, 9, 0.0001, 0.0635, 0, 0.0, 0.0, 0.0, 0.0), (0.0, 0, 21, 9, 0.0001, 1.0, 0, 0.0, 0.0, 0.0, 0.0), (0.0, 0, 21, 9, 0.0001, 0.0404, 0, 0.0, 0.0, 0.0, 0.0), (0.0, 0, 21, 9, 0.0001, 0.0278, 0, 0.0, 0.0, 0.0, 0.0), (0.0, 0, 21, 9, 0.0001, 0.1839, 0, 0.0, 0.0, 0.0, 0.0), (0.0, 0, 21, 9, 0.0001, 0.0176, 0, 0.0, 0.0, 0.0, 0.0), (0.0, 0, 21, 9, 0.0001, 0.1108, 0, 0.0, 0.0, 0.0, 0.0), (0.0, 0, 21, 9, 0.0001, 0.0559, 0, 0.0, 0.0, 0.0, 0.0), (0.0, 0, 21, 9, 0.0001, 0.0154, 0, 0.0, 0.0, 0.0, 0.0), (0.0364, 0, 58, 9, 0.0003, 0.155, 0, 0.0, 0.0, 0.6, 0.0), (0.0603, 0, 58, 9, 0.0003, 0.145, 0, 0.0, 0.0, 0.6, 0.0), (0.0, 2, 12, 9, 0.0002, 0.0, 0, 0.0, 0.0, 0.0, 0.0), (0.0, 2, 12, 9, 0.0001, 0.0, 0, 0.0, 0.0, 0.0, 0.0), (0.0, 0, 47, 5, 0.0, 0.0, 0, 0.0, 0.0, 0.0, 0.0), (0.0008, 0, 17, 9, 0.0002, 0.0, 0, 0.0, 0.0, 0.0, 0.0), (1.0, 0, 17, 9, 0.9997, 0.0, 0, 0.0, 0.0, 0.6, 0.0), (0.9992, 0, 17, 9, 1.0, 0.0, 0, 0.0, 0.0, 1.0, 0.0), (0.9978, 0, 17, 9, 1.0, 0.0, 0, 0.0, 0.0, 0.2, 0.0), (0.9966, 0, 17, 9, 0.9992, 0.0, 0, 0.0, 0.0, 0.8, 0.0), (0.0, 0, 17, 9, 0.0, 0.0, 0, 0.0, 0.0, 0.0, 0.0), (0.0024, 0, 17, 9, 0.0014, 0.0, 0, 0.0, 0.0, 0.0, 0.0), (0.0, 0, 17, 9, 0.0001, 0.0, 0, 0.0, 0.0, 0.0, 0.0)]\n",
      "kList is [2, 4, 6, 8, 10, 12, 14, 16, 18, 20, 22, 24, 26, 28, 30, 32, 34]\n",
      "Kinf:\n",
      " [30, 2, 2, 6, 6, 24, 2, 2, 8, 6, 6, 2, 2, 2, 30, 8, 2, 2, 2, 2, 2, 2, 2, 2, 2, 2, 32, 4, 4, 4, 4, 4, 4, 4, 4]\n",
      "pre_c1:\n",
      " [0.9195550623930638, 4.7728927094893905, 1.0176431605342258, 2.445869485979217, 2.445869485979218, 0.3329593714456158, 2.0565087409345524, 5.432507928676841, 1.4157004320634758, 2.5115879103552, 2.445869485979218, 1.2314358678923436, 1.866038302663363, 1.0176431605342258, 0.919555062393064, 1.2430988744428657, 5.269421457833202, 2.0565087409345524, 1.5515573596190777, 5.432507928676841, 0.8838441785622729, 1.2314358678923436, 204.87977963512054, 2510.197783941273, 1345620.5164798554, 1345620.5142633421, 1.0191275460351148, 95.944126875521, 10.432060964329548, 2.717136943709215, 10.285667789114779, 10.547501859822288, 95.9433273036127, 95.95248963107512, 95.9433273036127]\n",
      "LOF points 0 2 1.7185389387016516\n",
      "LOF points 1 4 1.698460357939777\n",
      "LOF points 2 4 1.1281227316624385\n",
      "LOF points 3 2 1.3486058321882173\n",
      "LOF points 5 6 1.6832728987896897\n",
      "LOF points 6 4 2.608439217739145\n",
      "LOF points 7 10 1.0196610347707122\n",
      "LOF points 9 10 1.008644630846541\n",
      "LOF points 10 4 1.1147252652758033\n",
      "LOF points 13 6 1.3157253830807305\n",
      "LOF points 14 2 4.727954011825767\n",
      "LOF points 15 2 1.2710397260082884\n",
      "LOF points 16 4 1.9380330986619945\n",
      "LOF points 17 4 2.5613529114756277\n",
      "LOF points 19 10 1.0186602696896727\n",
      "LOF points 20 6 1.5429755625406105\n",
      "LOF points 22 4 6.6836928506685265\n",
      "LOF points 23 4 54.85397275252263\n",
      "LOF points 24 4 6.1945040620387815\n",
      "LOF points 25 4 6.194504031427922\n",
      "LOF points 26 2 1126.976748467177\n",
      "LOF points 27 6 3.3465300420000776\n",
      "LOF points 28 6 6.5412468752245045\n",
      "LOF points 29 6 1.2180937160345415\n",
      "LOF points 30 2 1.066646125708501\n",
      "LOF points 31 6 6.661883996249511\n",
      "LOF points 32 6 3.346482844783677\n",
      "LOF points 33 2 1.6492371574284679\n",
      "LOF points 34 6 3.346482844783677\n",
      "Ur is \n",
      " [(0.0, 0, 21, 9, 0.0, 0.2857, 0, 0.0, 0.0, 0.0, 0.0), (0.0, 0, 21, 9, 0.0, 0.0255, 0, 0.0, 0.0, 0.0, 0.0), (0.0, 0, 21, 9, 0.0, 0.0701, 0, 0.0, 0.0, 0.0, 0.0), (0.0, 0, 21, 9, 0.0, 0.1065, 0, 0.0, 0.0, 0.0, 0.0), (0.0, 0, 21, 9, 0.0, 0.2142, 0, 0.0, 0.0, 0.0, 0.0), (0.0, 0, 21, 9, 0.0, 0.1892, 0, 0.0, 0.0, 0.0, 0.0), (0.0, 0, 21, 9, 0.0, 0.111, 0, 0.0, 0.0, 0.0, 0.0), (0.0, 0, 21, 9, 0.0, 0.1134, 0, 0.0, 0.0, 0.0, 0.0), (0.0, 0, 21, 9, 0.0, 0.0976, 0, 0.0, 0.0, 0.0, 0.0), (0.0, 0, 21, 9, 0.0001, 0.0635, 0, 0.0, 0.0, 0.0, 0.0), (0.0, 0, 21, 9, 0.0001, 1.0, 0, 0.0, 0.0, 0.0, 0.0), (0.0, 0, 21, 9, 0.0001, 0.0404, 0, 0.0, 0.0, 0.0, 0.0), (0.0, 0, 21, 9, 0.0001, 0.0278, 0, 0.0, 0.0, 0.0, 0.0), (0.0, 0, 21, 9, 0.0001, 0.1839, 0, 0.0, 0.0, 0.0, 0.0), (0.0, 0, 21, 9, 0.0001, 0.1108, 0, 0.0, 0.0, 0.0, 0.0), (0.0, 0, 21, 9, 0.0001, 0.0559, 0, 0.0, 0.0, 0.0, 0.0), (0.0364, 0, 58, 9, 0.0003, 0.155, 0, 0.0, 0.0, 0.6, 0.0), (0.0603, 0, 58, 9, 0.0003, 0.145, 0, 0.0, 0.0, 0.6, 0.0), (0.0, 2, 12, 9, 0.0002, 0.0, 0, 0.0, 0.0, 0.0, 0.0), (0.0, 2, 12, 9, 0.0001, 0.0, 0, 0.0, 0.0, 0.0, 0.0), (0.0, 0, 47, 5, 0.0, 0.0, 0, 0.0, 0.0, 0.0, 0.0), (0.0008, 0, 17, 9, 0.0002, 0.0, 0, 0.0, 0.0, 0.0, 0.0), (1.0, 0, 17, 9, 0.9997, 0.0, 0, 0.0, 0.0, 0.6, 0.0), (0.9992, 0, 17, 9, 1.0, 0.0, 0, 0.0, 0.0, 1.0, 0.0), (0.9978, 0, 17, 9, 1.0, 0.0, 0, 0.0, 0.0, 0.2, 0.0), (0.9966, 0, 17, 9, 0.9992, 0.0, 0, 0.0, 0.0, 0.8, 0.0), (0.0, 0, 17, 9, 0.0, 0.0, 0, 0.0, 0.0, 0.0, 0.0), (0.0024, 0, 17, 9, 0.0014, 0.0, 0, 0.0, 0.0, 0.0, 0.0), (0.0, 0, 17, 9, 0.0001, 0.0, 0, 0.0, 0.0, 0.0, 0.0)]\n",
      "center is  (0.0, 2, 12, 9, 0.0002, 0.0, 0, 0.0, 0.0, 0.0, 0.0) 2\n"
     ]
    },
    {
     "data": {
      "image/png": "[encoded data removed]",
      "text/plain": [
       "<Figure size 432x288 with 1 Axes>"
      ]
     },
     "metadata": {
      "needs_background": "light"
     },
     "output_type": "display_data"
    },
    {
     "name": "stdout",
     "output_type": "stream",
     "text": [
      "New instances is \n",
      " [(0.9966, 0, 17, 9, 0.9992, 0.0, 0, 0.0, 0.0, 0.8, 0.0), (0.0, 0, 21, 9, 0.0, 0.1892, 0, 0.0, 0.0, 0.0, 0.0), (0.0, 0, 47, 5, 0.0, 0.0, 0, 0.0, 0.0, 0.0, 0.0), (0.0364, 0, 58, 9, 0.0003, 0.155, 0, 0.0, 0.0, 0.6, 0.0), (0.0, 0, 21, 9, 0.0001, 0.0635, 0, 0.0, 0.0, 0.0, 0.0), (0.0, 0, 21, 9, 0.0, 0.1017, 0, 0.0, 0.0, 0.0, 0.0), (0.0, 0, 21, 9, 0.0001, 0.1839, 0, 0.0, 0.0, 0.0, 0.0), (0.0, 0, 21, 9, 0.0001, 0.0154, 0, 0.0, 0.0, 0.0, 0.0), (0.0603, 0, 58, 9, 0.0003, 0.145, 0, 0.0, 0.0, 0.6, 0.0), (0.9978, 0, 17, 9, 1.0, 0.0, 0, 0.0, 0.0, 0.2, 0.0), (0.0, 0, 21, 9, 0.0001, 0.0278, 0, 0.0, 0.0, 0.0, 0.0), (0.0, 0, 21, 9, 0.0001, 0.1108, 0, 0.0, 0.0, 0.0, 0.0), (0.0, 0, 21, 9, 0.0001, 0.0559, 0, 0.0, 0.0, 0.0, 0.0), (0.0, 0, 21, 9, 0.0001, 0.0176, 0, 0.0, 0.0, 0.0, 0.0), (0.0, 0, 21, 9, 0.0, 0.1065, 0, 0.0, 0.0, 0.0, 0.0), (0.0024, 0, 17, 9, 0.0014, 0.0, 0, 0.0, 0.0, 0.0, 0.0), (0.9992, 0, 17, 9, 1.0, 0.0, 0, 0.0, 0.0, 1.0, 0.0), (0.0, 0, 21, 9, 0.0, 0.2142, 0, 0.0, 0.0, 0.0, 0.0), (0.0, 0, 21, 9, 0.0, 0.111, 0, 0.0, 0.0, 0.0, 0.0), (0.0, 0, 21, 9, 0.0001, 1.0, 0, 0.0, 0.0, 0.0, 0.0), (0.0, 0, 21, 9, 0.0, 0.0976, 0, 0.0, 0.0, 0.0, 0.0), (0.0, 0, 21, 9, 0.0001, 0.0404, 0, 0.0, 0.0, 0.0, 0.0), (0.0, 0, 21, 9, 0.0, 0.2857, 0, 0.0, 0.0, 0.0, 0.0), (0.0, 0, 21, 9, 0.0, 0.0255, 0, 0.0, 0.0, 0.0, 0.0), (0.0, 0, 21, 9, 0.0, 0.0154, 0, 0.0, 0.0, 0.0, 0.0), (0.0, 0, 21, 9, 0.0001, 0.0189, 0, 0.0, 0.0, 0.0, 0.0), (0.0, 0, 21, 9, 0.0, 0.1134, 0, 0.0, 0.0, 0.0, 0.0), (0.0, 0, 21, 9, 0.0, 0.0701, 0, 0.0, 0.0, 0.0, 0.0), (1.0, 0, 17, 9, 0.9997, 0.0, 0, 0.0, 0.0, 0.6, 0.0), (0.0, 0, 21, 9, 0.0, 0.0159, 0, 0.0, 0.0, 0.0, 0.0)]\n",
      "kList is [2, 4, 5, 6, 8, 10, 12, 14, 16, 18, 20, 22, 24, 26, 28, 30, 32, 34]\n",
      "Kinf:\n",
      " [4, 2, 26, 2, 22, 22, 2, 2, 2, 4, 22, 2, 22, 22, 22, 22, 4, 22, 2, 26, 22, 22, 22, 22, 2, 22, 22, 22, 4, 22]\n",
      "pre_c1:\n",
      " [9.713877553087457, 2.0565087409345524, 1.1390646159871254, 236.61152308741208, 3.2785234850353477, 3.2785234850353486, 2.0565087409345524, 1.2314358678923436, 2923.8329158093034, 9.473933535668937, 3.278523485035349, 5.432507928676841, 3.2785234850353486, 3.2785234850353486, 3.278523485035349, 3.2785234850353486, 9.848073592928577, 3.2785234850353504, 5.432507928676841, 1.134993783979331, 3.2785234850353486, 3.2785234850353486, 3.2785234850353504, 3.278523485035349, 1.2314358678923436, 3.2785234850353486, 3.2785234850353486, 3.278523485035349, 9.608087836095804, 3.2785234850353486]\n",
      "LOF points 0 5 4.004511284642163\n",
      "LOF points 1 4 2.608439217739145\n",
      "LOF points 2 2 1161.723965672096\n",
      "LOF points 3 4 7.176624037951019\n",
      "LOF points 4 5 1.3508085841402284\n",
      "LOF points 5 30 1.0000054670381264\n",
      "LOF points 6 4 2.5613529114756277\n",
      "LOF points 7 30 1.0000054670381264\n",
      "LOF points 8 4 59.18147788012029\n",
      "LOF points 9 2 1.066646125708501\n",
      "LOF points 10 4 1.9380330986619945\n",
      "LOF points 11 10 1.0186602696896727\n",
      "LOF points 12 5 1.3617177136178444\n",
      "LOF points 13 30 1.0000054670381264\n",
      "LOF points 14 2 1.3486058321882173\n",
      "LOF points 15 2 98.337860157564\n",
      "LOF points 16 5 4.0598331221845\n",
      "LOF points 17 5 2.547272335288703\n",
      "LOF points 18 10 1.0196610347707122\n",
      "LOF points 19 2 4.727954011825767\n",
      "LOF points 20 4 1.1147252652758033\n",
      "LOF points 21 2 1.2710397260082884\n",
      "LOF points 22 2 1.7185389387016516\n",
      "LOF points 23 4 1.698460357939777\n",
      "LOF points 24 30 1.0000054670381264\n",
      "LOF points 25 30 1.0000054670381264\n",
      "LOF points 26 10 1.008644630846541\n",
      "LOF points 27 4 1.1281227316624385\n",
      "LOF points 28 5 3.9608998521141165\n",
      "LOF points 29 30 1.0000054670381264\n",
      "Ur is \n",
      " [(0.9966, 0, 17, 9, 0.9992, 0.0, 0, 0.0, 0.0, 0.8, 0.0), (0.0, 0, 21, 9, 0.0, 0.1892, 0, 0.0, 0.0, 0.0, 0.0), (0.0, 0, 47, 5, 0.0, 0.0, 0, 0.0, 0.0, 0.0, 0.0), (0.0364, 0, 58, 9, 0.0003, 0.155, 0, 0.0, 0.0, 0.6, 0.0), (0.0, 0, 21, 9, 0.0001, 0.0635, 0, 0.0, 0.0, 0.0, 0.0), (0.0, 0, 21, 9, 0.0, 0.1017, 0, 0.0, 0.0, 0.0, 0.0), (0.0, 0, 21, 9, 0.0001, 0.1839, 0, 0.0, 0.0, 0.0, 0.0), (0.0, 0, 21, 9, 0.0001, 0.0154, 0, 0.0, 0.0, 0.0, 0.0), (0.0603, 0, 58, 9, 0.0003, 0.145, 0, 0.0, 0.0, 0.6, 0.0), (0.9978, 0, 17, 9, 1.0, 0.0, 0, 0.0, 0.0, 0.2, 0.0), (0.0, 0, 21, 9, 0.0001, 0.0278, 0, 0.0, 0.0, 0.0, 0.0), (0.0, 0, 21, 9, 0.0001, 0.1108, 0, 0.0, 0.0, 0.0, 0.0), (0.0, 0, 21, 9, 0.0001, 0.0559, 0, 0.0, 0.0, 0.0, 0.0), (0.0, 0, 21, 9, 0.0001, 0.0176, 0, 0.0, 0.0, 0.0, 0.0), (0.0, 0, 21, 9, 0.0, 0.1065, 0, 0.0, 0.0, 0.0, 0.0), (0.0024, 0, 17, 9, 0.0014, 0.0, 0, 0.0, 0.0, 0.0, 0.0), (0.9992, 0, 17, 9, 1.0, 0.0, 0, 0.0, 0.0, 1.0, 0.0), (0.0, 0, 21, 9, 0.0, 0.2142, 0, 0.0, 0.0, 0.0, 0.0), (0.0, 0, 21, 9, 0.0, 0.111, 0, 0.0, 0.0, 0.0, 0.0), (0.0, 0, 21, 9, 0.0001, 1.0, 0, 0.0, 0.0, 0.0, 0.0), (0.0, 0, 21, 9, 0.0, 0.0976, 0, 0.0, 0.0, 0.0, 0.0), (0.0, 0, 21, 9, 0.0001, 0.0404, 0, 0.0, 0.0, 0.0, 0.0), (0.0, 0, 21, 9, 0.0, 0.2857, 0, 0.0, 0.0, 0.0, 0.0), (0.0, 0, 21, 9, 0.0, 0.0255, 0, 0.0, 0.0, 0.0, 0.0), (0.0, 0, 21, 9, 0.0, 0.0154, 0, 0.0, 0.0, 0.0, 0.0), (0.0, 0, 21, 9, 0.0001, 0.0189, 0, 0.0, 0.0, 0.0, 0.0), (0.0, 0, 21, 9, 0.0, 0.1134, 0, 0.0, 0.0, 0.0, 0.0), (0.0, 0, 21, 9, 0.0, 0.0701, 0, 0.0, 0.0, 0.0, 0.0), (1.0, 0, 17, 9, 0.9997, 0.0, 0, 0.0, 0.0, 0.6, 0.0), (0.0, 0, 21, 9, 0.0, 0.0159, 0, 0.0, 0.0, 0.0, 0.0)]\n",
      "center is  (0.0603, 0, 58, 9, 0.0003, 0.145, 0, 0.0, 0.0, 0.6, 0.0) 2\n"
     ]
    },
    {
     "data": {
      "image/png": "[encoded data removed]",
      "text/plain": [
       "<Figure size 432x288 with 1 Axes>"
      ]
     },
     "metadata": {
      "needs_background": "light"
     },
     "output_type": "display_data"
    },
    {
     "name": "stdout",
     "output_type": "stream",
     "text": [
      "New instances is \n",
      " [(0.0024, 0, 17, 9, 0.0014, 0.0, 0, 0.0, 0.0, 0.0, 0.0), (0.9992, 0, 17, 9, 1.0, 0.0, 0, 0.0, 0.0, 1.0, 0.0), (0.9966, 0, 17, 9, 0.9992, 0.0, 0, 0.0, 0.0, 0.8, 0.0), (0.0, 0, 21, 9, 0.0, 0.1892, 0, 0.0, 0.0, 0.0, 0.0), (0.0, 0, 21, 9, 0.0, 0.2142, 0, 0.0, 0.0, 0.0, 0.0), (0.0, 0, 21, 9, 0.0, 0.111, 0, 0.0, 0.0, 0.0, 0.0), (0.0, 0, 21, 9, 0.0001, 1.0, 0, 0.0, 0.0, 0.0, 0.0), (0.0, 0, 21, 9, 0.0001, 0.0635, 0, 0.0, 0.0, 0.0, 0.0), (0.0, 0, 21, 9, 0.0, 0.1017, 0, 0.0, 0.0, 0.0, 0.0), (0.0, 0, 21, 9, 0.0, 0.0976, 0, 0.0, 0.0, 0.0, 0.0), (0.0, 0, 21, 9, 0.0001, 0.0404, 0, 0.0, 0.0, 0.0, 0.0), (0.0, 0, 21, 9, 0.0, 0.2857, 0, 0.0, 0.0, 0.0, 0.0), (0.0, 0, 21, 9, 0.0, 0.0255, 0, 0.0, 0.0, 0.0, 0.0), (0.0, 0, 21, 9, 0.0001, 0.1839, 0, 0.0, 0.0, 0.0, 0.0), (0.0, 0, 21, 9, 0.0001, 0.0154, 0, 0.0, 0.0, 0.0, 0.0), (0.0, 0, 21, 9, 0.0, 0.0154, 0, 0.0, 0.0, 0.0, 0.0), (0.9978, 0, 17, 9, 1.0, 0.0, 0, 0.0, 0.0, 0.2, 0.0), (0.0, 0, 21, 9, 0.0001, 0.0189, 0, 0.0, 0.0, 0.0, 0.0), (0.0, 0, 21, 9, 0.0001, 0.0278, 0, 0.0, 0.0, 0.0, 0.0), (0.0, 0, 21, 9, 0.0001, 0.1108, 0, 0.0, 0.0, 0.0, 0.0), (0.0, 0, 21, 9, 0.0001, 0.0559, 0, 0.0, 0.0, 0.0, 0.0), (0.0, 0, 21, 9, 0.0, 0.1134, 0, 0.0, 0.0, 0.0, 0.0), (0.0, 0, 21, 9, 0.0001, 0.0176, 0, 0.0, 0.0, 0.0, 0.0), (0.0, 0, 21, 9, 0.0, 0.0701, 0, 0.0, 0.0, 0.0, 0.0), (0.0, 0, 21, 9, 0.0, 0.1065, 0, 0.0, 0.0, 0.0, 0.0), (1.0, 0, 17, 9, 0.9997, 0.0, 0, 0.0, 0.0, 0.6, 0.0), (0.0, 0, 21, 9, 0.0, 0.0159, 0, 0.0, 0.0, 0.0, 0.0)]\n",
      "kList is [2, 3, 4, 5, 6, 8, 10, 12, 14, 16, 18, 20, 22, 24, 26, 28, 30, 32, 34]\n",
      "Kinf:\n",
      " [26, 4, 4, 2, 3, 2, 22, 2, 6, 6, 8, 22, 2, 2, 2, 2, 4, 5, 2, 2, 3, 6, 5, 2, 6, 4, 3]\n",
      "pre_c1:\n",
      " [1.0625018753220927, 2.5017649997418343, 2.4676743776104613, 2.0565087409345524, 2.2531771946953327, 5.432507928676841, 0.6817249468856537, 1.0176431605342258, 2.445869485979218, 2.445869485979218, 1.2430988744428657, 0.6817249468856535, 4.7728927094893905, 2.0565087409345524, 1.2314358678923436, 1.2314358678923436, 2.406719964647287, 2.341929677453732, 5.269421457833202, 5.432507928676841, 1.4555093321921873, 2.5115879103552, 2.341929677453732, 1.0176431605342258, 2.445869485979217, 2.440799983465768, 2.7087367679841536]\n",
      "LOF points 0 2 990.8162343051877\n",
      "LOF points 1 5 1.0313436748854987\n",
      "LOF points 2 5 1.017289937819175\n",
      "LOF points 3 4 2.608439217739145\n",
      "LOF points 4 5 2.547272335288703\n",
      "LOF points 5 10 1.0196610347707122\n",
      "LOF points 6 2 4.727954011825767\n",
      "LOF points 7 5 1.3508085841402284\n",
      "LOF points 8 28 1.0000027719947882\n",
      "LOF points 9 4 1.1147252652758033\n",
      "LOF points 10 2 1.2710397260082884\n",
      "LOF points 11 2 1.7185389387016516\n",
      "LOF points 12 3 1.417740283178241\n",
      "LOF points 13 4 2.5613529114756277\n",
      "LOF points 14 28 1.0000027719947882\n",
      "LOF points 15 28 1.0000027719947882\n",
      "LOF points 16 2 1.066646125708501\n",
      "LOF points 17 3 1.0312661214611325\n",
      "LOF points 18 3 1.5652292067996567\n",
      "LOF points 19 10 1.0186602696896727\n",
      "LOF points 20 5 1.3617177136178444\n",
      "LOF points 21 10 1.008644630846541\n",
      "LOF points 22 28 1.0000027719947882\n",
      "LOF points 23 4 1.1281227316624385\n",
      "LOF points 24 2 1.3486058321882173\n",
      "LOF points 25 5 1.0062110649352831\n",
      "LOF points 26 28 1.0000027719947882\n",
      "Ur is \n",
      " [(0.0024, 0, 17, 9, 0.0014, 0.0, 0, 0.0, 0.0, 0.0, 0.0), (0.9992, 0, 17, 9, 1.0, 0.0, 0, 0.0, 0.0, 1.0, 0.0), (0.9966, 0, 17, 9, 0.9992, 0.0, 0, 0.0, 0.0, 0.8, 0.0), (0.0, 0, 21, 9, 0.0, 0.1892, 0, 0.0, 0.0, 0.0, 0.0), (0.0, 0, 21, 9, 0.0, 0.2142, 0, 0.0, 0.0, 0.0, 0.0), (0.0, 0, 21, 9, 0.0, 0.111, 0, 0.0, 0.0, 0.0, 0.0), (0.0, 0, 21, 9, 0.0001, 1.0, 0, 0.0, 0.0, 0.0, 0.0), (0.0, 0, 21, 9, 0.0001, 0.0635, 0, 0.0, 0.0, 0.0, 0.0), (0.0, 0, 21, 9, 0.0, 0.1017, 0, 0.0, 0.0, 0.0, 0.0), (0.0, 0, 21, 9, 0.0, 0.0976, 0, 0.0, 0.0, 0.0, 0.0), (0.0, 0, 21, 9, 0.0001, 0.0404, 0, 0.0, 0.0, 0.0, 0.0), (0.0, 0, 21, 9, 0.0, 0.2857, 0, 0.0, 0.0, 0.0, 0.0), (0.0, 0, 21, 9, 0.0, 0.0255, 0, 0.0, 0.0, 0.0, 0.0), (0.0, 0, 21, 9, 0.0001, 0.1839, 0, 0.0, 0.0, 0.0, 0.0), (0.0, 0, 21, 9, 0.0001, 0.0154, 0, 0.0, 0.0, 0.0, 0.0), (0.0, 0, 21, 9, 0.0, 0.0154, 0, 0.0, 0.0, 0.0, 0.0), (0.9978, 0, 17, 9, 1.0, 0.0, 0, 0.0, 0.0, 0.2, 0.0), (0.0, 0, 21, 9, 0.0001, 0.0189, 0, 0.0, 0.0, 0.0, 0.0), (0.0, 0, 21, 9, 0.0001, 0.0278, 0, 0.0, 0.0, 0.0, 0.0), (0.0, 0, 21, 9, 0.0001, 0.1108, 0, 0.0, 0.0, 0.0, 0.0), (0.0, 0, 21, 9, 0.0001, 0.0559, 0, 0.0, 0.0, 0.0, 0.0), (0.0, 0, 21, 9, 0.0, 0.1134, 0, 0.0, 0.0, 0.0, 0.0), (0.0, 0, 21, 9, 0.0001, 0.0176, 0, 0.0, 0.0, 0.0, 0.0), (0.0, 0, 21, 9, 0.0, 0.0701, 0, 0.0, 0.0, 0.0, 0.0), (0.0, 0, 21, 9, 0.0, 0.1065, 0, 0.0, 0.0, 0.0, 0.0), (1.0, 0, 17, 9, 0.9997, 0.0, 0, 0.0, 0.0, 0.6, 0.0), (0.0, 0, 21, 9, 0.0, 0.0159, 0, 0.0, 0.0, 0.0, 0.0)]\n",
      "center is  (0.0, 0, 21, 9, 0.0, 0.2857, 0, 0.0, 0.0, 0.0, 0.0) 22\n"
     ]
    },
    {
     "data": {
      "image/png": "[encoded data removed]",
      "text/plain": [
       "<Figure size 432x288 with 1 Axes>"
      ]
     },
     "metadata": {
      "needs_background": "light"
     },
     "output_type": "display_data"
    },
    {
     "name": "stdout",
     "output_type": "stream",
     "text": [
      "New instances is \n",
      " [(0.9966, 0, 17, 9, 0.9992, 0.0, 0, 0.0, 0.0, 0.8, 0.0), (1.0, 0, 17, 9, 0.9997, 0.0, 0, 0.0, 0.0, 0.6, 0.0), (0.9978, 0, 17, 9, 1.0, 0.0, 0, 0.0, 0.0, 0.2, 0.0), (0.9992, 0, 17, 9, 1.0, 0.0, 0, 0.0, 0.0, 1.0, 0.0)]\n",
      "kList is [2, 3, 4, 5, 6, 8, 10, 12, 14, 16, 18, 20, 22, 23, 24, 26, 28, 30, 32, 34]\n",
      "Kinf:\n",
      " [3, 2, 3, 2]\n",
      "pre_c1:\n",
      " [1.0136890101301188, 1.240122067019893, 1.2486470044004696, 1.240122067019893]\n",
      "LOF points 0 2 1.0416589181958598\n",
      "LOF points 1 4 1.0001020228563147\n",
      "LOF points 2 4 1.0001020228563147\n",
      "LOF points 3 4 1.0001020228563147\n",
      "Ur is \n",
      " [(0.9966, 0, 17, 9, 0.9992, 0.0, 0, 0.0, 0.0, 0.8, 0.0), (1.0, 0, 17, 9, 0.9997, 0.0, 0, 0.0, 0.0, 0.6, 0.0), (0.9978, 0, 17, 9, 1.0, 0.0, 0, 0.0, 0.0, 0.2, 0.0), (0.9992, 0, 17, 9, 1.0, 0.0, 0, 0.0, 0.0, 1.0, 0.0)]\n",
      "center is  (0.9966, 0, 17, 9, 0.9992, 0.0, 0, 0.0, 0.0, 0.8, 0.0) 3\n"
     ]
    },
    {
     "data": {
      "image/png": "[encoded data removed]",
      "text/plain": [
       "<Figure size 432x288 with 1 Axes>"
      ]
     },
     "metadata": {
      "needs_background": "light"
     },
     "output_type": "display_data"
    },
    {
     "name": "stdout",
     "output_type": "stream",
     "text": [
      "group 0 is \n",
      " [(0.0, 2, 12, 9, 0.0002, 0.0, 0, 0.0, 0.0, 0.0, 0.0), (0.0, 2, 12, 9, 0.0001, 0.0, 0, 0.0, 0.0, 0.0, 0.0), (0.0, 0, 17, 9, 0.0001, 0.0, 0, 0.0, 0.0, 0.0, 0.0), (0.0, 0, 17, 9, 0.0, 0.0, 0, 0.0, 0.0, 0.0, 0.0), (0.0008, 0, 17, 9, 0.0002, 0.0, 0, 0.0, 0.0, 0.0, 0.0)]\n",
      "group 0 label is \n",
      " [(25, 5), (26, 5), (35, 20), (33, 20), (28, 20)]\n",
      "group 1 is \n",
      " [(0.0603, 0, 58, 9, 0.0003, 0.145, 0, 0.0, 0.0, 0.6, 0.0), (0.0364, 0, 58, 9, 0.0003, 0.155, 0, 0.0, 0.0, 0.6, 0.0), (0.0, 0, 47, 5, 0.0, 0.0, 0, 0.0, 0.0, 0.0, 0.0)]\n",
      "group 1 label is \n",
      " [(24, 1), (23, 1), (27, 4)]\n",
      "group 2 is \n",
      " [(0.0, 0, 21, 9, 0.0, 0.2857, 0, 0.0, 0.0, 0.0, 0.0), (0.0, 0, 21, 9, 0.0, 0.2142, 0, 0.0, 0.0, 0.0, 0.0), (0.0, 0, 21, 9, 0.0, 0.1892, 0, 0.0, 0.0, 0.0, 0.0), (0.0, 0, 21, 9, 0.0001, 0.1839, 0, 0.0, 0.0, 0.0, 0.0), (0.0, 0, 21, 9, 0.0, 0.1134, 0, 0.0, 0.0, 0.0, 0.0), (0.0, 0, 21, 9, 0.0, 0.111, 0, 0.0, 0.0, 0.0, 0.0), (0.0, 0, 21, 9, 0.0001, 0.1108, 0, 0.0, 0.0, 0.0, 0.0), (0.0, 0, 21, 9, 0.0, 0.1065, 0, 0.0, 0.0, 0.0, 0.0), (0.0, 0, 21, 9, 0.0, 0.1017, 0, 0.0, 0.0, 0.0, 0.0), (0.0, 0, 21, 9, 0.0, 0.0976, 0, 0.0, 0.0, 0.0, 0.0), (0.0, 0, 21, 9, 0.0, 0.0701, 0, 0.0, 0.0, 0.0, 0.0), (0.0, 0, 21, 9, 0.0001, 0.0635, 0, 0.0, 0.0, 0.0, 0.0), (0.0, 0, 21, 9, 0.0001, 0.0559, 0, 0.0, 0.0, 0.0, 0.0), (0.0, 0, 21, 9, 0.0001, 0.0404, 0, 0.0, 0.0, 0.0, 0.0), (0.0, 0, 21, 9, 0.0001, 0.0278, 0, 0.0, 0.0, 0.0, 0.0), (0.0, 0, 21, 9, 0.0, 0.0255, 0, 0.0, 0.0, 0.0, 0.0), (0.0, 0, 21, 9, 0.0001, 0.0189, 0, 0.0, 0.0, 0.0, 0.0), (0.0, 0, 21, 9, 0.0001, 0.0176, 0, 0.0, 0.0, 0.0, 0.0), (0.0, 0, 21, 9, 0.0, 0.0159, 0, 0.0, 0.0, 0.0, 0.0), (0.0, 0, 21, 9, 0.0, 0.0154, 0, 0.0, 0.0, 0.0, 0.0), (0.0, 0, 21, 9, 0.0001, 0.0154, 0, 0.0, 0.0, 0.0, 0.0), (0.0, 0, 21, 9, 0.0001, 1.0, 0, 0.0, 0.0, 0.0, 0.0), (0.0024, 0, 17, 9, 0.0014, 0.0, 0, 0.0, 0.0, 0.0, 0.0)]\n",
      "group 2 label is \n",
      " [(1, 0), (6, 0), (7, 0), (18, 0), (10, 0), (8, 0), (20, 0), (4, 0), (5, 0), (11, 0), (3, 0), (14, 0), (21, 0), (16, 0), (17, 0), (2, 0), (13, 0), (19, 0), (9, 0), (12, 0), (22, 0), (15, 0), (34, 20)]\n",
      "group 3 is \n",
      " [(0.9966, 0, 17, 9, 0.9992, 0.0, 0, 0.0, 0.0, 0.8, 0.0), (0.9992, 0, 17, 9, 1.0, 0.0, 0, 0.0, 0.0, 1.0, 0.0), (1.0, 0, 17, 9, 0.9997, 0.0, 0, 0.0, 0.0, 0.6, 0.0), (0.9978, 0, 17, 9, 1.0, 0.0, 0, 0.0, 0.0, 0.2, 0.0)]\n",
      "group 3 label is \n",
      " [(32, 20), (30, 20), (29, 20), (31, 20)]\n"
     ]
    },
    {
     "data": {
      "image/png": "[encoded data removed]",
      "text/plain": [
       "<Figure size 432x288 with 1 Axes>"
      ]
     },
     "metadata": {
      "needs_background": "light"
     },
     "output_type": "display_data"
    }
   ],
   "source": [
    "%run RCD.py"
   ]
  },
  {
   "cell_type": "code",
   "execution_count": 5,
   "metadata": {
    "scrolled": true
   },
   "outputs": [
    {
     "name": "stdout",
     "output_type": "stream",
     "text": [
      "(0.0, 0, 21, 9, 0.0, 0.2857, 0, 0.0, 0.0, 0.0, 0.0)\n",
      "(0.0, 0, 21, 9, 0.0, 0.0255, 0, 0.0, 0.0, 0.0, 0.0)\n",
      "(0.0, 0, 21, 9, 0.0, 0.0701, 0, 0.0, 0.0, 0.0, 0.0)\n",
      "(0.0, 0, 21, 9, 0.0, 0.1065, 0, 0.0, 0.0, 0.0, 0.0)\n",
      "(0.0, 0, 21, 9, 0.0, 0.1017, 0, 0.0, 0.0, 0.0, 0.0)\n",
      "(0.0, 0, 21, 9, 0.0, 0.2142, 0, 0.0, 0.0, 0.0, 0.0)\n",
      "(0.0, 0, 21, 9, 0.0, 0.1892, 0, 0.0, 0.0, 0.0, 0.0)\n",
      "(0.0, 0, 21, 9, 0.0, 0.111, 0, 0.0, 0.0, 0.0, 0.0)\n",
      "(0.0, 0, 21, 9, 0.0, 0.0159, 0, 0.0, 0.0, 0.0, 0.0)\n",
      "(0.0, 0, 21, 9, 0.0, 0.1134, 0, 0.0, 0.0, 0.0, 0.0)\n",
      "(0.0, 0, 21, 9, 0.0, 0.0976, 0, 0.0, 0.0, 0.0, 0.0)\n",
      "(0.0, 0, 21, 9, 0.0, 0.0154, 0, 0.0, 0.0, 0.0, 0.0)\n",
      "(0.0, 0, 21, 9, 0.0001, 0.0189, 0, 0.0, 0.0, 0.0, 0.0)\n",
      "(0.0, 0, 21, 9, 0.0001, 0.0635, 0, 0.0, 0.0, 0.0, 0.0)\n",
      "(0.0, 0, 21, 9, 0.0001, 1.0, 0, 0.0, 0.0, 0.0, 0.0)\n",
      "(0.0, 0, 21, 9, 0.0001, 0.0404, 0, 0.0, 0.0, 0.0, 0.0)\n",
      "(0.0, 0, 21, 9, 0.0001, 0.0278, 0, 0.0, 0.0, 0.0, 0.0)\n",
      "(0.0, 0, 21, 9, 0.0001, 0.1839, 0, 0.0, 0.0, 0.0, 0.0)\n",
      "(0.0, 0, 21, 9, 0.0001, 0.0176, 0, 0.0, 0.0, 0.0, 0.0)\n",
      "(0.0, 0, 21, 9, 0.0001, 0.1108, 0, 0.0, 0.0, 0.0, 0.0)\n",
      "(0.0, 0, 21, 9, 0.0001, 0.0559, 0, 0.0, 0.0, 0.0, 0.0)\n",
      "(0.0, 0, 21, 9, 0.0001, 0.0154, 0, 0.0, 0.0, 0.0, 0.0)\n",
      "(0.0364, 0, 58, 9, 0.0003, 0.155, 0, 0.0, 0.0, 0.6, 0.0)\n",
      "(0.0603, 0, 58, 9, 0.0003, 0.145, 0, 0.0, 0.0, 0.6, 0.0)\n",
      "(0.0, 2, 12, 9, 0.0002, 0.0, 0, 0.0, 0.0, 0.0, 0.0)\n",
      "(0.0, 2, 12, 9, 0.0001, 0.0, 0, 0.0, 0.0, 0.0, 0.0)\n",
      "(0.0, 0, 47, 5, 0.0, 0.0, 0, 0.0, 0.0, 0.0, 0.0)\n",
      "(0.0008, 0, 17, 9, 0.0002, 0.0, 0, 0.0, 0.0, 0.0, 0.0)\n",
      "(1.0, 0, 17, 9, 0.9997, 0.0, 0, 0.0, 0.0, 0.6, 0.0)\n",
      "(0.9992, 0, 17, 9, 1.0, 0.0, 0, 0.0, 0.0, 1.0, 0.0)\n",
      "(0.9978, 0, 17, 9, 1.0, 0.0, 0, 0.0, 0.0, 0.2, 0.0)\n",
      "(0.9966, 0, 17, 9, 0.9992, 0.0, 0, 0.0, 0.0, 0.8, 0.0)\n",
      "(0.0, 0, 17, 9, 0.0, 0.0, 0, 0.0, 0.0, 0.0, 0.0)\n",
      "(0.0024, 0, 17, 9, 0.0014, 0.0, 0, 0.0, 0.0, 0.0, 0.0)\n",
      "(0.0, 0, 17, 9, 0.0001, 0.0, 0, 0.0, 0.0, 0.0, 0.0)\n",
      "(1, 0)\n",
      "(2, 0)\n",
      "(3, 0)\n",
      "(4, 0)\n",
      "(5, 0)\n",
      "(6, 0)\n",
      "(7, 0)\n",
      "(8, 0)\n",
      "(9, 0)\n",
      "(10, 0)\n",
      "(11, 0)\n",
      "(12, 0)\n",
      "(13, 0)\n",
      "(14, 0)\n",
      "(15, 0)\n",
      "(16, 0)\n",
      "(17, 0)\n",
      "(18, 0)\n",
      "(19, 0)\n",
      "(20, 0)\n",
      "(21, 0)\n",
      "(22, 0)\n",
      "(23, 1)\n",
      "(24, 1)\n",
      "(25, 5)\n",
      "(26, 5)\n",
      "(27, 4)\n",
      "(28, 20)\n",
      "(29, 20)\n",
      "(30, 20)\n",
      "(31, 20)\n",
      "(32, 20)\n",
      "(33, 20)\n",
      "(34, 20)\n",
      "(35, 20)\n"
     ]
    },
    {
     "data": {
      "image/png": "[encoded data removed]",
      "text/plain": [
       "<Figure size 432x288 with 1 Axes>"
      ]
     },
     "metadata": {
      "needs_background": "light"
     },
     "output_type": "display_data"
    },
    {
     "name": "stdout",
     "output_type": "stream",
     "text": [
      "Klist : [2, 4, 8, 16, 32]\n",
      "New instances is \n",
      " [(0.0, 0, 21, 9, 0.0, 0.2857, 0, 0.0, 0.0, 0.0, 0.0), (0.0, 0, 21, 9, 0.0, 0.0255, 0, 0.0, 0.0, 0.0, 0.0), (0.0, 0, 21, 9, 0.0, 0.0701, 0, 0.0, 0.0, 0.0, 0.0), (0.0, 0, 21, 9, 0.0, 0.1065, 0, 0.0, 0.0, 0.0, 0.0), (0.0, 0, 21, 9, 0.0, 0.1017, 0, 0.0, 0.0, 0.0, 0.0), (0.0, 0, 21, 9, 0.0, 0.2142, 0, 0.0, 0.0, 0.0, 0.0), (0.0, 0, 21, 9, 0.0, 0.1892, 0, 0.0, 0.0, 0.0, 0.0), (0.0, 0, 21, 9, 0.0, 0.111, 0, 0.0, 0.0, 0.0, 0.0), (0.0, 0, 21, 9, 0.0, 0.0159, 0, 0.0, 0.0, 0.0, 0.0), (0.0, 0, 21, 9, 0.0, 0.1134, 0, 0.0, 0.0, 0.0, 0.0), (0.0, 0, 21, 9, 0.0, 0.0976, 0, 0.0, 0.0, 0.0, 0.0), (0.0, 0, 21, 9, 0.0, 0.0154, 0, 0.0, 0.0, 0.0, 0.0), (0.0, 0, 21, 9, 0.0001, 0.0189, 0, 0.0, 0.0, 0.0, 0.0), (0.0, 0, 21, 9, 0.0001, 0.0635, 0, 0.0, 0.0, 0.0, 0.0), (0.0, 0, 21, 9, 0.0001, 1.0, 0, 0.0, 0.0, 0.0, 0.0), (0.0, 0, 21, 9, 0.0001, 0.0404, 0, 0.0, 0.0, 0.0, 0.0), (0.0, 0, 21, 9, 0.0001, 0.0278, 0, 0.0, 0.0, 0.0, 0.0), (0.0, 0, 21, 9, 0.0001, 0.1839, 0, 0.0, 0.0, 0.0, 0.0), (0.0, 0, 21, 9, 0.0001, 0.0176, 0, 0.0, 0.0, 0.0, 0.0), (0.0, 0, 21, 9, 0.0001, 0.1108, 0, 0.0, 0.0, 0.0, 0.0), (0.0, 0, 21, 9, 0.0001, 0.0559, 0, 0.0, 0.0, 0.0, 0.0), (0.0, 0, 21, 9, 0.0001, 0.0154, 0, 0.0, 0.0, 0.0, 0.0), (0.0364, 0, 58, 9, 0.0003, 0.155, 0, 0.0, 0.0, 0.6, 0.0), (0.0603, 0, 58, 9, 0.0003, 0.145, 0, 0.0, 0.0, 0.6, 0.0), (0.0, 2, 12, 9, 0.0002, 0.0, 0, 0.0, 0.0, 0.0, 0.0), (0.0, 2, 12, 9, 0.0001, 0.0, 0, 0.0, 0.0, 0.0, 0.0), (0.0, 0, 47, 5, 0.0, 0.0, 0, 0.0, 0.0, 0.0, 0.0), (0.0008, 0, 17, 9, 0.0002, 0.0, 0, 0.0, 0.0, 0.0, 0.0), (1.0, 0, 17, 9, 0.9997, 0.0, 0, 0.0, 0.0, 0.6, 0.0), (0.9992, 0, 17, 9, 1.0, 0.0, 0, 0.0, 0.0, 1.0, 0.0), (0.9978, 0, 17, 9, 1.0, 0.0, 0, 0.0, 0.0, 0.2, 0.0), (0.9966, 0, 17, 9, 0.9992, 0.0, 0, 0.0, 0.0, 0.8, 0.0), (0.0, 0, 17, 9, 0.0, 0.0, 0, 0.0, 0.0, 0.0, 0.0), (0.0024, 0, 17, 9, 0.0014, 0.0, 0, 0.0, 0.0, 0.0, 0.0), (0.0, 0, 17, 9, 0.0001, 0.0, 0, 0.0, 0.0, 0.0, 0.0)]\n",
      "kList is [2, 4, 8, 16, 32]\n",
      "Kinf:\n",
      " [32, 2, 2, 4, 2, 4, 2, 2, 8, 4, 2, 2, 2, 2, 32, 8, 2, 2, 2, 2, 2, 2, 2, 2, 2, 2, 32, 4, 4, 4, 4, 4, 4, 4, 4]\n",
      "pre_c1:\n",
      " [1.0172785877830728, 4.7728927094893905, 1.0176431605342258, 1.1735846792660303, 1.2858982804711212, 2.998557891594399, 2.0565087409345524, 5.432507928676841, 1.4157004320634758, 1.2260636844240185, 1.5708811426295854, 1.2314358678923436, 1.866038302663363, 1.0176431605342258, 1.0172785877830728, 1.2430988744428657, 5.269421457833202, 2.0565087409345524, 1.5515573596190777, 5.432507928676841, 0.8838441785622729, 1.2314358678923436, 204.87977963512054, 2510.197783941273, 1345620.5164798554, 1345620.5142633421, 1.0191275460351148, 95.944126875521, 10.432060964329548, 2.717136943709215, 10.285667789114779, 10.547501859822288, 95.9433273036127, 95.95248963107512, 95.9433273036127]\n",
      "LOF points 0 2 1.7185389387016516\n",
      "LOF points 1 4 1.698460357939777\n",
      "LOF points 2 4 1.1281227316624385\n",
      "LOF points 3 2 1.3486058321882173\n",
      "LOF points 5 8 1.640553278681204\n",
      "LOF points 6 4 2.608439217739145\n",
      "LOF points 9 16 1.0041884573317297\n",
      "LOF points 10 4 1.1147252652758033\n",
      "LOF points 14 2 4.727954011825767\n",
      "LOF points 15 2 1.2710397260082884\n",
      "LOF points 16 4 1.9380330986619945\n",
      "LOF points 17 4 2.5613529114756277\n",
      "LOF points 22 4 6.6836928506685265\n",
      "LOF points 23 4 54.85397275252263\n",
      "LOF points 24 4 6.1945040620387815\n",
      "LOF points 25 4 6.194504031427922\n",
      "LOF points 26 2 1126.976748467177\n",
      "LOF points 27 8 1.763710635414186\n",
      "LOF points 28 8 9.269360879120066\n",
      "LOF points 29 8 5.5704968000356185\n",
      "LOF points 30 2 1.066646125708501\n",
      "LOF points 31 8 9.526033865538285\n",
      "LOF points 32 8 1.763673487351708\n",
      "LOF points 33 2 1.6492371574284679\n",
      "LOF points 34 8 1.7636734878618792\n",
      "Ur is \n",
      " [(0.0, 0, 21, 9, 0.0, 0.2857, 0, 0.0, 0.0, 0.0, 0.0), (0.0, 0, 21, 9, 0.0, 0.0255, 0, 0.0, 0.0, 0.0, 0.0), (0.0, 0, 21, 9, 0.0, 0.0701, 0, 0.0, 0.0, 0.0, 0.0), (0.0, 0, 21, 9, 0.0, 0.1065, 0, 0.0, 0.0, 0.0, 0.0), (0.0, 0, 21, 9, 0.0, 0.2142, 0, 0.0, 0.0, 0.0, 0.0), (0.0, 0, 21, 9, 0.0, 0.1892, 0, 0.0, 0.0, 0.0, 0.0), (0.0, 0, 21, 9, 0.0, 0.1134, 0, 0.0, 0.0, 0.0, 0.0), (0.0, 0, 21, 9, 0.0, 0.0976, 0, 0.0, 0.0, 0.0, 0.0), (0.0, 0, 21, 9, 0.0001, 1.0, 0, 0.0, 0.0, 0.0, 0.0), (0.0, 0, 21, 9, 0.0001, 0.0404, 0, 0.0, 0.0, 0.0, 0.0), (0.0, 0, 21, 9, 0.0001, 0.0278, 0, 0.0, 0.0, 0.0, 0.0), (0.0, 0, 21, 9, 0.0001, 0.1839, 0, 0.0, 0.0, 0.0, 0.0), (0.0364, 0, 58, 9, 0.0003, 0.155, 0, 0.0, 0.0, 0.6, 0.0), (0.0603, 0, 58, 9, 0.0003, 0.145, 0, 0.0, 0.0, 0.6, 0.0), (0.0, 2, 12, 9, 0.0002, 0.0, 0, 0.0, 0.0, 0.0, 0.0), (0.0, 2, 12, 9, 0.0001, 0.0, 0, 0.0, 0.0, 0.0, 0.0), (0.0, 0, 47, 5, 0.0, 0.0, 0, 0.0, 0.0, 0.0, 0.0), (0.0008, 0, 17, 9, 0.0002, 0.0, 0, 0.0, 0.0, 0.0, 0.0), (1.0, 0, 17, 9, 0.9997, 0.0, 0, 0.0, 0.0, 0.6, 0.0), (0.9992, 0, 17, 9, 1.0, 0.0, 0, 0.0, 0.0, 1.0, 0.0), (0.9978, 0, 17, 9, 1.0, 0.0, 0, 0.0, 0.0, 0.2, 0.0), (0.9966, 0, 17, 9, 0.9992, 0.0, 0, 0.0, 0.0, 0.8, 0.0), (0.0, 0, 17, 9, 0.0, 0.0, 0, 0.0, 0.0, 0.0, 0.0), (0.0024, 0, 17, 9, 0.0014, 0.0, 0, 0.0, 0.0, 0.0, 0.0), (0.0, 0, 17, 9, 0.0001, 0.0, 0, 0.0, 0.0, 0.0, 0.0)]\n",
      "center is  (0.0, 2, 12, 9, 0.0002, 0.0, 0, 0.0, 0.0, 0.0, 0.0) 2\n"
     ]
    },
    {
     "data": {
      "image/png": "[encoded data removed]",
      "text/plain": [
       "<Figure size 432x288 with 1 Axes>"
      ]
     },
     "metadata": {
      "needs_background": "light"
     },
     "output_type": "display_data"
    },
    {
     "name": "stdout",
     "output_type": "stream",
     "text": [
      "New instances is \n",
      " [(0.9966, 0, 17, 9, 0.9992, 0.0, 0, 0.0, 0.0, 0.8, 0.0), (0.0, 0, 21, 9, 0.0, 0.1892, 0, 0.0, 0.0, 0.0, 0.0), (0.0, 0, 47, 5, 0.0, 0.0, 0, 0.0, 0.0, 0.0, 0.0), (0.0364, 0, 58, 9, 0.0003, 0.155, 0, 0.0, 0.0, 0.6, 0.0), (0.0, 0, 21, 9, 0.0001, 0.0635, 0, 0.0, 0.0, 0.0, 0.0), (0.0, 0, 21, 9, 0.0, 0.1017, 0, 0.0, 0.0, 0.0, 0.0), (0.0, 0, 21, 9, 0.0001, 0.1839, 0, 0.0, 0.0, 0.0, 0.0), (0.0, 0, 21, 9, 0.0001, 0.0154, 0, 0.0, 0.0, 0.0, 0.0), (0.0603, 0, 58, 9, 0.0003, 0.145, 0, 0.0, 0.0, 0.6, 0.0), (0.9978, 0, 17, 9, 1.0, 0.0, 0, 0.0, 0.0, 0.2, 0.0), (0.0, 0, 21, 9, 0.0001, 0.0278, 0, 0.0, 0.0, 0.0, 0.0), (0.0, 0, 21, 9, 0.0001, 0.1108, 0, 0.0, 0.0, 0.0, 0.0), (0.0, 0, 21, 9, 0.0001, 0.0559, 0, 0.0, 0.0, 0.0, 0.0), (0.0, 0, 21, 9, 0.0001, 0.0176, 0, 0.0, 0.0, 0.0, 0.0), (0.0, 0, 21, 9, 0.0, 0.1065, 0, 0.0, 0.0, 0.0, 0.0), (0.0024, 0, 17, 9, 0.0014, 0.0, 0, 0.0, 0.0, 0.0, 0.0), (0.9992, 0, 17, 9, 1.0, 0.0, 0, 0.0, 0.0, 1.0, 0.0), (0.0, 0, 21, 9, 0.0, 0.2142, 0, 0.0, 0.0, 0.0, 0.0), (0.0, 0, 21, 9, 0.0, 0.111, 0, 0.0, 0.0, 0.0, 0.0), (0.0, 0, 21, 9, 0.0001, 1.0, 0, 0.0, 0.0, 0.0, 0.0), (0.0, 0, 21, 9, 0.0, 0.0976, 0, 0.0, 0.0, 0.0, 0.0), (0.0, 0, 21, 9, 0.0001, 0.0404, 0, 0.0, 0.0, 0.0, 0.0), (0.0, 0, 21, 9, 0.0, 0.2857, 0, 0.0, 0.0, 0.0, 0.0), (0.0, 0, 21, 9, 0.0, 0.0255, 0, 0.0, 0.0, 0.0, 0.0), (0.0, 0, 21, 9, 0.0, 0.0154, 0, 0.0, 0.0, 0.0, 0.0), (0.0, 0, 21, 9, 0.0001, 0.0189, 0, 0.0, 0.0, 0.0, 0.0), (0.0, 0, 21, 9, 0.0, 0.1134, 0, 0.0, 0.0, 0.0, 0.0), (0.0, 0, 21, 9, 0.0, 0.0701, 0, 0.0, 0.0, 0.0, 0.0), (1.0, 0, 17, 9, 0.9997, 0.0, 0, 0.0, 0.0, 0.6, 0.0), (0.0, 0, 21, 9, 0.0, 0.0159, 0, 0.0, 0.0, 0.0, 0.0)]\n",
      "kList is [2, 4, 5, 8, 16, 32]\n",
      "Kinf:\n",
      " [4, 2, 32, 2, 2, 2, 2, 2, 2, 4, 2, 2, 2, 5, 4, 32, 4, 4, 2, 32, 2, 8, 4, 2, 2, 5, 4, 2, 4, 5]\n",
      "pre_c1:\n",
      " [9.713877553087457, 2.0565087409345524, 1.0, 236.61152308741208, 1.0176431605342258, 1.2858982804711212, 2.0565087409345524, 1.2314358678923436, 2923.8329158093034, 9.473933535668937, 5.269421457833202, 5.432507928676841, 0.8838441785622729, 2.341929677453732, 1.1735846792660303, 1.0, 9.848073592928577, 2.998557891594399, 5.432507928676841, 1.0, 1.5708811426295854, 1.2430988744428657, 3.162042724675026, 4.7728927094893905, 1.2314358678923436, 2.341929677453732, 1.2260636844240185, 1.0176431605342258, 9.608087836095804, 2.341929677453732]\n",
      "LOF points 0 5 4.004511284642163\n",
      "LOF points 1 4 2.608439217739145\n",
      "LOF points 2 2 1161.723965672096\n",
      "LOF points 3 4 7.176624037951019\n",
      "LOF points 4 5 1.3508085841402284\n",
      "LOF points 5 32 1.0000054670381264\n",
      "LOF points 6 4 2.5613529114756277\n",
      "LOF points 7 32 1.0000054670381264\n",
      "LOF points 8 4 59.18147788012029\n",
      "LOF points 9 2 1.066646125708501\n",
      "LOF points 10 4 1.9380330986619945\n",
      "LOF points 11 32 1.0000054670381264\n",
      "LOF points 12 5 1.3617177136178444\n",
      "LOF points 13 32 1.0000054670381264\n",
      "LOF points 14 2 1.3486058321882173\n",
      "LOF points 15 2 98.337860157564\n",
      "LOF points 16 5 4.0598331221845\n",
      "LOF points 17 5 2.547272335288703\n",
      "LOF points 18 32 1.0000054670381264\n",
      "LOF points 19 2 4.727954011825767\n",
      "LOF points 20 4 1.1147252652758033\n",
      "LOF points 21 2 1.2710397260082884\n",
      "LOF points 22 2 1.7185389387016516\n",
      "LOF points 23 4 1.698460357939777\n",
      "LOF points 24 32 1.0000054670381264\n",
      "LOF points 25 32 1.0000054670381264\n",
      "LOF points 26 32 1.0000054670381264\n",
      "LOF points 27 4 1.1281227316624385\n",
      "LOF points 28 5 3.9608998521141165\n",
      "LOF points 29 32 1.0000054670381264\n",
      "Ur is \n",
      " [(0.9966, 0, 17, 9, 0.9992, 0.0, 0, 0.0, 0.0, 0.8, 0.0), (0.0, 0, 21, 9, 0.0, 0.1892, 0, 0.0, 0.0, 0.0, 0.0), (0.0, 0, 47, 5, 0.0, 0.0, 0, 0.0, 0.0, 0.0, 0.0), (0.0364, 0, 58, 9, 0.0003, 0.155, 0, 0.0, 0.0, 0.6, 0.0), (0.0, 0, 21, 9, 0.0001, 0.0635, 0, 0.0, 0.0, 0.0, 0.0), (0.0, 0, 21, 9, 0.0, 0.1017, 0, 0.0, 0.0, 0.0, 0.0), (0.0, 0, 21, 9, 0.0001, 0.1839, 0, 0.0, 0.0, 0.0, 0.0), (0.0, 0, 21, 9, 0.0001, 0.0154, 0, 0.0, 0.0, 0.0, 0.0), (0.0603, 0, 58, 9, 0.0003, 0.145, 0, 0.0, 0.0, 0.6, 0.0), (0.9978, 0, 17, 9, 1.0, 0.0, 0, 0.0, 0.0, 0.2, 0.0), (0.0, 0, 21, 9, 0.0001, 0.0278, 0, 0.0, 0.0, 0.0, 0.0), (0.0, 0, 21, 9, 0.0001, 0.1108, 0, 0.0, 0.0, 0.0, 0.0), (0.0, 0, 21, 9, 0.0001, 0.0559, 0, 0.0, 0.0, 0.0, 0.0), (0.0, 0, 21, 9, 0.0001, 0.0176, 0, 0.0, 0.0, 0.0, 0.0), (0.0, 0, 21, 9, 0.0, 0.1065, 0, 0.0, 0.0, 0.0, 0.0), (0.0024, 0, 17, 9, 0.0014, 0.0, 0, 0.0, 0.0, 0.0, 0.0), (0.9992, 0, 17, 9, 1.0, 0.0, 0, 0.0, 0.0, 1.0, 0.0), (0.0, 0, 21, 9, 0.0, 0.2142, 0, 0.0, 0.0, 0.0, 0.0), (0.0, 0, 21, 9, 0.0, 0.111, 0, 0.0, 0.0, 0.0, 0.0), (0.0, 0, 21, 9, 0.0001, 1.0, 0, 0.0, 0.0, 0.0, 0.0), (0.0, 0, 21, 9, 0.0, 0.0976, 0, 0.0, 0.0, 0.0, 0.0), (0.0, 0, 21, 9, 0.0001, 0.0404, 0, 0.0, 0.0, 0.0, 0.0), (0.0, 0, 21, 9, 0.0, 0.2857, 0, 0.0, 0.0, 0.0, 0.0), (0.0, 0, 21, 9, 0.0, 0.0255, 0, 0.0, 0.0, 0.0, 0.0), (0.0, 0, 21, 9, 0.0, 0.0154, 0, 0.0, 0.0, 0.0, 0.0), (0.0, 0, 21, 9, 0.0001, 0.0189, 0, 0.0, 0.0, 0.0, 0.0), (0.0, 0, 21, 9, 0.0, 0.1134, 0, 0.0, 0.0, 0.0, 0.0), (0.0, 0, 21, 9, 0.0, 0.0701, 0, 0.0, 0.0, 0.0, 0.0), (1.0, 0, 17, 9, 0.9997, 0.0, 0, 0.0, 0.0, 0.6, 0.0), (0.0, 0, 21, 9, 0.0, 0.0159, 0, 0.0, 0.0, 0.0, 0.0)]\n",
      "center is  (0.0603, 0, 58, 9, 0.0003, 0.145, 0, 0.0, 0.0, 0.6, 0.0) 2\n"
     ]
    },
    {
     "data": {
      "image/png": "[encoded data removed]",
      "text/plain": [
       "<Figure size 432x288 with 1 Axes>"
      ]
     },
     "metadata": {
      "needs_background": "light"
     },
     "output_type": "display_data"
    },
    {
     "name": "stdout",
     "output_type": "stream",
     "text": [
      "New instances is \n",
      " [(0.0024, 0, 17, 9, 0.0014, 0.0, 0, 0.0, 0.0, 0.0, 0.0), (0.9992, 0, 17, 9, 1.0, 0.0, 0, 0.0, 0.0, 1.0, 0.0), (0.9966, 0, 17, 9, 0.9992, 0.0, 0, 0.0, 0.0, 0.8, 0.0), (0.0, 0, 21, 9, 0.0, 0.1892, 0, 0.0, 0.0, 0.0, 0.0), (0.0, 0, 21, 9, 0.0, 0.2142, 0, 0.0, 0.0, 0.0, 0.0), (0.0, 0, 21, 9, 0.0, 0.111, 0, 0.0, 0.0, 0.0, 0.0), (0.0, 0, 21, 9, 0.0001, 1.0, 0, 0.0, 0.0, 0.0, 0.0), (0.0, 0, 21, 9, 0.0001, 0.0635, 0, 0.0, 0.0, 0.0, 0.0), (0.0, 0, 21, 9, 0.0, 0.1017, 0, 0.0, 0.0, 0.0, 0.0), (0.0, 0, 21, 9, 0.0, 0.0976, 0, 0.0, 0.0, 0.0, 0.0), (0.0, 0, 21, 9, 0.0001, 0.0404, 0, 0.0, 0.0, 0.0, 0.0), (0.0, 0, 21, 9, 0.0, 0.2857, 0, 0.0, 0.0, 0.0, 0.0), (0.0, 0, 21, 9, 0.0, 0.0255, 0, 0.0, 0.0, 0.0, 0.0), (0.0, 0, 21, 9, 0.0001, 0.1839, 0, 0.0, 0.0, 0.0, 0.0), (0.0, 0, 21, 9, 0.0001, 0.0154, 0, 0.0, 0.0, 0.0, 0.0), (0.0, 0, 21, 9, 0.0, 0.0154, 0, 0.0, 0.0, 0.0, 0.0), (0.9978, 0, 17, 9, 1.0, 0.0, 0, 0.0, 0.0, 0.2, 0.0), (0.0, 0, 21, 9, 0.0001, 0.0189, 0, 0.0, 0.0, 0.0, 0.0), (0.0, 0, 21, 9, 0.0001, 0.0278, 0, 0.0, 0.0, 0.0, 0.0), (0.0, 0, 21, 9, 0.0001, 0.1108, 0, 0.0, 0.0, 0.0, 0.0), (0.0, 0, 21, 9, 0.0001, 0.0559, 0, 0.0, 0.0, 0.0, 0.0), (0.0, 0, 21, 9, 0.0, 0.1134, 0, 0.0, 0.0, 0.0, 0.0), (0.0, 0, 21, 9, 0.0001, 0.0176, 0, 0.0, 0.0, 0.0, 0.0), (0.0, 0, 21, 9, 0.0, 0.0701, 0, 0.0, 0.0, 0.0, 0.0), (0.0, 0, 21, 9, 0.0, 0.1065, 0, 0.0, 0.0, 0.0, 0.0), (1.0, 0, 17, 9, 0.9997, 0.0, 0, 0.0, 0.0, 0.6, 0.0), (0.0, 0, 21, 9, 0.0, 0.0159, 0, 0.0, 0.0, 0.0, 0.0)]\n",
      "kList is [2, 3, 4, 5, 8, 16, 32]\n",
      "Kinf:\n",
      " [32, 4, 4, 2, 3, 2, 32, 2, 2, 2, 8, 4, 2, 2, 2, 2, 4, 5, 2, 2, 3, 3, 5, 2, 4, 4, 3]\n",
      "pre_c1:\n",
      " [1.0, 2.5017649997418343, 2.4676743776104613, 2.0565087409345524, 2.2531771946953327, 5.432507928676841, 1.0, 1.0176431605342258, 1.2858982804711212, 1.5708811426295854, 1.2430988744428657, 3.162042724675026, 4.7728927094893905, 2.0565087409345524, 1.2314358678923436, 1.2314358678923436, 2.406719964647287, 2.341929677453732, 5.269421457833202, 5.432507928676841, 1.4555093321921873, 1.2612376517986983, 2.341929677453732, 1.0176431605342258, 1.1735846792660303, 2.440799983465768, 2.7087367679841536]\n",
      "LOF points 0 2 990.8162343051877\n",
      "LOF points 1 5 1.0313436748854987\n",
      "LOF points 2 5 1.017289937819175\n",
      "LOF points 3 4 2.608439217739145\n",
      "LOF points 4 5 2.547272335288703\n",
      "LOF points 5 32 1.0000027719947882\n",
      "LOF points 6 2 4.727954011825767\n",
      "LOF points 7 5 1.3508085841402284\n",
      "LOF points 8 32 1.0000027719947882\n",
      "LOF points 9 4 1.1147252652758033\n",
      "LOF points 10 2 1.2710397260082884\n",
      "LOF points 11 2 1.7185389387016516\n",
      "LOF points 12 3 1.417740283178241\n",
      "LOF points 13 4 2.5613529114756277\n",
      "LOF points 14 32 1.0000027719947882\n",
      "LOF points 15 32 1.0000027719947882\n",
      "LOF points 16 2 1.066646125708501\n",
      "LOF points 17 3 1.0312661214611325\n",
      "LOF points 18 3 1.5652292067996567\n",
      "LOF points 19 32 1.0000027719947882\n",
      "LOF points 20 5 1.3617177136178444\n",
      "LOF points 21 32 1.0000027719947882\n",
      "LOF points 22 32 1.0000027719947882\n",
      "LOF points 23 4 1.1281227316624385\n",
      "LOF points 24 2 1.3486058321882173\n",
      "LOF points 25 5 1.0062110649352831\n",
      "LOF points 26 32 1.0000027719947882\n",
      "Ur is \n",
      " [(0.0024, 0, 17, 9, 0.0014, 0.0, 0, 0.0, 0.0, 0.0, 0.0), (0.9992, 0, 17, 9, 1.0, 0.0, 0, 0.0, 0.0, 1.0, 0.0), (0.9966, 0, 17, 9, 0.9992, 0.0, 0, 0.0, 0.0, 0.8, 0.0), (0.0, 0, 21, 9, 0.0, 0.1892, 0, 0.0, 0.0, 0.0, 0.0), (0.0, 0, 21, 9, 0.0, 0.2142, 0, 0.0, 0.0, 0.0, 0.0), (0.0, 0, 21, 9, 0.0, 0.111, 0, 0.0, 0.0, 0.0, 0.0), (0.0, 0, 21, 9, 0.0001, 1.0, 0, 0.0, 0.0, 0.0, 0.0), (0.0, 0, 21, 9, 0.0001, 0.0635, 0, 0.0, 0.0, 0.0, 0.0), (0.0, 0, 21, 9, 0.0, 0.1017, 0, 0.0, 0.0, 0.0, 0.0), (0.0, 0, 21, 9, 0.0, 0.0976, 0, 0.0, 0.0, 0.0, 0.0), (0.0, 0, 21, 9, 0.0001, 0.0404, 0, 0.0, 0.0, 0.0, 0.0), (0.0, 0, 21, 9, 0.0, 0.2857, 0, 0.0, 0.0, 0.0, 0.0), (0.0, 0, 21, 9, 0.0, 0.0255, 0, 0.0, 0.0, 0.0, 0.0), (0.0, 0, 21, 9, 0.0001, 0.1839, 0, 0.0, 0.0, 0.0, 0.0), (0.0, 0, 21, 9, 0.0001, 0.0154, 0, 0.0, 0.0, 0.0, 0.0), (0.0, 0, 21, 9, 0.0, 0.0154, 0, 0.0, 0.0, 0.0, 0.0), (0.9978, 0, 17, 9, 1.0, 0.0, 0, 0.0, 0.0, 0.2, 0.0), (0.0, 0, 21, 9, 0.0001, 0.0189, 0, 0.0, 0.0, 0.0, 0.0), (0.0, 0, 21, 9, 0.0001, 0.0278, 0, 0.0, 0.0, 0.0, 0.0), (0.0, 0, 21, 9, 0.0001, 0.1108, 0, 0.0, 0.0, 0.0, 0.0), (0.0, 0, 21, 9, 0.0001, 0.0559, 0, 0.0, 0.0, 0.0, 0.0), (0.0, 0, 21, 9, 0.0, 0.1134, 0, 0.0, 0.0, 0.0, 0.0), (0.0, 0, 21, 9, 0.0001, 0.0176, 0, 0.0, 0.0, 0.0, 0.0), (0.0, 0, 21, 9, 0.0, 0.0701, 0, 0.0, 0.0, 0.0, 0.0), (0.0, 0, 21, 9, 0.0, 0.1065, 0, 0.0, 0.0, 0.0, 0.0), (1.0, 0, 17, 9, 0.9997, 0.0, 0, 0.0, 0.0, 0.6, 0.0), (0.0, 0, 21, 9, 0.0, 0.0159, 0, 0.0, 0.0, 0.0, 0.0)]\n",
      "center is  (0.0, 0, 21, 9, 0.0001, 1.0, 0, 0.0, 0.0, 0.0, 0.0) 32\n"
     ]
    },
    {
     "data": {
      "image/png": "[encoded data removed]",
      "text/plain": [
       "<Figure size 432x288 with 1 Axes>"
      ]
     },
     "metadata": {
      "needs_background": "light"
     },
     "output_type": "display_data"
    },
    {
     "name": "stdout",
     "output_type": "stream",
     "text": [
      "group 0 is \n",
      " [(0.0, 2, 12, 9, 0.0002, 0.0, 0, 0.0, 0.0, 0.0, 0.0), (0.0, 2, 12, 9, 0.0001, 0.0, 0, 0.0, 0.0, 0.0, 0.0), (0.0, 0, 17, 9, 0.0001, 0.0, 0, 0.0, 0.0, 0.0, 0.0), (0.0, 0, 17, 9, 0.0, 0.0, 0, 0.0, 0.0, 0.0, 0.0), (0.0008, 0, 17, 9, 0.0002, 0.0, 0, 0.0, 0.0, 0.0, 0.0)]\n",
      "group 0 label is \n",
      " [(25, 5), (26, 5), (35, 20), (33, 20), (28, 20)]\n",
      "group 1 is \n",
      " [(0.0603, 0, 58, 9, 0.0003, 0.145, 0, 0.0, 0.0, 0.6, 0.0), (0.0364, 0, 58, 9, 0.0003, 0.155, 0, 0.0, 0.0, 0.6, 0.0), (0.0, 0, 47, 5, 0.0, 0.0, 0, 0.0, 0.0, 0.0, 0.0)]\n",
      "group 1 label is \n",
      " [(24, 1), (23, 1), (27, 4)]\n",
      "group 2 is \n",
      " [(0.0, 0, 21, 9, 0.0001, 1.0, 0, 0.0, 0.0, 0.0, 0.0), (0.0, 0, 21, 9, 0.0, 0.2857, 0, 0.0, 0.0, 0.0, 0.0), (0.0, 0, 21, 9, 0.0, 0.2142, 0, 0.0, 0.0, 0.0, 0.0), (0.0, 0, 21, 9, 0.0, 0.1892, 0, 0.0, 0.0, 0.0, 0.0), (0.0, 0, 21, 9, 0.0001, 0.1839, 0, 0.0, 0.0, 0.0, 0.0), (0.0, 0, 21, 9, 0.0, 0.1134, 0, 0.0, 0.0, 0.0, 0.0), (0.0, 0, 21, 9, 0.0, 0.111, 0, 0.0, 0.0, 0.0, 0.0), (0.0, 0, 21, 9, 0.0001, 0.1108, 0, 0.0, 0.0, 0.0, 0.0), (0.0, 0, 21, 9, 0.0, 0.1065, 0, 0.0, 0.0, 0.0, 0.0), (0.0, 0, 21, 9, 0.0, 0.1017, 0, 0.0, 0.0, 0.0, 0.0), (0.0, 0, 21, 9, 0.0, 0.0976, 0, 0.0, 0.0, 0.0, 0.0), (0.0, 0, 21, 9, 0.0, 0.0701, 0, 0.0, 0.0, 0.0, 0.0), (0.0, 0, 21, 9, 0.0001, 0.0635, 0, 0.0, 0.0, 0.0, 0.0), (0.0, 0, 21, 9, 0.0001, 0.0559, 0, 0.0, 0.0, 0.0, 0.0), (0.0, 0, 21, 9, 0.0001, 0.0404, 0, 0.0, 0.0, 0.0, 0.0), (0.0, 0, 21, 9, 0.0001, 0.0278, 0, 0.0, 0.0, 0.0, 0.0), (0.0, 0, 21, 9, 0.0, 0.0255, 0, 0.0, 0.0, 0.0, 0.0), (0.0, 0, 21, 9, 0.0001, 0.0189, 0, 0.0, 0.0, 0.0, 0.0), (0.0, 0, 21, 9, 0.0001, 0.0176, 0, 0.0, 0.0, 0.0, 0.0), (0.0, 0, 21, 9, 0.0, 0.0159, 0, 0.0, 0.0, 0.0, 0.0), (0.0, 0, 21, 9, 0.0001, 0.0154, 0, 0.0, 0.0, 0.0, 0.0), (0.0, 0, 21, 9, 0.0, 0.0154, 0, 0.0, 0.0, 0.0, 0.0), (0.0024, 0, 17, 9, 0.0014, 0.0, 0, 0.0, 0.0, 0.0, 0.0), (0.9978, 0, 17, 9, 1.0, 0.0, 0, 0.0, 0.0, 0.2, 0.0), (1.0, 0, 17, 9, 0.9997, 0.0, 0, 0.0, 0.0, 0.6, 0.0), (0.9966, 0, 17, 9, 0.9992, 0.0, 0, 0.0, 0.0, 0.8, 0.0), (0.9992, 0, 17, 9, 1.0, 0.0, 0, 0.0, 0.0, 1.0, 0.0)]\n",
      "group 2 label is \n",
      " [(15, 0), (1, 0), (6, 0), (7, 0), (18, 0), (10, 0), (8, 0), (20, 0), (4, 0), (5, 0), (11, 0), (3, 0), (14, 0), (21, 0), (16, 0), (17, 0), (2, 0), (13, 0), (19, 0), (9, 0), (22, 0), (12, 0), (34, 20), (31, 20), (29, 20), (32, 20), (30, 20)]\n"
     ]
    },
    {
     "data": {
      "image/png": "[encoded data removed]",
      "text/plain": [
       "<Figure size 432x288 with 1 Axes>"
      ]
     },
     "metadata": {
      "needs_background": "light"
     },
     "output_type": "display_data"
    }
   ],
   "source": [
    "%run RCD.py"
   ]
  },
  {
   "cell_type": "code",
   "execution_count": null,
   "metadata": {},
   "outputs": [],
   "source": []
  }
 ],
 "metadata": {
  "kernelspec": {
   "display_name": "Python 3",
   "language": "python",
   "name": "python3"
  },
  "language_info": {
   "codemirror_mode": {
    "name": "ipython",
    "version": 3
   },
   "file_extension": ".py",
   "mimetype": "text/x-python",
   "name": "python",
   "nbconvert_exporter": "python",
   "pygments_lexer": "ipython3",
   "version": "3.8.3"
  }
 },
 "nbformat": 4,
 "nbformat_minor": 4
}
